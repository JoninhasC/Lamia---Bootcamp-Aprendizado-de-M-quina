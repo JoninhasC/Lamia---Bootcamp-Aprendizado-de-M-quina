{
 "cells": [
  {
   "metadata": {},
   "cell_type": "markdown",
   "source": [
    "# K-Means Clustering Example\n",
    "Vamos criar alguns dados falsos que incluam pessoas agrupadas por renda e idade, aleatoriamente:"
   ],
   "id": "382b3d30a45f2f7d"
  },
  {
   "metadata": {
    "ExecuteTime": {
     "end_time": "2024-10-22T00:26:53.240007Z",
     "start_time": "2024-10-22T00:26:53.232498Z"
    }
   },
   "cell_type": "code",
   "source": [
    "from numpy import random, array\n",
    "\n",
    "# Função para criar dados agrupados (clusters) de renda/idade para N pessoas em k clusters\n",
    "def createClusteredData(N, k):\n",
    "    random.seed(10)  # Define uma semente para garantir que os números aleatórios gerados sejam reproduzíveis\n",
    "    pointsPerCluster = float(N) / k  # Calcula quantos pontos de dados (pessoas) haverá por cluster\n",
    "    X = []  # Inicializa a lista que armazenará os dados\n",
    "\n",
    "    # Loop para gerar k clusters\n",
    "    for i in range(k):\n",
    "        # Define um centróide aleatório de renda (incomeCentroid) para cada cluster\n",
    "        incomeCentroid = random.uniform(20000.0, 200000.0)  # Gera um valor aleatório de renda entre 20.000 e 200.000\n",
    "        # Define um centróide aleatório de idade (ageCentroid) para cada cluster\n",
    "        ageCentroid = random.uniform(20.0, 70.0)  # Gera um valor aleatório de idade entre 20 e 70 anos\n",
    "\n",
    "        # Loop para gerar os pontos de dados para cada cluster\n",
    "        for j in range(int(pointsPerCluster)):\n",
    "            # Adiciona à lista X um ponto com renda e idade gerados com base nos centróides\n",
    "            # A renda é gerada com uma distribuição normal ao redor do centróide de renda, com desvio padrão de 10.000\n",
    "            # A idade é gerada com uma distribuição normal ao redor do centróide de idade, com desvio padrão de 2 anos\n",
    "            X.append([random.normal(incomeCentroid, 10000.0), random.normal(ageCentroid, 2.0)])\n",
    "    \n",
    "    # Converte a lista X para um array numpy\n",
    "    X = array(X)\n",
    "    return X  # Retorna os dados gerados\n"
   ],
   "id": "4ce7c7427c0da081",
   "outputs": [],
   "execution_count": 1
  },
  {
   "metadata": {},
   "cell_type": "markdown",
   "source": "Usaremos k-means para redescobrir esses clusters na aprendizagem não supervisionada:",
   "id": "d95603e59d68ba7b"
  },
  {
   "cell_type": "code",
   "id": "initial_id",
   "metadata": {
    "collapsed": true,
    "ExecuteTime": {
     "end_time": "2024-10-22T00:28:24.875531Z",
     "start_time": "2024-10-22T00:28:24.867852Z"
    }
   },
   "source": [
    "# Importando matplotlib para visualização\n",
    "%matplotlib inline  # Isso garante que os gráficos sejam exibidos diretamente no notebook\n",
    "\n",
    "from sklearn.cluster import KMeans  # Importa o algoritmo KMeans para agrupamento\n",
    "import matplotlib.pyplot as plt  # Importa matplotlib para visualização de gráficos\n",
    "from sklearn.preprocessing import scale  # Importa scale para normalizar os dados\n",
    "from numpy import random  # Importa funções aleatórias do Numpy\n",
    "\n",
    "# Gerando dados simulados com 100 pontos de dados agrupados em 5 clusters\n",
    "data = createClusteredData(100, 5)\n",
    "\n",
    "# Inicializando o modelo KMeans com 5 clusters\n",
    "model = KMeans(n_clusters=5)\n",
    "\n",
    "# Ajustando o modelo aos dados normalizados.\n",
    "# Estou escalando (normalizando) os dados, o que é importante para obter bons resultados,\n",
    "# pois evita que uma característica (idade ou renda) tenha muito mais influência no agrupamento.\n",
    "model = model.fit(scale(data))\n",
    "\n",
    "# Podemos olhar para os clusters aos quais cada ponto de dado foi atribuído\n",
    "print(model.labels_)  # Imprime os rótulos (labels) dos clusters para cada ponto de dado\n",
    "\n",
    "# E agora vamos visualizar os clusters\n",
    "plt.figure(figsize=(8, 6))  # Define o tamanho da figura\n",
    "# Cria o gráfico de dispersão, onde a cor (c) representa o cluster atribuído a cada ponto\n",
    "plt.scatter(x=data[:, 0], y=data[:, 1], c=model.labels_.astype(float))  # Usamos as colunas 0 (renda) e 1 (idade) como eixos x e y\n",
    "plt.show()  # Exibe o gráfico\n"
   ],
   "outputs": [
    {
     "name": "stderr",
     "output_type": "stream",
     "text": [
      "UsageError: unrecognized arguments: # Isso garante que os gráficos sejam exibidos diretamente no notebook\n"
     ]
    }
   ],
   "execution_count": 3
  },
  {
   "metadata": {},
   "cell_type": "code",
   "outputs": [],
   "execution_count": null,
   "source": "",
   "id": "c8fa278387af45f1"
  }
 ],
 "metadata": {
  "kernelspec": {
   "display_name": "Python 3",
   "language": "python",
   "name": "python3"
  },
  "language_info": {
   "codemirror_mode": {
    "name": "ipython",
    "version": 2
   },
   "file_extension": ".py",
   "mimetype": "text/x-python",
   "name": "python",
   "nbconvert_exporter": "python",
   "pygments_lexer": "ipython2",
   "version": "2.7.6"
  }
 },
 "nbformat": 4,
 "nbformat_minor": 5
}
