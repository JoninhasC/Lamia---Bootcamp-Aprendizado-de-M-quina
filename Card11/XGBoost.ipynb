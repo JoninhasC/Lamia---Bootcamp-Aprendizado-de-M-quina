{
 "cells": [
  {
   "metadata": {},
   "cell_type": "markdown",
   "source": [
    "Usar o XGBoost é fácil. Talvez muito fácil, considerando que geralmente é considerado o melhor algoritmo de ML do momento.\n",
    "\n",
    "Para instalá-lo, basta:\n",
    "\n",
    "pip instalar xgboost\n",
    "\n",
    "Vamos experimentar usando o conjunto de dados Iris. Este conjunto de dados inclui a largura e o comprimento das pétalas e sépalas de muitas flores de íris e a espécie específica de íris à qual a flor pertence. Nosso desafio é prever as espécies de uma amostra de flor apenas com base no tamanho de suas pétalas. Revisitaremos esse conjunto de dados mais tarde, quando falarmos também sobre análise de componentes principais."
   ],
   "id": "f6ef0b39dd4691a1"
  },
  {
   "cell_type": "code",
   "id": "initial_id",
   "metadata": {
    "collapsed": true,
    "ExecuteTime": {
     "end_time": "2024-10-23T00:51:49.636031Z",
     "start_time": "2024-10-23T00:51:47.191222Z"
    }
   },
   "source": [
    "from sklearn.datasets import load_iris\n",
    "\n",
    "# Carrega o conjunto de dados Iris da biblioteca scikit-learn\n",
    "iris = load_iris()\n",
    "\n",
    "# Obtém o número de amostras (linhas) e o número de características (colunas) dos dados\n",
    "numSamples, numFeatures = iris.data.shape\n",
    "\n",
    "# Exibe o número de amostras no conjunto de dados\n",
    "print(numSamples)  # Esperado: 150\n",
    "\n",
    "# Exibe o número de características por amostra\n",
    "print(numFeatures)  # Esperado: 4\n",
    "\n",
    "# Exibe a lista de nomes das classes (tipos de flores de íris)\n",
    "print(list(iris.target_names))  # Esperado: ['setosa', 'versicolor', 'virginica']\n"
   ],
   "outputs": [
    {
     "name": "stdout",
     "output_type": "stream",
     "text": [
      "150\n",
      "4\n",
      "['setosa', 'versicolor', 'virginica']\n"
     ]
    }
   ],
   "execution_count": 1
  },
  {
   "metadata": {},
   "cell_type": "markdown",
   "source": "Vamos dividir nossos dados em 20% reservados para testar nosso modelo e os 80% restantes para treiná-lo. Ao reter nossos dados de teste, podemos ter certeza de que estamos avaliando seus resultados com base em novas flores nunca vistas antes. Normalmente nos referimos às nossas características (neste caso, os tamanhos das pétalas) como X, e aos rótulos (neste caso, as espécies) como y.",
   "id": "574b3840d944370b"
  },
  {
   "metadata": {
    "ExecuteTime": {
     "end_time": "2024-10-23T00:52:28.962360Z",
     "start_time": "2024-10-23T00:52:28.865355Z"
    }
   },
   "cell_type": "code",
   "source": [
    "from sklearn.model_selection import train_test_split\n",
    "\n",
    "# Divide o conjunto de dados iris em conjuntos de treino e teste\n",
    "# 80% dos dados serão usados para treinamento (X_train, y_train) e 20% para teste (X_test, y_test)\n",
    "X_train, X_test, y_train, y_test = train_test_split(iris.data, iris.target, test_size=0.2, random_state=0)\n"
   ],
   "id": "b65d86426a7aac61",
   "outputs": [],
   "execution_count": 2
  },
  {
   "metadata": {},
   "cell_type": "markdown",
   "source": "Agora carregaremos o XGBoost e converteremos nossos dados no formato DMatrix esperado. Um para os dados de treinamento e outro para os dados de teste.",
   "id": "5530943361d362d1"
  },
  {
   "metadata": {
    "ExecuteTime": {
     "end_time": "2024-10-23T00:52:51.147454Z",
     "start_time": "2024-10-23T00:52:50.801506Z"
    }
   },
   "cell_type": "code",
   "source": [
    "import xgboost as xgb\n",
    "\n",
    "# Cria a matriz DMatrix para os dados de treino\n",
    "train = xgb.DMatrix(X_train, label=y_train)\n",
    "\n",
    "# Cria a matriz DMatrix para os dados de teste\n",
    "test = xgb.DMatrix(X_test, label=y_test)\n"
   ],
   "id": "5b509dbf0700e75c",
   "outputs": [],
   "execution_count": 3
  },
  {
   "metadata": {},
   "cell_type": "markdown",
   "source": "Agora definiremos nossos hiperparâmetros. Estamos escolhendo softmax porque este é um problema de classificação múltipla, mas o ideal é que os outros parâmetros sejam ajustados por meio de experimentação.",
   "id": "7a0863bccd1073f9"
  },
  {
   "metadata": {
    "ExecuteTime": {
     "end_time": "2024-10-23T00:54:14.893112Z",
     "start_time": "2024-10-23T00:54:14.888668Z"
    }
   },
   "cell_type": "code",
   "source": [
    "# Definindo os parâmetros para o modelo XGBoost\n",
    "param = {\n",
    "    'max_depth': 4,  # Profundidade máxima das árvores de decisão. Um valor mais alto pode aumentar a capacidade do modelo de se ajustar aos dados, mas também aumenta o risco de overfitting.\n",
    "    'eta': 0.3,  # Taxa de aprendizado. Controla o peso das novas árvores adicionadas ao modelo. Valores menores resultam em aprendizado mais lento e preciso, mas podem exigir mais épocas.\n",
    "    'objective': 'multi:softmax',  # Função objetivo usada para classificação multiclasse. O 'softmax' retorna o índice da classe com a maior probabilidade.\n",
    "    'num_class': 3  # Número de classes no problema de classificação (no caso do conjunto de dados Iris, temos 3 classes de flores).\n",
    "}\n",
    "\n",
    "# Número de épocas (iterações de treinamento)\n",
    "epochs = 10  # Número de passagens pelos dados de treino. Mais épocas podem melh\n"
   ],
   "id": "ebcef925658dca2f",
   "outputs": [],
   "execution_count": 4
  },
  {
   "metadata": {},
   "cell_type": "markdown",
   "source": "Vamos treinar nosso modelo usando esses parâmetros como uma primeira estimativa.",
   "id": "b85e61c879ad3b53"
  },
  {
   "metadata": {
    "ExecuteTime": {
     "end_time": "2024-10-23T00:54:47.430223Z",
     "start_time": "2024-10-23T00:54:47.412207Z"
    }
   },
   "cell_type": "code",
   "source": [
    "# Treinando o modelo XGBoost\n",
    "model = xgb.train(param, train, epochs)\n"
   ],
   "id": "4fbd969691802fd1",
   "outputs": [],
   "execution_count": 5
  },
  {
   "metadata": {},
   "cell_type": "markdown",
   "source": "Agora usaremos o modelo treinado para prever classificações dos dados que reservamos para teste. Cada número de classificação que recebemos corresponde a uma espécie específica de íris.",
   "id": "7e146433f2f0fbf3"
  },
  {
   "metadata": {
    "ExecuteTime": {
     "end_time": "2024-10-23T00:55:12.085230Z",
     "start_time": "2024-10-23T00:55:12.080191Z"
    }
   },
   "cell_type": "code",
   "source": "predictions = model.predict(test)\n",
   "id": "24cef208a1bf1589",
   "outputs": [],
   "execution_count": 6
  },
  {
   "metadata": {
    "ExecuteTime": {
     "end_time": "2024-10-23T00:55:27.252926Z",
     "start_time": "2024-10-23T00:55:27.248671Z"
    }
   },
   "cell_type": "code",
   "source": "print(predictions)",
   "id": "26ba35ad95cf524f",
   "outputs": [
    {
     "name": "stdout",
     "output_type": "stream",
     "text": [
      "[2. 1. 0. 2. 0. 2. 0. 1. 1. 1. 2. 1. 1. 1. 1. 0. 1. 1. 0. 0. 2. 1. 0. 0.\n",
      " 2. 0. 0. 1. 1. 0.]\n"
     ]
    }
   ],
   "execution_count": 7
  },
  {
   "metadata": {},
   "cell_type": "markdown",
   "source": "Vamos medir a precisão dos dados de teste...",
   "id": "96a2a9d9aadab51f"
  },
  {
   "metadata": {
    "ExecuteTime": {
     "end_time": "2024-10-23T00:56:29.628184Z",
     "start_time": "2024-10-23T00:56:29.618424Z"
    }
   },
   "cell_type": "code",
   "source": [
    "from sklearn.metrics import accuracy_score\n",
    "\n",
    "accuracy_score(y_test, predictions)"
   ],
   "id": "84d5831bf0300103",
   "outputs": [
    {
     "data": {
      "text/plain": [
       "1.0"
      ]
     },
     "execution_count": 8,
     "metadata": {},
     "output_type": "execute_result"
    }
   ],
   "execution_count": 8
  },
  {
   "metadata": {},
   "cell_type": "markdown",
   "source": [
    "Santo corvo! É perfeito, e isso só nos permite adivinhar os melhores hiperparâmetros!\n",
    "\n",
    "Normalmente eu faria você experimentar para encontrar hiperparâmetros melhores como atividade, mas você não pode melhorar esses resultados. Em vez disso, veja o que é necessário para piorar os resultados! Com quantas épocas (iterações) posso me safar? Quão baixo posso definir o max_profundidade? Basicamente tente otimizar a simplicidade e o desempenho do modelo, agora que você já tem uma precisão perfeita"
   ],
   "id": "7e73a07c4077c076"
  },
  {
   "metadata": {
    "ExecuteTime": {
     "end_time": "2024-10-23T00:57:25.934968Z",
     "start_time": "2024-10-23T00:57:25.843907Z"
    }
   },
   "cell_type": "code",
   "source": [
    "import numpy as np\n",
    "\n",
    "# Testando diferentes valores de max_depth e epochs\n",
    "max_depth_values = [1, 2, 3, 4]  # profundidades a serem testadas\n",
    "epoch_values = [1, 2, 5, 10]  # épocas a serem testadas\n",
    "\n",
    "results = {}\n",
    "\n",
    "# Loop sobre as profundidades\n",
    "for max_depth in max_depth_values:\n",
    "    # Loop sobre as épocas\n",
    "    for epochs in epoch_values:\n",
    "        param = {\n",
    "            'max_depth': max_depth,\n",
    "            'eta': 0.3,\n",
    "            'objective': 'multi:softmax',\n",
    "            'num_class': 3\n",
    "        }\n",
    "        \n",
    "        # Treinando o modelo\n",
    "        model = xgb.train(param, train, epochs)\n",
    "        \n",
    "        # Fazendo previsões\n",
    "        predictions = model.predict(test)\n",
    "        \n",
    "        # Avaliando a precisão\n",
    "        accuracy = np.sum(predictions == y_test) / len(y_test)\n",
    "        \n",
    "        # Armazenando os resultados\n",
    "        results[(max_depth, epochs)] = accuracy\n",
    "\n",
    "# Exibindo os resultados\n",
    "for key, value in results.items():\n",
    "    print(f\"Max Depth: {key[0]}, Epochs: {key[1]}, Accuracy: {value:.2f}\")\n"
   ],
   "id": "aa0ae45a17635dc",
   "outputs": [
    {
     "name": "stdout",
     "output_type": "stream",
     "text": [
      "Max Depth: 1, Epochs: 1, Accuracy: 0.97\n",
      "Max Depth: 1, Epochs: 2, Accuracy: 0.97\n",
      "Max Depth: 1, Epochs: 5, Accuracy: 0.97\n",
      "Max Depth: 1, Epochs: 10, Accuracy: 0.97\n",
      "Max Depth: 2, Epochs: 1, Accuracy: 0.97\n",
      "Max Depth: 2, Epochs: 2, Accuracy: 1.00\n",
      "Max Depth: 2, Epochs: 5, Accuracy: 0.97\n",
      "Max Depth: 2, Epochs: 10, Accuracy: 0.97\n",
      "Max Depth: 3, Epochs: 1, Accuracy: 1.00\n",
      "Max Depth: 3, Epochs: 2, Accuracy: 1.00\n",
      "Max Depth: 3, Epochs: 5, Accuracy: 1.00\n",
      "Max Depth: 3, Epochs: 10, Accuracy: 0.97\n",
      "Max Depth: 4, Epochs: 1, Accuracy: 1.00\n",
      "Max Depth: 4, Epochs: 2, Accuracy: 1.00\n",
      "Max Depth: 4, Epochs: 5, Accuracy: 1.00\n",
      "Max Depth: 4, Epochs: 10, Accuracy: 1.00\n"
     ]
    }
   ],
   "execution_count": 9
  },
  {
   "metadata": {},
   "cell_type": "code",
   "outputs": [],
   "execution_count": null,
   "source": "",
   "id": "df67f4468c9ae89f"
  }
 ],
 "metadata": {
  "kernelspec": {
   "display_name": "Python 3",
   "language": "python",
   "name": "python3"
  },
  "language_info": {
   "codemirror_mode": {
    "name": "ipython",
    "version": 2
   },
   "file_extension": ".py",
   "mimetype": "text/x-python",
   "name": "python",
   "nbconvert_exporter": "python",
   "pygments_lexer": "ipython2",
   "version": "2.7.6"
  }
 },
 "nbformat": 4,
 "nbformat_minor": 5
}
