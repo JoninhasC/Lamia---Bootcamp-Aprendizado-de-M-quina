{
 "cells": [
  {
   "metadata": {},
   "cell_type": "markdown",
   "source": [
    "# Multiple Regression\n",
    "Vamos pegar um pequeno conjunto de dados de valores de carros do Blue Book:"
   ],
   "id": "98d682aed382a8b9"
  },
  {
   "cell_type": "code",
   "id": "initial_id",
   "metadata": {
    "collapsed": true,
    "ExecuteTime": {
     "end_time": "2024-09-26T12:48:49.148790Z",
     "start_time": "2024-09-26T12:48:48.927845Z"
    }
   },
   "source": [
    "import pandas as pd\n",
    "\n",
    "# URL do arquivo Excel\n",
    "url = 'http://cdn.sundog-soft.com/Udemy/DataScience/cars.xls'\n",
    "\n",
    "# Lê o arquivo Excel em um DataFrame do Pandas\n",
    "df = pd.read_excel(url)\n",
    "\n",
    "# Exibe as primeiras linhas do DataFrame para verificar se os dados foram carregados corretamente\n",
    "print(df.head())\n"
   ],
   "outputs": [
    {
     "name": "stdout",
     "output_type": "stream",
     "text": [
      "          Price  Mileage   Make    Model      Trim   Type  Cylinder  Liter  \\\n",
      "0  17314.103129     8221  Buick  Century  Sedan 4D  Sedan         6    3.1   \n",
      "1  17542.036083     9135  Buick  Century  Sedan 4D  Sedan         6    3.1   \n",
      "2  16218.847862    13196  Buick  Century  Sedan 4D  Sedan         6    3.1   \n",
      "3  16336.913140    16342  Buick  Century  Sedan 4D  Sedan         6    3.1   \n",
      "4  16339.170324    19832  Buick  Century  Sedan 4D  Sedan         6    3.1   \n",
      "\n",
      "   Doors  Cruise  Sound  Leather  \n",
      "0      4       1      1        1  \n",
      "1      4       1      1        0  \n",
      "2      4       1      1        0  \n",
      "3      4       1      0        0  \n",
      "4      4       1      0        1  \n"
     ]
    }
   ],
   "execution_count": 34
  },
  {
   "metadata": {
    "ExecuteTime": {
     "end_time": "2024-09-26T12:48:49.352431Z",
     "start_time": "2024-09-26T12:48:49.149794Z"
    }
   },
   "cell_type": "code",
   "source": [
    "%matplotlib inline\n",
    "import pandas as pd\n",
    "import numpy as np\n",
    "\n",
    "# Carrega o DataFrame a partir da URL do arquivo Excel\n",
    "url = 'http://cdn.sundog-soft.com/Udemy/DataScience/cars.xls'\n",
    "df = pd.read_excel(url)\n",
    "\n",
    "# Seleciona apenas as colunas 'Mileage' e 'Price' do DataFrame\n",
    "df1 = df[['Mileage', 'Price']]\n",
    "\n",
    "# Define os intervalos de bins para agrupamento por Mileage\n",
    "bins = np.arange(0, 50001, 10000)  # Ajustado para incluir o último valor 50000\n",
    "\n",
    "# Agrupa os dados por intervalos de Mileage e calcula a média dos preços para cada grupo\n",
    "groups = df1.groupby(pd.cut(df1['Mileage'], bins, include_lowest=True)).mean()\n",
    "print(groups.head())\n",
    "\n",
    "# Plota a média dos preços por intervalo de Mileage\n",
    "groups['Price'].plot.line()\n",
    "\n"
   ],
   "id": "cc8c9e3e14a468e8",
   "outputs": [
    {
     "name": "stdout",
     "output_type": "stream",
     "text": [
      "                         Mileage         Price\n",
      "Mileage                                       \n",
      "(-0.001, 10000.0]    5588.629630  24096.714451\n",
      "(10000.0, 20000.0]  15898.496183  21955.979607\n",
      "(20000.0, 30000.0]  24114.407104  20278.606252\n",
      "(30000.0, 40000.0]  33610.338710  19463.670267\n",
      "(40000.0, 50000.0]  43159.200000  30802.690000\n"
     ]
    },
    {
     "name": "stderr",
     "output_type": "stream",
     "text": [
      "C:\\Users\\jonin\\AppData\\Local\\Temp\\ipykernel_29852\\1610886733.py:16: FutureWarning: The default of observed=False is deprecated and will be changed to True in a future version of pandas. Pass observed=False to retain current behavior or observed=True to adopt the future default and silence this warning.\n",
      "  groups = df1.groupby(pd.cut(df1['Mileage'], bins, include_lowest=True)).mean()\n"
     ]
    },
    {
     "data": {
      "text/plain": [
       "<Axes: xlabel='Mileage'>"
      ]
     },
     "execution_count": 35,
     "metadata": {},
     "output_type": "execute_result"
    }
   ],
   "execution_count": 35
  },
  {
   "metadata": {},
   "cell_type": "markdown",
   "source": "Podemos usar pandas para dividir essa matriz nos vetores de características nos quais estamos interessados ​​e no valor que estamos tentando prever. Observe como estamos evitando a marca e o modelo; regressões não funcionam bem com valores ordinais, a menos que você possa convertê-los em alguma ordem numérica que faça sentido de alguma forma. Vamos dimensionar nossos dados de recursos no mesmo intervalo para que possamos comparar facilmente os coeficientes obtidos.",
   "id": "bc31c1718439765c"
  },
  {
   "metadata": {
    "ExecuteTime": {
     "end_time": "2024-09-26T12:48:50.548542Z",
     "start_time": "2024-09-26T12:48:49.353436Z"
    }
   },
   "cell_type": "code",
   "source": [
    "import statsmodels.api as sm\n",
    "from sklearn.preprocessing import StandardScaler\n",
    "import pandas as pd\n",
    "\n",
    "# Carrega o DataFrame a partir da URL do arquivo Excel\n",
    "url = 'http://cdn.sundog-soft.com/Udemy/DataScience/cars.xls'\n",
    "df = pd.read_excel(url)\n",
    "\n",
    "# Inicializa o StandardScaler\n",
    "scale = StandardScaler()\n",
    "\n",
    "# Seleciona as colunas de características (features) e a variável dependente (target)\n",
    "X = df[['Mileage', 'Cylinder', 'Doors']]\n",
    "y = df['Price']\n",
    "\n",
    "# Padroniza (escala) as colunas de características\n",
    "X[['Mileage', 'Cylinder', 'Doors']] = scale.fit_transform(X[['Mileage', 'Cylinder', 'Doors']])\n",
    "\n",
    "# Adiciona uma coluna constante para termo de interceptação\n",
    "X = sm.add_constant(X)\n",
    "\n",
    "# Ajusta o modelo de regressão linear usando Ordinary Least Squares (OLS)\n",
    "est = sm.OLS(y, X).fit()\n",
    "\n",
    "# Imprime o resumo estatístico do modelo\n",
    "print(est.summary())\n",
    "\n"
   ],
   "id": "cf8ed83df3a8cb9f",
   "outputs": [
    {
     "name": "stdout",
     "output_type": "stream",
     "text": [
      "                            OLS Regression Results                            \n",
      "==============================================================================\n",
      "Dep. Variable:                  Price   R-squared:                       0.360\n",
      "Model:                            OLS   Adj. R-squared:                  0.358\n",
      "Method:                 Least Squares   F-statistic:                     150.0\n",
      "Date:                Thu, 26 Sep 2024   Prob (F-statistic):           3.95e-77\n",
      "Time:                        09:48:50   Log-Likelihood:                -8356.7\n",
      "No. Observations:                 804   AIC:                         1.672e+04\n",
      "Df Residuals:                     800   BIC:                         1.674e+04\n",
      "Df Model:                           3                                         \n",
      "Covariance Type:            nonrobust                                         \n",
      "==============================================================================\n",
      "                 coef    std err          t      P>|t|      [0.025      0.975]\n",
      "------------------------------------------------------------------------------\n",
      "const       2.134e+04    279.405     76.388      0.000    2.08e+04    2.19e+04\n",
      "Mileage    -1272.3412    279.567     -4.551      0.000   -1821.112    -723.571\n",
      "Cylinder    5587.4472    279.527     19.989      0.000    5038.754    6136.140\n",
      "Doors      -1404.5513    279.446     -5.026      0.000   -1953.085    -856.018\n",
      "==============================================================================\n",
      "Omnibus:                      157.913   Durbin-Watson:                   0.069\n",
      "Prob(Omnibus):                  0.000   Jarque-Bera (JB):              257.529\n",
      "Skew:                           1.278   Prob(JB):                     1.20e-56\n",
      "Kurtosis:                       4.074   Cond. No.                         1.03\n",
      "==============================================================================\n",
      "\n",
      "Notes:\n",
      "[1] Standard Errors assume that the covariance matrix of the errors is correctly specified.\n"
     ]
    },
    {
     "name": "stderr",
     "output_type": "stream",
     "text": [
      "C:\\Users\\jonin\\AppData\\Local\\Temp\\ipykernel_29852\\1003429986.py:17: SettingWithCopyWarning: \n",
      "A value is trying to be set on a copy of a slice from a DataFrame.\n",
      "Try using .loc[row_indexer,col_indexer] = value instead\n",
      "\n",
      "See the caveats in the documentation: https://pandas.pydata.org/pandas-docs/stable/user_guide/indexing.html#returning-a-view-versus-a-copy\n",
      "  X[['Mileage', 'Cylinder', 'Doors']] = scale.fit_transform(X[['Mileage', 'Cylinder', 'Doors']])\n"
     ]
    }
   ],
   "execution_count": 36
  },
  {
   "metadata": {},
   "cell_type": "markdown",
   "source": [
    "A tabela de coeficientes acima nos dá os valores para inserir em uma equação da forma: B0 + B1 * Quilometragem + B2 * cilindros + B3 * portas \n",
    "Neste exemplo, fica bem claro que o número de cilindros é mais importante do que qualquer coisa baseada nos coeficientes.\n",
    "\n",
    "Poderíamos ter descoberto isso antes?"
   ],
   "id": "279f74aff3872d2d"
  },
  {
   "metadata": {
    "ExecuteTime": {
     "end_time": "2024-09-26T12:48:50.554764Z",
     "start_time": "2024-09-26T12:48:50.549576Z"
    }
   },
   "cell_type": "code",
   "source": "y.groupby(df.Doors).mean()",
   "id": "4f6e2581d26d2566",
   "outputs": [
    {
     "data": {
      "text/plain": [
       "Doors\n",
       "2    23807.135520\n",
       "4    20580.670749\n",
       "Name: Price, dtype: float64"
      ]
     },
     "execution_count": 37,
     "metadata": {},
     "output_type": "execute_result"
    }
   ],
   "execution_count": 37
  },
  {
   "metadata": {},
   "cell_type": "markdown",
   "source": [
    "Surpreendentemente, mais portas não significam um preço mais elevado! (Talvez isso implique um carro esporte em alguns casos?) Portanto, não é surpreendente que seja inútil como preditor aqui. No entanto, este é um conjunto de dados muito pequeno, por isso não podemos realmente ler muito significado nele.\n",
    "\n",
    "Como você usaria isso para fazer uma previsão real? Comece dimensionando suas múltiplas variáveis ​​de recursos na mesma escala usada para treinar o modelo e, em seguida, basta chamar est.predict() nos recursos dimensionados:"
   ],
   "id": "374e16e8803dcdc"
  },
  {
   "metadata": {
    "ExecuteTime": {
     "end_time": "2024-09-26T12:48:50.564499Z",
     "start_time": "2024-09-26T12:48:50.561026Z"
    }
   },
   "cell_type": "code",
   "source": [
    "scaled = scale.transform([[45000, 8, 4]])\n",
    "scaled = np.insert(scaled[0], 0, 1) #Need to add that constant column in again.\n",
    "print(scaled)\n",
    "predicted = est.predict(scaled)\n",
    "print(predicted)"
   ],
   "id": "fa94c4564cc5fa94",
   "outputs": [
    {
     "name": "stdout",
     "output_type": "stream",
     "text": [
      "[1.         3.07256589 1.96971667 0.55627894]\n",
      "[27658.15707316]\n"
     ]
    },
    {
     "name": "stderr",
     "output_type": "stream",
     "text": [
      "C:\\Users\\jonin\\miniconda3\\Lib\\site-packages\\sklearn\\base.py:493: UserWarning: X does not have valid feature names, but StandardScaler was fitted with feature names\n",
      "  warnings.warn(\n"
     ]
    }
   ],
   "execution_count": 39
  },
  {
   "metadata": {},
   "cell_type": "code",
   "outputs": [
    {
     "name": "stdout",
     "output_type": "stream",
     "text": [
      "Dados de entrada escalados com constante:\n",
      "[1.         3.07256589 1.96971667 0.55627894]\n",
      "\n",
      "Previsão do preço do carro:\n",
      "[27658.15707316]\n"
     ]
    },
    {
     "name": "stderr",
     "output_type": "stream",
     "text": [
      "C:\\Users\\jonin\\miniconda3\\Lib\\site-packages\\sklearn\\base.py:493: UserWarning: X does not have valid feature names, but StandardScaler was fitted with feature names\n",
      "  warnings.warn(\n"
     ]
    }
   ],
   "execution_count": 38,
   "source": [
    "# Dados de entrada escalados e com a constante adicionada\n",
    "scaled = scale.transform([[45000, 8, 4]])\n",
    "scaled_with_const = np.insert(scaled[0], 0, 1)\n",
    "\n",
    "# Realiza a previsão usando o modelo ajustado\n",
    "predicted = est.predict(scaled_with_const.reshape(1, -1))\n",
    "\n",
    "print(\"Dados de entrada escalados com constante:\")\n",
    "print(scaled_with_const)\n",
    "print(\"\\nPrevisão do preço do carro:\")\n",
    "print(predicted)\n"
   ],
   "id": "adec0ac90337ccea"
  },
  {
   "metadata": {
    "ExecuteTime": {
     "end_time": "2024-09-26T12:48:50.570256Z",
     "start_time": "2024-09-26T12:48:50.565507Z"
    }
   },
   "cell_type": "code",
   "source": [
    "# Criar um DataFrame para os novos dados com os mesmos nomes de colunas\n",
    "new_data = pd.DataFrame([[45000, 8, 4]], columns=['Mileage', 'Cylinder', 'Doors'])\n",
    "\n",
    "# Escalar os novos dados\n",
    "scaled = scale.transform(new_data)\n",
    "\n",
    "# Adicionar a coluna constante (para o intercepto)\n",
    "scaled_with_const = np.insert(scaled[0], 0, 1)\n",
    "\n",
    "# Realiza a previsão usando o modelo ajustado\n",
    "predicted = est.predict(scaled_with_const.reshape(1, -1))\n",
    "\n",
    "print(\"Dados de entrada escalados com constante:\")\n",
    "print(scaled_with_const)\n",
    "print(\"\\nPrevisão do preço do carro:\")\n",
    "print(predicted)\n"
   ],
   "id": "833974062ccaf50",
   "outputs": [
    {
     "name": "stdout",
     "output_type": "stream",
     "text": [
      "Dados de entrada escalados com constante:\n",
      "[1.         3.07256589 1.96971667 0.55627894]\n",
      "\n",
      "Previsão do preço do carro:\n",
      "[27658.15707316]\n"
     ]
    }
   ],
   "execution_count": 40
  },
  {
   "metadata": {},
   "cell_type": "markdown",
   "source": [
    "## Activity\n",
    "Mexa com os dados de entrada falsos e veja se você consegue criar uma influência mensurável do número de portas no preço. Divirta-se com isso - por que parar nas 4 portas?"
   ],
   "id": "8fb7aa0d89324568"
  },
  {
   "metadata": {
    "ExecuteTime": {
     "end_time": "2024-09-26T13:05:22.778277Z",
     "start_time": "2024-09-26T13:05:22.776132Z"
    }
   },
   "cell_type": "code",
   "source": "",
   "id": "b3c77ede63353078",
   "outputs": [],
   "execution_count": 43
  },
  {
   "metadata": {
    "ExecuteTime": {
     "end_time": "2024-09-26T13:05:16.911471Z",
     "start_time": "2024-09-26T13:05:16.908114Z"
    }
   },
   "cell_type": "code",
   "source": "",
   "id": "9eb3c750c6627b76",
   "outputs": [],
   "execution_count": 43
  },
  {
   "metadata": {},
   "cell_type": "code",
   "outputs": [],
   "execution_count": null,
   "source": "",
   "id": "609b2ae3c68c26b2"
  }
 ],
 "metadata": {
  "kernelspec": {
   "display_name": "Python 3",
   "language": "python",
   "name": "python3"
  },
  "language_info": {
   "codemirror_mode": {
    "name": "ipython",
    "version": 2
   },
   "file_extension": ".py",
   "mimetype": "text/x-python",
   "name": "python",
   "nbconvert_exporter": "python",
   "pygments_lexer": "ipython2",
   "version": "2.7.6"
  }
 },
 "nbformat": 4,
 "nbformat_minor": 5
}
