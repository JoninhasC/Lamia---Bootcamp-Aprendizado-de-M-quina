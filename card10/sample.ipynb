{
 "cells": [
  {
   "metadata": {},
   "cell_type": "markdown",
   "source": [
    "# 10 - Prática: Lidando com Dados do Mundo Real (II) (LEIA A DESCRIÇÃO COMPLETA)\n",
    "\n",
    "ODS: O INSTRUTOR RETIROU OS ARQUIVOS DE CÓDIGO DO CURSO, MAS ANEXAMOS OS MESMOS PARA VOCÊ AQUI NO CARD, BAIXE E USE DURANTE O CURSO.\n",
    "\n",
    "Prazo para entrega: 10 dias. Criar data de entrega utilizando a data de cópia do cartão e o prazo estabelecido para esta tarefa.\n",
    "\n",
    "Entrega a Ser Feita: Relatório com descrição dos principais conhecimentos adquiridos, anexar o arquivo ao seu cartão.\n",
    "\n",
    "Seções dentro de um minicurso com conceitos importantes sobre como entender e manipular dados do mundo real ao lidar com projetos de Machine Learning e Inteligência Artificial.\n",
    "\n",
    "O vídeo é inglês e interessante seria o acompanhamento com legendas em inglês, mas se sentir dificuldades pode configurar para que o youtube gere legendas em português sendo a qualidade destas muito boa.\n",
    "\n",
    "Você irá acessar a nossa conta da Udemy e ir o seguinte curso: Machine Learning, Data Science and Generative AI with Python. Dentro desse curso faça apenas as seções que estão descritas no checklist abaixo."
   ],
   "id": "8a77807f92f26ee"
  },
  {
   "metadata": {},
   "cell_type": "markdown",
   "source": "KNN é um conceito simples: defina alguma métrica de distância entre os itens em seu conjunto de dados e encontre os K itens mais próximos. Você pode então usar esses itens para prever alguma propriedade de um item de teste, fazendo com que eles de alguma forma \"votem\" nele. Como exemplo, vejamos os dados do MovieLens. Tentaremos adivinhar a classificação de um filme observando os 10 filmes mais próximos dele em termos de gênero e popularidade. Para começar, carregaremos todas as classificações do conjunto de dados em um DataFrame do Pandas:",
   "id": "c1f74176ac16ed54"
  },
  {
   "metadata": {
    "ExecuteTime": {
     "end_time": "2024-09-17T19:10:38.971535Z",
     "start_time": "2024-09-17T19:10:38.934432Z"
    }
   },
   "cell_type": "code",
   "source": [
    "import pandas as pd \n",
    "\n",
    "r_cols = ['user_id','movie_id','rating']\n",
    "ratings = pd.read_csv('ml-100k/u.data', sep='\\t',names = r_cols, usecols = range(3))\n",
    "ratings.head()\n"
   ],
   "id": "fbc121e30a2defb3",
   "outputs": [
    {
     "data": {
      "text/plain": [
       "   user_id  movie_id  rating\n",
       "0        0        50       5\n",
       "1        0       172       5\n",
       "2        0       133       1\n",
       "3      196       242       3\n",
       "4      186       302       3"
      ],
      "text/html": [
       "<div>\n",
       "<style scoped>\n",
       "    .dataframe tbody tr th:only-of-type {\n",
       "        vertical-align: middle;\n",
       "    }\n",
       "\n",
       "    .dataframe tbody tr th {\n",
       "        vertical-align: top;\n",
       "    }\n",
       "\n",
       "    .dataframe thead th {\n",
       "        text-align: right;\n",
       "    }\n",
       "</style>\n",
       "<table border=\"1\" class=\"dataframe\">\n",
       "  <thead>\n",
       "    <tr style=\"text-align: right;\">\n",
       "      <th></th>\n",
       "      <th>user_id</th>\n",
       "      <th>movie_id</th>\n",
       "      <th>rating</th>\n",
       "    </tr>\n",
       "  </thead>\n",
       "  <tbody>\n",
       "    <tr>\n",
       "      <th>0</th>\n",
       "      <td>0</td>\n",
       "      <td>50</td>\n",
       "      <td>5</td>\n",
       "    </tr>\n",
       "    <tr>\n",
       "      <th>1</th>\n",
       "      <td>0</td>\n",
       "      <td>172</td>\n",
       "      <td>5</td>\n",
       "    </tr>\n",
       "    <tr>\n",
       "      <th>2</th>\n",
       "      <td>0</td>\n",
       "      <td>133</td>\n",
       "      <td>1</td>\n",
       "    </tr>\n",
       "    <tr>\n",
       "      <th>3</th>\n",
       "      <td>196</td>\n",
       "      <td>242</td>\n",
       "      <td>3</td>\n",
       "    </tr>\n",
       "    <tr>\n",
       "      <th>4</th>\n",
       "      <td>186</td>\n",
       "      <td>302</td>\n",
       "      <td>3</td>\n",
       "    </tr>\n",
       "  </tbody>\n",
       "</table>\n",
       "</div>"
      ]
     },
     "execution_count": 41,
     "metadata": {},
     "output_type": "execute_result"
    }
   ],
   "execution_count": 41
  },
  {
   "metadata": {},
   "cell_type": "markdown",
   "source": "Agora, agruparemos tudo por ID do filme e calcularemos o número total de avaliações (a popularidade de cada filme) e a classificação média de cada filme:",
   "id": "bc858a6e27067585"
  },
  {
   "metadata": {
    "ExecuteTime": {
     "end_time": "2024-09-17T19:10:39.058025Z",
     "start_time": "2024-09-17T19:10:39.025080Z"
    }
   },
   "cell_type": "code",
   "source": [
    "import numpy as np\n",
    "\n",
    "movieProperties = ratings.groupby('movie_id').agg({'rating': [np.size, np.mean]})\n",
    "movieProperties.head()"
   ],
   "id": "c3dde3d14ed628b5",
   "outputs": [
    {
     "name": "stderr",
     "output_type": "stream",
     "text": [
      "C:\\Users\\jonin\\AppData\\Local\\Temp\\ipykernel_12644\\579369499.py:3: FutureWarning: The provided callable <function mean at 0x00000249D220D940> is currently using SeriesGroupBy.mean. In a future version of pandas, the provided callable will be used directly. To keep current behavior pass the string \"mean\" instead.\n",
      "  movieProperties = ratings.groupby('movie_id').agg({'rating': [np.size, np.mean]})\n"
     ]
    },
    {
     "data": {
      "text/plain": [
       "         rating          \n",
       "           size      mean\n",
       "movie_id                 \n",
       "1           452  3.878319\n",
       "2           131  3.206107\n",
       "3            90  3.033333\n",
       "4           209  3.550239\n",
       "5            86  3.302326"
      ],
      "text/html": [
       "<div>\n",
       "<style scoped>\n",
       "    .dataframe tbody tr th:only-of-type {\n",
       "        vertical-align: middle;\n",
       "    }\n",
       "\n",
       "    .dataframe tbody tr th {\n",
       "        vertical-align: top;\n",
       "    }\n",
       "\n",
       "    .dataframe thead tr th {\n",
       "        text-align: left;\n",
       "    }\n",
       "\n",
       "    .dataframe thead tr:last-of-type th {\n",
       "        text-align: right;\n",
       "    }\n",
       "</style>\n",
       "<table border=\"1\" class=\"dataframe\">\n",
       "  <thead>\n",
       "    <tr>\n",
       "      <th></th>\n",
       "      <th colspan=\"2\" halign=\"left\">rating</th>\n",
       "    </tr>\n",
       "    <tr>\n",
       "      <th></th>\n",
       "      <th>size</th>\n",
       "      <th>mean</th>\n",
       "    </tr>\n",
       "    <tr>\n",
       "      <th>movie_id</th>\n",
       "      <th></th>\n",
       "      <th></th>\n",
       "    </tr>\n",
       "  </thead>\n",
       "  <tbody>\n",
       "    <tr>\n",
       "      <th>1</th>\n",
       "      <td>452</td>\n",
       "      <td>3.878319</td>\n",
       "    </tr>\n",
       "    <tr>\n",
       "      <th>2</th>\n",
       "      <td>131</td>\n",
       "      <td>3.206107</td>\n",
       "    </tr>\n",
       "    <tr>\n",
       "      <th>3</th>\n",
       "      <td>90</td>\n",
       "      <td>3.033333</td>\n",
       "    </tr>\n",
       "    <tr>\n",
       "      <th>4</th>\n",
       "      <td>209</td>\n",
       "      <td>3.550239</td>\n",
       "    </tr>\n",
       "    <tr>\n",
       "      <th>5</th>\n",
       "      <td>86</td>\n",
       "      <td>3.302326</td>\n",
       "    </tr>\n",
       "  </tbody>\n",
       "</table>\n",
       "</div>"
      ]
     },
     "execution_count": 42,
     "metadata": {},
     "output_type": "execute_result"
    }
   ],
   "execution_count": 42
  },
  {
   "metadata": {},
   "cell_type": "markdown",
   "source": "O número bruto de classificações não é muito útil para calcular distâncias entre filmes, por isso criaremos um novo DataFrame que contém o número normalizado de classificações. Portanto, um valor 0 significa que ninguém o avaliou e um valor 1 significa que é o filme mais popular que existe.",
   "id": "228658fcdb16ad65"
  },
  {
   "metadata": {
    "ExecuteTime": {
     "end_time": "2024-09-17T19:10:39.065950Z",
     "start_time": "2024-09-17T19:10:39.059031Z"
    }
   },
   "cell_type": "code",
   "source": [
    "movieNumRatings = pd.DataFrame(movieProperties['rating']['size'])\n",
    "movieNormalizedNumRatings = movieNumRatings.apply(lambda x: (x - np.min(x)) / (np.max(x) - np.min(x)))\n",
    "movieNormalizedNumRatings.head()"
   ],
   "id": "78f9e88af67f0f9e",
   "outputs": [
    {
     "data": {
      "text/plain": [
       "              size\n",
       "movie_id          \n",
       "1         0.773585\n",
       "2         0.222985\n",
       "3         0.152659\n",
       "4         0.356775\n",
       "5         0.145798"
      ],
      "text/html": [
       "<div>\n",
       "<style scoped>\n",
       "    .dataframe tbody tr th:only-of-type {\n",
       "        vertical-align: middle;\n",
       "    }\n",
       "\n",
       "    .dataframe tbody tr th {\n",
       "        vertical-align: top;\n",
       "    }\n",
       "\n",
       "    .dataframe thead th {\n",
       "        text-align: right;\n",
       "    }\n",
       "</style>\n",
       "<table border=\"1\" class=\"dataframe\">\n",
       "  <thead>\n",
       "    <tr style=\"text-align: right;\">\n",
       "      <th></th>\n",
       "      <th>size</th>\n",
       "    </tr>\n",
       "    <tr>\n",
       "      <th>movie_id</th>\n",
       "      <th></th>\n",
       "    </tr>\n",
       "  </thead>\n",
       "  <tbody>\n",
       "    <tr>\n",
       "      <th>1</th>\n",
       "      <td>0.773585</td>\n",
       "    </tr>\n",
       "    <tr>\n",
       "      <th>2</th>\n",
       "      <td>0.222985</td>\n",
       "    </tr>\n",
       "    <tr>\n",
       "      <th>3</th>\n",
       "      <td>0.152659</td>\n",
       "    </tr>\n",
       "    <tr>\n",
       "      <th>4</th>\n",
       "      <td>0.356775</td>\n",
       "    </tr>\n",
       "    <tr>\n",
       "      <th>5</th>\n",
       "      <td>0.145798</td>\n",
       "    </tr>\n",
       "  </tbody>\n",
       "</table>\n",
       "</div>"
      ]
     },
     "execution_count": 43,
     "metadata": {},
     "output_type": "execute_result"
    }
   ],
   "execution_count": 43
  },
  {
   "metadata": {},
   "cell_type": "markdown",
   "source": "Agora, vamos obter as informações do gênero no arquivo u.item. A forma como isto funciona é que existem 19 campos, cada um correspondendo a um género específico - um valor de '0' significa que não está nesse género, e '1' significa que está nesse género. Um filme pode ter mais de um gênero associado a ele. Enquanto estamos nisso, reuniremos tudo em um grande dicionário Python chamado movieDict. Cada entrada conterá o nome do filme, a lista de valores de gênero, a pontuação de popularidade normalizada e a classificação média de cada filme:",
   "id": "6d00e9e5394b9326"
  },
  {
   "metadata": {
    "ExecuteTime": {
     "end_time": "2024-09-17T19:10:39.481866Z",
     "start_time": "2024-09-17T19:10:39.101980Z"
    }
   },
   "cell_type": "code",
   "source": [
    "movieDict = {}\n",
    "with open('ml-100k/u.item', encoding=\"ISO-8859-1\") as f:\n",
    "    temp = ''\n",
    "    for line in f:\n",
    "        fields = line.rstrip('\\n').split('|')\n",
    "        movieID = int(fields[0])\n",
    "        name = fields[1]\n",
    "        genres= fields[5:25]\n",
    "        genres = map(int, genres)\n",
    "        movieDict[movieID] = (name, np.array(list(genres)), movieNormalizedNumRatings.loc[movieID].get('size'), movieProperties.loc[movieID].rating.get('mean'))"
   ],
   "id": "89ff261cab373435",
   "outputs": [],
   "execution_count": 44
  },
  {
   "metadata": {},
   "cell_type": "markdown",
   "source": "Por exemplo, aqui está o registro que obtivemos para o ID do filme 1, \"Toy Story\":",
   "id": "4bc31718195e8972"
  },
  {
   "metadata": {
    "ExecuteTime": {
     "end_time": "2024-09-17T19:10:39.487381Z",
     "start_time": "2024-09-17T19:10:39.482870Z"
    }
   },
   "cell_type": "code",
   "source": "movieDict[2]",
   "id": "ad04f896f29aea9e",
   "outputs": [
    {
     "data": {
      "text/plain": [
       "('GoldenEye (1995)',\n",
       " array([0, 1, 1, 0, 0, 0, 0, 0, 0, 0, 0, 0, 0, 0, 0, 0, 1, 0, 0]),\n",
       " 0.22298456260720412,\n",
       " 3.2061068702290076)"
      ]
     },
     "execution_count": 45,
     "metadata": {},
     "output_type": "execute_result"
    }
   ],
   "execution_count": 45
  },
  {
   "metadata": {
    "ExecuteTime": {
     "end_time": "2024-09-17T19:10:39.491677Z",
     "start_time": "2024-09-17T19:10:39.488391Z"
    }
   },
   "cell_type": "code",
   "source": "movieDict[1] ",
   "id": "a0d83e44098cb0fa",
   "outputs": [
    {
     "data": {
      "text/plain": [
       "('Toy Story (1995)',\n",
       " array([0, 0, 0, 1, 1, 1, 0, 0, 0, 0, 0, 0, 0, 0, 0, 0, 0, 0, 0]),\n",
       " 0.7735849056603774,\n",
       " 3.8783185840707963)"
      ]
     },
     "execution_count": 46,
     "metadata": {},
     "output_type": "execute_result"
    }
   ],
   "execution_count": 46
  },
  {
   "metadata": {},
   "cell_type": "markdown",
   "source": "Agora vamos definir uma função que calcula a \"distância\" entre dois filmes com base na semelhança entre seus gêneros e na popularidade. Só para ter certeza de que funciona, calcularemos a distância entre os IDs 2 e 4 do filme:",
   "id": "8ed04efbc39d3cfc"
  },
  {
   "metadata": {
    "ExecuteTime": {
     "end_time": "2024-09-17T19:10:39.497494Z",
     "start_time": "2024-09-17T19:10:39.492687Z"
    }
   },
   "cell_type": "code",
   "source": [
    "from scipy import spatial\n",
    "\n",
    "def ComputeDistance(a, b):\n",
    "    genresA = a[1]\n",
    "    genresB = b[1]\n",
    "    genreDistance = spatial.distance.cosine(genresA, genresB)\n",
    "    popularityA = a[2]\n",
    "    popularityB = b[2]\n",
    "    popularityDistance = abs(popularityA - popularityB)\n",
    "    return genreDistance + popularityDistance\n",
    "    \n",
    "ComputeDistance(movieDict[2], movieDict[4])\n",
    "\n"
   ],
   "id": "aa25410cf7c27ca0",
   "outputs": [
    {
     "data": {
      "text/plain": [
       "0.8004574042309892"
      ]
     },
     "execution_count": 47,
     "metadata": {},
     "output_type": "execute_result"
    }
   ],
   "execution_count": 47
  },
  {
   "metadata": {},
   "cell_type": "markdown",
   "source": "Lembre-se de que quanto maior a distância, menos semelhantes serão os filmes. Vamos verificar o que realmente são os filmes 2 e 4 - e confirmar que não são tão parecidos:",
   "id": "a9418aee860f0926"
  },
  {
   "metadata": {
    "ExecuteTime": {
     "end_time": "2024-09-17T19:10:39.501695Z",
     "start_time": "2024-09-17T19:10:39.498499Z"
    }
   },
   "cell_type": "code",
   "source": [
    "print(movieDict[2])\n",
    "print(movieDict[4])"
   ],
   "id": "4b9708375cb3c565",
   "outputs": [
    {
     "name": "stdout",
     "output_type": "stream",
     "text": [
      "('GoldenEye (1995)', array([0, 1, 1, 0, 0, 0, 0, 0, 0, 0, 0, 0, 0, 0, 0, 0, 1, 0, 0]), 0.22298456260720412, 3.2061068702290076)\n",
      "('Get Shorty (1995)', array([0, 1, 0, 0, 0, 1, 0, 0, 1, 0, 0, 0, 0, 0, 0, 0, 0, 0, 0]), 0.3567753001715266, 3.550239234449761)\n"
     ]
    }
   ],
   "execution_count": 48
  },
  {
   "metadata": {},
   "cell_type": "markdown",
   "source": "Agora, só precisamos de um pequeno código para calcular a distância entre um determinado filme de teste (Toy Story, neste exemplo) e todos os filmes em nosso conjunto de dados. Ao classificá-los por distância e imprimir os K vizinhos mais próximos:",
   "id": "940d19c8d2ff0eac"
  },
  {
   "metadata": {
    "ExecuteTime": {
     "end_time": "2024-09-17T19:10:56.453980Z",
     "start_time": "2024-09-17T19:10:56.427299Z"
    }
   },
   "cell_type": "code",
   "source": [
    "import operator\n",
    "\n",
    "def getNeighbors(movieID, K):\n",
    "    distances = []\n",
    "    for movie in movieDict:\n",
    "        if (movie != movieID):\n",
    "            dist  = ComputeDistance(movieDict[movieID], movieDict[movie])\n",
    "            distances.append((movie, dist))\n",
    "    distances.sort(key=operator.itemgetter(1))\n",
    "    neighbors = []\n",
    "    for i in range(K):\n",
    "        neighbors.append(distances[i][0])\n",
    "    return neighbors\n",
    "\n",
    "k = 10\n",
    "avgRating = 0\n",
    "neighbors = getNeighbors(1, k)\n",
    "for neighbor in neighbors:\n",
    "    avgRating += movieDict[neighbor][3]\n",
    "    print(movieDict[neighbor][0] + \"\" + str(movieDict[neighbor][3]))\n",
    "    \n",
    "avgRating /= k \n",
    "    "
   ],
   "id": "76b51354ebadceb1",
   "outputs": [
    {
     "name": "stdout",
     "output_type": "stream",
     "text": [
      "Aladdin (1992)3.8127853881278537\n",
      "Aladdin and the King of Thieves (1996)2.8461538461538463\n",
      "George of the Jungle (1997)2.685185185185185\n",
      "Beavis and Butt-head Do America (1996)2.7884615384615383\n",
      "Home Alone (1990)3.0875912408759123\n",
      "Jungle2Jungle (1997)2.4393939393939394\n",
      "Willy Wonka and the Chocolate Factory (1971)3.6319018404907975\n",
      "Wrong Trousers, The (1993)4.466101694915254\n",
      "101 Dalmatians (1996)2.908256880733945\n",
      "Pinocchio (1940)3.6732673267326734\n"
     ]
    }
   ],
   "execution_count": 61
  },
  {
   "metadata": {},
   "cell_type": "markdown",
   "source": "Enquanto estávamos nisso, calculamos a classificação média dos 10 vizinhos mais próximos de Toy Story:",
   "id": "fc5f3fddf42b1580"
  },
  {
   "metadata": {
    "ExecuteTime": {
     "end_time": "2024-09-17T19:10:39.541487Z",
     "start_time": "2024-09-17T19:10:39.537715Z"
    }
   },
   "cell_type": "code",
   "source": "avgRating",
   "id": "9560401cb73d8eda",
   "outputs": [
    {
     "data": {
      "text/plain": [
       "3.303325650990505"
      ]
     },
     "execution_count": 50,
     "metadata": {},
     "output_type": "execute_result"
    }
   ],
   "execution_count": 50
  },
  {
   "metadata": {},
   "cell_type": "markdown",
   "source": "Como isso se compara à classificação média real de Toy Story?",
   "id": "19e25a12186a8b36"
  },
  {
   "metadata": {
    "ExecuteTime": {
     "end_time": "2024-09-17T19:10:39.586884Z",
     "start_time": "2024-09-17T19:10:39.582281Z"
    }
   },
   "cell_type": "code",
   "source": "movieDict[1]",
   "id": "a415ca5336f42956",
   "outputs": [
    {
     "data": {
      "text/plain": [
       "('Toy Story (1995)',\n",
       " array([0, 0, 0, 1, 1, 1, 0, 0, 0, 0, 0, 0, 0, 0, 0, 0, 0, 0, 0]),\n",
       " 0.7735849056603774,\n",
       " 3.8783185840707963)"
      ]
     },
     "execution_count": 51,
     "metadata": {},
     "output_type": "execute_result"
    }
   ],
   "execution_count": 51
  },
  {
   "metadata": {},
   "cell_type": "markdown",
   "source": "Nossa escolha de 10 para K foi arbitrária – que efeito os diferentes valores de K têm nos resultados? Nossa métrica de distância também era um tanto arbitrária - apenas pegamos a distância cosseno entre os gêneros e a adicionamos à diferença entre as pontuações de popularidade normalizadas. Você pode melhorar isso?",
   "id": "591340a5b207d1e7"
  },
  {
   "metadata": {
    "ExecuteTime": {
     "end_time": "2024-09-17T19:10:39.995174Z",
     "start_time": "2024-09-17T19:10:39.615893Z"
    }
   },
   "cell_type": "code",
   "source": [
    "import numpy as np\n",
    "import operator\n",
    "from scipy import spatial\n",
    "\n",
    "# Dicionário para armazenar os filmes\n",
    "movieDict = {}\n",
    "\n",
    "# Abrindo o arquivo e populando o dicionário\n",
    "with open('ml-100k/u.item', encoding=\"ISO-8859-1\") as f:\n",
    "    for line in f:\n",
    "        fields = line.rstrip('\\n').split('|')\n",
    "        movieID = int(fields[0])\n",
    "        name = fields[1]\n",
    "        genres = fields[5:25]\n",
    "        genres = map(int, genres)\n",
    "        movieDict[movieID] = (name, np.array(list(genres)), \n",
    "                              movieNormalizedNumRatings.loc[movieID].get('size'), \n",
    "                              movieProperties.loc[movieID].rating.get('mean'))"
   ],
   "id": "efa2449119712ded",
   "outputs": [],
   "execution_count": 52
  },
  {
   "metadata": {
    "ExecuteTime": {
     "end_time": "2024-09-17T19:10:40.000535Z",
     "start_time": "2024-09-17T19:10:39.997178Z"
    }
   },
   "cell_type": "code",
   "source": [
    "# Função para calcular os vizinhos mais próximos\n",
    "def getNeighbors(movieID, K):\n",
    "    distances = []\n",
    "    for movie in movieDict:\n",
    "        if movie != movieID:\n",
    "            dist = ComputeDistance(movieDict[movieID], movieDict[movie])\n",
    "            distances.append((movie, dist))\n",
    "    # Ordenar pela distância\n",
    "    distances.sort(key=operator.itemgetter(1))\n",
    "    neighbors = [distances[i][0] for i in range(K)]\n",
    "    return neighbors"
   ],
   "id": "84b27e1b730568ea",
   "outputs": [],
   "execution_count": 53
  },
  {
   "metadata": {
    "ExecuteTime": {
     "end_time": "2024-09-17T19:10:40.004898Z",
     "start_time": "2024-09-17T19:10:40.001540Z"
    }
   },
   "cell_type": "code",
   "source": [
    "# Função para calcular a distância entre dois filmes\n",
    "def ComputeDistance(a, b, weight_genre=0.7, weight_popularity=0.3):\n",
    "    genresA = a[1]\n",
    "    genresB = b[1]\n",
    "    \n",
    "    # Distância cosseno entre os gêneros\n",
    "    genreDistance = spatial.distance.cosine(genresA, genresB)\n",
    "    \n",
    "    # Diferença de popularidade\n",
    "    popularityA = a[2]\n",
    "    popularityB = b[2]\n",
    "    popularityDistance = abs(popularityA - popularityB)\n",
    "    \n",
    "    # Combinação das distâncias com pesos\n",
    "    return (weight_genre * genreDistance) + (weight_popularity * popularityDistance)"
   ],
   "id": "79a7caa591d03cfc",
   "outputs": [],
   "execution_count": 54
  },
  {
   "metadata": {
    "ExecuteTime": {
     "end_time": "2024-09-17T19:10:40.009214Z",
     "start_time": "2024-09-17T19:10:40.005904Z"
    }
   },
   "cell_type": "code",
   "source": [
    "# Exemplo de chamada para calcular a distância entre dois filmes\n",
    "ComputeDistance(movieDict[2], movieDict[4])"
   ],
   "id": "b281f553cf5400c8",
   "outputs": [
    {
     "data": {
      "text/plain": [
       "0.5068038879359634"
      ]
     },
     "execution_count": 55,
     "metadata": {},
     "output_type": "execute_result"
    }
   ],
   "execution_count": 55
  },
  {
   "metadata": {
    "ExecuteTime": {
     "end_time": "2024-09-17T19:10:40.014191Z",
     "start_time": "2024-09-17T19:10:40.010223Z"
    }
   },
   "cell_type": "code",
   "source": [
    "# Função para calcular a média das avaliações dos K vizinhos mais próximos\n",
    "def getAverageRating(movieID, K):\n",
    "    neighbors = getNeighbors(movieID, K)\n",
    "    avgRating = sum([movieDict[neighbor][3] for neighbor in neighbors]) / K\n",
    "    return avgRating"
   ],
   "id": "c34a04a3a154ec6d",
   "outputs": [],
   "execution_count": 56
  },
  {
   "metadata": {
    "ExecuteTime": {
     "end_time": "2024-09-17T19:10:40.037937Z",
     "start_time": "2024-09-17T19:10:40.015197Z"
    }
   },
   "cell_type": "code",
   "source": [
    "# Exemplo de uso para encontrar os 100 vizinhos mais próximos e a média de suas avaliações\n",
    "k = 10\n",
    "avgRating = getAverageRating(1, k)\n"
   ],
   "id": "4c380f6947629155",
   "outputs": [],
   "execution_count": 57
  },
  {
   "metadata": {
    "ExecuteTime": {
     "end_time": "2024-09-17T19:10:40.063284Z",
     "start_time": "2024-09-17T19:10:40.038948Z"
    }
   },
   "cell_type": "code",
   "source": [
    "\n",
    "# Imprime os vizinhos mais próximos e suas avaliações\n",
    "neighbors = getNeighbors(1, k)\n",
    "for neighbor in neighbors:\n",
    "    print(f\"{movieDict[neighbor][0]}: {movieDict[neighbor][3]}\")\n"
   ],
   "id": "def9ddc5535e59ed",
   "outputs": [
    {
     "name": "stdout",
     "output_type": "stream",
     "text": [
      "Aladdin (1992): 3.8127853881278537\n",
      "Aladdin and the King of Thieves (1996): 2.8461538461538463\n",
      "George of the Jungle (1997): 2.685185185185185\n",
      "Beavis and Butt-head Do America (1996): 2.7884615384615383\n",
      "Home Alone (1990): 3.0875912408759123\n",
      "Jungle2Jungle (1997): 2.4393939393939394\n",
      "Willy Wonka and the Chocolate Factory (1971): 3.6319018404907975\n",
      "Wrong Trousers, The (1993): 4.466101694915254\n",
      "101 Dalmatians (1996): 2.908256880733945\n",
      "Pinocchio (1940): 3.6732673267326734\n"
     ]
    }
   ],
   "execution_count": 58
  },
  {
   "metadata": {
    "ExecuteTime": {
     "end_time": "2024-09-17T19:10:40.127884Z",
     "start_time": "2024-09-17T19:10:40.064293Z"
    }
   },
   "cell_type": "code",
   "source": [
    "\n",
    "# Exemplo de uso para testar diferentes valores de K\n",
    "for k_value in [10, 50, 100]:\n",
    "    avgRating = getAverageRating(1, k_value)\n",
    "    print(f\"Average rating for K={k_value}: {avgRating}\")"
   ],
   "id": "483704a8f8d576a7",
   "outputs": [
    {
     "name": "stdout",
     "output_type": "stream",
     "text": [
      "Average rating for K=10: 3.233909888107094\n",
      "Average rating for K=50: 3.0838838256764904\n",
      "Average rating for K=100: 3.1395954722661616\n"
     ]
    }
   ],
   "execution_count": 59
  },
  {
   "metadata": {
    "ExecuteTime": {
     "end_time": "2024-09-17T19:10:40.131436Z",
     "start_time": "2024-09-17T19:10:40.128893Z"
    }
   },
   "cell_type": "code",
   "source": "",
   "id": "2f2dc6f0d88bc1ff",
   "outputs": [],
   "execution_count": 59
  }
 ],
 "metadata": {
  "kernelspec": {
   "display_name": "Python 3",
   "language": "python",
   "name": "python3"
  },
  "language_info": {
   "codemirror_mode": {
    "name": "ipython",
    "version": 2
   },
   "file_extension": ".py",
   "mimetype": "text/x-python",
   "name": "python",
   "nbconvert_exporter": "python",
   "pygments_lexer": "ipython2",
   "version": "2.7.6"
  }
 },
 "nbformat": 4,
 "nbformat_minor": 5
}
