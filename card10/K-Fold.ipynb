{
 "cells": [
  {
   "metadata": {
    "ExecuteTime": {
     "end_time": "2024-09-24T18:50:43.794648Z",
     "start_time": "2024-09-24T18:50:43.789688Z"
    }
   },
   "cell_type": "code",
   "source": [
    "import numpy as np\n",
    "# Importa a biblioteca NumPy, que é usada para manipulação de arrays e operações numéricas.\n",
    "\n",
    "from sklearn.model_selection import cross_val_score, train_test_split\n",
    "# Importa a função 'cross_val_score' para realizar validação cruzada e 'train_test_split' para dividir o dataset em conjuntos de treino e teste.\n",
    "\n",
    "from sklearn import datasets\n",
    "# Importa o módulo 'datasets' da biblioteca sklearn, que contém vários datasets de exemplo, incluindo o famoso dataset Iris.\n",
    "\n",
    "from sklearn import svm\n",
    "# Importa o módulo SVM (Support Vector Machine) da biblioteca sklearn, que contém implementações do algoritmo de máquinas de vetor de suporte.\n",
    "\n",
    "# Carrega o dataset Iris, que contém 150 amostras de flores, divididas em três classes com base em suas características.\n",
    "iris = datasets.load_iris()\n",
    "\n",
    "# O dataset Iris contém os seguintes dados:\n",
    "# - 'data': um array de 150 amostras de 4 características (comprimento e largura da sépala e da pétala).\n",
    "# - 'target': os rótulos das amostras (três espécies de Iris, representadas por 0, 1 e 2).\n"
   ],
   "id": "initial_id",
   "outputs": [],
   "execution_count": 150
  },
  {
   "metadata": {},
   "cell_type": "markdown",
   "source": "Uma única divisão de treinamento/teste é facilitada com a função train_test_split na biblioteca cross_validation:",
   "id": "467e6c560ae5fa0f"
  },
  {
   "metadata": {
    "ExecuteTime": {
     "end_time": "2024-09-24T18:50:43.870536Z",
     "start_time": "2024-09-24T18:50:43.864654Z"
    }
   },
   "cell_type": "code",
   "source": [
    "# Divide os dados Iris em conjuntos de treino e teste, com 40% dos dados reservados para o teste\n",
    "X_train, X_test, y_train, y_test = train_test_split(iris.data, iris.target, test_size=0.4, random_state=0)\n",
    "\n",
    "# Constrói um modelo SVC (Support Vector Classifier) usando os dados de treino\n",
    "clf = svm.SVC(kernel='linear', C=1).fit(X_train, y_train)\n",
    "\n",
    "# Mede o desempenho do modelo no conjunto de dados de teste\n",
    "score = clf.score(X_test, y_test)\n",
    "\n",
    "print(\"Accuracy of the model:\", score)\n"
   ],
   "id": "3318ea3d8cab8cb6",
   "outputs": [
    {
     "name": "stdout",
     "output_type": "stream",
     "text": [
      "Accuracy of the model: 0.9666666666666667\n"
     ]
    }
   ],
   "execution_count": 151
  },
  {
   "metadata": {},
   "cell_type": "markdown",
   "source": "A validação cruzada K-Fold é igualmente fácil; vamos usar um K de 5:",
   "id": "54f0c14b595fceeb"
  },
  {
   "metadata": {
    "ExecuteTime": {
     "end_time": "2024-09-24T18:50:43.884359Z",
     "start_time": "2024-09-24T18:50:43.871548Z"
    }
   },
   "cell_type": "code",
   "source": [
    "# Realiza a validação cruzada com o classificador 'clf', usando todo o conjunto de dados Iris\n",
    "# e as classes reais, dividindo os dados em 5 partes (folds)\n",
    "scores = cross_val_score(clf, iris.data, iris.target, cv=5)\n",
    "\n",
    "# Imprime a acurácia de cada fold\n",
    "print(\"Accuracy for each fold:\", scores)\n",
    "\n",
    "# Imprime a acurácia média de todos os 5 folds\n",
    "print(\"Mean accuracy across all folds:\", scores.mean())\n"
   ],
   "id": "6610ad84dbc88cd2",
   "outputs": [
    {
     "name": "stdout",
     "output_type": "stream",
     "text": [
      "Accuracy for each fold: [0.96666667 1.         0.96666667 0.96666667 1.        ]\n",
      "Mean accuracy across all folds: 0.9800000000000001\n"
     ]
    }
   ],
   "execution_count": 152
  },
  {
   "metadata": {},
   "cell_type": "markdown",
   "source": "Nosso modelo é ainda melhor do que pensávamos! Podemos fazer melhor? Vamos tentar um kernel diferente (poli):",
   "id": "d32e71a3c724f52"
  },
  {
   "metadata": {
    "ExecuteTime": {
     "end_time": "2024-09-24T18:50:43.896968Z",
     "start_time": "2024-09-24T18:50:43.885364Z"
    }
   },
   "cell_type": "code",
   "source": [
    "# Cria um classificador SVC (Support Vector Classifier) com kernel polinomial\n",
    "clf = svm.SVC(kernel='poly', C=1)\n",
    "\n",
    "# Realiza a validação cruzada com o classificador 'clf', usando todo o conjunto de dados Iris\n",
    "# e as classes reais, dividindo os dados em 5 partes (folds)\n",
    "scores = cross_val_score(clf, iris.data, iris.target, cv=5)\n",
    "\n",
    "# Imprime a acurácia de cada fold\n",
    "print(\"Accuracy for each fold:\", scores)\n",
    "\n",
    "# Imprime a acurácia média de todos os 5 folds\n",
    "print(\"Mean accuracy across all folds:\", scores.mean())\n"
   ],
   "id": "7df484e816657856",
   "outputs": [
    {
     "name": "stdout",
     "output_type": "stream",
     "text": [
      "Accuracy for each fold: [0.96666667 1.         0.96666667 0.96666667 1.        ]\n",
      "Mean accuracy across all folds: 0.9800000000000001\n"
     ]
    }
   ],
   "execution_count": 153
  },
  {
   "metadata": {
    "ExecuteTime": {
     "end_time": "2024-09-24T18:50:43.909133Z",
     "start_time": "2024-09-24T18:50:43.897973Z"
    }
   },
   "cell_type": "code",
   "source": [
    "# Cria um classificador SVC (Support Vector Classifier) com kernel polinomial\n",
    "clf = svm.SVC(kernel='poly', C=2)\n",
    "\n",
    "# Realiza a validação cruzada com o classificador 'clf', usando todo o conjunto de dados Iris\n",
    "# e as classes reais, dividindo os dados em 5 partes (folds)\n",
    "scores = cross_val_score(clf, iris.data, iris.target, cv=5)\n",
    "\n",
    "# Imprime a acurácia de cada fold\n",
    "print(\"Accuracy for each fold:\", scores)\n",
    "\n",
    "# Imprime a acurácia média de todos os 5 folds\n",
    "print(\"Mean accuracy across all folds:\", scores.mean())"
   ],
   "id": "5a726765f1ae63ab",
   "outputs": [
    {
     "name": "stdout",
     "output_type": "stream",
     "text": [
      "Accuracy for each fold: [0.96666667 1.         0.9        0.96666667 1.        ]\n",
      "Mean accuracy across all folds: 0.9666666666666668\n"
     ]
    }
   ],
   "execution_count": 154
  },
  {
   "metadata": {},
   "cell_type": "markdown",
   "source": "Não! O kernel polinomial mais complexo produziu menor precisão do que um kernel linear simples. O kernel polinomial está sobreajustado. Mas não poderíamos ter dito isso com uma única divisão de treinamento/teste:",
   "id": "6382c95ee51a035a"
  },
  {
   "metadata": {
    "ExecuteTime": {
     "end_time": "2024-09-24T18:50:43.943222Z",
     "start_time": "2024-09-24T18:50:43.936221Z"
    }
   },
   "cell_type": "code",
   "source": [
    "# Build an SVC model for predicting iris classifications using training data\n",
    "clf = svm.SVC(kernel='poly', C=1).fit(X_train, y_train)\n",
    "\n",
    "# Now measure its performance with the test data\n",
    "clf.score(X_test, y_test)   "
   ],
   "id": "245b2201be4a7c35",
   "outputs": [
    {
     "data": {
      "text/plain": [
       "0.9"
      ]
     },
     "execution_count": 155,
     "metadata": {},
     "output_type": "execute_result"
    }
   ],
   "execution_count": 155
  },
  {
   "metadata": {
    "ExecuteTime": {
     "end_time": "2024-09-24T18:50:43.972128Z",
     "start_time": "2024-09-24T18:50:43.963259Z"
    }
   },
   "cell_type": "code",
   "source": [
    "\n",
    "from sklearn import datasets\n",
    "from sklearn import svm\n",
    "from sklearn.model_selection import train_test_split\n",
    "\n",
    "# Carregar o conjunto de dados Iris\n",
    "iris = datasets.load_iris()\n",
    "\n",
    "# Dividir os dados Iris em conjuntos de treino e teste\n",
    "X_train, X_test, y_train, y_test = train_test_split(iris.data, iris.target, test_size=0.4, random_state=0)\n",
    "\n",
    "# Treinar o modelo SVC com kernel linear\n",
    "linear_clf = svm.SVC(kernel='linear', C=1).fit(X_train, y_train)\n",
    "linear_accuracy = linear_clf.score(X_test, y_test)\n",
    "\n",
    "# Treinar o modelo SVC com kernel polinomial de grau 2\n",
    "poly_clf = svm.SVC(kernel='poly', degree=2, C=1).fit(X_train, y_train)\n",
    "poly_accuracy = poly_clf.score(X_test, y_test)\n",
    "\n",
    "# Imprimir as acurácias de ambos os modelos\n",
    "print(f\"Accuracy of the model with linear kernel: {linear_accuracy:.4f}\")\n",
    "print(f\"Accuracy of the model with polynomial kernel (degree 2): {poly_accuracy:.4f}\")\n",
    "\n",
    "# Comparar os resultados\n",
    "if linear_accuracy > poly_accuracy:\n",
    "    print(\"The linear kernel performed better.\")\n",
    "elif poly_accuracy > linear_accuracy:\n",
    "    print(\"The polynomial kernel (degree 2) performed better.\")\n",
    "else:\n",
    "    print(\"Both kernels performed equally well.\")\n"
   ],
   "id": "8b5d0a0a90b950bc",
   "outputs": [
    {
     "name": "stdout",
     "output_type": "stream",
     "text": [
      "Accuracy of the model with linear kernel: 0.9667\n",
      "Accuracy of the model with polynomial kernel (degree 2): 0.9500\n",
      "The linear kernel performed better.\n"
     ]
    }
   ],
   "execution_count": 156
  },
  {
   "metadata": {},
   "cell_type": "markdown",
   "source": "",
   "id": "85e00802a9a67c13"
  },
  {
   "metadata": {},
   "cell_type": "markdown",
   "source": "Essa é a mesma pontuação que obtivemos com uma única divisão de treinamento/teste no kernel linear.",
   "id": "d484fc9e9b0d4f86"
  },
  {
   "metadata": {},
   "cell_type": "markdown",
   "source": [
    "## Activity\n",
    "O kernel \"poli\" para SVC na verdade tem outro atributo para o número de graus do polinômio usado, cujo padrão é 3. Por exemplo, svm.SVC(kernel='poly', grau=3, C=1)\n",
    "\n",
    "Achamos que o polinômio padrão de terceiro grau é sobreajustado, com base nos resultados acima. Mas que tal 2? Experimente e compare-o com o kernel linear"
   ],
   "id": "8839552ba51b7e04"
  },
  {
   "metadata": {
    "ExecuteTime": {
     "end_time": "2024-09-24T18:50:44.023073Z",
     "start_time": "2024-09-24T18:50:44.017563Z"
    }
   },
   "cell_type": "code",
   "source": [
    "import numpy as np\n",
    "# Importa a biblioteca NumPy, que é usada para manipulação de arrays e operações numéricas.\n",
    "\n",
    "from sklearn.model_selection import cross_val_score, train_test_split\n",
    "# Importa a função 'cross_val_score' para realizar validação cruzada e 'train_test_split' para dividir o dataset em conjuntos de treino e teste.\n",
    "\n",
    "from sklearn import datasets\n",
    "# Importa o módulo 'datasets' da biblioteca sklearn, que contém vários datasets de exemplo, incluindo o famoso dataset Iris.\n",
    "\n",
    "from sklearn import svm\n",
    "# Importa o módulo SVM (Support Vector Machine) da biblioteca sklearn, que contém implementações do algoritmo de máquinas de vetor de suporte.\n",
    "\n",
    "# Carrega o dataset Iris, que contém 150 amostras de flores, divididas em três classes com base em suas características.\n",
    "iris = datasets.load_iris()\n",
    "\n",
    "# O dataset Iris contém os seguintes dados:\n",
    "# - 'data': um array de 150 amostras de 4 características (comprimento e largura da sépala e da pétala).\n",
    "# - 'target': os rótulos das amostras (três espécies de Iris, representadas por 0, 1 e 2).\n"
   ],
   "id": "62367a763edae316",
   "outputs": [],
   "execution_count": 157
  },
  {
   "metadata": {
    "ExecuteTime": {
     "end_time": "2024-09-24T18:50:44.067049Z",
     "start_time": "2024-09-24T18:50:44.059551Z"
    }
   },
   "cell_type": "code",
   "source": [
    "# Divide os dados Iris em conjuntos de treino e teste, com 45% dos dados reservados para o teste\n",
    "X_train, X_test, y_train, y_test = train_test_split(iris.data, iris.target, test_size=0.5, random_state=0)\n",
    "\n",
    "# Constrói um modelo SVC (Support Vector Classifier) usando os dados de treino\n",
    "clf = svm.SVC(kernel='linear', C=1).fit(X_train, y_train)\n",
    "\n",
    "# Mede o desempenho do modelo no conjunto de dados de teste\n",
    "score = clf.score(X_test, y_test)\n",
    "\n",
    "print(\"Accuracy of the model:\", score)\n"
   ],
   "id": "74bc4f8d629dd298",
   "outputs": [
    {
     "name": "stdout",
     "output_type": "stream",
     "text": [
      "Accuracy of the model: 0.9733333333333334\n"
     ]
    }
   ],
   "execution_count": 158
  },
  {
   "metadata": {
    "ExecuteTime": {
     "end_time": "2024-09-24T18:50:44.106686Z",
     "start_time": "2024-09-24T18:50:44.093247Z"
    }
   },
   "cell_type": "code",
   "source": [
    "# Realiza a validação cruzada com o classificador 'clf', usando todo o conjunto de dados Iris\n",
    "# e as classes reais, dividindo os dados em 5 partes (folds)\n",
    "scores = cross_val_score(clf, iris.data, iris.target, cv=5)\n",
    "\n",
    "# Imprime a acurácia de cada fold\n",
    "print(\"Accuracy for each fold:\", scores)\n",
    "\n",
    "# Imprime a acurácia média de todos os 5 folds\n",
    "print(\"Mean accuracy across all folds:\", scores.mean())\n"
   ],
   "id": "6ab4fd93e904b2b3",
   "outputs": [
    {
     "name": "stdout",
     "output_type": "stream",
     "text": [
      "Accuracy for each fold: [0.96666667 1.         0.96666667 0.96666667 1.        ]\n",
      "Mean accuracy across all folds: 0.9800000000000001\n"
     ]
    }
   ],
   "execution_count": 159
  },
  {
   "metadata": {
    "ExecuteTime": {
     "end_time": "2024-09-24T18:50:44.128383Z",
     "start_time": "2024-09-24T18:50:44.111217Z"
    }
   },
   "cell_type": "code",
   "source": [
    "# Realiza a validação cruzada com o classificador 'clf', usando todo o conjunto de dados Iris\n",
    "# e as classes reais, dividindo os dados em 5 partes (folds)\n",
    "scores = cross_val_score(clf, iris.data, iris.target, cv=7)\n",
    "\n",
    "# Imprime a acurácia de cada fold\n",
    "print(\"Accuracy for each fold:\", scores)\n",
    "\n",
    "# Imprime a acurácia média de todos os 5 folds\n",
    "print(\"Mean accuracy across all folds:\", scores.mean())\n"
   ],
   "id": "f3790a5f8491e0db",
   "outputs": [
    {
     "name": "stdout",
     "output_type": "stream",
     "text": [
      "Accuracy for each fold: [0.95454545 1.         0.95454545 0.95238095 0.95238095 1.\n",
      " 1.        ]\n",
      "Mean accuracy across all folds: 0.9734075448361164\n"
     ]
    }
   ],
   "execution_count": 160
  },
  {
   "metadata": {
    "ExecuteTime": {
     "end_time": "2024-09-24T18:50:44.146740Z",
     "start_time": "2024-09-24T18:50:44.129396Z"
    }
   },
   "cell_type": "code",
   "source": [
    "# Realiza a validação cruzada com o classificador 'clf', usando todo o conjunto de dados Iris\n",
    "# e as classes reais, dividindo os dados em 5 partes (folds)\n",
    "scores = cross_val_score(clf, iris.data, iris.target, cv=8)\n",
    "\n",
    "# Imprime a acurácia de cada fold\n",
    "print(\"Accuracy for each fold:\", scores)\n",
    "\n",
    "# Imprime a acurácia média de todos os 5 folds\n",
    "print(\"Mean accuracy across all folds:\", scores.mean())\n"
   ],
   "id": "b618a8101677b45",
   "outputs": [
    {
     "name": "stdout",
     "output_type": "stream",
     "text": [
      "Accuracy for each fold: [1.         1.         1.         0.94736842 1.         0.94736842\n",
      " 1.         1.        ]\n",
      "Mean accuracy across all folds: 0.9868421052631579\n"
     ]
    }
   ],
   "execution_count": 161
  },
  {
   "metadata": {
    "ExecuteTime": {
     "end_time": "2024-09-24T18:50:44.170767Z",
     "start_time": "2024-09-24T18:50:44.151747Z"
    }
   },
   "cell_type": "code",
   "source": [
    "# Realiza a validação cruzada com o classificador 'clf', usando todo o conjunto de dados Iris\n",
    "# e as classes reais, dividindo os dados em 5 partes (folds)\n",
    "scores = cross_val_score(clf, iris.data, iris.target, cv=10)\n",
    "\n",
    "# Imprime a acurácia de cada fold\n",
    "print(\"Accuracy for each fold:\", scores)\n",
    "\n",
    "# Imprime a acurácia média de todos os 5 folds\n",
    "print(\"Mean accuracy across all folds:\", scores.mean())\n"
   ],
   "id": "7f21384b8cba6c97",
   "outputs": [
    {
     "name": "stdout",
     "output_type": "stream",
     "text": [
      "Accuracy for each fold: [1.         0.93333333 1.         1.         0.86666667 1.\n",
      " 0.93333333 1.         1.         1.        ]\n",
      "Mean accuracy across all folds: 0.9733333333333334\n"
     ]
    }
   ],
   "execution_count": 162
  },
  {
   "metadata": {
    "ExecuteTime": {
     "end_time": "2024-09-24T18:50:44.178351Z",
     "start_time": "2024-09-24T18:50:44.171780Z"
    }
   },
   "cell_type": "code",
   "source": [
    "# Divide os dados Iris em conjuntos de treino e teste, com 40% dos dados reservados para o teste\n",
    "X_train, X_test, y_train, y_test = train_test_split(iris.data, iris.target, test_size=0.4, random_state=0)\n",
    "\n",
    "# Constrói um modelo SVC (Support Vector Classifier) usando os dados de treino\n",
    "clf = svm.SVC(kernel='linear', C=1).fit(X_train, y_train)\n",
    "\n",
    "# Mede o desempenho do modelo no conjunto de dados de teste\n",
    "score = clf.score(X_test, y_test)\n",
    "\n",
    "print(\"Accuracy of the model:\", score)\n"
   ],
   "id": "f558abb006491240",
   "outputs": [
    {
     "name": "stdout",
     "output_type": "stream",
     "text": [
      "Accuracy of the model: 0.9666666666666667\n"
     ]
    }
   ],
   "execution_count": 163
  },
  {
   "metadata": {
    "ExecuteTime": {
     "end_time": "2024-09-24T18:50:44.198814Z",
     "start_time": "2024-09-24T18:50:44.189481Z"
    }
   },
   "cell_type": "code",
   "source": [
    "import numpy as np\n",
    "from sklearn import datasets\n",
    "from sklearn import svm\n",
    "from sklearn.model_selection import train_test_split\n",
    "\n",
    "# Carregar o conjunto de dados Iris\n",
    "iris = datasets.load_iris()\n",
    "\n",
    "# Dividir os dados Iris em conjuntos de treino e teste (60% treino, 40% teste)\n",
    "X_train, X_test, y_train, y_test = train_test_split(iris.data, iris.target, test_size=0.4, random_state=0)\n",
    "\n",
    "# Treinar o modelo SVC com kernel linear\n",
    "linear_clf = svm.SVC(kernel='linear', C=1).fit(X_train, y_train)\n",
    "linear_accuracy = linear_clf.score(X_test, y_test)\n",
    "\n",
    "# Treinar o modelo SVC com kernel polinomial de grau 2\n",
    "poly_clf = svm.SVC(kernel='poly', degree=2, C=1).fit(X_train, y_train)\n",
    "poly_accuracy = poly_clf.score(X_test, y_test)\n",
    "\n",
    "# Imprimir as acurácias de ambos os modelos\n",
    "print(f\"Accuracy of the model with linear kernel: {linear_accuracy:.4f}\")\n",
    "print(f\"Accuracy of the model with polynomial kernel (degree 2): {poly_accuracy:.4f}\")\n",
    "\n",
    "# Comparar os resultados\n",
    "if linear_accuracy > poly_accuracy:\n",
    "    print(\"The linear kernel performed better.\")\n",
    "elif poly_accuracy > linear_accuracy:\n",
    "    print(\"The polynomial kernel (degree 2) performed better.\")\n",
    "else:\n",
    "    print(\"Both kernels performed equally well.\")\n"
   ],
   "id": "260995487e6ce055",
   "outputs": [
    {
     "name": "stdout",
     "output_type": "stream",
     "text": [
      "Accuracy of the model with linear kernel: 0.9667\n",
      "Accuracy of the model with polynomial kernel (degree 2): 0.9500\n",
      "The linear kernel performed better.\n"
     ]
    }
   ],
   "execution_count": 164
  },
  {
   "metadata": {
    "ExecuteTime": {
     "end_time": "2024-09-24T18:50:44.235897Z",
     "start_time": "2024-09-24T18:50:44.224917Z"
    }
   },
   "cell_type": "code",
   "source": [
    "import numpy as np\n",
    "from sklearn import datasets\n",
    "from sklearn import svm\n",
    "from sklearn.model_selection import train_test_split\n",
    "\n",
    "# Carregar o conjunto de dados Iris\n",
    "iris = datasets.load_iris()\n",
    "\n",
    "# Dividir os dados Iris em conjuntos de treino e teste (60% treino, 40% teste)\n",
    "X_train, X_test, y_train, y_test = train_test_split(iris.data, iris.target, test_size=0.4, random_state=0)\n",
    "\n",
    "# Treinar o modelo SVC com kernel linear\n",
    "linear_clf = svm.SVC(kernel='linear', C=1).fit(X_train, y_train)\n",
    "linear_accuracy = linear_clf.score(X_test, y_test)\n",
    "\n",
    "# Treinar o modelo SVC com kernel polinomial de grau 2\n",
    "poly_clf = svm.SVC(kernel='poly', degree=3, C=1).fit(X_train, y_train)\n",
    "poly_accuracy = poly_clf.score(X_test, y_test)\n",
    "\n",
    "# Imprimir as acurácias de ambos os modelos\n",
    "print(f\"Accuracy of the model with linear kernel: {linear_accuracy:.4f}\")\n",
    "print(f\"Accuracy of the model with polynomial kernel (degree 2): {poly_accuracy:.4f}\")\n",
    "\n",
    "# Comparar os resultados\n",
    "if linear_accuracy > poly_accuracy:\n",
    "    print(\"The linear kernel performed better.\")\n",
    "elif poly_accuracy > linear_accuracy:\n",
    "    print(\"The polynomial kernel (degree 2) performed better.\")\n",
    "else:\n",
    "    print(\"Both kernels performed equally well.\")\n"
   ],
   "id": "35e02f2a4b4235e9",
   "outputs": [
    {
     "name": "stdout",
     "output_type": "stream",
     "text": [
      "Accuracy of the model with linear kernel: 0.9667\n",
      "Accuracy of the model with polynomial kernel (degree 2): 0.9000\n",
      "The linear kernel performed better.\n"
     ]
    }
   ],
   "execution_count": 165
  },
  {
   "metadata": {
    "ExecuteTime": {
     "end_time": "2024-09-24T18:50:44.271695Z",
     "start_time": "2024-09-24T18:50:44.260962Z"
    }
   },
   "cell_type": "code",
   "source": [
    "import numpy as np\n",
    "from sklearn import datasets\n",
    "from sklearn import svm\n",
    "from sklearn.model_selection import train_test_split\n",
    "\n",
    "# Carregar o conjunto de dados Iris\n",
    "iris = datasets.load_iris()\n",
    "\n",
    "# Dividir os dados Iris em conjuntos de treino e teste (60% treino, 40% teste)\n",
    "X_train, X_test, y_train, y_test = train_test_split(iris.data, iris.target, test_size=0.5, random_state=0)\n",
    "\n",
    "# Treinar o modelo SVC com kernel linear\n",
    "linear_clf = svm.SVC(kernel='linear', C=1).fit(X_train, y_train)\n",
    "linear_accuracy = linear_clf.score(X_test, y_test)\n",
    "\n",
    "# Treinar o modelo SVC com kernel polinomial de grau 2\n",
    "poly_clf = svm.SVC(kernel='poly', degree=3, C=1).fit(X_train, y_train)\n",
    "poly_accuracy = poly_clf.score(X_test, y_test)\n",
    "\n",
    "# Imprimir as acurácias de ambos os modelos\n",
    "print(f\"Accuracy of the model with linear kernel: {linear_accuracy:.4f}\")\n",
    "print(f\"Accuracy of the model with polynomial kernel (degree 2): {poly_accuracy:.4f}\")\n",
    "\n",
    "# Comparar os resultados\n",
    "if linear_accuracy > poly_accuracy:\n",
    "    print(\"The linear kernel performed better.\")\n",
    "elif poly_accuracy > linear_accuracy:\n",
    "    print(\"The polynomial kernel (degree 2) performed better.\")\n",
    "else:\n",
    "    print(\"Both kernels performed equally well.\")\n"
   ],
   "id": "fa5f79ec3882d674",
   "outputs": [
    {
     "name": "stdout",
     "output_type": "stream",
     "text": [
      "Accuracy of the model with linear kernel: 0.9733\n",
      "Accuracy of the model with polynomial kernel (degree 2): 0.9200\n",
      "The linear kernel performed better.\n"
     ]
    }
   ],
   "execution_count": 166
  },
  {
   "metadata": {
    "ExecuteTime": {
     "end_time": "2024-09-24T18:50:44.375882Z",
     "start_time": "2024-09-24T18:50:44.296312Z"
    }
   },
   "cell_type": "code",
   "source": [
    "import numpy as np\n",
    "import matplotlib.pyplot as plt\n",
    "from sklearn import datasets\n",
    "from sklearn import svm\n",
    "from sklearn.model_selection import train_test_split\n",
    "\n",
    "# Carregar o conjunto de dados Iris\n",
    "iris = datasets.load_iris()\n",
    "\n",
    "# Dividir os dados Iris em conjuntos de treino e teste (60% treino, 40% teste)\n",
    "X_train, X_test, y_train, y_test = train_test_split(iris.data, iris.target, test_size=0.4, random_state=0)\n",
    "\n",
    "# Treinar o modelo SVC com kernel linear\n",
    "linear_clf = svm.SVC(kernel='linear', C=1).fit(X_train, y_train)\n",
    "linear_accuracy = linear_clf.score(X_test, y_test)\n",
    "\n",
    "# Treinar o modelo SVC com kernel polinomial de grau 2\n",
    "poly_clf = svm.SVC(kernel='poly', degree=2, C=1).fit(X_train, y_train)\n",
    "poly_accuracy = poly_clf.score(X_test, y_test)\n",
    "\n",
    "# Imprimir as acurácias de ambos os modelos\n",
    "print(f\"Accuracy of the model with linear kernel: {linear_accuracy:.4f}\")\n",
    "print(f\"Accuracy of the model with polynomial kernel (degree 2): {poly_accuracy:.4f}\")\n",
    "\n",
    "# Criar gráfico de comparação\n",
    "kernels = ['Linear Kernel', 'Polynomial Kernel (Degree 2)']\n",
    "accuracies = [linear_accuracy, poly_accuracy]\n",
    "\n",
    "plt.figure(figsize=(8, 5))\n",
    "plt.bar(kernels, accuracies, color=['blue', 'orange'])\n",
    "plt.ylim(0, 1)  # Limitar o eixo y de 0 a 1\n",
    "plt.ylabel('Accuracy')\n",
    "plt.title('Comparison of SVC Kernels')\n",
    "plt.grid(axis='y')\n",
    "\n",
    "# Mostrar o valor das acurácias acima das barras\n",
    "for i in range(len(accuracies)):\n",
    "    plt.text(i, accuracies[i] + 0.02, f'{accuracies[i]:.4f}', ha='center')\n",
    "\n",
    "plt.show()\n"
   ],
   "id": "1c857da582598f63",
   "outputs": [
    {
     "name": "stdout",
     "output_type": "stream",
     "text": [
      "Accuracy of the model with linear kernel: 0.9667\n",
      "Accuracy of the model with polynomial kernel (degree 2): 0.9500\n"
     ]
    },
    {
     "data": {
      "text/plain": [
       "<Figure size 800x500 with 1 Axes>"
      ],
      "image/png": "[encoded data removed]"
     },
     "metadata": {},
     "output_type": "display_data"
    }
   ],
   "execution_count": 167
  },
  {
   "metadata": {
    "ExecuteTime": {
     "end_time": "2024-09-24T18:50:44.583821Z",
     "start_time": "2024-09-24T18:50:44.376892Z"
    }
   },
   "cell_type": "code",
   "source": [
    "import numpy as np\n",
    "import matplotlib.pyplot as plt\n",
    "from sklearn import datasets\n",
    "from sklearn import svm\n",
    "from sklearn.model_selection import train_test_split\n",
    "\n",
    "# Carregar o conjunto de dados Iris\n",
    "iris = datasets.load_iris()\n",
    "\n",
    "# Dividir os dados Iris em conjuntos de treino e teste (60% treino, 40% teste)\n",
    "X_train, X_test, y_train, y_test = train_test_split(iris.data, iris.target, test_size=0.4, random_state=0)\n",
    "\n",
    "# Treinar o modelo SVC com kernel linear\n",
    "linear_clf = svm.SVC(kernel='linear', C=1).fit(X_train, y_train)\n",
    "linear_accuracy = linear_clf.score(X_test, y_test)\n",
    "\n",
    "# Treinar o modelo SVC com kernel polinomial de grau 2\n",
    "poly_clf = svm.SVC(kernel='poly', C=1).fit(X_train, y_train)\n",
    "poly_accuracy = poly_clf.score(X_test, y_test)\n",
    "\n",
    "# Imprimir as acurácias de ambos os modelos\n",
    "print(f\"Accuracy of the model with linear kernel: {linear_accuracy:.4f}\")\n",
    "print(f\"Accuracy of the model with polynomial kernel (degree 2): {poly_accuracy:.4f}\")\n",
    "\n",
    "# Criar gráfico de comparação\n",
    "kernels = ['Linear Kernel', 'Polynomial Kernel (Degree 0)']\n",
    "accuracies = [linear_accuracy, poly_accuracy]\n",
    "\n",
    "plt.figure(figsize=(8, 5))\n",
    "plt.bar(kernels, accuracies, color=['blue', 'orange'])\n",
    "plt.ylim(0, 1)  # Limitar o eixo y de 0 a 1\n",
    "plt.ylabel('Accuracy')\n",
    "plt.title('Comparison of SVC Kernels')\n",
    "plt.grid(axis='y')\n",
    "\n",
    "# Mostrar o valor das acurácias acima das barras\n",
    "for i in range(len(accuracies)):\n",
    "    plt.text(i, accuracies[i] + 0.02, f'{accuracies[i]:.4f}', ha='center')\n",
    "\n",
    "plt.show()\n"
   ],
   "id": "2a9938f1210c5323",
   "outputs": [
    {
     "name": "stdout",
     "output_type": "stream",
     "text": [
      "Accuracy of the model with linear kernel: 0.9667\n",
      "Accuracy of the model with polynomial kernel (degree 2): 0.9000\n"
     ]
    },
    {
     "data": {
      "text/plain": [
       "<Figure size 800x500 with 1 Axes>"
      ],
      "image/png": "[encoded data removed]"
     },
     "metadata": {},
     "output_type": "display_data"
    }
   ],
   "execution_count": 168
  },
  {
   "metadata": {
    "ExecuteTime": {
     "end_time": "2024-09-24T18:50:44.663546Z",
     "start_time": "2024-09-24T18:50:44.584827Z"
    }
   },
   "cell_type": "code",
   "source": [
    "import numpy as np\n",
    "import matplotlib.pyplot as plt\n",
    "from sklearn import datasets\n",
    "from sklearn import svm\n",
    "from sklearn.model_selection import train_test_split\n",
    "\n",
    "# Carregar o conjunto de dados Iris\n",
    "iris = datasets.load_iris()\n",
    "\n",
    "# Dividir os dados Iris em conjuntos de treino e teste (60% treino, 40% teste)\n",
    "X_train, X_test, y_train, y_test = train_test_split(iris.data, iris.target, test_size=0.4, random_state=0)\n",
    "\n",
    "# Treinar o modelo SVC com kernel linear\n",
    "linear_clf = svm.SVC(kernel='linear', C=1).fit(X_train, y_train)\n",
    "linear_accuracy = linear_clf.score(X_test, y_test)\n",
    "\n",
    "# Treinar o modelo SVC com kernel polinomial de grau 2\n",
    "poly_clf = svm.SVC(kernel='poly', degree=3, C=1).fit(X_train, y_train)\n",
    "poly_accuracy = poly_clf.score(X_test, y_test)\n",
    "\n",
    "# Imprimir as acurácias de ambos os modelos\n",
    "print(f\"Accuracy of the model with linear kernel: {linear_accuracy:.4f}\")\n",
    "print(f\"Accuracy of the model with polynomial kernel (degree 2): {poly_accuracy:.4f}\")\n",
    "\n",
    "# Criar gráfico de comparação\n",
    "kernels = ['Linear Kernel', 'Polynomial Kernel (Degree 3)']\n",
    "accuracies = [linear_accuracy, poly_accuracy]\n",
    "\n",
    "plt.figure(figsize=(8, 5))\n",
    "plt.bar(kernels, accuracies, color=['blue', 'orange'])\n",
    "plt.ylim(0, 1)  # Limitar o eixo y de 0 a 1\n",
    "plt.ylabel('Accuracy')\n",
    "plt.title('Comparison of SVC Kernels')\n",
    "plt.grid(axis='y')\n",
    "\n",
    "# Mostrar o valor das acurácias acima das barras\n",
    "for i in range(len(accuracies)):\n",
    "    plt.text(i, accuracies[i] + 0.02, f'{accuracies[i]:.4f}', ha='center')\n",
    "\n",
    "plt.show()\n"
   ],
   "id": "1544400e92123a9",
   "outputs": [
    {
     "name": "stdout",
     "output_type": "stream",
     "text": [
      "Accuracy of the model with linear kernel: 0.9667\n",
      "Accuracy of the model with polynomial kernel (degree 2): 0.9000\n"
     ]
    },
    {
     "data": {
      "text/plain": [
       "<Figure size 800x500 with 1 Axes>"
      ],
      "image/png": "[encoded data removed]"
     },
     "metadata": {},
     "output_type": "display_data"
    }
   ],
   "execution_count": 169
  },
  {
   "metadata": {
    "ExecuteTime": {
     "end_time": "2024-09-24T18:50:44.666652Z",
     "start_time": "2024-09-24T18:50:44.664569Z"
    }
   },
   "cell_type": "code",
   "source": "",
   "id": "a1ee66aa57196e2d",
   "outputs": [],
   "execution_count": 169
  }
 ],
 "metadata": {
  "kernelspec": {
   "display_name": "Python 3",
   "language": "python",
   "name": "python3"
  },
  "language_info": {
   "codemirror_mode": {
    "name": "ipython",
    "version": 2
   },
   "file_extension": ".py",
   "mimetype": "text/x-python",
   "name": "python",
   "nbconvert_exporter": "python",
   "pygments_lexer": "ipython2",
   "version": "2.7.6"
  }
 },
 "nbformat": 4,
 "nbformat_minor": 5
}
