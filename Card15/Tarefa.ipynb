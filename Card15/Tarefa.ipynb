{
 "cells": [
  {
   "metadata": {},
   "cell_type": "markdown",
   "source": [
    "# Tarefa: Base de dados CIFAR-10\n",
    "O objetivo desta tarefa é construir um classificador para previsão dos seguintes objetos da base de dados CIFAR-10: aviões, automóveis, pássaros, gatos, veados, cachorros, sapos, cavalos, barcos e caminhões!"
   ],
   "id": "b6cd0701b6d90e9c"
  },
  {
   "metadata": {
    "ExecuteTime": {
     "end_time": "2024-11-23T00:03:00.411496Z",
     "start_time": "2024-11-23T00:03:00.406377Z"
    }
   },
   "cell_type": "code",
   "source": [
    "from tensorflow.keras.datasets import cifar10  # Para carregar a base de dados CIFAR-10\n",
    "from sklearn.model_selection import KFold  # Para criar os folds da validação cruzada\n",
    "from tensorflow.keras.utils import to_categorical  # Para converter os rótulos em formato one-hot\n",
    "from tensorflow.keras.models import Sequential  # Para criar o modelo sequencial\n",
    "from tensorflow.keras.layers import Conv2D, MaxPooling2D, Flatten, Dense, Dropout  # Camadas da CNN\n",
    "from sklearn.model_selection import train_test_split  # Para dividir os dados em treino/validação\n",
    "import numpy as np  # Biblioteca para manipulação de arrays\n",
    "import matplotlib.pyplot as plt  # Para visualização de imagens"
   ],
   "id": "42a7f77417bf9286",
   "outputs": [],
   "execution_count": 23
  },
  {
   "cell_type": "code",
   "id": "initial_id",
   "metadata": {
    "collapsed": true,
    "ExecuteTime": {
     "end_time": "2024-11-22T23:56:50.418004Z",
     "start_time": "2024-11-22T23:56:23.316655Z"
    }
   },
   "source": [
    "# O conjunto já está dividido em treino (50.000 imagens) e teste (10.000 imagens)\n",
    "(X_train, y_train), (X_test, y_test) = cifar10.load_data()"
   ],
   "outputs": [
    {
     "name": "stdout",
     "output_type": "stream",
     "text": [
      "Downloading data from https://www.cs.toronto.edu/~kriz/cifar-10-python.tar.gz\n",
      "\u001B[1m170498071/170498071\u001B[0m \u001B[32m━━━━━━━━━━━━━━━━━━━━\u001B[0m\u001B[37m\u001B[0m \u001B[1m24s\u001B[0m 0us/step\n"
     ]
    }
   ],
   "execution_count": 3
  },
  {
   "metadata": {
    "ExecuteTime": {
     "end_time": "2024-11-22T23:56:54.779014Z",
     "start_time": "2024-11-22T23:56:54.040729Z"
    }
   },
   "cell_type": "code",
   "source": [
    "# Os valores dos pixels variam de 0 a 255. Dividimos por 255 para que fiquem no intervalo [0, 1],\n",
    "# o que ajuda a melhorar a performance do treinamento.\n",
    "X_train = X_train.astype('float32') / 255.0\n",
    "X_test = X_test.astype('float32') / 255.0"
   ],
   "id": "b583c1e987a94cf7",
   "outputs": [],
   "execution_count": 4
  },
  {
   "metadata": {
    "ExecuteTime": {
     "end_time": "2024-11-22T23:56:58.718007Z",
     "start_time": "2024-11-22T23:56:58.709442Z"
    }
   },
   "cell_type": "code",
   "source": [
    "# Os rótulos são inteiros (0 a 9). Convertê-los para um formato \"one-hot\" facilita\n",
    "# o uso com a função de perda categorical_crossentropy.\n",
    "y_train = to_categorical(y_train, 10)  # 10 classes no CIFAR-10\n",
    "y_test = to_categorical(y_test, 10)"
   ],
   "id": "c8af8fab272f585d",
   "outputs": [],
   "execution_count": 5
  },
  {
   "metadata": {
    "ExecuteTime": {
     "end_time": "2024-11-22T23:57:28.910313Z",
     "start_time": "2024-11-22T23:57:28.724510Z"
    }
   },
   "cell_type": "code",
   "source": [
    "# Reservamos 20% dos dados de treino para validação, útil para verificar o desempenho durante o treinamento.\n",
    "X_train, X_val, y_train, y_val = train_test_split(X_train, y_train, test_size=0.2, random_state=42)"
   ],
   "id": "c81651b81d03f552",
   "outputs": [],
   "execution_count": 8
  },
  {
   "metadata": {
    "ExecuteTime": {
     "end_time": "2024-11-23T00:01:13.062970Z",
     "start_time": "2024-11-23T00:01:13.011181Z"
    }
   },
   "cell_type": "code",
   "source": [
    "model = Sequential([\n",
    "    # Primeira camada convolucional com 32 filtros, tamanho do kernel 3x3, e função de ativação ReLU\n",
    "    Conv2D(32, (3, 3), activation='relu', input_shape=(32, 32, 3)),\n",
    "    # Camada de pooling para reduzir a dimensão (2x2 pool)\n",
    "    MaxPooling2D((2, 2)),\n",
    "    \n",
    "    # Segunda camada convolucional com 64 filtros\n",
    "    Conv2D(64, (3, 3), activation='relu'),\n",
    "    # Outra camada de pooling\n",
    "    MaxPooling2D((2, 2)),\n",
    "\n",
    "    # Flatten para achatar a matriz 2D em um vetor 1D\n",
    "    Flatten(),\n",
    "\n",
    "    # Camada totalmente conectada (dense) com 128 neurônios e ReLU\n",
    "    Dense(128, activation='relu'),\n",
    "    # Dropout para evitar overfitting (desativa 50% dos neurônios durante o treinamento)\n",
    "    Dropout(0.5),\n",
    "\n",
    "    # Camada de saída com 10 neurônios (um para cada classe), ativação softmax para probabilidade\n",
    "    Dense(10, activation='softmax')\n",
    "])"
   ],
   "id": "e3452136653ffcdb",
   "outputs": [],
   "execution_count": 18
  },
  {
   "metadata": {
    "ExecuteTime": {
     "end_time": "2024-11-23T00:01:26.545560Z",
     "start_time": "2024-11-23T00:01:26.521887Z"
    }
   },
   "cell_type": "code",
   "source": "model.summary()",
   "id": "946e456217d54e9a",
   "outputs": [
    {
     "data": {
      "text/plain": [
       "\u001B[1mModel: \"sequential_2\"\u001B[0m\n"
      ],
      "text/html": [
       "<pre style=\"white-space:pre;overflow-x:auto;line-height:normal;font-family:Menlo,'DejaVu Sans Mono',consolas,'Courier New',monospace\"><span style=\"font-weight: bold\">Model: \"sequential_2\"</span>\n",
       "</pre>\n"
      ]
     },
     "metadata": {},
     "output_type": "display_data"
    },
    {
     "data": {
      "text/plain": [
       "┏━━━━━━━━━━━━━━━━━━━━━━━━━━━━━━━━━┳━━━━━━━━━━━━━━━━━━━━━━━━┳━━━━━━━━━━━━━━━┓\n",
       "┃\u001B[1m \u001B[0m\u001B[1mLayer (type)                   \u001B[0m\u001B[1m \u001B[0m┃\u001B[1m \u001B[0m\u001B[1mOutput Shape          \u001B[0m\u001B[1m \u001B[0m┃\u001B[1m \u001B[0m\u001B[1m      Param #\u001B[0m\u001B[1m \u001B[0m┃\n",
       "┡━━━━━━━━━━━━━━━━━━━━━━━━━━━━━━━━━╇━━━━━━━━━━━━━━━━━━━━━━━━╇━━━━━━━━━━━━━━━┩\n",
       "│ conv2d_4 (\u001B[38;5;33mConv2D\u001B[0m)               │ (\u001B[38;5;45mNone\u001B[0m, \u001B[38;5;34m30\u001B[0m, \u001B[38;5;34m30\u001B[0m, \u001B[38;5;34m32\u001B[0m)     │           \u001B[38;5;34m896\u001B[0m │\n",
       "├─────────────────────────────────┼────────────────────────┼───────────────┤\n",
       "│ max_pooling2d_4 (\u001B[38;5;33mMaxPooling2D\u001B[0m)  │ (\u001B[38;5;45mNone\u001B[0m, \u001B[38;5;34m15\u001B[0m, \u001B[38;5;34m15\u001B[0m, \u001B[38;5;34m32\u001B[0m)     │             \u001B[38;5;34m0\u001B[0m │\n",
       "├─────────────────────────────────┼────────────────────────┼───────────────┤\n",
       "│ conv2d_5 (\u001B[38;5;33mConv2D\u001B[0m)               │ (\u001B[38;5;45mNone\u001B[0m, \u001B[38;5;34m13\u001B[0m, \u001B[38;5;34m13\u001B[0m, \u001B[38;5;34m64\u001B[0m)     │        \u001B[38;5;34m18,496\u001B[0m │\n",
       "├─────────────────────────────────┼────────────────────────┼───────────────┤\n",
       "│ max_pooling2d_5 (\u001B[38;5;33mMaxPooling2D\u001B[0m)  │ (\u001B[38;5;45mNone\u001B[0m, \u001B[38;5;34m6\u001B[0m, \u001B[38;5;34m6\u001B[0m, \u001B[38;5;34m64\u001B[0m)       │             \u001B[38;5;34m0\u001B[0m │\n",
       "├─────────────────────────────────┼────────────────────────┼───────────────┤\n",
       "│ flatten_2 (\u001B[38;5;33mFlatten\u001B[0m)             │ (\u001B[38;5;45mNone\u001B[0m, \u001B[38;5;34m2304\u001B[0m)           │             \u001B[38;5;34m0\u001B[0m │\n",
       "├─────────────────────────────────┼────────────────────────┼───────────────┤\n",
       "│ dense_4 (\u001B[38;5;33mDense\u001B[0m)                 │ (\u001B[38;5;45mNone\u001B[0m, \u001B[38;5;34m128\u001B[0m)            │       \u001B[38;5;34m295,040\u001B[0m │\n",
       "├─────────────────────────────────┼────────────────────────┼───────────────┤\n",
       "│ dropout_2 (\u001B[38;5;33mDropout\u001B[0m)             │ (\u001B[38;5;45mNone\u001B[0m, \u001B[38;5;34m128\u001B[0m)            │             \u001B[38;5;34m0\u001B[0m │\n",
       "├─────────────────────────────────┼────────────────────────┼───────────────┤\n",
       "│ dense_5 (\u001B[38;5;33mDense\u001B[0m)                 │ (\u001B[38;5;45mNone\u001B[0m, \u001B[38;5;34m10\u001B[0m)             │         \u001B[38;5;34m1,290\u001B[0m │\n",
       "└─────────────────────────────────┴────────────────────────┴───────────────┘\n"
      ],
      "text/html": [
       "<pre style=\"white-space:pre;overflow-x:auto;line-height:normal;font-family:Menlo,'DejaVu Sans Mono',consolas,'Courier New',monospace\">┏━━━━━━━━━━━━━━━━━━━━━━━━━━━━━━━━━┳━━━━━━━━━━━━━━━━━━━━━━━━┳━━━━━━━━━━━━━━━┓\n",
       "┃<span style=\"font-weight: bold\"> Layer (type)                    </span>┃<span style=\"font-weight: bold\"> Output Shape           </span>┃<span style=\"font-weight: bold\">       Param # </span>┃\n",
       "┡━━━━━━━━━━━━━━━━━━━━━━━━━━━━━━━━━╇━━━━━━━━━━━━━━━━━━━━━━━━╇━━━━━━━━━━━━━━━┩\n",
       "│ conv2d_4 (<span style=\"color: #0087ff; text-decoration-color: #0087ff\">Conv2D</span>)               │ (<span style=\"color: #00d7ff; text-decoration-color: #00d7ff\">None</span>, <span style=\"color: #00af00; text-decoration-color: #00af00\">30</span>, <span style=\"color: #00af00; text-decoration-color: #00af00\">30</span>, <span style=\"color: #00af00; text-decoration-color: #00af00\">32</span>)     │           <span style=\"color: #00af00; text-decoration-color: #00af00\">896</span> │\n",
       "├─────────────────────────────────┼────────────────────────┼───────────────┤\n",
       "│ max_pooling2d_4 (<span style=\"color: #0087ff; text-decoration-color: #0087ff\">MaxPooling2D</span>)  │ (<span style=\"color: #00d7ff; text-decoration-color: #00d7ff\">None</span>, <span style=\"color: #00af00; text-decoration-color: #00af00\">15</span>, <span style=\"color: #00af00; text-decoration-color: #00af00\">15</span>, <span style=\"color: #00af00; text-decoration-color: #00af00\">32</span>)     │             <span style=\"color: #00af00; text-decoration-color: #00af00\">0</span> │\n",
       "├─────────────────────────────────┼────────────────────────┼───────────────┤\n",
       "│ conv2d_5 (<span style=\"color: #0087ff; text-decoration-color: #0087ff\">Conv2D</span>)               │ (<span style=\"color: #00d7ff; text-decoration-color: #00d7ff\">None</span>, <span style=\"color: #00af00; text-decoration-color: #00af00\">13</span>, <span style=\"color: #00af00; text-decoration-color: #00af00\">13</span>, <span style=\"color: #00af00; text-decoration-color: #00af00\">64</span>)     │        <span style=\"color: #00af00; text-decoration-color: #00af00\">18,496</span> │\n",
       "├─────────────────────────────────┼────────────────────────┼───────────────┤\n",
       "│ max_pooling2d_5 (<span style=\"color: #0087ff; text-decoration-color: #0087ff\">MaxPooling2D</span>)  │ (<span style=\"color: #00d7ff; text-decoration-color: #00d7ff\">None</span>, <span style=\"color: #00af00; text-decoration-color: #00af00\">6</span>, <span style=\"color: #00af00; text-decoration-color: #00af00\">6</span>, <span style=\"color: #00af00; text-decoration-color: #00af00\">64</span>)       │             <span style=\"color: #00af00; text-decoration-color: #00af00\">0</span> │\n",
       "├─────────────────────────────────┼────────────────────────┼───────────────┤\n",
       "│ flatten_2 (<span style=\"color: #0087ff; text-decoration-color: #0087ff\">Flatten</span>)             │ (<span style=\"color: #00d7ff; text-decoration-color: #00d7ff\">None</span>, <span style=\"color: #00af00; text-decoration-color: #00af00\">2304</span>)           │             <span style=\"color: #00af00; text-decoration-color: #00af00\">0</span> │\n",
       "├─────────────────────────────────┼────────────────────────┼───────────────┤\n",
       "│ dense_4 (<span style=\"color: #0087ff; text-decoration-color: #0087ff\">Dense</span>)                 │ (<span style=\"color: #00d7ff; text-decoration-color: #00d7ff\">None</span>, <span style=\"color: #00af00; text-decoration-color: #00af00\">128</span>)            │       <span style=\"color: #00af00; text-decoration-color: #00af00\">295,040</span> │\n",
       "├─────────────────────────────────┼────────────────────────┼───────────────┤\n",
       "│ dropout_2 (<span style=\"color: #0087ff; text-decoration-color: #0087ff\">Dropout</span>)             │ (<span style=\"color: #00d7ff; text-decoration-color: #00d7ff\">None</span>, <span style=\"color: #00af00; text-decoration-color: #00af00\">128</span>)            │             <span style=\"color: #00af00; text-decoration-color: #00af00\">0</span> │\n",
       "├─────────────────────────────────┼────────────────────────┼───────────────┤\n",
       "│ dense_5 (<span style=\"color: #0087ff; text-decoration-color: #0087ff\">Dense</span>)                 │ (<span style=\"color: #00d7ff; text-decoration-color: #00d7ff\">None</span>, <span style=\"color: #00af00; text-decoration-color: #00af00\">10</span>)             │         <span style=\"color: #00af00; text-decoration-color: #00af00\">1,290</span> │\n",
       "└─────────────────────────────────┴────────────────────────┴───────────────┘\n",
       "</pre>\n"
      ]
     },
     "metadata": {},
     "output_type": "display_data"
    },
    {
     "data": {
      "text/plain": [
       "\u001B[1m Total params: \u001B[0m\u001B[38;5;34m315,722\u001B[0m (1.20 MB)\n"
      ],
      "text/html": [
       "<pre style=\"white-space:pre;overflow-x:auto;line-height:normal;font-family:Menlo,'DejaVu Sans Mono',consolas,'Courier New',monospace\"><span style=\"font-weight: bold\"> Total params: </span><span style=\"color: #00af00; text-decoration-color: #00af00\">315,722</span> (1.20 MB)\n",
       "</pre>\n"
      ]
     },
     "metadata": {},
     "output_type": "display_data"
    },
    {
     "data": {
      "text/plain": [
       "\u001B[1m Trainable params: \u001B[0m\u001B[38;5;34m315,722\u001B[0m (1.20 MB)\n"
      ],
      "text/html": [
       "<pre style=\"white-space:pre;overflow-x:auto;line-height:normal;font-family:Menlo,'DejaVu Sans Mono',consolas,'Courier New',monospace\"><span style=\"font-weight: bold\"> Trainable params: </span><span style=\"color: #00af00; text-decoration-color: #00af00\">315,722</span> (1.20 MB)\n",
       "</pre>\n"
      ]
     },
     "metadata": {},
     "output_type": "display_data"
    },
    {
     "data": {
      "text/plain": [
       "\u001B[1m Non-trainable params: \u001B[0m\u001B[38;5;34m0\u001B[0m (0.00 B)\n"
      ],
      "text/html": [
       "<pre style=\"white-space:pre;overflow-x:auto;line-height:normal;font-family:Menlo,'DejaVu Sans Mono',consolas,'Courier New',monospace\"><span style=\"font-weight: bold\"> Non-trainable params: </span><span style=\"color: #00af00; text-decoration-color: #00af00\">0</span> (0.00 B)\n",
       "</pre>\n"
      ]
     },
     "metadata": {},
     "output_type": "display_data"
    }
   ],
   "execution_count": 20
  },
  {
   "metadata": {
    "ExecuteTime": {
     "end_time": "2024-11-22T23:57:37.751581Z",
     "start_time": "2024-11-22T23:57:37.734783Z"
    }
   },
   "cell_type": "code",
   "source": [
    "# Usamos o otimizador Adam, função de perda categorical_crossentropy (para múltiplas classes)\n",
    "# e acurácia como métrica de avaliação.\n",
    "model.compile(optimizer='adam', loss='categorical_crossentropy', metrics=['accuracy'])"
   ],
   "id": "9f672e19a175b00f",
   "outputs": [],
   "execution_count": 10
  },
  {
   "metadata": {
    "ExecuteTime": {
     "end_time": "2024-11-22T23:59:45.821859Z",
     "start_time": "2024-11-22T23:57:45.720506Z"
    }
   },
   "cell_type": "code",
   "source": [
    "# Treinamos por 20 épocas com um batch_size de 64, validando o desempenho em X_val e y_val.\n",
    "history = model.fit(X_train, y_train, validation_data=(X_val, y_val), epochs=20, batch_size=64)"
   ],
   "id": "f80aedb4e5867b78",
   "outputs": [
    {
     "name": "stdout",
     "output_type": "stream",
     "text": [
      "Epoch 1/20\n",
      "\u001B[1m500/500\u001B[0m \u001B[32m━━━━━━━━━━━━━━━━━━━━\u001B[0m\u001B[37m\u001B[0m \u001B[1m9s\u001B[0m 13ms/step - accuracy: 0.2645 - loss: 1.9817 - val_accuracy: 0.4560 - val_loss: 1.5325\n",
      "Epoch 2/20\n",
      "\u001B[1m500/500\u001B[0m \u001B[32m━━━━━━━━━━━━━━━━━━━━\u001B[0m\u001B[37m\u001B[0m \u001B[1m6s\u001B[0m 12ms/step - accuracy: 0.4579 - loss: 1.5136 - val_accuracy: 0.5414 - val_loss: 1.3022\n",
      "Epoch 3/20\n",
      "\u001B[1m500/500\u001B[0m \u001B[32m━━━━━━━━━━━━━━━━━━━━\u001B[0m\u001B[37m\u001B[0m \u001B[1m10s\u001B[0m 12ms/step - accuracy: 0.5097 - loss: 1.3682 - val_accuracy: 0.5579 - val_loss: 1.2442\n",
      "Epoch 4/20\n",
      "\u001B[1m500/500\u001B[0m \u001B[32m━━━━━━━━━━━━━━━━━━━━\u001B[0m\u001B[37m\u001B[0m \u001B[1m6s\u001B[0m 11ms/step - accuracy: 0.5449 - loss: 1.2725 - val_accuracy: 0.6018 - val_loss: 1.1287\n",
      "Epoch 5/20\n",
      "\u001B[1m500/500\u001B[0m \u001B[32m━━━━━━━━━━━━━━━━━━━━\u001B[0m\u001B[37m\u001B[0m \u001B[1m6s\u001B[0m 12ms/step - accuracy: 0.5741 - loss: 1.1866 - val_accuracy: 0.6204 - val_loss: 1.0953\n",
      "Epoch 6/20\n",
      "\u001B[1m500/500\u001B[0m \u001B[32m━━━━━━━━━━━━━━━━━━━━\u001B[0m\u001B[37m\u001B[0m \u001B[1m6s\u001B[0m 12ms/step - accuracy: 0.6017 - loss: 1.1276 - val_accuracy: 0.6409 - val_loss: 1.0339\n",
      "Epoch 7/20\n",
      "\u001B[1m500/500\u001B[0m \u001B[32m━━━━━━━━━━━━━━━━━━━━\u001B[0m\u001B[37m\u001B[0m \u001B[1m6s\u001B[0m 11ms/step - accuracy: 0.6204 - loss: 1.0702 - val_accuracy: 0.6490 - val_loss: 1.0074\n",
      "Epoch 8/20\n",
      "\u001B[1m500/500\u001B[0m \u001B[32m━━━━━━━━━━━━━━━━━━━━\u001B[0m\u001B[37m\u001B[0m \u001B[1m5s\u001B[0m 11ms/step - accuracy: 0.6351 - loss: 1.0336 - val_accuracy: 0.6562 - val_loss: 0.9770\n",
      "Epoch 9/20\n",
      "\u001B[1m500/500\u001B[0m \u001B[32m━━━━━━━━━━━━━━━━━━━━\u001B[0m\u001B[37m\u001B[0m \u001B[1m6s\u001B[0m 11ms/step - accuracy: 0.6497 - loss: 0.9899 - val_accuracy: 0.6593 - val_loss: 0.9653\n",
      "Epoch 10/20\n",
      "\u001B[1m500/500\u001B[0m \u001B[32m━━━━━━━━━━━━━━━━━━━━\u001B[0m\u001B[37m\u001B[0m \u001B[1m5s\u001B[0m 11ms/step - accuracy: 0.6582 - loss: 0.9650 - val_accuracy: 0.6478 - val_loss: 0.9925\n",
      "Epoch 11/20\n",
      "\u001B[1m500/500\u001B[0m \u001B[32m━━━━━━━━━━━━━━━━━━━━\u001B[0m\u001B[37m\u001B[0m \u001B[1m6s\u001B[0m 11ms/step - accuracy: 0.6632 - loss: 0.9488 - val_accuracy: 0.6668 - val_loss: 0.9651\n",
      "Epoch 12/20\n",
      "\u001B[1m500/500\u001B[0m \u001B[32m━━━━━━━━━━━━━━━━━━━━\u001B[0m\u001B[37m\u001B[0m \u001B[1m6s\u001B[0m 12ms/step - accuracy: 0.6816 - loss: 0.9045 - val_accuracy: 0.6720 - val_loss: 0.9493\n",
      "Epoch 13/20\n",
      "\u001B[1m500/500\u001B[0m \u001B[32m━━━━━━━━━━━━━━━━━━━━\u001B[0m\u001B[37m\u001B[0m \u001B[1m6s\u001B[0m 11ms/step - accuracy: 0.6818 - loss: 0.8814 - val_accuracy: 0.6865 - val_loss: 0.9279\n",
      "Epoch 14/20\n",
      "\u001B[1m500/500\u001B[0m \u001B[32m━━━━━━━━━━━━━━━━━━━━\u001B[0m\u001B[37m\u001B[0m \u001B[1m6s\u001B[0m 12ms/step - accuracy: 0.6902 - loss: 0.8531 - val_accuracy: 0.6731 - val_loss: 0.9516\n",
      "Epoch 15/20\n",
      "\u001B[1m500/500\u001B[0m \u001B[32m━━━━━━━━━━━━━━━━━━━━\u001B[0m\u001B[37m\u001B[0m \u001B[1m5s\u001B[0m 10ms/step - accuracy: 0.7003 - loss: 0.8296 - val_accuracy: 0.6800 - val_loss: 0.9451\n",
      "Epoch 16/20\n",
      "\u001B[1m500/500\u001B[0m \u001B[32m━━━━━━━━━━━━━━━━━━━━\u001B[0m\u001B[37m\u001B[0m \u001B[1m5s\u001B[0m 11ms/step - accuracy: 0.7138 - loss: 0.8089 - val_accuracy: 0.6801 - val_loss: 0.9468\n",
      "Epoch 17/20\n",
      "\u001B[1m500/500\u001B[0m \u001B[32m━━━━━━━━━━━━━━━━━━━━\u001B[0m\u001B[37m\u001B[0m \u001B[1m6s\u001B[0m 11ms/step - accuracy: 0.7191 - loss: 0.7850 - val_accuracy: 0.6889 - val_loss: 0.9255\n",
      "Epoch 18/20\n",
      "\u001B[1m500/500\u001B[0m \u001B[32m━━━━━━━━━━━━━━━━━━━━\u001B[0m\u001B[37m\u001B[0m \u001B[1m6s\u001B[0m 11ms/step - accuracy: 0.7292 - loss: 0.7653 - val_accuracy: 0.6888 - val_loss: 0.9273\n",
      "Epoch 19/20\n",
      "\u001B[1m500/500\u001B[0m \u001B[32m━━━━━━━━━━━━━━━━━━━━\u001B[0m\u001B[37m\u001B[0m \u001B[1m5s\u001B[0m 11ms/step - accuracy: 0.7308 - loss: 0.7467 - val_accuracy: 0.6756 - val_loss: 0.9919\n",
      "Epoch 20/20\n",
      "\u001B[1m500/500\u001B[0m \u001B[32m━━━━━━━━━━━━━━━━━━━━\u001B[0m\u001B[37m\u001B[0m \u001B[1m6s\u001B[0m 11ms/step - accuracy: 0.7351 - loss: 0.7275 - val_accuracy: 0.6892 - val_loss: 0.9270\n"
     ]
    }
   ],
   "execution_count": 11
  },
  {
   "metadata": {
    "ExecuteTime": {
     "end_time": "2024-11-23T00:00:01.260342Z",
     "start_time": "2024-11-22T23:59:59.914751Z"
    }
   },
   "cell_type": "code",
   "source": [
    "# Calculamos a perda e a acurácia no conjunto de teste, que não foi usado no treinamento.\n",
    "test_loss, test_acc = model.evaluate(X_test, y_test)\n",
    "print(f\"Acurácia no conjunto de teste: {test_acc * 100:.2f}%\")"
   ],
   "id": "650a91af4f87af4b",
   "outputs": [
    {
     "name": "stdout",
     "output_type": "stream",
     "text": [
      "\u001B[1m313/313\u001B[0m \u001B[32m━━━━━━━━━━━━━━━━━━━━\u001B[0m\u001B[37m\u001B[0m \u001B[1m1s\u001B[0m 4ms/step - accuracy: 0.6897 - loss: 0.9290\n",
      "Acurácia no conjunto de teste: 68.61%\n"
     ]
    }
   ],
   "execution_count": 15
  },
  {
   "metadata": {
    "ExecuteTime": {
     "end_time": "2024-11-23T00:00:03.443190Z",
     "start_time": "2024-11-23T00:00:02.063246Z"
    }
   },
   "cell_type": "code",
   "source": [
    "# Fazemos predições para o conjunto de teste\n",
    "predictions = model.predict(X_test)\n",
    "pred_labels = np.argmax(predictions, axis=1)  # Rótulos preditos\n",
    "true_labels = np.argmax(y_test, axis=1)  # Rótulos verdadeiros"
   ],
   "id": "90a1b584f36d6296",
   "outputs": [
    {
     "name": "stdout",
     "output_type": "stream",
     "text": [
      "\u001B[1m313/313\u001B[0m \u001B[32m━━━━━━━━━━━━━━━━━━━━\u001B[0m\u001B[37m\u001B[0m \u001B[1m1s\u001B[0m 3ms/step\n"
     ]
    }
   ],
   "execution_count": 16
  },
  {
   "metadata": {
    "ExecuteTime": {
     "end_time": "2024-11-23T00:00:09.405352Z",
     "start_time": "2024-11-23T00:00:08.566303Z"
    }
   },
   "cell_type": "code",
   "source": [
    "# Visualizamos algumas imagens, mostrando o rótulo verdadeiro e o predito\n",
    "for i in range(5):  # Mostraremos 5 imagens\n",
    "    plt.imshow(X_test[i])  # Exibe a imagem\n",
    "    plt.title(f\"Verdadeiro: {true_labels[i]}, Predito: {pred_labels[i]}\")  # Título com os rótulos\n",
    "    plt.show()"
   ],
   "id": "bfc13b4edc1e6e05",
   "outputs": [
    {
     "data": {
      "text/plain": [
       "<Figure size 640x480 with 1 Axes>"
      ],
      "image/png": "[encoded data removed]"
     },
     "metadata": {},
     "output_type": "display_data"
    },
    {
     "data": {
      "text/plain": [
       "<Figure size 640x480 with 1 Axes>"
      ],
      "image/png": "[encoded data removed]"
     },
     "metadata": {},
     "output_type": "display_data"
    },
    {
     "data": {
      "text/plain": [
       "<Figure size 640x480 with 1 Axes>"
      ],
      "image/png": "[encoded data removed]"
     },
     "metadata": {},
     "output_type": "display_data"
    },
    {
     "data": {
      "text/plain": [
       "<Figure size 640x480 with 1 Axes>"
      ],
      "image/png": "[encoded data removed]"
     },
     "metadata": {},
     "output_type": "display_data"
    },
    {
     "data": {
      "text/plain": [
       "<Figure size 640x480 with 1 Axes>"
      ],
      "image/png": "[encoded data removed]"
     },
     "metadata": {},
     "output_type": "display_data"
    }
   ],
   "execution_count": 17
  },
  {
   "metadata": {
    "ExecuteTime": {
     "end_time": "2024-11-23T00:10:35.106694Z",
     "start_time": "2024-11-23T00:10:35.099941Z"
    }
   },
   "cell_type": "code",
   "source": [
    "from tensorflow.keras.layers import Input  # Para definir a entrada do modelo\n",
    "# Essa função será chamada para criar um novo modelo para cada fold\n",
    "def create_model():\n",
    "    model = Sequential([\n",
    "        # Define explicitamente a entrada do modelo com shape (32, 32, 3)\n",
    "        Input(shape=(32, 32, 3)),\n",
    "        # Primeira camada convolucional: 32 filtros, tamanho do kernel 3x3, ReLU como ativação\n",
    "        Conv2D(32, (3, 3), activation='relu'),\n",
    "\n",
    "        # Camada de pooling: reduz a dimensão espacial pela metade (2x2)\n",
    "        MaxPooling2D((2, 2)),\n",
    "\n",
    "        # Segunda camada convolucional: 64 filtros, mesmo tamanho do kernel\n",
    "        Conv2D(64, (3, 3), activation='relu'),\n",
    "        # Outra camada de pooling para mais redução espacial\n",
    "        MaxPooling2D((2, 2)),\n",
    "\n",
    "        # Camada Flatten: transforma a matriz 2D em um vetor 1D\n",
    "        Flatten(),\n",
    "\n",
    "        # Camada totalmente conectada (dense) com 128 neurônios e ativação ReLU\n",
    "        Dense(128, activation='relu'),\n",
    "        # Dropout: desativa aleatoriamente 50% dos neurônios para evitar overfitting\n",
    "        Dropout(0.5),\n",
    "\n",
    "        # Camada de saída com 10 neurônios (um para cada classe)\n",
    "        # A ativação softmax converte os valores em probabilidades\n",
    "         Dense(10, activation='softmax')  # 10 classes de saída\n",
    "    ])\n",
    "      # Compilando o modelo\n",
    "    model.compile(optimizer='adam', loss='categorical_crossentropy', metrics=['accuracy'])\n",
    "    return model"
   ],
   "id": "13cf360ce5db8785",
   "outputs": [],
   "execution_count": 32
  },
  {
   "metadata": {
    "ExecuteTime": {
     "end_time": "2024-11-23T00:10:35.738182Z",
     "start_time": "2024-11-23T00:10:35.733628Z"
    }
   },
   "cell_type": "code",
   "source": [
    "# Usamos 5 divisões (folds), embaralhando os dados antes de dividir\n",
    "kfold = KFold(n_splits=5, shuffle=True, random_state=42)"
   ],
   "id": "3127f9ee16fadba8",
   "outputs": [],
   "execution_count": 33
  },
  {
   "metadata": {
    "ExecuteTime": {
     "end_time": "2024-11-23T00:10:36.082784Z",
     "start_time": "2024-11-23T00:10:36.077894Z"
    }
   },
   "cell_type": "code",
   "source": [
    "# Variáveis para armazenar informações de validação\n",
    "fold_no = 1  # Contador para o número do fold\n",
    "fold_accuracies = []  # Lista para armazenar as acurácias de cada fold"
   ],
   "id": "82034e5b13c98094",
   "outputs": [],
   "execution_count": 34
  },
  {
   "metadata": {
    "ExecuteTime": {
     "end_time": "2024-11-23T00:10:36.361431Z",
     "start_time": "2024-11-23T00:10:36.354692Z"
    }
   },
   "cell_type": "code",
   "source": [
    "# Convertendo os rótulos para índices (se necessário) para compatibilidade com KFold\n",
    "# Isso porque KFold trabalha com arrays simples, e não com o formato one-hot\n",
    "y_train_indices = np.argmax(y_train, axis=1)\n"
   ],
   "id": "16fcf46703bb52a7",
   "outputs": [],
   "execution_count": 35
  },
  {
   "metadata": {
    "ExecuteTime": {
     "end_time": "2024-11-23T00:14:44.800179Z",
     "start_time": "2024-11-23T00:10:37.048111Z"
    }
   },
   "cell_type": "code",
   "source": [
    "for train_idx, val_idx in kfold.split(X_train, y_train_indices):  # Itera sobre os folds\n",
    "    print(f\"\\nTreinando no Fold {fold_no}...\")\n",
    "\n",
    "    # Separando os dados de treino e validação para o fold atual\n",
    "    X_train_fold, X_val_fold = X_train[train_idx], X_train[val_idx]\n",
    "    y_train_fold, y_val_fold = y_train[train_idx], y_train[val_idx]\n",
    "\n",
    "    # Criando um novo modelo para o fold atual\n",
    "    model = create_model()\n",
    "\n",
    "    # Treinando o modelo com os dados do fold atual\n",
    "    history = model.fit(\n",
    "        X_train_fold, y_train_fold,  # Dados de treinamento\n",
    "        validation_data=(X_val_fold, y_val_fold),  # Dados de validação\n",
    "        epochs=10,  # Reduzido para simplificar o exemplo\n",
    "        batch_size=64,  # Número de amostras por batch\n",
    "        verbose=1  # Mostra o progresso do treinamento\n",
    "    )"
   ],
   "id": "beb638264f43a04f",
   "outputs": [
    {
     "name": "stdout",
     "output_type": "stream",
     "text": [
      "\n",
      "Treinando no Fold 1...\n",
      "Epoch 1/10\n",
      "\u001B[1m400/400\u001B[0m \u001B[32m━━━━━━━━━━━━━━━━━━━━\u001B[0m\u001B[37m\u001B[0m \u001B[1m6s\u001B[0m 11ms/step - accuracy: 0.2464 - loss: 2.0410 - val_accuracy: 0.4583 - val_loss: 1.5344\n",
      "Epoch 2/10\n",
      "\u001B[1m400/400\u001B[0m \u001B[32m━━━━━━━━━━━━━━━━━━━━\u001B[0m\u001B[37m\u001B[0m \u001B[1m4s\u001B[0m 10ms/step - accuracy: 0.4263 - loss: 1.5660 - val_accuracy: 0.5102 - val_loss: 1.3509\n",
      "Epoch 3/10\n",
      "\u001B[1m400/400\u001B[0m \u001B[32m━━━━━━━━━━━━━━━━━━━━\u001B[0m\u001B[37m\u001B[0m \u001B[1m4s\u001B[0m 10ms/step - accuracy: 0.4943 - loss: 1.4082 - val_accuracy: 0.5522 - val_loss: 1.2490\n",
      "Epoch 4/10\n",
      "\u001B[1m400/400\u001B[0m \u001B[32m━━━━━━━━━━━━━━━━━━━━\u001B[0m\u001B[37m\u001B[0m \u001B[1m5s\u001B[0m 12ms/step - accuracy: 0.5163 - loss: 1.3382 - val_accuracy: 0.5848 - val_loss: 1.1758\n",
      "Epoch 5/10\n",
      "\u001B[1m400/400\u001B[0m \u001B[32m━━━━━━━━━━━━━━━━━━━━\u001B[0m\u001B[37m\u001B[0m \u001B[1m5s\u001B[0m 11ms/step - accuracy: 0.5559 - loss: 1.2385 - val_accuracy: 0.6056 - val_loss: 1.1282\n",
      "Epoch 6/10\n",
      "\u001B[1m400/400\u001B[0m \u001B[32m━━━━━━━━━━━━━━━━━━━━\u001B[0m\u001B[37m\u001B[0m \u001B[1m5s\u001B[0m 12ms/step - accuracy: 0.5824 - loss: 1.1760 - val_accuracy: 0.6250 - val_loss: 1.0722\n",
      "Epoch 7/10\n",
      "\u001B[1m400/400\u001B[0m \u001B[32m━━━━━━━━━━━━━━━━━━━━\u001B[0m\u001B[37m\u001B[0m \u001B[1m4s\u001B[0m 11ms/step - accuracy: 0.5990 - loss: 1.1340 - val_accuracy: 0.6250 - val_loss: 1.0682\n",
      "Epoch 8/10\n",
      "\u001B[1m400/400\u001B[0m \u001B[32m━━━━━━━━━━━━━━━━━━━━\u001B[0m\u001B[37m\u001B[0m \u001B[1m4s\u001B[0m 11ms/step - accuracy: 0.6143 - loss: 1.0698 - val_accuracy: 0.6322 - val_loss: 1.0455\n",
      "Epoch 9/10\n",
      "\u001B[1m400/400\u001B[0m \u001B[32m━━━━━━━━━━━━━━━━━━━━\u001B[0m\u001B[37m\u001B[0m \u001B[1m4s\u001B[0m 11ms/step - accuracy: 0.6339 - loss: 1.0375 - val_accuracy: 0.6336 - val_loss: 1.0284\n",
      "Epoch 10/10\n",
      "\u001B[1m400/400\u001B[0m \u001B[32m━━━━━━━━━━━━━━━━━━━━\u001B[0m\u001B[37m\u001B[0m \u001B[1m4s\u001B[0m 11ms/step - accuracy: 0.6451 - loss: 1.0017 - val_accuracy: 0.6552 - val_loss: 0.9968\n",
      "\n",
      "Treinando no Fold 1...\n",
      "Epoch 1/10\n",
      "\u001B[1m400/400\u001B[0m \u001B[32m━━━━━━━━━━━━━━━━━━━━\u001B[0m\u001B[37m\u001B[0m \u001B[1m6s\u001B[0m 11ms/step - accuracy: 0.2714 - loss: 1.9650 - val_accuracy: 0.4684 - val_loss: 1.4748\n",
      "Epoch 2/10\n",
      "\u001B[1m400/400\u001B[0m \u001B[32m━━━━━━━━━━━━━━━━━━━━\u001B[0m\u001B[37m\u001B[0m \u001B[1m4s\u001B[0m 11ms/step - accuracy: 0.4475 - loss: 1.5169 - val_accuracy: 0.5100 - val_loss: 1.3625\n",
      "Epoch 3/10\n",
      "\u001B[1m400/400\u001B[0m \u001B[32m━━━━━━━━━━━━━━━━━━━━\u001B[0m\u001B[37m\u001B[0m \u001B[1m4s\u001B[0m 11ms/step - accuracy: 0.5093 - loss: 1.3732 - val_accuracy: 0.5553 - val_loss: 1.2489\n",
      "Epoch 4/10\n",
      "\u001B[1m400/400\u001B[0m \u001B[32m━━━━━━━━━━━━━━━━━━━━\u001B[0m\u001B[37m\u001B[0m \u001B[1m4s\u001B[0m 11ms/step - accuracy: 0.5548 - loss: 1.2553 - val_accuracy: 0.5828 - val_loss: 1.1726\n",
      "Epoch 5/10\n",
      "\u001B[1m400/400\u001B[0m \u001B[32m━━━━━━━━━━━━━━━━━━━━\u001B[0m\u001B[37m\u001B[0m \u001B[1m5s\u001B[0m 13ms/step - accuracy: 0.5861 - loss: 1.1752 - val_accuracy: 0.6142 - val_loss: 1.0830\n",
      "Epoch 6/10\n",
      "\u001B[1m400/400\u001B[0m \u001B[32m━━━━━━━━━━━━━━━━━━━━\u001B[0m\u001B[37m\u001B[0m \u001B[1m5s\u001B[0m 12ms/step - accuracy: 0.6099 - loss: 1.1106 - val_accuracy: 0.6270 - val_loss: 1.0533\n",
      "Epoch 7/10\n",
      "\u001B[1m400/400\u001B[0m \u001B[32m━━━━━━━━━━━━━━━━━━━━\u001B[0m\u001B[37m\u001B[0m \u001B[1m5s\u001B[0m 12ms/step - accuracy: 0.6238 - loss: 1.0647 - val_accuracy: 0.6331 - val_loss: 1.0320\n",
      "Epoch 8/10\n",
      "\u001B[1m400/400\u001B[0m \u001B[32m━━━━━━━━━━━━━━━━━━━━\u001B[0m\u001B[37m\u001B[0m \u001B[1m5s\u001B[0m 12ms/step - accuracy: 0.6403 - loss: 1.0146 - val_accuracy: 0.6364 - val_loss: 1.0230\n",
      "Epoch 9/10\n",
      "\u001B[1m400/400\u001B[0m \u001B[32m━━━━━━━━━━━━━━━━━━━━\u001B[0m\u001B[37m\u001B[0m \u001B[1m6s\u001B[0m 14ms/step - accuracy: 0.6516 - loss: 0.9884 - val_accuracy: 0.6452 - val_loss: 1.0130\n",
      "Epoch 10/10\n",
      "\u001B[1m400/400\u001B[0m \u001B[32m━━━━━━━━━━━━━━━━━━━━\u001B[0m\u001B[37m\u001B[0m \u001B[1m6s\u001B[0m 14ms/step - accuracy: 0.6676 - loss: 0.9373 - val_accuracy: 0.6592 - val_loss: 0.9882\n",
      "\n",
      "Treinando no Fold 1...\n",
      "Epoch 1/10\n",
      "\u001B[1m400/400\u001B[0m \u001B[32m━━━━━━━━━━━━━━━━━━━━\u001B[0m\u001B[37m\u001B[0m \u001B[1m8s\u001B[0m 14ms/step - accuracy: 0.2501 - loss: 2.0102 - val_accuracy: 0.4795 - val_loss: 1.4846\n",
      "Epoch 2/10\n",
      "\u001B[1m400/400\u001B[0m \u001B[32m━━━━━━━━━━━━━━━━━━━━\u001B[0m\u001B[37m\u001B[0m \u001B[1m5s\u001B[0m 13ms/step - accuracy: 0.4584 - loss: 1.5105 - val_accuracy: 0.5011 - val_loss: 1.3700\n",
      "Epoch 3/10\n",
      "\u001B[1m400/400\u001B[0m \u001B[32m━━━━━━━━━━━━━━━━━━━━\u001B[0m\u001B[37m\u001B[0m \u001B[1m5s\u001B[0m 13ms/step - accuracy: 0.5103 - loss: 1.3775 - val_accuracy: 0.5686 - val_loss: 1.2366\n",
      "Epoch 4/10\n",
      "\u001B[1m400/400\u001B[0m \u001B[32m━━━━━━━━━━━━━━━━━━━━\u001B[0m\u001B[37m\u001B[0m \u001B[1m5s\u001B[0m 12ms/step - accuracy: 0.5434 - loss: 1.2773 - val_accuracy: 0.5908 - val_loss: 1.1681\n",
      "Epoch 5/10\n",
      "\u001B[1m400/400\u001B[0m \u001B[32m━━━━━━━━━━━━━━━━━━━━\u001B[0m\u001B[37m\u001B[0m \u001B[1m5s\u001B[0m 12ms/step - accuracy: 0.5737 - loss: 1.1879 - val_accuracy: 0.6162 - val_loss: 1.0995\n",
      "Epoch 6/10\n",
      "\u001B[1m400/400\u001B[0m \u001B[32m━━━━━━━━━━━━━━━━━━━━\u001B[0m\u001B[37m\u001B[0m \u001B[1m5s\u001B[0m 12ms/step - accuracy: 0.5980 - loss: 1.1420 - val_accuracy: 0.6280 - val_loss: 1.0732\n",
      "Epoch 7/10\n",
      "\u001B[1m400/400\u001B[0m \u001B[32m━━━━━━━━━━━━━━━━━━━━\u001B[0m\u001B[37m\u001B[0m \u001B[1m5s\u001B[0m 12ms/step - accuracy: 0.6142 - loss: 1.0889 - val_accuracy: 0.6194 - val_loss: 1.0903\n",
      "Epoch 8/10\n",
      "\u001B[1m400/400\u001B[0m \u001B[32m━━━━━━━━━━━━━━━━━━━━\u001B[0m\u001B[37m\u001B[0m \u001B[1m5s\u001B[0m 12ms/step - accuracy: 0.6370 - loss: 1.0357 - val_accuracy: 0.6322 - val_loss: 1.0440\n",
      "Epoch 9/10\n",
      "\u001B[1m400/400\u001B[0m \u001B[32m━━━━━━━━━━━━━━━━━━━━\u001B[0m\u001B[37m\u001B[0m \u001B[1m5s\u001B[0m 11ms/step - accuracy: 0.6488 - loss: 0.9881 - val_accuracy: 0.6489 - val_loss: 1.0102\n",
      "Epoch 10/10\n",
      "\u001B[1m400/400\u001B[0m \u001B[32m━━━━━━━━━━━━━━━━━━━━\u001B[0m\u001B[37m\u001B[0m \u001B[1m5s\u001B[0m 11ms/step - accuracy: 0.6624 - loss: 0.9535 - val_accuracy: 0.6594 - val_loss: 0.9897\n",
      "\n",
      "Treinando no Fold 1...\n",
      "Epoch 1/10\n",
      "\u001B[1m400/400\u001B[0m \u001B[32m━━━━━━━━━━━━━━━━━━━━\u001B[0m\u001B[37m\u001B[0m \u001B[1m6s\u001B[0m 12ms/step - accuracy: 0.2600 - loss: 1.9968 - val_accuracy: 0.4622 - val_loss: 1.4809\n",
      "Epoch 2/10\n",
      "\u001B[1m400/400\u001B[0m \u001B[32m━━━━━━━━━━━━━━━━━━━━\u001B[0m\u001B[37m\u001B[0m \u001B[1m5s\u001B[0m 11ms/step - accuracy: 0.4336 - loss: 1.5566 - val_accuracy: 0.5308 - val_loss: 1.3349\n",
      "Epoch 3/10\n",
      "\u001B[1m400/400\u001B[0m \u001B[32m━━━━━━━━━━━━━━━━━━━━\u001B[0m\u001B[37m\u001B[0m \u001B[1m5s\u001B[0m 12ms/step - accuracy: 0.4830 - loss: 1.4225 - val_accuracy: 0.5495 - val_loss: 1.2367\n",
      "Epoch 4/10\n",
      "\u001B[1m400/400\u001B[0m \u001B[32m━━━━━━━━━━━━━━━━━━━━\u001B[0m\u001B[37m\u001B[0m \u001B[1m5s\u001B[0m 11ms/step - accuracy: 0.5251 - loss: 1.3215 - val_accuracy: 0.5811 - val_loss: 1.1888\n",
      "Epoch 5/10\n",
      "\u001B[1m400/400\u001B[0m \u001B[32m━━━━━━━━━━━━━━━━━━━━\u001B[0m\u001B[37m\u001B[0m \u001B[1m4s\u001B[0m 11ms/step - accuracy: 0.5569 - loss: 1.2433 - val_accuracy: 0.6111 - val_loss: 1.1163\n",
      "Epoch 6/10\n",
      "\u001B[1m400/400\u001B[0m \u001B[32m━━━━━━━━━━━━━━━━━━━━\u001B[0m\u001B[37m\u001B[0m \u001B[1m4s\u001B[0m 11ms/step - accuracy: 0.5950 - loss: 1.1589 - val_accuracy: 0.6291 - val_loss: 1.0717\n",
      "Epoch 7/10\n",
      "\u001B[1m400/400\u001B[0m \u001B[32m━━━━━━━━━━━━━━━━━━━━\u001B[0m\u001B[37m\u001B[0m \u001B[1m5s\u001B[0m 11ms/step - accuracy: 0.6041 - loss: 1.1283 - val_accuracy: 0.6180 - val_loss: 1.0815\n",
      "Epoch 8/10\n",
      "\u001B[1m400/400\u001B[0m \u001B[32m━━━━━━━━━━━━━━━━━━━━\u001B[0m\u001B[37m\u001B[0m \u001B[1m4s\u001B[0m 11ms/step - accuracy: 0.6144 - loss: 1.0880 - val_accuracy: 0.6277 - val_loss: 1.0604\n",
      "Epoch 9/10\n",
      "\u001B[1m400/400\u001B[0m \u001B[32m━━━━━━━━━━━━━━━━━━━━\u001B[0m\u001B[37m\u001B[0m \u001B[1m4s\u001B[0m 11ms/step - accuracy: 0.6295 - loss: 1.0507 - val_accuracy: 0.6444 - val_loss: 1.0210\n",
      "Epoch 10/10\n",
      "\u001B[1m400/400\u001B[0m \u001B[32m━━━━━━━━━━━━━━━━━━━━\u001B[0m\u001B[37m\u001B[0m \u001B[1m5s\u001B[0m 11ms/step - accuracy: 0.6403 - loss: 1.0091 - val_accuracy: 0.6581 - val_loss: 0.9909\n",
      "\n",
      "Treinando no Fold 1...\n",
      "Epoch 1/10\n",
      "\u001B[1m400/400\u001B[0m \u001B[32m━━━━━━━━━━━━━━━━━━━━\u001B[0m\u001B[37m\u001B[0m \u001B[1m6s\u001B[0m 12ms/step - accuracy: 0.2635 - loss: 1.9910 - val_accuracy: 0.4909 - val_loss: 1.4551\n",
      "Epoch 2/10\n",
      "\u001B[1m400/400\u001B[0m \u001B[32m━━━━━━━━━━━━━━━━━━━━\u001B[0m\u001B[37m\u001B[0m \u001B[1m5s\u001B[0m 12ms/step - accuracy: 0.4543 - loss: 1.5087 - val_accuracy: 0.5455 - val_loss: 1.3222\n",
      "Epoch 3/10\n",
      "\u001B[1m400/400\u001B[0m \u001B[32m━━━━━━━━━━━━━━━━━━━━\u001B[0m\u001B[37m\u001B[0m \u001B[1m5s\u001B[0m 12ms/step - accuracy: 0.5105 - loss: 1.3727 - val_accuracy: 0.5813 - val_loss: 1.1986\n",
      "Epoch 4/10\n",
      "\u001B[1m400/400\u001B[0m \u001B[32m━━━━━━━━━━━━━━━━━━━━\u001B[0m\u001B[37m\u001B[0m \u001B[1m5s\u001B[0m 12ms/step - accuracy: 0.5460 - loss: 1.2812 - val_accuracy: 0.6025 - val_loss: 1.1412\n",
      "Epoch 5/10\n",
      "\u001B[1m400/400\u001B[0m \u001B[32m━━━━━━━━━━━━━━━━━━━━\u001B[0m\u001B[37m\u001B[0m \u001B[1m5s\u001B[0m 12ms/step - accuracy: 0.5665 - loss: 1.1985 - val_accuracy: 0.6106 - val_loss: 1.1034\n",
      "Epoch 6/10\n",
      "\u001B[1m400/400\u001B[0m \u001B[32m━━━━━━━━━━━━━━━━━━━━\u001B[0m\u001B[37m\u001B[0m \u001B[1m5s\u001B[0m 12ms/step - accuracy: 0.5991 - loss: 1.1431 - val_accuracy: 0.6184 - val_loss: 1.0795\n",
      "Epoch 7/10\n",
      "\u001B[1m400/400\u001B[0m \u001B[32m━━━━━━━━━━━━━━━━━━━━\u001B[0m\u001B[37m\u001B[0m \u001B[1m5s\u001B[0m 12ms/step - accuracy: 0.6082 - loss: 1.0932 - val_accuracy: 0.6397 - val_loss: 1.0258\n",
      "Epoch 8/10\n",
      "\u001B[1m400/400\u001B[0m \u001B[32m━━━━━━━━━━━━━━━━━━━━\u001B[0m\u001B[37m\u001B[0m \u001B[1m5s\u001B[0m 12ms/step - accuracy: 0.6349 - loss: 1.0179 - val_accuracy: 0.6531 - val_loss: 0.9968\n",
      "Epoch 9/10\n",
      "\u001B[1m400/400\u001B[0m \u001B[32m━━━━━━━━━━━━━━━━━━━━\u001B[0m\u001B[37m\u001B[0m \u001B[1m5s\u001B[0m 12ms/step - accuracy: 0.6437 - loss: 0.9925 - val_accuracy: 0.6559 - val_loss: 0.9823\n",
      "Epoch 10/10\n",
      "\u001B[1m400/400\u001B[0m \u001B[32m━━━━━━━━━━━━━━━━━━━━\u001B[0m\u001B[37m\u001B[0m \u001B[1m5s\u001B[0m 12ms/step - accuracy: 0.6648 - loss: 0.9562 - val_accuracy: 0.6603 - val_loss: 0.9717\n"
     ]
    }
   ],
   "execution_count": 36
  },
  {
   "metadata": {
    "ExecuteTime": {
     "end_time": "2024-11-23T00:15:07.529991Z",
     "start_time": "2024-11-23T00:15:06.380526Z"
    }
   },
   "cell_type": "code",
   "source": [
    " # Avaliando o modelo no conjunto de validação do fold atual\n",
    "val_loss, val_acc = model.evaluate(X_val_fold, y_val_fold, verbose=0)\n",
    "print(f\"Fold {fold_no} - Acurácia na validação: {val_acc * 100:.2f}%\")\n"
   ],
   "id": "322056b1007b334d",
   "outputs": [
    {
     "name": "stdout",
     "output_type": "stream",
     "text": [
      "Fold 1 - Acurácia na validação: 66.03%\n"
     ]
    }
   ],
   "execution_count": 38
  },
  {
   "metadata": {
    "ExecuteTime": {
     "end_time": "2024-11-23T00:15:15.381954Z",
     "start_time": "2024-11-23T00:15:15.377770Z"
    }
   },
   "cell_type": "code",
   "source": [
    "   # Salvando a acurácia deste fold\n",
    "fold_accuracies.append(val_acc)"
   ],
   "id": "8045f35ed69b93f9",
   "outputs": [],
   "execution_count": 40
  },
  {
   "metadata": {
    "ExecuteTime": {
     "end_time": "2024-11-23T00:15:18.523138Z",
     "start_time": "2024-11-23T00:15:18.519377Z"
    }
   },
   "cell_type": "code",
   "source": [
    " # Incrementando o contador do fold\n",
    "fold_no += 1"
   ],
   "id": "737af7677b4694b3",
   "outputs": [],
   "execution_count": 41
  },
  {
   "metadata": {
    "ExecuteTime": {
     "end_time": "2024-11-23T00:15:20.204403Z",
     "start_time": "2024-11-23T00:15:20.198532Z"
    }
   },
   "cell_type": "code",
   "source": [
    "mean_accuracy = np.mean(fold_accuracies)\n",
    "print(f\"\\nAcurácia média após validação cruzada: {mean_accuracy * 100:.2f}%\")"
   ],
   "id": "99feec22d47a57bc",
   "outputs": [
    {
     "name": "stdout",
     "output_type": "stream",
     "text": [
      "\n",
      "Acurácia média após validação cruzada: 66.03%\n"
     ]
    }
   ],
   "execution_count": 42
  },
  {
   "metadata": {
    "ExecuteTime": {
     "end_time": "2024-11-23T00:16:14.730789Z",
     "start_time": "2024-11-23T00:15:21.247583Z"
    }
   },
   "cell_type": "code",
   "source": [
    "print(\"\\nTreinando o modelo final com todos os dados de treino...\")\n",
    "final_model = create_model()\n",
    "final_model.fit(X_train, y_train, epochs=10, batch_size=64, verbose=1)"
   ],
   "id": "a6f221c4ab195c24",
   "outputs": [
    {
     "name": "stdout",
     "output_type": "stream",
     "text": [
      "\n",
      "Treinando o modelo final com todos os dados de treino...\n",
      "Epoch 1/10\n",
      "\u001B[1m500/500\u001B[0m \u001B[32m━━━━━━━━━━━━━━━━━━━━\u001B[0m\u001B[37m\u001B[0m \u001B[1m7s\u001B[0m 10ms/step - accuracy: 0.2777 - loss: 1.9504\n",
      "Epoch 2/10\n",
      "\u001B[1m500/500\u001B[0m \u001B[32m━━━━━━━━━━━━━━━━━━━━\u001B[0m\u001B[37m\u001B[0m \u001B[1m5s\u001B[0m 10ms/step - accuracy: 0.4777 - loss: 1.4489\n",
      "Epoch 3/10\n",
      "\u001B[1m500/500\u001B[0m \u001B[32m━━━━━━━━━━━━━━━━━━━━\u001B[0m\u001B[37m\u001B[0m \u001B[1m5s\u001B[0m 10ms/step - accuracy: 0.5300 - loss: 1.3185\n",
      "Epoch 4/10\n",
      "\u001B[1m500/500\u001B[0m \u001B[32m━━━━━━━━━━━━━━━━━━━━\u001B[0m\u001B[37m\u001B[0m \u001B[1m5s\u001B[0m 10ms/step - accuracy: 0.5745 - loss: 1.2039\n",
      "Epoch 5/10\n",
      "\u001B[1m500/500\u001B[0m \u001B[32m━━━━━━━━━━━━━━━━━━━━\u001B[0m\u001B[37m\u001B[0m \u001B[1m5s\u001B[0m 10ms/step - accuracy: 0.5968 - loss: 1.1346\n",
      "Epoch 6/10\n",
      "\u001B[1m500/500\u001B[0m \u001B[32m━━━━━━━━━━━━━━━━━━━━\u001B[0m\u001B[37m\u001B[0m \u001B[1m5s\u001B[0m 10ms/step - accuracy: 0.6213 - loss: 1.0796\n",
      "Epoch 7/10\n",
      "\u001B[1m500/500\u001B[0m \u001B[32m━━━━━━━━━━━━━━━━━━━━\u001B[0m\u001B[37m\u001B[0m \u001B[1m5s\u001B[0m 10ms/step - accuracy: 0.6328 - loss: 1.0280\n",
      "Epoch 8/10\n",
      "\u001B[1m500/500\u001B[0m \u001B[32m━━━━━━━━━━━━━━━━━━━━\u001B[0m\u001B[37m\u001B[0m \u001B[1m6s\u001B[0m 11ms/step - accuracy: 0.6524 - loss: 0.9775\n",
      "Epoch 9/10\n",
      "\u001B[1m500/500\u001B[0m \u001B[32m━━━━━━━━━━━━━━━━━━━━\u001B[0m\u001B[37m\u001B[0m \u001B[1m5s\u001B[0m 10ms/step - accuracy: 0.6700 - loss: 0.9283\n",
      "Epoch 10/10\n",
      "\u001B[1m500/500\u001B[0m \u001B[32m━━━━━━━━━━━━━━━━━━━━\u001B[0m\u001B[37m\u001B[0m \u001B[1m5s\u001B[0m 10ms/step - accuracy: 0.6884 - loss: 0.8884\n"
     ]
    },
    {
     "data": {
      "text/plain": [
       "<keras.src.callbacks.history.History at 0x18f87c6c920>"
      ]
     },
     "execution_count": 43,
     "metadata": {},
     "output_type": "execute_result"
    }
   ],
   "execution_count": 43
  },
  {
   "metadata": {
    "ExecuteTime": {
     "end_time": "2024-11-23T00:16:35.537375Z",
     "start_time": "2024-11-23T00:16:34.049450Z"
    }
   },
   "cell_type": "code",
   "source": [
    "# Avaliando o modelo final no conjunto de teste\n",
    "test_loss, test_acc = final_model.evaluate(X_test, y_test)\n",
    "print(f\"Acurácia final no conjunto de teste: {test_acc * 100:.2f}%\")"
   ],
   "id": "a8443a91e2789a21",
   "outputs": [
    {
     "name": "stdout",
     "output_type": "stream",
     "text": [
      "\u001B[1m313/313\u001B[0m \u001B[32m━━━━━━━━━━━━━━━━━━━━\u001B[0m\u001B[37m\u001B[0m \u001B[1m1s\u001B[0m 3ms/step - accuracy: 0.6733 - loss: 0.9600\n",
      "Acurácia final no conjunto de teste: 67.27%\n"
     ]
    }
   ],
   "execution_count": 44
  },
  {
   "metadata": {
    "ExecuteTime": {
     "end_time": "2024-11-23T00:18:07.890581Z",
     "start_time": "2024-11-23T00:18:07.883840Z"
    }
   },
   "cell_type": "code",
   "source": [
    "# Bibliotecas para construção do modelo\n",
    "from tensorflow.keras.models import Model\n",
    "from tensorflow.keras.layers import (\n",
    "    Input, Conv2D, BatchNormalization, Activation, MaxPooling2D, AveragePooling2D,\n",
    "    Flatten, Dense, Add, Dropout\n",
    ")\n",
    "\n",
    "# Biblioteca para manipulação de dados\n",
    "from tensorflow.keras.datasets import cifar10  # Base de dados CIFAR-10\n",
    "from tensorflow.keras.utils import to_categorical  # Para transformar rótulos em formato one-hot\n",
    "\n",
    "# Otimizadores e callbacks\n",
    "from tensorflow.keras.optimizers import Adam  # Otimizador Adam\n",
    "from tensorflow.keras.callbacks import EarlyStopping, ReduceLROnPlateau  # Callbacks para ajuste automático\n",
    "\n",
    "# Data Augmentation\n",
    "from tensorflow.keras.preprocessing.image import ImageDataGenerator  # Para gerar variações dos dados\n",
    "\n",
    "# Biblioteca auxiliar\n",
    "import numpy as np  # Manipulação de arrays\n"
   ],
   "id": "a37da115226dc1da",
   "outputs": [],
   "execution_count": 46
  },
  {
   "metadata": {
    "ExecuteTime": {
     "end_time": "2024-11-23T00:18:16.226607Z",
     "start_time": "2024-11-23T00:18:15.009318Z"
    }
   },
   "cell_type": "code",
   "source": [
    "# Carregar os dados CIFAR-10\n",
    "(X_train, y_train), (X_test, y_test) = cifar10.load_data()\n",
    "\n",
    "# Normalizando os valores dos pixels para o intervalo [0, 1]\n",
    "X_train = X_train.astype('float32') / 255.0\n",
    "X_test = X_test.astype('float32') / 255.0\n",
    "\n",
    "# Convertendo os rótulos para o formato one-hot\n",
    "y_train = to_categorical(y_train, 10)  # 10 classes no total\n",
    "y_test = to_categorical(y_test, 10)\n",
    "\n",
    "print(\"Formato dos dados de treino:\", X_train.shape)\n",
    "print(\"Formato dos dados de teste:\", X_test.shape)\n"
   ],
   "id": "a28b216af266c8ea",
   "outputs": [
    {
     "name": "stdout",
     "output_type": "stream",
     "text": [
      "Formato dos dados de treino: (50000, 32, 32, 3)\n",
      "Formato dos dados de teste: (10000, 32, 32, 3)\n"
     ]
    }
   ],
   "execution_count": 47
  },
  {
   "metadata": {
    "ExecuteTime": {
     "end_time": "2024-11-23T00:18:20.900409Z",
     "start_time": "2024-11-23T00:18:20.893420Z"
    }
   },
   "cell_type": "code",
   "source": [
    "def residual_block(x, filters, downsample=False):\n",
    "    \"\"\"\n",
    "    Define um bloco residual com ou sem downsampling.\n",
    "    - x: entrada da camada\n",
    "    - filters: número de filtros no bloco\n",
    "    - downsample: se True, reduz as dimensões espaciais da entrada\n",
    "    \"\"\"\n",
    "    shortcut = x  # Salvando a entrada para a soma residual\n",
    "\n",
    "    # Primeira camada convolucional\n",
    "    x = Conv2D(filters, (3, 3), padding='same', strides=(2 if downsample else 1))(x)\n",
    "    x = BatchNormalization()(x)\n",
    "    x = Activation('relu')(x)\n",
    "\n",
    "    # Segunda camada convolucional\n",
    "    x = Conv2D(filters, (3, 3), padding='same')(x)\n",
    "    x = BatchNormalization()(x)\n",
    "\n",
    "    # Ajuste do atalho (shortcut) em caso de downsampling\n",
    "    if downsample:\n",
    "        shortcut = Conv2D(filters, (1, 1), strides=2)(shortcut)\n",
    "        shortcut = BatchNormalization()(shortcut)\n",
    "\n",
    "    # Soma o atalho com a saída convolucional\n",
    "    x = Add()([x, shortcut])\n",
    "    x = Activation('relu')(x)\n",
    "\n",
    "    return x\n"
   ],
   "id": "d1cb3f3dc5c71123",
   "outputs": [],
   "execution_count": 48
  },
  {
   "metadata": {
    "ExecuteTime": {
     "end_time": "2024-11-23T00:18:42.736810Z",
     "start_time": "2024-11-23T00:18:42.729657Z"
    }
   },
   "cell_type": "code",
   "source": [
    "def create_resnet_model():\n",
    "    \"\"\"\n",
    "    Cria o modelo ResNet para classificação de imagens CIFAR-10.\n",
    "    \"\"\"\n",
    "    # Entrada do modelo\n",
    "    inputs = Input(shape=(32, 32, 3))  # Imagens CIFAR-10 têm resolução 32x32 com 3 canais de cor\n",
    "\n",
    "    # Camada inicial\n",
    "    x = Conv2D(32, (3, 3), padding='same')(inputs)\n",
    "    x = BatchNormalization()(x)\n",
    "    x = Activation('relu')(x)\n",
    "\n",
    "    # Blocos residuais\n",
    "    x = residual_block(x, 32)  # Primeiro bloco sem downsampling\n",
    "    x = residual_block(x, 64, downsample=True)  # Segundo bloco com downsampling\n",
    "    x = residual_block(x, 128, downsample=True)  # Terceiro bloco com downsampling\n",
    "\n",
    "    # Pooling global para reduzir a dimensionalidade\n",
    "    x = AveragePooling2D(pool_size=(4, 4))(x)\n",
    "\n",
    "    # Camada Flatten para transformar os dados em um vetor\n",
    "    x = Flatten()(x)\n",
    "\n",
    "    # Camada totalmente conectada com Dropout\n",
    "    x = Dense(256, activation='relu')(x)\n",
    "    x = Dropout(0.5)(x)\n",
    "\n",
    "    # Camada de saída com 10 neurônios para classificação (softmax)\n",
    "    outputs = Dense(10, activation='softmax')(x)\n",
    "\n",
    "    # Criação do modelo\n",
    "    model = Model(inputs, outputs)\n",
    "\n",
    "    # Compilando o modelo\n",
    "    model.compile(optimizer=Adam(learning_rate=0.001),\n",
    "                  loss='categorical_crossentropy',\n",
    "                  metrics=['accuracy'])\n",
    "\n",
    "    return model\n"
   ],
   "id": "9d1dc94dcdfaa91",
   "outputs": [],
   "execution_count": 49
  },
  {
   "metadata": {
    "ExecuteTime": {
     "end_time": "2024-11-23T00:18:47.026856Z",
     "start_time": "2024-11-23T00:18:46.834655Z"
    }
   },
   "cell_type": "code",
   "source": [
    "# Configurando o gerador de dados com augmentação\n",
    "datagen = ImageDataGenerator(\n",
    "    rotation_range=15,  # Rotação de até 15 graus\n",
    "    width_shift_range=0.1,  # Deslocamento horizontal de até 10%\n",
    "    height_shift_range=0.1,  # Deslocamento vertical de até 10%\n",
    "    horizontal_flip=True  # Espelhamento horizontal\n",
    ")\n",
    "datagen.fit(X_train)  # Ajusta o gerador aos dados de treino\n"
   ],
   "id": "7dfd9bb7d366d270",
   "outputs": [],
   "execution_count": 50
  },
  {
   "metadata": {
    "ExecuteTime": {
     "end_time": "2024-11-23T00:18:50.059977Z",
     "start_time": "2024-11-23T00:18:50.054947Z"
    }
   },
   "cell_type": "code",
   "source": [
    "# Configurando callbacks\n",
    "early_stopping = EarlyStopping(monitor='val_loss', patience=10, restore_best_weights=True)\n",
    "reduce_lr = ReduceLROnPlateau(monitor='val_loss', factor=0.5, patience=5, min_lr=1e-6)\n"
   ],
   "id": "f2a3bf392a207960",
   "outputs": [],
   "execution_count": 51
  },
  {
   "metadata": {
    "ExecuteTime": {
     "end_time": "2024-11-23T00:38:36.319702Z",
     "start_time": "2024-11-23T00:21:39.882100Z"
    }
   },
   "cell_type": "code",
   "source": [
    "history = model.fit(\n",
    "    datagen.flow(X_train, y_train, batch_size=64),  # Gerador com augmentação\n",
    "    validation_data=(X_test, y_test),  # Dados de teste para validação\n",
    "    epochs=10,  # Número máximo de épocas\n",
    "    callbacks=[early_stopping, reduce_lr],  # Callbacks configurados\n",
    "    verbose=1  # Mostra o progresso do treinamento\n",
    ")\n"
   ],
   "id": "799d8c66e1678f52",
   "outputs": [
    {
     "name": "stdout",
     "output_type": "stream",
     "text": [
      "Epoch 1/10\n"
     ]
    },
    {
     "name": "stderr",
     "output_type": "stream",
     "text": [
      "C:\\Users\\jonin\\miniconda3\\Lib\\site-packages\\keras\\src\\trainers\\data_adapters\\py_dataset_adapter.py:122: UserWarning: Your `PyDataset` class should call `super().__init__(**kwargs)` in its constructor. `**kwargs` can include `workers`, `use_multiprocessing`, `max_queue_size`. Do not pass these arguments to `fit()`, as they will be ignored.\n",
      "  self._warn_if_super_not_called()\n"
     ]
    },
    {
     "name": "stdout",
     "output_type": "stream",
     "text": [
      "\u001B[1m782/782\u001B[0m \u001B[32m━━━━━━━━━━━━━━━━━━━━\u001B[0m\u001B[37m\u001B[0m \u001B[1m89s\u001B[0m 113ms/step - accuracy: 0.5394 - loss: 1.2669 - val_accuracy: 0.5525 - val_loss: 1.3547 - learning_rate: 0.0010\n",
      "Epoch 2/10\n",
      "\u001B[1m782/782\u001B[0m \u001B[32m━━━━━━━━━━━━━━━━━━━━\u001B[0m\u001B[37m\u001B[0m \u001B[1m89s\u001B[0m 113ms/step - accuracy: 0.6270 - loss: 1.0436 - val_accuracy: 0.6514 - val_loss: 0.9846 - learning_rate: 0.0010\n",
      "Epoch 3/10\n",
      "\u001B[1m782/782\u001B[0m \u001B[32m━━━━━━━━━━━━━━━━━━━━\u001B[0m\u001B[37m\u001B[0m \u001B[1m100s\u001B[0m 128ms/step - accuracy: 0.6770 - loss: 0.9214 - val_accuracy: 0.5761 - val_loss: 1.3593 - learning_rate: 0.0010\n",
      "Epoch 4/10\n",
      "\u001B[1m782/782\u001B[0m \u001B[32m━━━━━━━━━━━━━━━━━━━━\u001B[0m\u001B[37m\u001B[0m \u001B[1m100s\u001B[0m 127ms/step - accuracy: 0.7087 - loss: 0.8460 - val_accuracy: 0.7388 - val_loss: 0.7399 - learning_rate: 0.0010\n",
      "Epoch 5/10\n",
      "\u001B[1m782/782\u001B[0m \u001B[32m━━━━━━━━━━━━━━━━━━━━\u001B[0m\u001B[37m\u001B[0m \u001B[1m107s\u001B[0m 136ms/step - accuracy: 0.7329 - loss: 0.7759 - val_accuracy: 0.7357 - val_loss: 0.7580 - learning_rate: 0.0010\n",
      "Epoch 6/10\n",
      "\u001B[1m782/782\u001B[0m \u001B[32m━━━━━━━━━━━━━━━━━━━━\u001B[0m\u001B[37m\u001B[0m \u001B[1m113s\u001B[0m 144ms/step - accuracy: 0.7501 - loss: 0.7241 - val_accuracy: 0.6716 - val_loss: 1.0260 - learning_rate: 0.0010\n",
      "Epoch 7/10\n",
      "\u001B[1m782/782\u001B[0m \u001B[32m━━━━━━━━━━━━━━━━━━━━\u001B[0m\u001B[37m\u001B[0m \u001B[1m107s\u001B[0m 137ms/step - accuracy: 0.7677 - loss: 0.6831 - val_accuracy: 0.7832 - val_loss: 0.6386 - learning_rate: 0.0010\n",
      "Epoch 8/10\n",
      "\u001B[1m782/782\u001B[0m \u001B[32m━━━━━━━━━━━━━━━━━━━━\u001B[0m\u001B[37m\u001B[0m \u001B[1m104s\u001B[0m 132ms/step - accuracy: 0.7821 - loss: 0.6425 - val_accuracy: 0.7856 - val_loss: 0.6362 - learning_rate: 0.0010\n",
      "Epoch 9/10\n",
      "\u001B[1m782/782\u001B[0m \u001B[32m━━━━━━━━━━━━━━━━━━━━\u001B[0m\u001B[37m\u001B[0m \u001B[1m103s\u001B[0m 131ms/step - accuracy: 0.7890 - loss: 0.6210 - val_accuracy: 0.7654 - val_loss: 0.6967 - learning_rate: 0.0010\n",
      "Epoch 10/10\n",
      "\u001B[1m782/782\u001B[0m \u001B[32m━━━━━━━━━━━━━━━━━━━━\u001B[0m\u001B[37m\u001B[0m \u001B[1m105s\u001B[0m 134ms/step - accuracy: 0.8021 - loss: 0.5835 - val_accuracy: 0.7628 - val_loss: 0.7193 - learning_rate: 0.0010\n"
     ]
    }
   ],
   "execution_count": 58
  },
  {
   "metadata": {
    "ExecuteTime": {
     "end_time": "2024-11-23T00:45:22.757556Z",
     "start_time": "2024-11-23T00:45:16.882652Z"
    }
   },
   "cell_type": "code",
   "source": [
    "# Avaliação no conjunto de teste\n",
    "test_loss, test_acc = model.evaluate(X_test, y_test, verbose=0)\n",
    "print(f\"Acurácia final no conjunto de teste: {test_acc * 100:.2f}%\")\n"
   ],
   "id": "c78df4ffbdc35eb1",
   "outputs": [
    {
     "name": "stdout",
     "output_type": "stream",
     "text": [
      "Acurácia final no conjunto de teste: 78.56%\n"
     ]
    }
   ],
   "execution_count": 59
  },
  {
   "metadata": {},
   "cell_type": "code",
   "outputs": [],
   "execution_count": null,
   "source": "",
   "id": "108cec2a67a3c35c"
  }
 ],
 "metadata": {
  "kernelspec": {
   "display_name": "Python 3",
   "language": "python",
   "name": "python3"
  },
  "language_info": {
   "codemirror_mode": {
    "name": "ipython",
    "version": 2
   },
   "file_extension": ".py",
   "mimetype": "text/x-python",
   "name": "python",
   "nbconvert_exporter": "python",
   "pygments_lexer": "ipython2",
   "version": "2.7.6"
  }
 },
 "nbformat": 4,
 "nbformat_minor": 5
}
