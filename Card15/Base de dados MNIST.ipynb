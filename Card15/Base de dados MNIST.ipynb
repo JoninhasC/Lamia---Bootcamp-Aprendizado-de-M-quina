{
 "cells": [
  {
   "metadata": {},
   "cell_type": "markdown",
   "source": [
    "# This is a sample Jupyter Notebook\n",
    "\n",
    "Below is an example of a code cell. \n",
    "Put your cursor into the cell and press Shift+Enter to execute it and select the next one, or click !here goes the icon of the corresponding button in the gutter! button.\n",
    "To debug a cell, press Alt+Shift+Enter, or click !here goes the icon of the corresponding button in the gutter! button.\n",
    "\n",
    "Press Double Shift to search everywhere for classes, files, tool windows, actions, and settings.\n",
    "\n",
    "To learn more about Jupyter Notebooks in PyCharm, see [help](https://www.jetbrains.com/help/pycharm/jupyter-notebook-support.html).\n",
    "For an overview of PyCharm, go to Help -> Learn IDE features or refer to [our documentation](https://www.jetbrains.com/help/pycharm/getting-started.html)."
   ],
   "id": "8a77807f92f26ee"
  },
  {
   "metadata": {},
   "cell_type": "markdown",
   "source": "",
   "id": "18ca6d1fb808ad2e"
  },
  {
   "metadata": {
    "ExecuteTime": {
     "end_time": "2024-11-22T22:03:13.035919Z",
     "start_time": "2024-11-22T22:03:13.031608Z"
    }
   },
   "cell_type": "code",
   "source": [
    "# Importa o TensorFlow, uma biblioteca popular para aprendizado de máquina e redes neurais.\n",
    "import tensorflow as tf \n",
    "\n",
    "# Importa o Keras, que é uma API de alto nível para construir e treinar modelos, integrado ao TensorFlow.\n",
    "import keras \n",
    "\n",
    "# Importa o Matplotlib, usado para visualização de dados e gráficos.\n",
    "import matplotlib \n",
    "\n",
    "# Importa o NumPy, uma biblioteca fundamental para operações matemáticas e manipulação de arrays.\n",
    "import numpy as np\n"
   ],
   "id": "fbc121e30a2defb3",
   "outputs": [],
   "execution_count": 62
  },
  {
   "metadata": {
    "ExecuteTime": {
     "end_time": "2024-11-22T22:23:49.935794Z",
     "start_time": "2024-11-22T22:23:49.931020Z"
    }
   },
   "cell_type": "code",
   "source": [
    "# Importa o conjunto de dados MNIST, que contém imagens de dígitos escritos à mão (0-9).\n",
    "from tensorflow.keras.datasets import mnist \n",
    "\n",
    "# Importa a classe Sequential para criar modelos de rede neural sequenciais (camada a camada).\n",
    "from tensorflow.keras.models import Sequential \n",
    "\n",
    "# Importa diversas camadas que podem ser usadas no modelo:\n",
    "# InputLayer: Define a camada de entrada.\n",
    "# Dense: Camada totalmente conectada.\n",
    "# Flatten: Transforma entradas multidimensionais em vetores.\n",
    "# Dropout: Desativa aleatoriamente uma fração dos neurônios durante o treinamento para evitar overfitting.\n",
    "# Conv2D: Camada de convolução para processamento de imagens.\n",
    "# MaxPooling2D: Camada de pooling para redução dimensional.\n",
    "# BatchNormalization: Normaliza as ativações em uma camada para estabilizar e acelerar o treinamento.\n",
    "from tensorflow.keras.layers import InputLayer, Dense, Flatten, Dropout, Conv2D, MaxPooling2D, BatchNormalization \n",
    "\n",
    "# Importa o módulo utils do Keras (com alias np_utils) para ferramentas úteis, como manipulação de rótulos.\n",
    "from tensorflow.keras import utils as np_utils \n",
    "\n",
    "# Importa a funcionalidade pyplot do Matplotlib, usada para plotar gráficos e visualizações de dados.\n",
    "import matplotlib.pyplot as plt\n"
   ],
   "id": "c96e55a78c65f06",
   "outputs": [],
   "execution_count": 110
  },
  {
   "metadata": {
    "ExecuteTime": {
     "end_time": "2024-11-22T22:24:11.016663Z",
     "start_time": "2024-11-22T22:24:10.211872Z"
    }
   },
   "cell_type": "code",
   "source": [
    "# Carrega o conjunto de dados MNIST.\n",
    "# O método `load_data` retorna dois conjuntos: treinamento e teste.\n",
    "# Cada conjunto é dividido em dados de entrada (imagens) e rótulos (números correspondentes às imagens).\n",
    "(X_treinamento, y_treinamento), (X_teste, y_teste) = mnist.load_data()\n"
   ],
   "id": "46c3f537e22b1038",
   "outputs": [],
   "execution_count": 112
  },
  {
   "metadata": {
    "ExecuteTime": {
     "end_time": "2024-11-22T22:24:16.718495Z",
     "start_time": "2024-11-22T22:24:16.713282Z"
    }
   },
   "cell_type": "code",
   "source": "X_treinamento.shape, X_teste.shape",
   "id": "df9aed65d7ed412b",
   "outputs": [
    {
     "data": {
      "text/plain": [
       "((60000, 28, 28), (10000, 28, 28))"
      ]
     },
     "execution_count": 113,
     "metadata": {},
     "output_type": "execute_result"
    }
   ],
   "execution_count": 113
  },
  {
   "metadata": {
    "ExecuteTime": {
     "end_time": "2024-11-22T22:24:23.767414Z",
     "start_time": "2024-11-22T22:24:23.756172Z"
    }
   },
   "cell_type": "code",
   "source": "X_treinamento, X_treinamento.max()",
   "id": "a36b5cce78239fae",
   "outputs": [
    {
     "data": {
      "text/plain": [
       "(array([[[0, 0, 0, ..., 0, 0, 0],\n",
       "         [0, 0, 0, ..., 0, 0, 0],\n",
       "         [0, 0, 0, ..., 0, 0, 0],\n",
       "         ...,\n",
       "         [0, 0, 0, ..., 0, 0, 0],\n",
       "         [0, 0, 0, ..., 0, 0, 0],\n",
       "         [0, 0, 0, ..., 0, 0, 0]],\n",
       " \n",
       "        [[0, 0, 0, ..., 0, 0, 0],\n",
       "         [0, 0, 0, ..., 0, 0, 0],\n",
       "         [0, 0, 0, ..., 0, 0, 0],\n",
       "         ...,\n",
       "         [0, 0, 0, ..., 0, 0, 0],\n",
       "         [0, 0, 0, ..., 0, 0, 0],\n",
       "         [0, 0, 0, ..., 0, 0, 0]],\n",
       " \n",
       "        [[0, 0, 0, ..., 0, 0, 0],\n",
       "         [0, 0, 0, ..., 0, 0, 0],\n",
       "         [0, 0, 0, ..., 0, 0, 0],\n",
       "         ...,\n",
       "         [0, 0, 0, ..., 0, 0, 0],\n",
       "         [0, 0, 0, ..., 0, 0, 0],\n",
       "         [0, 0, 0, ..., 0, 0, 0]],\n",
       " \n",
       "        ...,\n",
       " \n",
       "        [[0, 0, 0, ..., 0, 0, 0],\n",
       "         [0, 0, 0, ..., 0, 0, 0],\n",
       "         [0, 0, 0, ..., 0, 0, 0],\n",
       "         ...,\n",
       "         [0, 0, 0, ..., 0, 0, 0],\n",
       "         [0, 0, 0, ..., 0, 0, 0],\n",
       "         [0, 0, 0, ..., 0, 0, 0]],\n",
       " \n",
       "        [[0, 0, 0, ..., 0, 0, 0],\n",
       "         [0, 0, 0, ..., 0, 0, 0],\n",
       "         [0, 0, 0, ..., 0, 0, 0],\n",
       "         ...,\n",
       "         [0, 0, 0, ..., 0, 0, 0],\n",
       "         [0, 0, 0, ..., 0, 0, 0],\n",
       "         [0, 0, 0, ..., 0, 0, 0]],\n",
       " \n",
       "        [[0, 0, 0, ..., 0, 0, 0],\n",
       "         [0, 0, 0, ..., 0, 0, 0],\n",
       "         [0, 0, 0, ..., 0, 0, 0],\n",
       "         ...,\n",
       "         [0, 0, 0, ..., 0, 0, 0],\n",
       "         [0, 0, 0, ..., 0, 0, 0],\n",
       "         [0, 0, 0, ..., 0, 0, 0]]], dtype=uint8),\n",
       " 255)"
      ]
     },
     "execution_count": 114,
     "metadata": {},
     "output_type": "execute_result"
    }
   ],
   "execution_count": 114
  },
  {
   "metadata": {
    "ExecuteTime": {
     "end_time": "2024-11-22T22:24:30.160838Z",
     "start_time": "2024-11-22T22:24:30.153347Z"
    }
   },
   "cell_type": "code",
   "source": "y_treinamento",
   "id": "e85ee5f4af860876",
   "outputs": [
    {
     "data": {
      "text/plain": [
       "array([5, 0, 4, ..., 5, 6, 8], dtype=uint8)"
      ]
     },
     "execution_count": 115,
     "metadata": {},
     "output_type": "execute_result"
    }
   ],
   "execution_count": 115
  },
  {
   "metadata": {
    "ExecuteTime": {
     "end_time": "2024-11-22T23:05:54.846900Z",
     "start_time": "2024-11-22T23:05:54.642556Z"
    }
   },
   "cell_type": "code",
   "source": [
    "# Exibe a imagem de índice 100 do conjunto de treinamento.\n",
    "# A função `imshow` do Matplotlib é usada para mostrar a matriz de pixels como uma imagem.\n",
    "# O parâmetro `cmap='gray'` define a paleta de cores como tons de cinza, já que as imagens do MNIST são em escala de cinza.\n",
    "plt.imshow(X_treinamento[100], cmap='gray')\n",
    "\n",
    "# Define o título do gráfico como a classe (rótulo) correspondente à imagem.\n",
    "# `y_treinamento[100]` contém o número associado à imagem (por exemplo, 0 a 9).\n",
    "plt.title('Classe ' + str(y_treinamento[100]))\n"
   ],
   "id": "ed9c629de158120d",
   "outputs": [
    {
     "data": {
      "text/plain": [
       "Text(0.5, 1.0, 'Classe [0. 0. 0. 0. 0. 1. 0. 0. 0. 0.]')"
      ]
     },
     "execution_count": 159,
     "metadata": {},
     "output_type": "execute_result"
    },
    {
     "data": {
      "text/plain": [
       "<Figure size 640x480 with 1 Axes>"
      ],
      "image/png": "[encoded data removed]"
     },
     "metadata": {},
     "output_type": "display_data"
    }
   ],
   "execution_count": 159
  },
  {
   "metadata": {
    "ExecuteTime": {
     "end_time": "2024-11-22T22:24:42.137006Z",
     "start_time": "2024-11-22T22:24:42.130968Z"
    }
   },
   "cell_type": "code",
   "source": "X_treinamento.shape",
   "id": "88a7afbbbe0e0c4",
   "outputs": [
    {
     "data": {
      "text/plain": [
       "(60000, 28, 28)"
      ]
     },
     "execution_count": 117,
     "metadata": {},
     "output_type": "execute_result"
    }
   ],
   "execution_count": 117
  },
  {
   "metadata": {
    "ExecuteTime": {
     "end_time": "2024-11-22T23:06:18.685465Z",
     "start_time": "2024-11-22T23:06:18.681079Z"
    }
   },
   "cell_type": "code",
   "source": [
    "# Redimensiona o conjunto de treinamento para incluir uma dimensão de canal.\n",
    "# `X_treinamento.shape[0]` é o número de amostras (imagens) no conjunto de treinamento.\n",
    "# `28, 28` são as dimensões das imagens do MNIST (28x28 pixels).\n",
    "# `1` é a nova dimensão do canal, necessária para trabalhar com redes neurais convolucionais, \n",
    "# que esperam entradas no formato (amostras, altura, largura, canais).\n",
    "# Como as imagens do MNIST são em escala de cinza, o número de canais é 1.\n",
    "X_treinamento = X_treinamento.reshape(X_treinamento.shape[0], 28, 28, 1)\n"
   ],
   "id": "1f3bb5a6f6154ae5",
   "outputs": [],
   "execution_count": 160
  },
  {
   "metadata": {
    "ExecuteTime": {
     "end_time": "2024-11-22T23:06:47.452887Z",
     "start_time": "2024-11-22T23:06:47.448423Z"
    }
   },
   "cell_type": "code",
   "source": [
    "# Redimensiona o conjunto de teste para incluir uma dimensão de canal.\n",
    "# `X_teste.shape[0]` é o número de amostras (imagens) no conjunto de teste.\n",
    "# `28, 28` são as dimensões das imagens (28x28 pixels).\n",
    "# `1` é a nova dimensão do canal, indicando que as imagens possuem apenas um canal (escala de cinza).\n",
    "# Isso torna o conjunto de teste compatível com a entrada esperada pelas redes convolucionais,\n",
    "# que utilizam o formato (amostras, altura, largura, canais).\n",
    "X_teste = X_teste.reshape(X_teste.shape[0], 28, 28, 1)\n"
   ],
   "id": "9d7ed01a3c017f9",
   "outputs": [],
   "execution_count": 161
  },
  {
   "metadata": {
    "ExecuteTime": {
     "end_time": "2024-11-22T22:25:38.959839Z",
     "start_time": "2024-11-22T22:25:38.953558Z"
    }
   },
   "cell_type": "code",
   "source": "X_treinamento.shape, X_teste.shape",
   "id": "d26c9f0e6b89a80d",
   "outputs": [
    {
     "data": {
      "text/plain": [
       "((60000, 28, 28, 1), (10000, 28, 28, 1))"
      ]
     },
     "execution_count": 123,
     "metadata": {},
     "output_type": "execute_result"
    }
   ],
   "execution_count": 123
  },
  {
   "metadata": {
    "ExecuteTime": {
     "end_time": "2024-11-22T22:25:39.368048Z",
     "start_time": "2024-11-22T22:25:39.302412Z"
    }
   },
   "cell_type": "code",
   "source": [
    "# Converte os valores de `X_treinamento` para o tipo `float32`.\n",
    "# Isso é necessário porque, originalmente, os dados das imagens são armazenados como inteiros (inteiros sem sinal de 8 bits, `uint8`).\n",
    "# A conversão para `float32` é importante para cálculos em redes neurais, \n",
    "# que geralmente exigem precisão em ponto flutuante para realizar operações matemáticas durante o treinamento.\n",
    "X_treinamento = X_treinamento.astype('float32')\n"
   ],
   "id": "94fb51ea5225502a",
   "outputs": [],
   "execution_count": 124
  },
  {
   "metadata": {
    "ExecuteTime": {
     "end_time": "2024-11-22T22:25:39.999250Z",
     "start_time": "2024-11-22T22:25:39.983450Z"
    }
   },
   "cell_type": "code",
   "source": [
    "# Converte os valores de `X_teste` para o tipo `float32`.\n",
    "# Assim como o conjunto de treinamento, os dados do conjunto de teste originalmente são armazenados como inteiros (`uint8`).\n",
    "# A conversão para `float32` é necessária para garantir compatibilidade com as operações de ponto flutuante \n",
    "# realizadas durante o treinamento e a avaliação do modelo.\n",
    "X_teste = X_teste.astype('float32')\n"
   ],
   "id": "2071b644eb58d1a2",
   "outputs": [],
   "execution_count": 125
  },
  {
   "metadata": {
    "ExecuteTime": {
     "end_time": "2024-11-22T22:25:40.600060Z",
     "start_time": "2024-11-22T22:25:40.569976Z"
    }
   },
   "cell_type": "code",
   "source": [
    "X_treinamento /= 255\n",
    "X_teste /= 255"
   ],
   "id": "513a1a45b1dc4034",
   "outputs": [],
   "execution_count": 126
  },
  {
   "metadata": {
    "ExecuteTime": {
     "end_time": "2024-11-22T22:25:45.239650Z",
     "start_time": "2024-11-22T22:25:45.203629Z"
    }
   },
   "cell_type": "code",
   "source": "X_treinamento.max(), X_treinamento.min()",
   "id": "5242f50f570de4a5",
   "outputs": [
    {
     "data": {
      "text/plain": [
       "(1.0, 0.0)"
      ]
     },
     "execution_count": 127,
     "metadata": {},
     "output_type": "execute_result"
    }
   ],
   "execution_count": 127
  },
  {
   "metadata": {
    "ExecuteTime": {
     "end_time": "2024-11-22T22:25:50.658358Z",
     "start_time": "2024-11-22T22:25:50.651861Z"
    }
   },
   "cell_type": "code",
   "source": "y_treinamento",
   "id": "84e06e333d99925b",
   "outputs": [
    {
     "data": {
      "text/plain": [
       "array([5, 0, 4, ..., 5, 6, 8], dtype=uint8)"
      ]
     },
     "execution_count": 128,
     "metadata": {},
     "output_type": "execute_result"
    }
   ],
   "execution_count": 128
  },
  {
   "metadata": {
    "ExecuteTime": {
     "end_time": "2024-11-22T23:07:40.102606Z",
     "start_time": "2024-11-22T23:07:40.076092Z"
    }
   },
   "cell_type": "code",
   "source": [
    "# Converte os rótulos de `y_treinamento` em codificação one-hot.\n",
    "# `to_categorical` transforma cada rótulo (inteiro de 0 a 9) em um vetor de 10 posições, \n",
    "# onde a posição correspondente ao valor do rótulo é marcada com 1, e as demais com 0.\n",
    "# Isso é necessário porque redes neurais classificadoras geralmente trabalham com vetores one-hot como saída.\n",
    "# O argumento `10` indica o número total de classes (dígitos de 0 a 9).\n",
    "y_treinamento = np_utils.to_categorical(y_treinamento, 10)\n",
    "\n",
    "# Faz o mesmo para os rótulos do conjunto de teste (`y_teste`), convertendo-os para a codificação one-hot.\n",
    "y_teste = np_utils.to_categorical(y_teste, 10)\n"
   ],
   "id": "562f2d953320a3ec",
   "outputs": [],
   "execution_count": 162
  },
  {
   "metadata": {
    "ExecuteTime": {
     "end_time": "2024-11-22T22:26:01.909295Z",
     "start_time": "2024-11-22T22:26:01.902186Z"
    }
   },
   "cell_type": "code",
   "source": "y_treinamento",
   "id": "26b8328b8bdbe125",
   "outputs": [
    {
     "data": {
      "text/plain": [
       "array([[0., 0., 0., ..., 0., 0., 0.],\n",
       "       [1., 0., 0., ..., 0., 0., 0.],\n",
       "       [0., 0., 0., ..., 0., 0., 0.],\n",
       "       ...,\n",
       "       [0., 0., 0., ..., 0., 0., 0.],\n",
       "       [0., 0., 0., ..., 0., 0., 0.],\n",
       "       [0., 0., 0., ..., 0., 1., 0.]])"
      ]
     },
     "execution_count": 130,
     "metadata": {},
     "output_type": "execute_result"
    }
   ],
   "execution_count": 130
  },
  {
   "metadata": {
    "ExecuteTime": {
     "end_time": "2024-11-22T22:26:10.447761Z",
     "start_time": "2024-11-22T22:26:10.441384Z"
    }
   },
   "cell_type": "code",
   "source": "y_treinamento[2]",
   "id": "65409a8e7fc06a40",
   "outputs": [
    {
     "data": {
      "text/plain": [
       "array([0., 0., 0., 0., 1., 0., 0., 0., 0., 0.])"
      ]
     },
     "execution_count": 131,
     "metadata": {},
     "output_type": "execute_result"
    }
   ],
   "execution_count": 131
  },
  {
   "metadata": {
    "ExecuteTime": {
     "end_time": "2024-11-22T23:07:52.673823Z",
     "start_time": "2024-11-22T23:07:52.611741Z"
    }
   },
   "cell_type": "code",
   "source": [
    "# Cria um modelo sequencial, onde as camadas são adicionadas uma após a outra.\n",
    "rede_neural = Sequential()\n",
    "\n",
    "# Adiciona a camada de entrada ao modelo.\n",
    "# O formato da entrada é (28, 28, 1), onde 28x28 são as dimensões da imagem e 1 é o número de canais (escala de cinza).\n",
    "rede_neural.add(InputLayer(shape =(28, 28, 1)))\n",
    "\n",
    "# Adiciona uma camada convolucional 2D com 32 filtros, onde cada filtro é de tamanho 3x3.\n",
    "# A função de ativação 'relu' é usada para introduzir não-linearidade.\n",
    "rede_neural.add(Conv2D(filters = 32, kernel_size = (3, 3), activation = 'relu'))\n",
    "\n",
    "# Adiciona uma camada de max pooling 2D com uma janela de pooling de 2x2.\n",
    "# Isso ajuda a reduzir a dimensionalidade e destaca as características mais importantes da imagem.\n",
    "rede_neural.add(MaxPooling2D(pool_size = (2, 2)))\n",
    "\n",
    "# Adiciona uma camada de \"flatten\", que achata a saída da camada anterior \n",
    "# (convertendo a matriz 2D resultante de convolução e pooling em um vetor unidimensional).\n",
    "rede_neural.add(Flatten())\n",
    "\n",
    "# Adiciona uma camada densa (totalmente conectada) com 128 unidades e ativação 'relu'.\n",
    "# Essa camada aprende representações mais complexas dos dados.\n",
    "rede_neural.add(Dense(units = 128, activation = 'relu'))\n",
    "\n",
    "# Adiciona a camada de saída com 10 unidades, uma para cada classe (dígitos de 0 a 9).\n",
    "# A função de ativação 'softmax' é usada para gerar probabilidades para cada classe.\n",
    "# O modelo irá prever a classe com a maior probabilidade.\n",
    "rede_neural.add(Dense(units=10, activation='softmax'))\n"
   ],
   "id": "9327e7fce344d5b5",
   "outputs": [],
   "execution_count": 163
  },
  {
   "metadata": {
    "ExecuteTime": {
     "end_time": "2024-11-22T22:27:28.987274Z",
     "start_time": "2024-11-22T22:27:28.971184Z"
    }
   },
   "cell_type": "code",
   "source": "rede_neural.summary()",
   "id": "fcb55aedd9151a3f",
   "outputs": [
    {
     "data": {
      "text/plain": [
       "\u001B[1mModel: \"sequential_8\"\u001B[0m\n"
      ],
      "text/html": [
       "<pre style=\"white-space:pre;overflow-x:auto;line-height:normal;font-family:Menlo,'DejaVu Sans Mono',consolas,'Courier New',monospace\"><span style=\"font-weight: bold\">Model: \"sequential_8\"</span>\n",
       "</pre>\n"
      ]
     },
     "metadata": {},
     "output_type": "display_data"
    },
    {
     "data": {
      "text/plain": [
       "┏━━━━━━━━━━━━━━━━━━━━━━━━━━━━━━━━━┳━━━━━━━━━━━━━━━━━━━━━━━━┳━━━━━━━━━━━━━━━┓\n",
       "┃\u001B[1m \u001B[0m\u001B[1mLayer (type)                   \u001B[0m\u001B[1m \u001B[0m┃\u001B[1m \u001B[0m\u001B[1mOutput Shape          \u001B[0m\u001B[1m \u001B[0m┃\u001B[1m \u001B[0m\u001B[1m      Param #\u001B[0m\u001B[1m \u001B[0m┃\n",
       "┡━━━━━━━━━━━━━━━━━━━━━━━━━━━━━━━━━╇━━━━━━━━━━━━━━━━━━━━━━━━╇━━━━━━━━━━━━━━━┩\n",
       "│ conv2d_6 (\u001B[38;5;33mConv2D\u001B[0m)               │ (\u001B[38;5;45mNone\u001B[0m, \u001B[38;5;34m26\u001B[0m, \u001B[38;5;34m26\u001B[0m, \u001B[38;5;34m32\u001B[0m)     │           \u001B[38;5;34m320\u001B[0m │\n",
       "├─────────────────────────────────┼────────────────────────┼───────────────┤\n",
       "│ max_pooling2d_6 (\u001B[38;5;33mMaxPooling2D\u001B[0m)  │ (\u001B[38;5;45mNone\u001B[0m, \u001B[38;5;34m13\u001B[0m, \u001B[38;5;34m13\u001B[0m, \u001B[38;5;34m32\u001B[0m)     │             \u001B[38;5;34m0\u001B[0m │\n",
       "├─────────────────────────────────┼────────────────────────┼───────────────┤\n",
       "│ flatten_5 (\u001B[38;5;33mFlatten\u001B[0m)             │ (\u001B[38;5;45mNone\u001B[0m, \u001B[38;5;34m5408\u001B[0m)           │             \u001B[38;5;34m0\u001B[0m │\n",
       "├─────────────────────────────────┼────────────────────────┼───────────────┤\n",
       "│ dense_11 (\u001B[38;5;33mDense\u001B[0m)                │ (\u001B[38;5;45mNone\u001B[0m, \u001B[38;5;34m128\u001B[0m)            │       \u001B[38;5;34m692,352\u001B[0m │\n",
       "├─────────────────────────────────┼────────────────────────┼───────────────┤\n",
       "│ dense_12 (\u001B[38;5;33mDense\u001B[0m)                │ (\u001B[38;5;45mNone\u001B[0m, \u001B[38;5;34m10\u001B[0m)             │         \u001B[38;5;34m1,290\u001B[0m │\n",
       "└─────────────────────────────────┴────────────────────────┴───────────────┘\n"
      ],
      "text/html": [
       "<pre style=\"white-space:pre;overflow-x:auto;line-height:normal;font-family:Menlo,'DejaVu Sans Mono',consolas,'Courier New',monospace\">┏━━━━━━━━━━━━━━━━━━━━━━━━━━━━━━━━━┳━━━━━━━━━━━━━━━━━━━━━━━━┳━━━━━━━━━━━━━━━┓\n",
       "┃<span style=\"font-weight: bold\"> Layer (type)                    </span>┃<span style=\"font-weight: bold\"> Output Shape           </span>┃<span style=\"font-weight: bold\">       Param # </span>┃\n",
       "┡━━━━━━━━━━━━━━━━━━━━━━━━━━━━━━━━━╇━━━━━━━━━━━━━━━━━━━━━━━━╇━━━━━━━━━━━━━━━┩\n",
       "│ conv2d_6 (<span style=\"color: #0087ff; text-decoration-color: #0087ff\">Conv2D</span>)               │ (<span style=\"color: #00d7ff; text-decoration-color: #00d7ff\">None</span>, <span style=\"color: #00af00; text-decoration-color: #00af00\">26</span>, <span style=\"color: #00af00; text-decoration-color: #00af00\">26</span>, <span style=\"color: #00af00; text-decoration-color: #00af00\">32</span>)     │           <span style=\"color: #00af00; text-decoration-color: #00af00\">320</span> │\n",
       "├─────────────────────────────────┼────────────────────────┼───────────────┤\n",
       "│ max_pooling2d_6 (<span style=\"color: #0087ff; text-decoration-color: #0087ff\">MaxPooling2D</span>)  │ (<span style=\"color: #00d7ff; text-decoration-color: #00d7ff\">None</span>, <span style=\"color: #00af00; text-decoration-color: #00af00\">13</span>, <span style=\"color: #00af00; text-decoration-color: #00af00\">13</span>, <span style=\"color: #00af00; text-decoration-color: #00af00\">32</span>)     │             <span style=\"color: #00af00; text-decoration-color: #00af00\">0</span> │\n",
       "├─────────────────────────────────┼────────────────────────┼───────────────┤\n",
       "│ flatten_5 (<span style=\"color: #0087ff; text-decoration-color: #0087ff\">Flatten</span>)             │ (<span style=\"color: #00d7ff; text-decoration-color: #00d7ff\">None</span>, <span style=\"color: #00af00; text-decoration-color: #00af00\">5408</span>)           │             <span style=\"color: #00af00; text-decoration-color: #00af00\">0</span> │\n",
       "├─────────────────────────────────┼────────────────────────┼───────────────┤\n",
       "│ dense_11 (<span style=\"color: #0087ff; text-decoration-color: #0087ff\">Dense</span>)                │ (<span style=\"color: #00d7ff; text-decoration-color: #00d7ff\">None</span>, <span style=\"color: #00af00; text-decoration-color: #00af00\">128</span>)            │       <span style=\"color: #00af00; text-decoration-color: #00af00\">692,352</span> │\n",
       "├─────────────────────────────────┼────────────────────────┼───────────────┤\n",
       "│ dense_12 (<span style=\"color: #0087ff; text-decoration-color: #0087ff\">Dense</span>)                │ (<span style=\"color: #00d7ff; text-decoration-color: #00d7ff\">None</span>, <span style=\"color: #00af00; text-decoration-color: #00af00\">10</span>)             │         <span style=\"color: #00af00; text-decoration-color: #00af00\">1,290</span> │\n",
       "└─────────────────────────────────┴────────────────────────┴───────────────┘\n",
       "</pre>\n"
      ]
     },
     "metadata": {},
     "output_type": "display_data"
    },
    {
     "data": {
      "text/plain": [
       "\u001B[1m Total params: \u001B[0m\u001B[38;5;34m693,962\u001B[0m (2.65 MB)\n"
      ],
      "text/html": [
       "<pre style=\"white-space:pre;overflow-x:auto;line-height:normal;font-family:Menlo,'DejaVu Sans Mono',consolas,'Courier New',monospace\"><span style=\"font-weight: bold\"> Total params: </span><span style=\"color: #00af00; text-decoration-color: #00af00\">693,962</span> (2.65 MB)\n",
       "</pre>\n"
      ]
     },
     "metadata": {},
     "output_type": "display_data"
    },
    {
     "data": {
      "text/plain": [
       "\u001B[1m Trainable params: \u001B[0m\u001B[38;5;34m693,962\u001B[0m (2.65 MB)\n"
      ],
      "text/html": [
       "<pre style=\"white-space:pre;overflow-x:auto;line-height:normal;font-family:Menlo,'DejaVu Sans Mono',consolas,'Courier New',monospace\"><span style=\"font-weight: bold\"> Trainable params: </span><span style=\"color: #00af00; text-decoration-color: #00af00\">693,962</span> (2.65 MB)\n",
       "</pre>\n"
      ]
     },
     "metadata": {},
     "output_type": "display_data"
    },
    {
     "data": {
      "text/plain": [
       "\u001B[1m Non-trainable params: \u001B[0m\u001B[38;5;34m0\u001B[0m (0.00 B)\n"
      ],
      "text/html": [
       "<pre style=\"white-space:pre;overflow-x:auto;line-height:normal;font-family:Menlo,'DejaVu Sans Mono',consolas,'Courier New',monospace\"><span style=\"font-weight: bold\"> Non-trainable params: </span><span style=\"color: #00af00; text-decoration-color: #00af00\">0</span> (0.00 B)\n",
       "</pre>\n"
      ]
     },
     "metadata": {},
     "output_type": "display_data"
    }
   ],
   "execution_count": 134
  },
  {
   "metadata": {
    "ExecuteTime": {
     "end_time": "2024-11-22T23:08:06.361683Z",
     "start_time": "2024-11-22T23:08:06.352410Z"
    }
   },
   "cell_type": "code",
   "source": [
    "# Compila o modelo, definindo a função de perda, o otimizador e as métricas a serem avaliadas.\n",
    "# 'categorical_crossentropy' é a função de perda apropriada para problemas de classificação multiclasse,\n",
    "# pois mede a diferença entre as distribuições de probabilidade preditas (saída da camada softmax) e as reais (rótulos one-hot).\n",
    "rede_neural.compile(loss = 'categorical_crossentropy', \n",
    "\n",
    "                    # 'adam' é um otimizador eficiente que ajusta os parâmetros de forma adaptativa durante o treinamento.\n",
    "                    optimizer = 'adam', \n",
    "\n",
    "                    # 'accuracy' é a métrica que será monitorada durante o treinamento para avaliar o desempenho do modelo.\n",
    "                    metrics = ['accuracy'])\n"
   ],
   "id": "8d6ed47bb6b3f097",
   "outputs": [],
   "execution_count": 164
  },
  {
   "metadata": {
    "ExecuteTime": {
     "end_time": "2024-11-22T22:30:54.134261Z",
     "start_time": "2024-11-22T22:29:39.815175Z"
    }
   },
   "cell_type": "code",
   "source": [
    "# Treina o modelo usando o conjunto de dados de treinamento e validação.\n",
    "# `X_treinamento` e `y_treinamento` são as entradas (imagens) e rótulos (one-hot) de treinamento.\n",
    "# `batch_size = 128` define o número de amostras processadas antes de atualizar os pesos do modelo.\n",
    "# `epochs = 15` define o número de vezes que o modelo passará por todo o conjunto de dados de treinamento.\n",
    "# `validation_data = (X_teste, y_teste)` define os dados de teste a serem usados para validação durante o treinamento,\n",
    "# permitindo avaliar o desempenho do modelo em dados não vistos.\n",
    "rede_neural.fit(X_treinamento, y_treinamento, batch_size = 128, \n",
    "                epochs = 15, validation_data = (X_teste, y_teste))\n"
   ],
   "id": "a4b0ec1caddd19a1",
   "outputs": [
    {
     "name": "stdout",
     "output_type": "stream",
     "text": [
      "Epoch 1/15\n",
      "\u001B[1m469/469\u001B[0m \u001B[32m━━━━━━━━━━━━━━━━━━━━\u001B[0m\u001B[37m\u001B[0m \u001B[1m6s\u001B[0m 12ms/step - accuracy: 0.9944 - loss: 0.0196 - val_accuracy: 0.9851 - val_loss: 0.0470\n",
      "Epoch 2/15\n",
      "\u001B[1m469/469\u001B[0m \u001B[32m━━━━━━━━━━━━━━━━━━━━\u001B[0m\u001B[37m\u001B[0m \u001B[1m5s\u001B[0m 12ms/step - accuracy: 0.9960 - loss: 0.0144 - val_accuracy: 0.9862 - val_loss: 0.0457\n",
      "Epoch 3/15\n",
      "\u001B[1m469/469\u001B[0m \u001B[32m━━━━━━━━━━━━━━━━━━━━\u001B[0m\u001B[37m\u001B[0m \u001B[1m6s\u001B[0m 12ms/step - accuracy: 0.9973 - loss: 0.0103 - val_accuracy: 0.9861 - val_loss: 0.0456\n",
      "Epoch 4/15\n",
      "\u001B[1m469/469\u001B[0m \u001B[32m━━━━━━━━━━━━━━━━━━━━\u001B[0m\u001B[37m\u001B[0m \u001B[1m6s\u001B[0m 12ms/step - accuracy: 0.9982 - loss: 0.0071 - val_accuracy: 0.9841 - val_loss: 0.0555\n",
      "Epoch 5/15\n",
      "\u001B[1m469/469\u001B[0m \u001B[32m━━━━━━━━━━━━━━━━━━━━\u001B[0m\u001B[37m\u001B[0m \u001B[1m5s\u001B[0m 11ms/step - accuracy: 0.9982 - loss: 0.0069 - val_accuracy: 0.9850 - val_loss: 0.0489\n",
      "Epoch 6/15\n",
      "\u001B[1m469/469\u001B[0m \u001B[32m━━━━━━━━━━━━━━━━━━━━\u001B[0m\u001B[37m\u001B[0m \u001B[1m5s\u001B[0m 10ms/step - accuracy: 0.9985 - loss: 0.0055 - val_accuracy: 0.9870 - val_loss: 0.0451\n",
      "Epoch 7/15\n",
      "\u001B[1m469/469\u001B[0m \u001B[32m━━━━━━━━━━━━━━━━━━━━\u001B[0m\u001B[37m\u001B[0m \u001B[1m5s\u001B[0m 10ms/step - accuracy: 0.9984 - loss: 0.0049 - val_accuracy: 0.9864 - val_loss: 0.0503\n",
      "Epoch 8/15\n",
      "\u001B[1m469/469\u001B[0m \u001B[32m━━━━━━━━━━━━━━━━━━━━\u001B[0m\u001B[37m\u001B[0m \u001B[1m5s\u001B[0m 10ms/step - accuracy: 0.9994 - loss: 0.0030 - val_accuracy: 0.9848 - val_loss: 0.0587\n",
      "Epoch 9/15\n",
      "\u001B[1m469/469\u001B[0m \u001B[32m━━━━━━━━━━━━━━━━━━━━\u001B[0m\u001B[37m\u001B[0m \u001B[1m5s\u001B[0m 10ms/step - accuracy: 0.9987 - loss: 0.0046 - val_accuracy: 0.9840 - val_loss: 0.0665\n",
      "Epoch 10/15\n",
      "\u001B[1m469/469\u001B[0m \u001B[32m━━━━━━━━━━━━━━━━━━━━\u001B[0m\u001B[37m\u001B[0m \u001B[1m5s\u001B[0m 10ms/step - accuracy: 0.9993 - loss: 0.0027 - val_accuracy: 0.9849 - val_loss: 0.0622\n",
      "Epoch 11/15\n",
      "\u001B[1m469/469\u001B[0m \u001B[32m━━━━━━━━━━━━━━━━━━━━\u001B[0m\u001B[37m\u001B[0m \u001B[1m5s\u001B[0m 10ms/step - accuracy: 0.9991 - loss: 0.0030 - val_accuracy: 0.9858 - val_loss: 0.0590\n",
      "Epoch 12/15\n",
      "\u001B[1m469/469\u001B[0m \u001B[32m━━━━━━━━━━━━━━━━━━━━\u001B[0m\u001B[37m\u001B[0m \u001B[1m5s\u001B[0m 10ms/step - accuracy: 0.9992 - loss: 0.0025 - val_accuracy: 0.9861 - val_loss: 0.0637\n",
      "Epoch 13/15\n",
      "\u001B[1m469/469\u001B[0m \u001B[32m━━━━━━━━━━━━━━━━━━━━\u001B[0m\u001B[37m\u001B[0m \u001B[1m5s\u001B[0m 10ms/step - accuracy: 0.9985 - loss: 0.0054 - val_accuracy: 0.9858 - val_loss: 0.0593\n",
      "Epoch 14/15\n",
      "\u001B[1m469/469\u001B[0m \u001B[32m━━━━━━━━━━━━━━━━━━━━\u001B[0m\u001B[37m\u001B[0m \u001B[1m5s\u001B[0m 10ms/step - accuracy: 0.9992 - loss: 0.0024 - val_accuracy: 0.9866 - val_loss: 0.0599\n",
      "Epoch 15/15\n",
      "\u001B[1m469/469\u001B[0m \u001B[32m━━━━━━━━━━━━━━━━━━━━\u001B[0m\u001B[37m\u001B[0m \u001B[1m5s\u001B[0m 10ms/step - accuracy: 0.9994 - loss: 0.0018 - val_accuracy: 0.9868 - val_loss: 0.0584\n"
     ]
    },
    {
     "data": {
      "text/plain": [
       "<keras.src.callbacks.history.History at 0x2dd60922570>"
      ]
     },
     "execution_count": 141,
     "metadata": {},
     "output_type": "execute_result"
    }
   ],
   "execution_count": 141
  },
  {
   "metadata": {
    "ExecuteTime": {
     "end_time": "2024-11-22T22:29:29.759175Z",
     "start_time": "2024-11-22T22:29:28.958086Z"
    }
   },
   "cell_type": "code",
   "source": "resultado5 = rede_neural.evaluate(X_teste, y_teste)",
   "id": "5928b2032640d1f0",
   "outputs": [
    {
     "name": "stdout",
     "output_type": "stream",
     "text": [
      "\u001B[1m313/313\u001B[0m \u001B[32m━━━━━━━━━━━━━━━━━━━━\u001B[0m\u001B[37m\u001B[0m \u001B[1m1s\u001B[0m 2ms/step - accuracy: 0.9838 - loss: 0.0474\n"
     ]
    }
   ],
   "execution_count": 139
  },
  {
   "metadata": {
    "ExecuteTime": {
     "end_time": "2024-11-22T22:51:05.754517Z",
     "start_time": "2024-11-22T22:51:05.081504Z"
    }
   },
   "cell_type": "code",
   "source": "resultado15 = rede_neural.evaluate(X_teste, y_teste)",
   "id": "7edc2aee4b15600d",
   "outputs": [
    {
     "name": "stdout",
     "output_type": "stream",
     "text": [
      "\u001B[1m313/313\u001B[0m \u001B[32m━━━━━━━━━━━━━━━━━━━━\u001B[0m\u001B[37m\u001B[0m \u001B[1m1s\u001B[0m 2ms/step - accuracy: 0.9828 - loss: 0.0783\n"
     ]
    }
   ],
   "execution_count": 142
  },
  {
   "metadata": {
    "ExecuteTime": {
     "end_time": "2024-11-22T22:51:12.728374Z",
     "start_time": "2024-11-22T22:51:12.722805Z"
    }
   },
   "cell_type": "code",
   "source": "resultado5",
   "id": "7d3d8011784bae0e",
   "outputs": [
    {
     "data": {
      "text/plain": [
       "[0.04020567983388901, 0.9864000082015991]"
      ]
     },
     "execution_count": 143,
     "metadata": {},
     "output_type": "execute_result"
    }
   ],
   "execution_count": 143
  },
  {
   "metadata": {
    "ExecuteTime": {
     "end_time": "2024-11-22T22:51:20.367192Z",
     "start_time": "2024-11-22T22:51:20.361644Z"
    }
   },
   "cell_type": "code",
   "source": "resultado15",
   "id": "e3a129479adccede",
   "outputs": [
    {
     "data": {
      "text/plain": [
       "[0.058447398245334625, 0.9868000149726868]"
      ]
     },
     "execution_count": 145,
     "metadata": {},
     "output_type": "execute_result"
    }
   ],
   "execution_count": 145
  },
  {
   "metadata": {
    "ExecuteTime": {
     "end_time": "2024-11-22T22:54:17.779476Z",
     "start_time": "2024-11-22T22:54:17.658488Z"
    }
   },
   "cell_type": "code",
   "source": [
    "# Cria um modelo sequencial, onde as camadas são adicionadas uma após a outra.\n",
    "rede_neural = Sequential()\n",
    "\n",
    "# Adiciona a camada de entrada ao modelo.\n",
    "# O formato da entrada é (28, 28, 1), onde 28x28 são as dimensões da imagem e 1 é o número de canais (escala de cinza).\n",
    "rede_neural.add(InputLayer(shape =(28, 28, 1)))\n",
    "\n",
    "# Adiciona uma camada convolucional 2D com 32 filtros, onde cada filtro é de tamanho 3x3.\n",
    "# A função de ativação 'relu' é usada para introduzir não-linearidade.\n",
    "rede_neural.add(Conv2D(filters = 32, kernel_size = (3, 3), activation = 'relu'))\n",
    "\n",
    "# Adiciona uma camada de normalização em lote (BatchNormalization), que ajuda a estabilizar e acelerar o treinamento\n",
    "# ao normalizar a ativação das camadas.\n",
    "rede_neural.add(BatchNormalization())\n",
    "\n",
    "# Adiciona uma camada de max pooling 2D com uma janela de pooling de 2x2.\n",
    "# Isso reduz a dimensionalidade das imagens e destaca as características mais importantes.\n",
    "rede_neural.add(MaxPooling2D(pool_size = (2, 2)))\n",
    "\n",
    "# Adiciona outra camada convolucional 2D com 32 filtros, ativação 'relu', e com 3x3 como tamanho de filtro.\n",
    "rede_neural.add(Conv2D(filters = 32, kernel_size = (3, 3), activation = 'relu'))\n",
    "\n",
    "# Outra camada de normalização em lote para estabilizar ainda mais o treinamento.\n",
    "rede_neural.add(BatchNormalization())\n",
    "\n",
    "# Outra camada de max pooling para continuar a redução dimensional.\n",
    "rede_neural.add(MaxPooling2D(pool_size = (2, 2)))\n",
    "\n",
    "# Achata a saída da camada anterior (transforma a matriz 2D resultante de convolução e pooling em um vetor unidimensional).\n",
    "rede_neural.add(Flatten())\n",
    "\n",
    "# Adiciona uma camada densa com 128 unidades e ativação 'relu'.\n",
    "# Essa camada aprende representações mais complexas dos dados.\n",
    "rede_neural.add(Dense(units = 128, activation = 'relu'))\n",
    "\n",
    "# Adiciona uma camada de dropout com taxa de 20% para evitar overfitting.\n",
    "# Durante o treinamento, 20% das unidades serão desativadas aleatoriamente.\n",
    "rede_neural.add(Dropout(0.2))\n",
    "\n",
    "# Adiciona outra camada densa com 128 unidades e ativação 'relu'.\n",
    "rede_neural.add(Dense(units = 128, activation = 'relu'))\n",
    "\n",
    "# Outra camada de dropout para regularização adicional.\n",
    "rede_neural.add(Dropout(0.2))\n",
    "\n",
    "# Adiciona a camada de saída com 10 unidades, uma para cada classe (dígitos de 0 a 9).\n",
    "# A função de ativação 'softmax' é usada para gerar probabilidades para cada classe.\n",
    "# O modelo irá prever a classe com a maior probabilidade.\n",
    "rede_neural.add(Dense(units = 10, activation = 'softmax'))\n"
   ],
   "id": "72bc28ea2d983ad7",
   "outputs": [],
   "execution_count": 150
  },
  {
   "metadata": {
    "ExecuteTime": {
     "end_time": "2024-11-22T22:54:18.285803Z",
     "start_time": "2024-11-22T22:54:18.255402Z"
    }
   },
   "cell_type": "code",
   "source": "rede_neural.summary()",
   "id": "bb01f060436c6f25",
   "outputs": [
    {
     "data": {
      "text/plain": [
       "\u001B[1mModel: \"sequential_11\"\u001B[0m\n"
      ],
      "text/html": [
       "<pre style=\"white-space:pre;overflow-x:auto;line-height:normal;font-family:Menlo,'DejaVu Sans Mono',consolas,'Courier New',monospace\"><span style=\"font-weight: bold\">Model: \"sequential_11\"</span>\n",
       "</pre>\n"
      ]
     },
     "metadata": {},
     "output_type": "display_data"
    },
    {
     "data": {
      "text/plain": [
       "┏━━━━━━━━━━━━━━━━━━━━━━━━━━━━━━━━━┳━━━━━━━━━━━━━━━━━━━━━━━━┳━━━━━━━━━━━━━━━┓\n",
       "┃\u001B[1m \u001B[0m\u001B[1mLayer (type)                   \u001B[0m\u001B[1m \u001B[0m┃\u001B[1m \u001B[0m\u001B[1mOutput Shape          \u001B[0m\u001B[1m \u001B[0m┃\u001B[1m \u001B[0m\u001B[1m      Param #\u001B[0m\u001B[1m \u001B[0m┃\n",
       "┡━━━━━━━━━━━━━━━━━━━━━━━━━━━━━━━━━╇━━━━━━━━━━━━━━━━━━━━━━━━╇━━━━━━━━━━━━━━━┩\n",
       "│ conv2d_11 (\u001B[38;5;33mConv2D\u001B[0m)              │ (\u001B[38;5;45mNone\u001B[0m, \u001B[38;5;34m26\u001B[0m, \u001B[38;5;34m26\u001B[0m, \u001B[38;5;34m32\u001B[0m)     │           \u001B[38;5;34m320\u001B[0m │\n",
       "├─────────────────────────────────┼────────────────────────┼───────────────┤\n",
       "│ batch_normalization_6           │ (\u001B[38;5;45mNone\u001B[0m, \u001B[38;5;34m26\u001B[0m, \u001B[38;5;34m26\u001B[0m, \u001B[38;5;34m32\u001B[0m)     │           \u001B[38;5;34m128\u001B[0m │\n",
       "│ (\u001B[38;5;33mBatchNormalization\u001B[0m)            │                        │               │\n",
       "├─────────────────────────────────┼────────────────────────┼───────────────┤\n",
       "│ max_pooling2d_11 (\u001B[38;5;33mMaxPooling2D\u001B[0m) │ (\u001B[38;5;45mNone\u001B[0m, \u001B[38;5;34m13\u001B[0m, \u001B[38;5;34m13\u001B[0m, \u001B[38;5;34m32\u001B[0m)     │             \u001B[38;5;34m0\u001B[0m │\n",
       "├─────────────────────────────────┼────────────────────────┼───────────────┤\n",
       "│ conv2d_12 (\u001B[38;5;33mConv2D\u001B[0m)              │ (\u001B[38;5;45mNone\u001B[0m, \u001B[38;5;34m11\u001B[0m, \u001B[38;5;34m11\u001B[0m, \u001B[38;5;34m32\u001B[0m)     │         \u001B[38;5;34m9,248\u001B[0m │\n",
       "├─────────────────────────────────┼────────────────────────┼───────────────┤\n",
       "│ batch_normalization_7           │ (\u001B[38;5;45mNone\u001B[0m, \u001B[38;5;34m11\u001B[0m, \u001B[38;5;34m11\u001B[0m, \u001B[38;5;34m32\u001B[0m)     │           \u001B[38;5;34m128\u001B[0m │\n",
       "│ (\u001B[38;5;33mBatchNormalization\u001B[0m)            │                        │               │\n",
       "├─────────────────────────────────┼────────────────────────┼───────────────┤\n",
       "│ max_pooling2d_12 (\u001B[38;5;33mMaxPooling2D\u001B[0m) │ (\u001B[38;5;45mNone\u001B[0m, \u001B[38;5;34m5\u001B[0m, \u001B[38;5;34m5\u001B[0m, \u001B[38;5;34m32\u001B[0m)       │             \u001B[38;5;34m0\u001B[0m │\n",
       "├─────────────────────────────────┼────────────────────────┼───────────────┤\n",
       "│ flatten_8 (\u001B[38;5;33mFlatten\u001B[0m)             │ (\u001B[38;5;45mNone\u001B[0m, \u001B[38;5;34m800\u001B[0m)            │             \u001B[38;5;34m0\u001B[0m │\n",
       "├─────────────────────────────────┼────────────────────────┼───────────────┤\n",
       "│ dense_20 (\u001B[38;5;33mDense\u001B[0m)                │ (\u001B[38;5;45mNone\u001B[0m, \u001B[38;5;34m128\u001B[0m)            │       \u001B[38;5;34m102,528\u001B[0m │\n",
       "├─────────────────────────────────┼────────────────────────┼───────────────┤\n",
       "│ dropout_9 (\u001B[38;5;33mDropout\u001B[0m)             │ (\u001B[38;5;45mNone\u001B[0m, \u001B[38;5;34m128\u001B[0m)            │             \u001B[38;5;34m0\u001B[0m │\n",
       "├─────────────────────────────────┼────────────────────────┼───────────────┤\n",
       "│ dense_21 (\u001B[38;5;33mDense\u001B[0m)                │ (\u001B[38;5;45mNone\u001B[0m, \u001B[38;5;34m128\u001B[0m)            │        \u001B[38;5;34m16,512\u001B[0m │\n",
       "├─────────────────────────────────┼────────────────────────┼───────────────┤\n",
       "│ dropout_10 (\u001B[38;5;33mDropout\u001B[0m)            │ (\u001B[38;5;45mNone\u001B[0m, \u001B[38;5;34m128\u001B[0m)            │             \u001B[38;5;34m0\u001B[0m │\n",
       "├─────────────────────────────────┼────────────────────────┼───────────────┤\n",
       "│ dense_22 (\u001B[38;5;33mDense\u001B[0m)                │ (\u001B[38;5;45mNone\u001B[0m, \u001B[38;5;34m10\u001B[0m)             │         \u001B[38;5;34m1,290\u001B[0m │\n",
       "└─────────────────────────────────┴────────────────────────┴───────────────┘\n"
      ],
      "text/html": [
       "<pre style=\"white-space:pre;overflow-x:auto;line-height:normal;font-family:Menlo,'DejaVu Sans Mono',consolas,'Courier New',monospace\">┏━━━━━━━━━━━━━━━━━━━━━━━━━━━━━━━━━┳━━━━━━━━━━━━━━━━━━━━━━━━┳━━━━━━━━━━━━━━━┓\n",
       "┃<span style=\"font-weight: bold\"> Layer (type)                    </span>┃<span style=\"font-weight: bold\"> Output Shape           </span>┃<span style=\"font-weight: bold\">       Param # </span>┃\n",
       "┡━━━━━━━━━━━━━━━━━━━━━━━━━━━━━━━━━╇━━━━━━━━━━━━━━━━━━━━━━━━╇━━━━━━━━━━━━━━━┩\n",
       "│ conv2d_11 (<span style=\"color: #0087ff; text-decoration-color: #0087ff\">Conv2D</span>)              │ (<span style=\"color: #00d7ff; text-decoration-color: #00d7ff\">None</span>, <span style=\"color: #00af00; text-decoration-color: #00af00\">26</span>, <span style=\"color: #00af00; text-decoration-color: #00af00\">26</span>, <span style=\"color: #00af00; text-decoration-color: #00af00\">32</span>)     │           <span style=\"color: #00af00; text-decoration-color: #00af00\">320</span> │\n",
       "├─────────────────────────────────┼────────────────────────┼───────────────┤\n",
       "│ batch_normalization_6           │ (<span style=\"color: #00d7ff; text-decoration-color: #00d7ff\">None</span>, <span style=\"color: #00af00; text-decoration-color: #00af00\">26</span>, <span style=\"color: #00af00; text-decoration-color: #00af00\">26</span>, <span style=\"color: #00af00; text-decoration-color: #00af00\">32</span>)     │           <span style=\"color: #00af00; text-decoration-color: #00af00\">128</span> │\n",
       "│ (<span style=\"color: #0087ff; text-decoration-color: #0087ff\">BatchNormalization</span>)            │                        │               │\n",
       "├─────────────────────────────────┼────────────────────────┼───────────────┤\n",
       "│ max_pooling2d_11 (<span style=\"color: #0087ff; text-decoration-color: #0087ff\">MaxPooling2D</span>) │ (<span style=\"color: #00d7ff; text-decoration-color: #00d7ff\">None</span>, <span style=\"color: #00af00; text-decoration-color: #00af00\">13</span>, <span style=\"color: #00af00; text-decoration-color: #00af00\">13</span>, <span style=\"color: #00af00; text-decoration-color: #00af00\">32</span>)     │             <span style=\"color: #00af00; text-decoration-color: #00af00\">0</span> │\n",
       "├─────────────────────────────────┼────────────────────────┼───────────────┤\n",
       "│ conv2d_12 (<span style=\"color: #0087ff; text-decoration-color: #0087ff\">Conv2D</span>)              │ (<span style=\"color: #00d7ff; text-decoration-color: #00d7ff\">None</span>, <span style=\"color: #00af00; text-decoration-color: #00af00\">11</span>, <span style=\"color: #00af00; text-decoration-color: #00af00\">11</span>, <span style=\"color: #00af00; text-decoration-color: #00af00\">32</span>)     │         <span style=\"color: #00af00; text-decoration-color: #00af00\">9,248</span> │\n",
       "├─────────────────────────────────┼────────────────────────┼───────────────┤\n",
       "│ batch_normalization_7           │ (<span style=\"color: #00d7ff; text-decoration-color: #00d7ff\">None</span>, <span style=\"color: #00af00; text-decoration-color: #00af00\">11</span>, <span style=\"color: #00af00; text-decoration-color: #00af00\">11</span>, <span style=\"color: #00af00; text-decoration-color: #00af00\">32</span>)     │           <span style=\"color: #00af00; text-decoration-color: #00af00\">128</span> │\n",
       "│ (<span style=\"color: #0087ff; text-decoration-color: #0087ff\">BatchNormalization</span>)            │                        │               │\n",
       "├─────────────────────────────────┼────────────────────────┼───────────────┤\n",
       "│ max_pooling2d_12 (<span style=\"color: #0087ff; text-decoration-color: #0087ff\">MaxPooling2D</span>) │ (<span style=\"color: #00d7ff; text-decoration-color: #00d7ff\">None</span>, <span style=\"color: #00af00; text-decoration-color: #00af00\">5</span>, <span style=\"color: #00af00; text-decoration-color: #00af00\">5</span>, <span style=\"color: #00af00; text-decoration-color: #00af00\">32</span>)       │             <span style=\"color: #00af00; text-decoration-color: #00af00\">0</span> │\n",
       "├─────────────────────────────────┼────────────────────────┼───────────────┤\n",
       "│ flatten_8 (<span style=\"color: #0087ff; text-decoration-color: #0087ff\">Flatten</span>)             │ (<span style=\"color: #00d7ff; text-decoration-color: #00d7ff\">None</span>, <span style=\"color: #00af00; text-decoration-color: #00af00\">800</span>)            │             <span style=\"color: #00af00; text-decoration-color: #00af00\">0</span> │\n",
       "├─────────────────────────────────┼────────────────────────┼───────────────┤\n",
       "│ dense_20 (<span style=\"color: #0087ff; text-decoration-color: #0087ff\">Dense</span>)                │ (<span style=\"color: #00d7ff; text-decoration-color: #00d7ff\">None</span>, <span style=\"color: #00af00; text-decoration-color: #00af00\">128</span>)            │       <span style=\"color: #00af00; text-decoration-color: #00af00\">102,528</span> │\n",
       "├─────────────────────────────────┼────────────────────────┼───────────────┤\n",
       "│ dropout_9 (<span style=\"color: #0087ff; text-decoration-color: #0087ff\">Dropout</span>)             │ (<span style=\"color: #00d7ff; text-decoration-color: #00d7ff\">None</span>, <span style=\"color: #00af00; text-decoration-color: #00af00\">128</span>)            │             <span style=\"color: #00af00; text-decoration-color: #00af00\">0</span> │\n",
       "├─────────────────────────────────┼────────────────────────┼───────────────┤\n",
       "│ dense_21 (<span style=\"color: #0087ff; text-decoration-color: #0087ff\">Dense</span>)                │ (<span style=\"color: #00d7ff; text-decoration-color: #00d7ff\">None</span>, <span style=\"color: #00af00; text-decoration-color: #00af00\">128</span>)            │        <span style=\"color: #00af00; text-decoration-color: #00af00\">16,512</span> │\n",
       "├─────────────────────────────────┼────────────────────────┼───────────────┤\n",
       "│ dropout_10 (<span style=\"color: #0087ff; text-decoration-color: #0087ff\">Dropout</span>)            │ (<span style=\"color: #00d7ff; text-decoration-color: #00d7ff\">None</span>, <span style=\"color: #00af00; text-decoration-color: #00af00\">128</span>)            │             <span style=\"color: #00af00; text-decoration-color: #00af00\">0</span> │\n",
       "├─────────────────────────────────┼────────────────────────┼───────────────┤\n",
       "│ dense_22 (<span style=\"color: #0087ff; text-decoration-color: #0087ff\">Dense</span>)                │ (<span style=\"color: #00d7ff; text-decoration-color: #00d7ff\">None</span>, <span style=\"color: #00af00; text-decoration-color: #00af00\">10</span>)             │         <span style=\"color: #00af00; text-decoration-color: #00af00\">1,290</span> │\n",
       "└─────────────────────────────────┴────────────────────────┴───────────────┘\n",
       "</pre>\n"
      ]
     },
     "metadata": {},
     "output_type": "display_data"
    },
    {
     "data": {
      "text/plain": [
       "\u001B[1m Total params: \u001B[0m\u001B[38;5;34m130,154\u001B[0m (508.41 KB)\n"
      ],
      "text/html": [
       "<pre style=\"white-space:pre;overflow-x:auto;line-height:normal;font-family:Menlo,'DejaVu Sans Mono',consolas,'Courier New',monospace\"><span style=\"font-weight: bold\"> Total params: </span><span style=\"color: #00af00; text-decoration-color: #00af00\">130,154</span> (508.41 KB)\n",
       "</pre>\n"
      ]
     },
     "metadata": {},
     "output_type": "display_data"
    },
    {
     "data": {
      "text/plain": [
       "\u001B[1m Trainable params: \u001B[0m\u001B[38;5;34m130,026\u001B[0m (507.91 KB)\n"
      ],
      "text/html": [
       "<pre style=\"white-space:pre;overflow-x:auto;line-height:normal;font-family:Menlo,'DejaVu Sans Mono',consolas,'Courier New',monospace\"><span style=\"font-weight: bold\"> Trainable params: </span><span style=\"color: #00af00; text-decoration-color: #00af00\">130,026</span> (507.91 KB)\n",
       "</pre>\n"
      ]
     },
     "metadata": {},
     "output_type": "display_data"
    },
    {
     "data": {
      "text/plain": [
       "\u001B[1m Non-trainable params: \u001B[0m\u001B[38;5;34m128\u001B[0m (512.00 B)\n"
      ],
      "text/html": [
       "<pre style=\"white-space:pre;overflow-x:auto;line-height:normal;font-family:Menlo,'DejaVu Sans Mono',consolas,'Courier New',monospace\"><span style=\"font-weight: bold\"> Non-trainable params: </span><span style=\"color: #00af00; text-decoration-color: #00af00\">128</span> (512.00 B)\n",
       "</pre>\n"
      ]
     },
     "metadata": {},
     "output_type": "display_data"
    }
   ],
   "execution_count": 151
  },
  {
   "metadata": {
    "ExecuteTime": {
     "end_time": "2024-11-22T22:55:11.054916Z",
     "start_time": "2024-11-22T22:55:11.046751Z"
    }
   },
   "cell_type": "code",
   "source": "rede_neural.compile(loss = 'categorical_crossentropy', optimizer = 'adam', metrics = ['accuracy'])",
   "id": "d6f8841fc2948891",
   "outputs": [],
   "execution_count": 152
  },
  {
   "metadata": {
    "ExecuteTime": {
     "end_time": "2024-11-22T22:56:18.172253Z",
     "start_time": "2024-11-22T22:55:16.096020Z"
    }
   },
   "cell_type": "code",
   "source": [
    "rede_neural.fit(X_treinamento, y_treinamento, batch_size = 128,\n",
    "                epochs = 5, validation_data = (X_teste, y_teste))"
   ],
   "id": "eb80fc7a57a3b75e",
   "outputs": [
    {
     "name": "stdout",
     "output_type": "stream",
     "text": [
      "Epoch 1/5\n",
      "\u001B[1m469/469\u001B[0m \u001B[32m━━━━━━━━━━━━━━━━━━━━\u001B[0m\u001B[37m\u001B[0m \u001B[1m14s\u001B[0m 25ms/step - accuracy: 0.8576 - loss: 0.4647 - val_accuracy: 0.9642 - val_loss: 0.1199\n",
      "Epoch 2/5\n",
      "\u001B[1m469/469\u001B[0m \u001B[32m━━━━━━━━━━━━━━━━━━━━\u001B[0m\u001B[37m\u001B[0m \u001B[1m12s\u001B[0m 25ms/step - accuracy: 0.9806 - loss: 0.0673 - val_accuracy: 0.9879 - val_loss: 0.0368\n",
      "Epoch 3/5\n",
      "\u001B[1m469/469\u001B[0m \u001B[32m━━━━━━━━━━━━━━━━━━━━\u001B[0m\u001B[37m\u001B[0m \u001B[1m12s\u001B[0m 25ms/step - accuracy: 0.9859 - loss: 0.0461 - val_accuracy: 0.9882 - val_loss: 0.0390\n",
      "Epoch 4/5\n",
      "\u001B[1m469/469\u001B[0m \u001B[32m━━━━━━━━━━━━━━━━━━━━\u001B[0m\u001B[37m\u001B[0m \u001B[1m11s\u001B[0m 24ms/step - accuracy: 0.9892 - loss: 0.0355 - val_accuracy: 0.9893 - val_loss: 0.0355\n",
      "Epoch 5/5\n",
      "\u001B[1m469/469\u001B[0m \u001B[32m━━━━━━━━━━━━━━━━━━━━\u001B[0m\u001B[37m\u001B[0m \u001B[1m13s\u001B[0m 27ms/step - accuracy: 0.9912 - loss: 0.0300 - val_accuracy: 0.9880 - val_loss: 0.0330\n"
     ]
    },
    {
     "data": {
      "text/plain": [
       "<keras.src.callbacks.history.History at 0x2dd52380aa0>"
      ]
     },
     "execution_count": 153,
     "metadata": {},
     "output_type": "execute_result"
    }
   ],
   "execution_count": 153
  },
  {
   "metadata": {
    "ExecuteTime": {
     "end_time": "2024-11-22T22:56:55.600368Z",
     "start_time": "2024-11-22T22:56:54.575241Z"
    }
   },
   "cell_type": "code",
   "source": "resultado = rede_neural.evaluate(X_teste, y_teste)",
   "id": "35f8394d1cb9fadb",
   "outputs": [
    {
     "name": "stdout",
     "output_type": "stream",
     "text": [
      "\u001B[1m313/313\u001B[0m \u001B[32m━━━━━━━━━━━━━━━━━━━━\u001B[0m\u001B[37m\u001B[0m \u001B[1m1s\u001B[0m 3ms/step - accuracy: 0.9852 - loss: 0.0408\n"
     ]
    }
   ],
   "execution_count": 154
  },
  {
   "metadata": {
    "ExecuteTime": {
     "end_time": "2024-11-22T22:57:05.961636Z",
     "start_time": "2024-11-22T22:57:05.954901Z"
    }
   },
   "cell_type": "code",
   "source": "resultado",
   "id": "bab7b3c29babda07",
   "outputs": [
    {
     "data": {
      "text/plain": [
       "[0.03303634002804756, 0.9879999756813049]"
      ]
     },
     "execution_count": 155,
     "metadata": {},
     "output_type": "execute_result"
    }
   ],
   "execution_count": 155
  },
  {
   "metadata": {
    "ExecuteTime": {
     "end_time": "2024-11-22T23:02:25.163990Z",
     "start_time": "2024-11-22T22:58:28.619897Z"
    }
   },
   "cell_type": "code",
   "source": [
    "rede_neural.fit(X_treinamento, y_treinamento, batch_size=128,\n",
    "                epochs=15, validation_data=(X_teste, y_teste))"
   ],
   "id": "2eb5e19d7f3624d3",
   "outputs": [
    {
     "name": "stdout",
     "output_type": "stream",
     "text": [
      "Epoch 1/15\n",
      "\u001B[1m469/469\u001B[0m \u001B[32m━━━━━━━━━━━━━━━━━━━━\u001B[0m\u001B[37m\u001B[0m \u001B[1m16s\u001B[0m 34ms/step - accuracy: 0.9927 - loss: 0.0244 - val_accuracy: 0.9895 - val_loss: 0.0341\n",
      "Epoch 2/15\n",
      "\u001B[1m469/469\u001B[0m \u001B[32m━━━━━━━━━━━━━━━━━━━━\u001B[0m\u001B[37m\u001B[0m \u001B[1m18s\u001B[0m 39ms/step - accuracy: 0.9926 - loss: 0.0215 - val_accuracy: 0.9907 - val_loss: 0.0328\n",
      "Epoch 3/15\n",
      "\u001B[1m469/469\u001B[0m \u001B[32m━━━━━━━━━━━━━━━━━━━━\u001B[0m\u001B[37m\u001B[0m \u001B[1m15s\u001B[0m 33ms/step - accuracy: 0.9945 - loss: 0.0176 - val_accuracy: 0.9905 - val_loss: 0.0325\n",
      "Epoch 4/15\n",
      "\u001B[1m469/469\u001B[0m \u001B[32m━━━━━━━━━━━━━━━━━━━━\u001B[0m\u001B[37m\u001B[0m \u001B[1m15s\u001B[0m 32ms/step - accuracy: 0.9954 - loss: 0.0151 - val_accuracy: 0.9917 - val_loss: 0.0302\n",
      "Epoch 5/15\n",
      "\u001B[1m469/469\u001B[0m \u001B[32m━━━━━━━━━━━━━━━━━━━━\u001B[0m\u001B[37m\u001B[0m \u001B[1m16s\u001B[0m 35ms/step - accuracy: 0.9948 - loss: 0.0164 - val_accuracy: 0.9895 - val_loss: 0.0362\n",
      "Epoch 6/15\n",
      "\u001B[1m469/469\u001B[0m \u001B[32m━━━━━━━━━━━━━━━━━━━━\u001B[0m\u001B[37m\u001B[0m \u001B[1m17s\u001B[0m 35ms/step - accuracy: 0.9965 - loss: 0.0118 - val_accuracy: 0.9913 - val_loss: 0.0327\n",
      "Epoch 7/15\n",
      "\u001B[1m469/469\u001B[0m \u001B[32m━━━━━━━━━━━━━━━━━━━━\u001B[0m\u001B[37m\u001B[0m \u001B[1m17s\u001B[0m 36ms/step - accuracy: 0.9950 - loss: 0.0146 - val_accuracy: 0.9858 - val_loss: 0.0472\n",
      "Epoch 8/15\n",
      "\u001B[1m469/469\u001B[0m \u001B[32m━━━━━━━━━━━━━━━━━━━━\u001B[0m\u001B[37m\u001B[0m \u001B[1m15s\u001B[0m 32ms/step - accuracy: 0.9954 - loss: 0.0148 - val_accuracy: 0.9921 - val_loss: 0.0315\n",
      "Epoch 9/15\n",
      "\u001B[1m469/469\u001B[0m \u001B[32m━━━━━━━━━━━━━━━━━━━━\u001B[0m\u001B[37m\u001B[0m \u001B[1m17s\u001B[0m 35ms/step - accuracy: 0.9966 - loss: 0.0103 - val_accuracy: 0.9925 - val_loss: 0.0306\n",
      "Epoch 10/15\n",
      "\u001B[1m469/469\u001B[0m \u001B[32m━━━━━━━━━━━━━━━━━━━━\u001B[0m\u001B[37m\u001B[0m \u001B[1m14s\u001B[0m 29ms/step - accuracy: 0.9968 - loss: 0.0098 - val_accuracy: 0.9916 - val_loss: 0.0369\n",
      "Epoch 11/15\n",
      "\u001B[1m469/469\u001B[0m \u001B[32m━━━━━━━━━━━━━━━━━━━━\u001B[0m\u001B[37m\u001B[0m \u001B[1m14s\u001B[0m 29ms/step - accuracy: 0.9967 - loss: 0.0103 - val_accuracy: 0.9923 - val_loss: 0.0316\n",
      "Epoch 12/15\n",
      "\u001B[1m469/469\u001B[0m \u001B[32m━━━━━━━━━━━━━━━━━━━━\u001B[0m\u001B[37m\u001B[0m \u001B[1m15s\u001B[0m 31ms/step - accuracy: 0.9959 - loss: 0.0125 - val_accuracy: 0.9920 - val_loss: 0.0346\n",
      "Epoch 13/15\n",
      "\u001B[1m469/469\u001B[0m \u001B[32m━━━━━━━━━━━━━━━━━━━━\u001B[0m\u001B[37m\u001B[0m \u001B[1m16s\u001B[0m 33ms/step - accuracy: 0.9973 - loss: 0.0083 - val_accuracy: 0.9906 - val_loss: 0.0381\n",
      "Epoch 14/15\n",
      "\u001B[1m469/469\u001B[0m \u001B[32m━━━━━━━━━━━━━━━━━━━━\u001B[0m\u001B[37m\u001B[0m \u001B[1m15s\u001B[0m 32ms/step - accuracy: 0.9973 - loss: 0.0089 - val_accuracy: 0.9885 - val_loss: 0.0561\n",
      "Epoch 15/15\n",
      "\u001B[1m469/469\u001B[0m \u001B[32m━━━━━━━━━━━━━━━━━━━━\u001B[0m\u001B[37m\u001B[0m \u001B[1m16s\u001B[0m 35ms/step - accuracy: 0.9967 - loss: 0.0104 - val_accuracy: 0.9937 - val_loss: 0.0285\n"
     ]
    },
    {
     "data": {
      "text/plain": [
       "<keras.src.callbacks.history.History at 0x2dd61e56810>"
      ]
     },
     "execution_count": 156,
     "metadata": {},
     "output_type": "execute_result"
    }
   ],
   "execution_count": 156
  },
  {
   "metadata": {
    "ExecuteTime": {
     "end_time": "2024-11-22T23:02:54.218110Z",
     "start_time": "2024-11-22T23:02:52.929282Z"
    }
   },
   "cell_type": "code",
   "source": "resultado = rede_neural.evaluate(X_teste, y_teste)",
   "id": "52d73227360c643f",
   "outputs": [
    {
     "name": "stdout",
     "output_type": "stream",
     "text": [
      "\u001B[1m313/313\u001B[0m \u001B[32m━━━━━━━━━━━━━━━━━━━━\u001B[0m\u001B[37m\u001B[0m \u001B[1m1s\u001B[0m 4ms/step - accuracy: 0.9921 - loss: 0.0332\n"
     ]
    }
   ],
   "execution_count": 157
  },
  {
   "metadata": {
    "ExecuteTime": {
     "end_time": "2024-11-22T23:03:00.362575Z",
     "start_time": "2024-11-22T23:03:00.355573Z"
    }
   },
   "cell_type": "code",
   "source": "resultado",
   "id": "70b80421704f4cc2",
   "outputs": [
    {
     "data": {
      "text/plain": [
       "[0.02848217822611332, 0.9937000274658203]"
      ]
     },
     "execution_count": 158,
     "metadata": {},
     "output_type": "execute_result"
    }
   ],
   "execution_count": 158
  },
  {
   "metadata": {},
   "cell_type": "code",
   "outputs": [],
   "execution_count": null,
   "source": "",
   "id": "494a3bccb9f0df06"
  }
 ],
 "metadata": {
  "kernelspec": {
   "display_name": "Python 3",
   "language": "python",
   "name": "python3"
  },
  "language_info": {
   "codemirror_mode": {
    "name": "ipython",
    "version": 2
   },
   "file_extension": ".py",
   "mimetype": "text/x-python",
   "name": "python",
   "nbconvert_exporter": "python",
   "pygments_lexer": "ipython2",
   "version": "2.7.6"
  }
 },
 "nbformat": 4,
 "nbformat_minor": 5
}
