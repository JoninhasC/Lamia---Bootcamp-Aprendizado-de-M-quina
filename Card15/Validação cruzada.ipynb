{
 "cells": [
  {
   "cell_type": "code",
   "id": "initial_id",
   "metadata": {
    "collapsed": true,
    "ExecuteTime": {
     "end_time": "2024-11-22T23:17:49.937647Z",
     "start_time": "2024-11-22T23:17:25.364096Z"
    }
   },
   "source": [
    "# Importa o TensorFlow, uma biblioteca popular para aprendizado de máquina e redes neurais.\n",
    "import tensorflow as tf \n",
    "\n",
    "# Importa o Keras, que é uma API de alto nível para construir e treinar modelos, integrado ao TensorFlow.\n",
    "import keras \n",
    "\n",
    "# Importa o Matplotlib, usado para visualização de dados e gráficos.\n",
    "import matplotlib \n",
    "\n",
    "# Importa o NumPy, uma biblioteca fundamental para operações matemáticas e manipulação de arrays.\n",
    "import numpy as np\n"
   ],
   "outputs": [],
   "execution_count": 1
  },
  {
   "metadata": {
    "ExecuteTime": {
     "end_time": "2024-11-22T23:17:54.296470Z",
     "start_time": "2024-11-22T23:17:49.941457Z"
    }
   },
   "cell_type": "code",
   "source": [
    "# Importa o conjunto de dados MNIST, que contém imagens de dígitos escritos à mão (0-9).\n",
    "from tensorflow.keras.datasets import mnist \n",
    "\n",
    "# Importa a classe Sequential para criar modelos de rede neural sequenciais (camada a camada).\n",
    "from tensorflow.keras.models import Sequential \n",
    "\n",
    "# Importa diversas camadas que podem ser usadas no modelo:\n",
    "# InputLayer: Define a camada de entrada.\n",
    "# Dense: Camada totalmente conectada.\n",
    "# Flatten: Transforma entradas multidimensionais em vetores.\n",
    "# Conv2D: Camada de convolução para processamento de imagens.\n",
    "# MaxPooling2D: Camada de pooling para redução dimensional.\n",
    "from tensorflow.keras.layers import InputLayer, Dense, Flatten, Conv2D, MaxPooling2D \n",
    "\n",
    "# Importa o módulo utils do Keras (com alias np_utils) para ferramentas úteis, como manipulação de rótulos.\n",
    "from tensorflow.keras import utils as np_utils \n",
    "\n",
    "# Importa o NumPy, uma biblioteca fundamental para operações matemáticas e manipulação de arrays.\n",
    "import numpy as np\n",
    "\n",
    "# Importa a classe StratifiedKFold do Scikit-learn para realizar validação cruzada estratificada.\n",
    "# Essa técnica divide os dados em dobras (folds), garantindo que a proporção de classes seja mantida em cada uma delas.\n",
    "from sklearn.model_selection import StratifiedKFold\n"
   ],
   "id": "c5d20b1c0ee64df5",
   "outputs": [],
   "execution_count": 2
  },
  {
   "metadata": {
    "ExecuteTime": {
     "end_time": "2024-11-22T23:17:54.624946Z",
     "start_time": "2024-11-22T23:17:54.297476Z"
    }
   },
   "cell_type": "code",
   "source": [
    "(X, y), (X_teste, y_teste) = mnist.load_data()\n",
    "X = X.reshape(X.shape[0], 28, 28, 1)\n",
    "X = X.astype('float32')\n",
    "X /= 255\n",
    "y = np_utils.to_categorical(y, 10)"
   ],
   "id": "b7657e4b4a5a28f4",
   "outputs": [],
   "execution_count": 3
  },
  {
   "metadata": {
    "ExecuteTime": {
     "end_time": "2024-11-22T23:17:54.636677Z",
     "start_time": "2024-11-22T23:17:54.626951Z"
    }
   },
   "cell_type": "code",
   "source": "np.zeros(5)",
   "id": "a418e47010f851f6",
   "outputs": [
    {
     "data": {
      "text/plain": [
       "array([0., 0., 0., 0., 0.])"
      ]
     },
     "execution_count": 4,
     "metadata": {},
     "output_type": "execute_result"
    }
   ],
   "execution_count": 4
  },
  {
   "metadata": {
    "ExecuteTime": {
     "end_time": "2024-11-22T23:17:54.645918Z",
     "start_time": "2024-11-22T23:17:54.638954Z"
    }
   },
   "cell_type": "code",
   "source": "y.shape, y.shape[0]",
   "id": "d04ef7f6c11c96bd",
   "outputs": [
    {
     "data": {
      "text/plain": [
       "((60000, 10), 60000)"
      ]
     },
     "execution_count": 5,
     "metadata": {},
     "output_type": "execute_result"
    }
   ],
   "execution_count": 5
  },
  {
   "metadata": {
    "ExecuteTime": {
     "end_time": "2024-11-22T23:17:54.654181Z",
     "start_time": "2024-11-22T23:17:54.647359Z"
    }
   },
   "cell_type": "code",
   "source": "np.zeros(shape = (y.shape[0], 1))",
   "id": "16ac2e5a59b5d85b",
   "outputs": [
    {
     "data": {
      "text/plain": [
       "array([[0.],\n",
       "       [0.],\n",
       "       [0.],\n",
       "       ...,\n",
       "       [0.],\n",
       "       [0.],\n",
       "       [0.]])"
      ]
     },
     "execution_count": 6,
     "metadata": {},
     "output_type": "execute_result"
    }
   ],
   "execution_count": 6
  },
  {
   "metadata": {
    "ExecuteTime": {
     "end_time": "2024-11-22T23:17:56.567573Z",
     "start_time": "2024-11-22T23:17:56.561153Z"
    }
   },
   "cell_type": "code",
   "source": [
    "# Define uma semente fixa para o gerador de números aleatórios do NumPy.\n",
    "# Isso garante que os resultados sejam reproduzíveis, pois as operações aleatórias sempre gerarão os mesmos resultados.\n",
    "seed = 5\n",
    "np.random.seed(seed)\n"
   ],
   "id": "55f83e5f332b5afe",
   "outputs": [],
   "execution_count": 7
  },
  {
   "metadata": {
    "ExecuteTime": {
     "end_time": "2024-11-22T23:18:00.509269Z",
     "start_time": "2024-11-22T23:18:00.504192Z"
    }
   },
   "cell_type": "code",
   "source": [
    "# Cria um objeto StratifiedKFold para realizar validação cruzada estratificada.\n",
    "# `n_splits = 5`: Divide os dados em 5 dobras (folds), ou seja, o modelo será treinado e validado 5 vezes, \n",
    "# usando 4 dobras para treinamento e 1 para validação em cada iteração.\n",
    "# `shuffle=True`: Embaralha os dados antes de dividi-los nas dobras, para garantir uma distribuição mais uniforme.\n",
    "# `random_state = seed`: Define a semente para garantir a reprodutibilidade ao embaralhar os dados.\n",
    "kfold = StratifiedKFold(n_splits = 5, shuffle=True, random_state = seed)\n"
   ],
   "id": "7a2c525bca4b5217",
   "outputs": [],
   "execution_count": 8
  },
  {
   "metadata": {
    "ExecuteTime": {
     "end_time": "2024-11-22T23:20:16.924605Z",
     "start_time": "2024-11-22T23:18:04.542175Z"
    }
   },
   "cell_type": "code",
   "source": [
    "resultados = []\n",
    "for indice_treinamento, indice_teste in kfold.split(X, np.zeros(shape = (y.shape[0], 1))):\n",
    "  print(\"Índices treinamento: \", indice_treinamento, \"Índice teste: \", indice_teste)\n",
    "  classificador = Sequential()\n",
    "  classificador.add(InputLayer(shape=(28, 28, 1)))\n",
    "  classificador.add(Conv2D(32, (3, 3), activation='relu'))\n",
    "  classificador.add(MaxPooling2D(pool_size=(2,2)))\n",
    "  classificador.add(Flatten())\n",
    "  classificador.add(Dense(units=128, activation='relu'))\n",
    "  classificador.add(Dense(units=10, activation='softmax'))\n",
    "  classificador.compile(loss='categorical_crossentropy', optimizer='adam', metrics=['accuracy'])\n",
    "  classificador.fit(X[indice_treinamento], y[indice_treinamento], batch_size = 128, epochs = 5)\n",
    "  precisao = classificador.evaluate(X[indice_teste], y[indice_teste])\n",
    "  resultados.append(precisao[1])"
   ],
   "id": "bd3049848e5a77cd",
   "outputs": [
    {
     "name": "stdout",
     "output_type": "stream",
     "text": [
      "Índices treinamento:  [    0     1     2 ... 59997 59998 59999] Índice teste:  [    5     7    10 ... 59983 59985 59993]\n",
      "Epoch 1/5\n",
      "\u001B[1m375/375\u001B[0m \u001B[32m━━━━━━━━━━━━━━━━━━━━\u001B[0m\u001B[37m\u001B[0m \u001B[1m6s\u001B[0m 12ms/step - accuracy: 0.8649 - loss: 0.4920\n",
      "Epoch 2/5\n",
      "\u001B[1m375/375\u001B[0m \u001B[32m━━━━━━━━━━━━━━━━━━━━\u001B[0m\u001B[37m\u001B[0m \u001B[1m4s\u001B[0m 10ms/step - accuracy: 0.9770 - loss: 0.0807\n",
      "Epoch 3/5\n",
      "\u001B[1m375/375\u001B[0m \u001B[32m━━━━━━━━━━━━━━━━━━━━\u001B[0m\u001B[37m\u001B[0m \u001B[1m4s\u001B[0m 10ms/step - accuracy: 0.9857 - loss: 0.0496\n",
      "Epoch 4/5\n",
      "\u001B[1m375/375\u001B[0m \u001B[32m━━━━━━━━━━━━━━━━━━━━\u001B[0m\u001B[37m\u001B[0m \u001B[1m5s\u001B[0m 12ms/step - accuracy: 0.9888 - loss: 0.0356\n",
      "Epoch 5/5\n",
      "\u001B[1m375/375\u001B[0m \u001B[32m━━━━━━━━━━━━━━━━━━━━\u001B[0m\u001B[37m\u001B[0m \u001B[1m5s\u001B[0m 12ms/step - accuracy: 0.9916 - loss: 0.0284\n",
      "\u001B[1m375/375\u001B[0m \u001B[32m━━━━━━━━━━━━━━━━━━━━\u001B[0m\u001B[37m\u001B[0m \u001B[1m1s\u001B[0m 2ms/step - accuracy: 0.9797 - loss: 0.0610\n",
      "Índices treinamento:  [    1     2     5 ... 59995 59996 59999] Índice teste:  [    0     3     4 ... 59989 59997 59998]\n",
      "Epoch 1/5\n",
      "\u001B[1m375/375\u001B[0m \u001B[32m━━━━━━━━━━━━━━━━━━━━\u001B[0m\u001B[37m\u001B[0m \u001B[1m7s\u001B[0m 13ms/step - accuracy: 0.8602 - loss: 0.4863\n",
      "Epoch 2/5\n",
      "\u001B[1m375/375\u001B[0m \u001B[32m━━━━━━━━━━━━━━━━━━━━\u001B[0m\u001B[37m\u001B[0m \u001B[1m5s\u001B[0m 12ms/step - accuracy: 0.9755 - loss: 0.0869\n",
      "Epoch 3/5\n",
      "\u001B[1m375/375\u001B[0m \u001B[32m━━━━━━━━━━━━━━━━━━━━\u001B[0m\u001B[37m\u001B[0m \u001B[1m4s\u001B[0m 12ms/step - accuracy: 0.9853 - loss: 0.0501\n",
      "Epoch 4/5\n",
      "\u001B[1m375/375\u001B[0m \u001B[32m━━━━━━━━━━━━━━━━━━━━\u001B[0m\u001B[37m\u001B[0m \u001B[1m4s\u001B[0m 12ms/step - accuracy: 0.9893 - loss: 0.0378\n",
      "Epoch 5/5\n",
      "\u001B[1m375/375\u001B[0m \u001B[32m━━━━━━━━━━━━━━━━━━━━\u001B[0m\u001B[37m\u001B[0m \u001B[1m4s\u001B[0m 12ms/step - accuracy: 0.9922 - loss: 0.0276\n",
      "\u001B[1m375/375\u001B[0m \u001B[32m━━━━━━━━━━━━━━━━━━━━\u001B[0m\u001B[37m\u001B[0m \u001B[1m1s\u001B[0m 3ms/step - accuracy: 0.9844 - loss: 0.0480\n",
      "Índices treinamento:  [    0     1     3 ... 59996 59997 59998] Índice teste:  [    2    27    33 ... 59991 59995 59999]\n",
      "Epoch 1/5\n",
      "\u001B[1m375/375\u001B[0m \u001B[32m━━━━━━━━━━━━━━━━━━━━\u001B[0m\u001B[37m\u001B[0m \u001B[1m6s\u001B[0m 12ms/step - accuracy: 0.8626 - loss: 0.4877\n",
      "Epoch 2/5\n",
      "\u001B[1m375/375\u001B[0m \u001B[32m━━━━━━━━━━━━━━━━━━━━\u001B[0m\u001B[37m\u001B[0m \u001B[1m5s\u001B[0m 13ms/step - accuracy: 0.9759 - loss: 0.0820\n",
      "Epoch 3/5\n",
      "\u001B[1m375/375\u001B[0m \u001B[32m━━━━━━━━━━━━━━━━━━━━\u001B[0m\u001B[37m\u001B[0m \u001B[1m5s\u001B[0m 12ms/step - accuracy: 0.9871 - loss: 0.0477\n",
      "Epoch 4/5\n",
      "\u001B[1m375/375\u001B[0m \u001B[32m━━━━━━━━━━━━━━━━━━━━\u001B[0m\u001B[37m\u001B[0m \u001B[1m5s\u001B[0m 13ms/step - accuracy: 0.9893 - loss: 0.0368\n",
      "Epoch 5/5\n",
      "\u001B[1m375/375\u001B[0m \u001B[32m━━━━━━━━━━━━━━━━━━━━\u001B[0m\u001B[37m\u001B[0m \u001B[1m5s\u001B[0m 12ms/step - accuracy: 0.9929 - loss: 0.0260\n",
      "\u001B[1m375/375\u001B[0m \u001B[32m━━━━━━━━━━━━━━━━━━━━\u001B[0m\u001B[37m\u001B[0m \u001B[1m1s\u001B[0m 3ms/step - accuracy: 0.9850 - loss: 0.0559\n",
      "Índices treinamento:  [    0     2     3 ... 59997 59998 59999] Índice teste:  [    1     6     9 ... 59967 59975 59977]\n",
      "Epoch 1/5\n",
      "\u001B[1m375/375\u001B[0m \u001B[32m━━━━━━━━━━━━━━━━━━━━\u001B[0m\u001B[37m\u001B[0m \u001B[1m6s\u001B[0m 13ms/step - accuracy: 0.8604 - loss: 0.4951\n",
      "Epoch 2/5\n",
      "\u001B[1m375/375\u001B[0m \u001B[32m━━━━━━━━━━━━━━━━━━━━\u001B[0m\u001B[37m\u001B[0m \u001B[1m5s\u001B[0m 12ms/step - accuracy: 0.9761 - loss: 0.0824\n",
      "Epoch 3/5\n",
      "\u001B[1m375/375\u001B[0m \u001B[32m━━━━━━━━━━━━━━━━━━━━\u001B[0m\u001B[37m\u001B[0m \u001B[1m5s\u001B[0m 13ms/step - accuracy: 0.9860 - loss: 0.0507\n",
      "Epoch 4/5\n",
      "\u001B[1m375/375\u001B[0m \u001B[32m━━━━━━━━━━━━━━━━━━━━\u001B[0m\u001B[37m\u001B[0m \u001B[1m6s\u001B[0m 14ms/step - accuracy: 0.9899 - loss: 0.0334\n",
      "Epoch 5/5\n",
      "\u001B[1m375/375\u001B[0m \u001B[32m━━━━━━━━━━━━━━━━━━━━\u001B[0m\u001B[37m\u001B[0m \u001B[1m5s\u001B[0m 13ms/step - accuracy: 0.9926 - loss: 0.0263\n",
      "\u001B[1m375/375\u001B[0m \u001B[32m━━━━━━━━━━━━━━━━━━━━\u001B[0m\u001B[37m\u001B[0m \u001B[1m1s\u001B[0m 3ms/step - accuracy: 0.9849 - loss: 0.0545\n",
      "Índices treinamento:  [    0     1     2 ... 59997 59998 59999] Índice teste:  [   12    16    53 ... 59992 59994 59996]\n",
      "Epoch 1/5\n",
      "\u001B[1m375/375\u001B[0m \u001B[32m━━━━━━━━━━━━━━━━━━━━\u001B[0m\u001B[37m\u001B[0m \u001B[1m6s\u001B[0m 13ms/step - accuracy: 0.8505 - loss: 0.5202\n",
      "Epoch 2/5\n",
      "\u001B[1m375/375\u001B[0m \u001B[32m━━━━━━━━━━━━━━━━━━━━\u001B[0m\u001B[37m\u001B[0m \u001B[1m5s\u001B[0m 13ms/step - accuracy: 0.9757 - loss: 0.0850\n",
      "Epoch 3/5\n",
      "\u001B[1m375/375\u001B[0m \u001B[32m━━━━━━━━━━━━━━━━━━━━\u001B[0m\u001B[37m\u001B[0m \u001B[1m5s\u001B[0m 14ms/step - accuracy: 0.9845 - loss: 0.0529\n",
      "Epoch 4/5\n",
      "\u001B[1m375/375\u001B[0m \u001B[32m━━━━━━━━━━━━━━━━━━━━\u001B[0m\u001B[37m\u001B[0m \u001B[1m5s\u001B[0m 13ms/step - accuracy: 0.9895 - loss: 0.0369\n",
      "Epoch 5/5\n",
      "\u001B[1m375/375\u001B[0m \u001B[32m━━━━━━━━━━━━━━━━━━━━\u001B[0m\u001B[37m\u001B[0m \u001B[1m5s\u001B[0m 13ms/step - accuracy: 0.9915 - loss: 0.0300\n",
      "\u001B[1m375/375\u001B[0m \u001B[32m━━━━━━━━━━━━━━━━━━━━\u001B[0m\u001B[37m\u001B[0m \u001B[1m1s\u001B[0m 3ms/step - accuracy: 0.9849 - loss: 0.0573\n"
     ]
    }
   ],
   "execution_count": 9
  },
  {
   "metadata": {
    "ExecuteTime": {
     "end_time": "2024-11-22T23:20:16.936070Z",
     "start_time": "2024-11-22T23:20:16.927830Z"
    }
   },
   "cell_type": "code",
   "source": "resultados",
   "id": "34e6788ae245cf1",
   "outputs": [
    {
     "data": {
      "text/plain": [
       "[0.981249988079071,\n",
       " 0.9827499985694885,\n",
       " 0.9854999780654907,\n",
       " 0.984000027179718,\n",
       " 0.984250009059906]"
      ]
     },
     "execution_count": 10,
     "metadata": {},
     "output_type": "execute_result"
    }
   ],
   "execution_count": 10
  },
  {
   "metadata": {
    "ExecuteTime": {
     "end_time": "2024-11-22T23:20:16.946334Z",
     "start_time": "2024-11-22T23:20:16.939078Z"
    }
   },
   "cell_type": "code",
   "source": "np.array(resultados).mean()",
   "id": "dd97a7875d878c17",
   "outputs": [
    {
     "data": {
      "text/plain": [
       "0.9835500001907349"
      ]
     },
     "execution_count": 11,
     "metadata": {},
     "output_type": "execute_result"
    }
   ],
   "execution_count": 11
  },
  {
   "metadata": {
    "ExecuteTime": {
     "end_time": "2024-11-22T23:20:16.957015Z",
     "start_time": "2024-11-22T23:20:16.947584Z"
    }
   },
   "cell_type": "code",
   "source": "np.array(resultados).std()",
   "id": "38e0e65406284c78",
   "outputs": [
    {
     "data": {
      "text/plain": [
       "0.0014439535122410215"
      ]
     },
     "execution_count": 12,
     "metadata": {},
     "output_type": "execute_result"
    }
   ],
   "execution_count": 12
  },
  {
   "metadata": {},
   "cell_type": "code",
   "outputs": [],
   "execution_count": null,
   "source": "",
   "id": "91d9f87880607018"
  }
 ],
 "metadata": {
  "kernelspec": {
   "display_name": "Python 3",
   "language": "python",
   "name": "python3"
  },
  "language_info": {
   "codemirror_mode": {
    "name": "ipython",
    "version": 2
   },
   "file_extension": ".py",
   "mimetype": "text/x-python",
   "name": "python",
   "nbconvert_exporter": "python",
   "pygments_lexer": "ipython2",
   "version": "2.7.6"
  }
 },
 "nbformat": 4,
 "nbformat_minor": 5
}
