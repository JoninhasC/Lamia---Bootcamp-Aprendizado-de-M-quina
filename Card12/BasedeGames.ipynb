{
 "cells": [
  {
   "cell_type": "code",
   "id": "initial_id",
   "metadata": {
    "collapsed": true,
    "ExecuteTime": {
     "end_time": "2024-11-04T20:40:46.817104Z",
     "start_time": "2024-11-04T20:40:41.081870Z"
    }
   },
   "source": [
    "import pandas as pd\n",
    "import tensorflow\n",
    "import sklearn"
   ],
   "outputs": [],
   "execution_count": 1
  },
  {
   "metadata": {
    "ExecuteTime": {
     "end_time": "2024-11-04T20:47:22.304044Z",
     "start_time": "2024-11-04T20:47:22.300731Z"
    }
   },
   "cell_type": "code",
   "source": [
    "from tensorflow.keras.layers import Dense, Dropout, Activation, Input\n",
    "from tensorflow.keras.models import Model\n",
    "from sklearn.preprocessing import OneHotEncoder\n",
    "from sklearn.compose import ColumnTransformer"
   ],
   "id": "303d52d8a7949264",
   "outputs": [],
   "execution_count": 28
  },
  {
   "metadata": {
    "ExecuteTime": {
     "end_time": "2024-11-04T20:47:23.057375Z",
     "start_time": "2024-11-04T20:47:22.998161Z"
    }
   },
   "cell_type": "code",
   "source": [
    "base = pd.read_csv('games.csv')\n",
    "base"
   ],
   "id": "32106c98b1486269",
   "outputs": [
    {
     "data": {
      "text/plain": [
       "                                Name Platform  Year_of_Release         Genre  \\\n",
       "0                         Wii Sports      Wii           2006.0        Sports   \n",
       "1                  Super Mario Bros.      NES           1985.0      Platform   \n",
       "2                     Mario Kart Wii      Wii           2008.0        Racing   \n",
       "3                  Wii Sports Resort      Wii           2009.0        Sports   \n",
       "4           Pokemon Red/Pokemon Blue       GB           1996.0  Role-Playing   \n",
       "...                              ...      ...              ...           ...   \n",
       "16714  Samurai Warriors: Sanada Maru      PS3           2016.0        Action   \n",
       "16715               LMA Manager 2007     X360           2006.0        Sports   \n",
       "16716        Haitaka no Psychedelica      PSV           2016.0     Adventure   \n",
       "16717               Spirits & Spells      GBA           2003.0      Platform   \n",
       "16718            Winning Post 8 2016      PSV           2016.0    Simulation   \n",
       "\n",
       "          Publisher  NA_Sales  EU_Sales  JP_Sales  Other_Sales  Global_Sales  \\\n",
       "0          Nintendo     41.36     28.96      3.77         8.45         82.53   \n",
       "1          Nintendo     29.08      3.58      6.81         0.77         40.24   \n",
       "2          Nintendo     15.68     12.76      3.79         3.29         35.52   \n",
       "3          Nintendo     15.61     10.93      3.28         2.95         32.77   \n",
       "4          Nintendo     11.27      8.89     10.22         1.00         31.37   \n",
       "...             ...       ...       ...       ...          ...           ...   \n",
       "16714    Tecmo Koei      0.00      0.00      0.01         0.00          0.01   \n",
       "16715   Codemasters      0.00      0.01      0.00         0.00          0.01   \n",
       "16716  Idea Factory      0.00      0.00      0.01         0.00          0.01   \n",
       "16717       Wanadoo      0.01      0.00      0.00         0.00          0.01   \n",
       "16718    Tecmo Koei      0.00      0.00      0.01         0.00          0.01   \n",
       "\n",
       "       Critic_Score  Critic_Count User_Score  User_Count Developer Rating  \n",
       "0              76.0          51.0          8       322.0  Nintendo      E  \n",
       "1               NaN           NaN        NaN         NaN       NaN    NaN  \n",
       "2              82.0          73.0        8.3       709.0  Nintendo      E  \n",
       "3              80.0          73.0          8       192.0  Nintendo      E  \n",
       "4               NaN           NaN        NaN         NaN       NaN    NaN  \n",
       "...             ...           ...        ...         ...       ...    ...  \n",
       "16714           NaN           NaN        NaN         NaN       NaN    NaN  \n",
       "16715           NaN           NaN        NaN         NaN       NaN    NaN  \n",
       "16716           NaN           NaN        NaN         NaN       NaN    NaN  \n",
       "16717           NaN           NaN        NaN         NaN       NaN    NaN  \n",
       "16718           NaN           NaN        NaN         NaN       NaN    NaN  \n",
       "\n",
       "[16719 rows x 16 columns]"
      ],
      "text/html": [
       "<div>\n",
       "<style scoped>\n",
       "    .dataframe tbody tr th:only-of-type {\n",
       "        vertical-align: middle;\n",
       "    }\n",
       "\n",
       "    .dataframe tbody tr th {\n",
       "        vertical-align: top;\n",
       "    }\n",
       "\n",
       "    .dataframe thead th {\n",
       "        text-align: right;\n",
       "    }\n",
       "</style>\n",
       "<table border=\"1\" class=\"dataframe\">\n",
       "  <thead>\n",
       "    <tr style=\"text-align: right;\">\n",
       "      <th></th>\n",
       "      <th>Name</th>\n",
       "      <th>Platform</th>\n",
       "      <th>Year_of_Release</th>\n",
       "      <th>Genre</th>\n",
       "      <th>Publisher</th>\n",
       "      <th>NA_Sales</th>\n",
       "      <th>EU_Sales</th>\n",
       "      <th>JP_Sales</th>\n",
       "      <th>Other_Sales</th>\n",
       "      <th>Global_Sales</th>\n",
       "      <th>Critic_Score</th>\n",
       "      <th>Critic_Count</th>\n",
       "      <th>User_Score</th>\n",
       "      <th>User_Count</th>\n",
       "      <th>Developer</th>\n",
       "      <th>Rating</th>\n",
       "    </tr>\n",
       "  </thead>\n",
       "  <tbody>\n",
       "    <tr>\n",
       "      <th>0</th>\n",
       "      <td>Wii Sports</td>\n",
       "      <td>Wii</td>\n",
       "      <td>2006.0</td>\n",
       "      <td>Sports</td>\n",
       "      <td>Nintendo</td>\n",
       "      <td>41.36</td>\n",
       "      <td>28.96</td>\n",
       "      <td>3.77</td>\n",
       "      <td>8.45</td>\n",
       "      <td>82.53</td>\n",
       "      <td>76.0</td>\n",
       "      <td>51.0</td>\n",
       "      <td>8</td>\n",
       "      <td>322.0</td>\n",
       "      <td>Nintendo</td>\n",
       "      <td>E</td>\n",
       "    </tr>\n",
       "    <tr>\n",
       "      <th>1</th>\n",
       "      <td>Super Mario Bros.</td>\n",
       "      <td>NES</td>\n",
       "      <td>1985.0</td>\n",
       "      <td>Platform</td>\n",
       "      <td>Nintendo</td>\n",
       "      <td>29.08</td>\n",
       "      <td>3.58</td>\n",
       "      <td>6.81</td>\n",
       "      <td>0.77</td>\n",
       "      <td>40.24</td>\n",
       "      <td>NaN</td>\n",
       "      <td>NaN</td>\n",
       "      <td>NaN</td>\n",
       "      <td>NaN</td>\n",
       "      <td>NaN</td>\n",
       "      <td>NaN</td>\n",
       "    </tr>\n",
       "    <tr>\n",
       "      <th>2</th>\n",
       "      <td>Mario Kart Wii</td>\n",
       "      <td>Wii</td>\n",
       "      <td>2008.0</td>\n",
       "      <td>Racing</td>\n",
       "      <td>Nintendo</td>\n",
       "      <td>15.68</td>\n",
       "      <td>12.76</td>\n",
       "      <td>3.79</td>\n",
       "      <td>3.29</td>\n",
       "      <td>35.52</td>\n",
       "      <td>82.0</td>\n",
       "      <td>73.0</td>\n",
       "      <td>8.3</td>\n",
       "      <td>709.0</td>\n",
       "      <td>Nintendo</td>\n",
       "      <td>E</td>\n",
       "    </tr>\n",
       "    <tr>\n",
       "      <th>3</th>\n",
       "      <td>Wii Sports Resort</td>\n",
       "      <td>Wii</td>\n",
       "      <td>2009.0</td>\n",
       "      <td>Sports</td>\n",
       "      <td>Nintendo</td>\n",
       "      <td>15.61</td>\n",
       "      <td>10.93</td>\n",
       "      <td>3.28</td>\n",
       "      <td>2.95</td>\n",
       "      <td>32.77</td>\n",
       "      <td>80.0</td>\n",
       "      <td>73.0</td>\n",
       "      <td>8</td>\n",
       "      <td>192.0</td>\n",
       "      <td>Nintendo</td>\n",
       "      <td>E</td>\n",
       "    </tr>\n",
       "    <tr>\n",
       "      <th>4</th>\n",
       "      <td>Pokemon Red/Pokemon Blue</td>\n",
       "      <td>GB</td>\n",
       "      <td>1996.0</td>\n",
       "      <td>Role-Playing</td>\n",
       "      <td>Nintendo</td>\n",
       "      <td>11.27</td>\n",
       "      <td>8.89</td>\n",
       "      <td>10.22</td>\n",
       "      <td>1.00</td>\n",
       "      <td>31.37</td>\n",
       "      <td>NaN</td>\n",
       "      <td>NaN</td>\n",
       "      <td>NaN</td>\n",
       "      <td>NaN</td>\n",
       "      <td>NaN</td>\n",
       "      <td>NaN</td>\n",
       "    </tr>\n",
       "    <tr>\n",
       "      <th>...</th>\n",
       "      <td>...</td>\n",
       "      <td>...</td>\n",
       "      <td>...</td>\n",
       "      <td>...</td>\n",
       "      <td>...</td>\n",
       "      <td>...</td>\n",
       "      <td>...</td>\n",
       "      <td>...</td>\n",
       "      <td>...</td>\n",
       "      <td>...</td>\n",
       "      <td>...</td>\n",
       "      <td>...</td>\n",
       "      <td>...</td>\n",
       "      <td>...</td>\n",
       "      <td>...</td>\n",
       "      <td>...</td>\n",
       "    </tr>\n",
       "    <tr>\n",
       "      <th>16714</th>\n",
       "      <td>Samurai Warriors: Sanada Maru</td>\n",
       "      <td>PS3</td>\n",
       "      <td>2016.0</td>\n",
       "      <td>Action</td>\n",
       "      <td>Tecmo Koei</td>\n",
       "      <td>0.00</td>\n",
       "      <td>0.00</td>\n",
       "      <td>0.01</td>\n",
       "      <td>0.00</td>\n",
       "      <td>0.01</td>\n",
       "      <td>NaN</td>\n",
       "      <td>NaN</td>\n",
       "      <td>NaN</td>\n",
       "      <td>NaN</td>\n",
       "      <td>NaN</td>\n",
       "      <td>NaN</td>\n",
       "    </tr>\n",
       "    <tr>\n",
       "      <th>16715</th>\n",
       "      <td>LMA Manager 2007</td>\n",
       "      <td>X360</td>\n",
       "      <td>2006.0</td>\n",
       "      <td>Sports</td>\n",
       "      <td>Codemasters</td>\n",
       "      <td>0.00</td>\n",
       "      <td>0.01</td>\n",
       "      <td>0.00</td>\n",
       "      <td>0.00</td>\n",
       "      <td>0.01</td>\n",
       "      <td>NaN</td>\n",
       "      <td>NaN</td>\n",
       "      <td>NaN</td>\n",
       "      <td>NaN</td>\n",
       "      <td>NaN</td>\n",
       "      <td>NaN</td>\n",
       "    </tr>\n",
       "    <tr>\n",
       "      <th>16716</th>\n",
       "      <td>Haitaka no Psychedelica</td>\n",
       "      <td>PSV</td>\n",
       "      <td>2016.0</td>\n",
       "      <td>Adventure</td>\n",
       "      <td>Idea Factory</td>\n",
       "      <td>0.00</td>\n",
       "      <td>0.00</td>\n",
       "      <td>0.01</td>\n",
       "      <td>0.00</td>\n",
       "      <td>0.01</td>\n",
       "      <td>NaN</td>\n",
       "      <td>NaN</td>\n",
       "      <td>NaN</td>\n",
       "      <td>NaN</td>\n",
       "      <td>NaN</td>\n",
       "      <td>NaN</td>\n",
       "    </tr>\n",
       "    <tr>\n",
       "      <th>16717</th>\n",
       "      <td>Spirits &amp; Spells</td>\n",
       "      <td>GBA</td>\n",
       "      <td>2003.0</td>\n",
       "      <td>Platform</td>\n",
       "      <td>Wanadoo</td>\n",
       "      <td>0.01</td>\n",
       "      <td>0.00</td>\n",
       "      <td>0.00</td>\n",
       "      <td>0.00</td>\n",
       "      <td>0.01</td>\n",
       "      <td>NaN</td>\n",
       "      <td>NaN</td>\n",
       "      <td>NaN</td>\n",
       "      <td>NaN</td>\n",
       "      <td>NaN</td>\n",
       "      <td>NaN</td>\n",
       "    </tr>\n",
       "    <tr>\n",
       "      <th>16718</th>\n",
       "      <td>Winning Post 8 2016</td>\n",
       "      <td>PSV</td>\n",
       "      <td>2016.0</td>\n",
       "      <td>Simulation</td>\n",
       "      <td>Tecmo Koei</td>\n",
       "      <td>0.00</td>\n",
       "      <td>0.00</td>\n",
       "      <td>0.01</td>\n",
       "      <td>0.00</td>\n",
       "      <td>0.01</td>\n",
       "      <td>NaN</td>\n",
       "      <td>NaN</td>\n",
       "      <td>NaN</td>\n",
       "      <td>NaN</td>\n",
       "      <td>NaN</td>\n",
       "      <td>NaN</td>\n",
       "    </tr>\n",
       "  </tbody>\n",
       "</table>\n",
       "<p>16719 rows × 16 columns</p>\n",
       "</div>"
      ]
     },
     "execution_count": 29,
     "metadata": {},
     "output_type": "execute_result"
    }
   ],
   "execution_count": 29
  },
  {
   "metadata": {
    "ExecuteTime": {
     "end_time": "2024-11-04T20:47:23.331847Z",
     "start_time": "2024-11-04T20:47:23.322184Z"
    }
   },
   "cell_type": "code",
   "source": [
    "# Remove a coluna 'Other_Sales' do DataFrame 'base'.\n",
    "# 'axis=1' indica que estamos removendo colunas (em oposição a linhas, que seria axis=0).\n",
    "base = base.drop('Other_Sales', axis=1)\n",
    "\n",
    "# Remove a coluna 'Global_Sales' do DataFrame 'base'.\n",
    "# Isso pode ser feito para evitar o uso de rótulos de saída como características de entrada no modelo.\n",
    "base = base.drop('Global_Sales', axis=1)\n",
    "\n",
    "# Remove a coluna 'Developer' do DataFrame 'base'.\n",
    "# A exclusão dessa coluna pode ser uma decisão baseada em uma análise de relevância ou para reduzir a dimensionalidade.\n",
    "base = base.drop('Developer', axis=1)\n"
   ],
   "id": "481ed2aaf4f480dc",
   "outputs": [],
   "execution_count": 30
  },
  {
   "metadata": {
    "ExecuteTime": {
     "end_time": "2024-11-04T20:47:23.385992Z",
     "start_time": "2024-11-04T20:47:23.380703Z"
    }
   },
   "cell_type": "code",
   "source": "base.shape",
   "id": "402876e1b503df24",
   "outputs": [
    {
     "data": {
      "text/plain": [
       "(16719, 13)"
      ]
     },
     "execution_count": 31,
     "metadata": {},
     "output_type": "execute_result"
    }
   ],
   "execution_count": 31
  },
  {
   "metadata": {
    "ExecuteTime": {
     "end_time": "2024-11-04T20:47:23.518314Z",
     "start_time": "2024-11-04T20:47:23.506428Z"
    }
   },
   "cell_type": "code",
   "source": "base.isnull().sum()",
   "id": "2f3cdb9ae43a2006",
   "outputs": [
    {
     "data": {
      "text/plain": [
       "Name                  2\n",
       "Platform              0\n",
       "Year_of_Release     269\n",
       "Genre                 2\n",
       "Publisher            54\n",
       "NA_Sales              0\n",
       "EU_Sales              0\n",
       "JP_Sales              0\n",
       "Critic_Score       8582\n",
       "Critic_Count       8582\n",
       "User_Score         6704\n",
       "User_Count         9129\n",
       "Rating             6769\n",
       "dtype: int64"
      ]
     },
     "execution_count": 32,
     "metadata": {},
     "output_type": "execute_result"
    }
   ],
   "execution_count": 32
  },
  {
   "metadata": {
    "ExecuteTime": {
     "end_time": "2024-11-04T20:47:23.685557Z",
     "start_time": "2024-11-04T20:47:23.675319Z"
    }
   },
   "cell_type": "code",
   "source": "base = base.dropna(axis = 0)",
   "id": "e139b10d4bb450c",
   "outputs": [],
   "execution_count": 33
  },
  {
   "metadata": {
    "ExecuteTime": {
     "end_time": "2024-11-04T20:47:23.826634Z",
     "start_time": "2024-11-04T20:47:23.821529Z"
    }
   },
   "cell_type": "code",
   "source": "base.shape",
   "id": "4f2706f3bf2ab696",
   "outputs": [
    {
     "data": {
      "text/plain": [
       "(6825, 13)"
      ]
     },
     "execution_count": 34,
     "metadata": {},
     "output_type": "execute_result"
    }
   ],
   "execution_count": 34
  },
  {
   "metadata": {
    "ExecuteTime": {
     "end_time": "2024-11-04T20:47:23.944576Z",
     "start_time": "2024-11-04T20:47:23.935442Z"
    }
   },
   "cell_type": "code",
   "source": "base.isnull().sum()",
   "id": "fed01784baa773eb",
   "outputs": [
    {
     "data": {
      "text/plain": [
       "Name               0\n",
       "Platform           0\n",
       "Year_of_Release    0\n",
       "Genre              0\n",
       "Publisher          0\n",
       "NA_Sales           0\n",
       "EU_Sales           0\n",
       "JP_Sales           0\n",
       "Critic_Score       0\n",
       "Critic_Count       0\n",
       "User_Score         0\n",
       "User_Count         0\n",
       "Rating             0\n",
       "dtype: int64"
      ]
     },
     "execution_count": 35,
     "metadata": {},
     "output_type": "execute_result"
    }
   ],
   "execution_count": 35
  },
  {
   "metadata": {
    "ExecuteTime": {
     "end_time": "2024-11-04T20:47:24.150033Z",
     "start_time": "2024-11-04T20:47:24.141243Z"
    }
   },
   "cell_type": "code",
   "source": "base['Name'].value_counts()",
   "id": "26be6165f9ed3e43",
   "outputs": [
    {
     "data": {
      "text/plain": [
       "Name\n",
       "Need for Speed: Most Wanted                  8\n",
       "Madden NFL 07                                8\n",
       "LEGO Star Wars II: The Original Trilogy      8\n",
       "The Sims 2                                   7\n",
       "Terraria                                     7\n",
       "                                            ..\n",
       "Castlevania: Portrait of Ruin                1\n",
       "Suzuki TT Superbikes                         1\n",
       "Rumble Roses                                 1\n",
       "Sherlock Holmes: The Mystery of the Mummy    1\n",
       "STORM: Frontline Nation                      1\n",
       "Name: count, Length: 4377, dtype: int64"
      ]
     },
     "execution_count": 36,
     "metadata": {},
     "output_type": "execute_result"
    }
   ],
   "execution_count": 36
  },
  {
   "metadata": {
    "ExecuteTime": {
     "end_time": "2024-11-04T20:47:24.301161Z",
     "start_time": "2024-11-04T20:47:24.296448Z"
    }
   },
   "cell_type": "code",
   "source": "base = base.drop('Name', axis = 1)",
   "id": "7e4361dfb62629e2",
   "outputs": [],
   "execution_count": 37
  },
  {
   "metadata": {
    "ExecuteTime": {
     "end_time": "2024-11-04T20:47:24.484936Z",
     "start_time": "2024-11-04T20:47:24.480446Z"
    }
   },
   "cell_type": "code",
   "source": "base.shape",
   "id": "486f523b3005377a",
   "outputs": [
    {
     "data": {
      "text/plain": [
       "(6825, 12)"
      ]
     },
     "execution_count": 38,
     "metadata": {},
     "output_type": "execute_result"
    }
   ],
   "execution_count": 38
  },
  {
   "metadata": {
    "ExecuteTime": {
     "end_time": "2024-11-04T20:47:24.596496Z",
     "start_time": "2024-11-04T20:47:24.589454Z"
    }
   },
   "cell_type": "code",
   "source": "base.columns",
   "id": "7ec420f4622d57da",
   "outputs": [
    {
     "data": {
      "text/plain": [
       "Index(['Platform', 'Year_of_Release', 'Genre', 'Publisher', 'NA_Sales',\n",
       "       'EU_Sales', 'JP_Sales', 'Critic_Score', 'Critic_Count', 'User_Score',\n",
       "       'User_Count', 'Rating'],\n",
       "      dtype='object')"
      ]
     },
     "execution_count": 39,
     "metadata": {},
     "output_type": "execute_result"
    }
   ],
   "execution_count": 39
  },
  {
   "metadata": {
    "ExecuteTime": {
     "end_time": "2024-11-04T20:47:24.775681Z",
     "start_time": "2024-11-04T20:47:24.768514Z"
    }
   },
   "cell_type": "code",
   "source": [
    "# Extrai um subconjunto de colunas do DataFrame 'base' utilizando a indexação iloc.\n",
    "# O resultado é convertido em um array NumPy usando .values.\n",
    "X = base.iloc[:, [0, 1, 2, 3, 7, 8, 9, 10, 11]].values\n"
   ],
   "id": "45a4c71edc11c309",
   "outputs": [
    {
     "data": {
      "text/plain": [
       "array([['Wii', 2006.0, 'Sports', ..., '8', 322.0, 'E'],\n",
       "       ['Wii', 2008.0, 'Racing', ..., '8.3', 709.0, 'E'],\n",
       "       ['Wii', 2009.0, 'Sports', ..., '8', 192.0, 'E'],\n",
       "       ...,\n",
       "       ['PC', 2014.0, 'Action', ..., '7.6', 412.0, 'M'],\n",
       "       ['PC', 2011.0, 'Shooter', ..., '5.8', 43.0, 'T'],\n",
       "       ['PC', 2011.0, 'Strategy', ..., '7.2', 13.0, 'E10+']], dtype=object)"
      ]
     },
     "execution_count": 40,
     "metadata": {},
     "output_type": "execute_result"
    }
   ],
   "execution_count": 40
  },
  {
   "metadata": {
    "ExecuteTime": {
     "end_time": "2024-11-04T20:47:24.919098Z",
     "start_time": "2024-11-04T20:47:24.913933Z"
    }
   },
   "cell_type": "code",
   "source": [
    "# Extrai a coluna na posição 4 do DataFrame 'base' e a armazena no array 'y_na'.\n",
    "y_na = base.iloc[:, 4].values\n",
    "\n",
    "# Extrai a coluna na posição 5 do DataFrame 'base' e a armazena no array 'y_eu'.\n",
    "y_eu = base.iloc[:, 5].values\n",
    "\n",
    "# Extrai a coluna na posição 6 do DataFrame 'base' e a armazena no array 'y_jp'.\n",
    "y_jp = base.iloc[:, 6].values\n"
   ],
   "id": "c179fc742596ca27",
   "outputs": [],
   "execution_count": 41
  },
  {
   "metadata": {
    "ExecuteTime": {
     "end_time": "2024-11-04T20:47:25.118671Z",
     "start_time": "2024-11-04T20:47:25.111902Z"
    }
   },
   "cell_type": "code",
   "source": "y_na",
   "id": "c43ebff54d57a72b",
   "outputs": [
    {
     "data": {
      "text/plain": [
       "array([4.136e+01, 1.568e+01, 1.561e+01, ..., 0.000e+00, 1.000e-02,\n",
       "       0.000e+00])"
      ]
     },
     "execution_count": 42,
     "metadata": {},
     "output_type": "execute_result"
    }
   ],
   "execution_count": 42
  },
  {
   "metadata": {
    "ExecuteTime": {
     "end_time": "2024-11-04T20:47:25.309063Z",
     "start_time": "2024-11-04T20:47:25.303524Z"
    }
   },
   "cell_type": "code",
   "source": "y_eu",
   "id": "75469709104a357b",
   "outputs": [
    {
     "data": {
      "text/plain": [
       "array([2.896e+01, 1.276e+01, 1.093e+01, ..., 1.000e-02, 0.000e+00,\n",
       "       1.000e-02])"
      ]
     },
     "execution_count": 43,
     "metadata": {},
     "output_type": "execute_result"
    }
   ],
   "execution_count": 43
  },
  {
   "metadata": {
    "ExecuteTime": {
     "end_time": "2024-11-04T20:47:25.395068Z",
     "start_time": "2024-11-04T20:47:25.389088Z"
    }
   },
   "cell_type": "code",
   "source": "y_jp",
   "id": "1fe1be6f80da47dd",
   "outputs": [
    {
     "data": {
      "text/plain": [
       "array([3.77, 3.79, 3.28, ..., 0.  , 0.  , 0.  ])"
      ]
     },
     "execution_count": 44,
     "metadata": {},
     "output_type": "execute_result"
    }
   ],
   "execution_count": 44
  },
  {
   "metadata": {
    "ExecuteTime": {
     "end_time": "2024-11-04T20:47:25.553815Z",
     "start_time": "2024-11-04T20:47:25.545391Z"
    }
   },
   "cell_type": "code",
   "source": [
    "# PS2  1 0 0 0 0 ...\n",
    "# X360 0 1 0 0 0 ...\n",
    "base['Platform'].value_counts()"
   ],
   "id": "a9a292e9f70cc325",
   "outputs": [
    {
     "data": {
      "text/plain": [
       "Platform\n",
       "PS2     1140\n",
       "X360     858\n",
       "PS3      769\n",
       "PC       651\n",
       "XB       565\n",
       "Wii      479\n",
       "DS       464\n",
       "PSP      390\n",
       "GC       348\n",
       "PS4      239\n",
       "GBA      237\n",
       "XOne     159\n",
       "3DS      155\n",
       "PS       150\n",
       "PSV      118\n",
       "WiiU      89\n",
       "DC        14\n",
       "Name: count, dtype: int64"
      ]
     },
     "execution_count": 45,
     "metadata": {},
     "output_type": "execute_result"
    }
   ],
   "execution_count": 45
  },
  {
   "metadata": {
    "ExecuteTime": {
     "end_time": "2024-11-04T20:47:25.733585Z",
     "start_time": "2024-11-04T20:47:25.727332Z"
    }
   },
   "cell_type": "code",
   "source": "base.columns",
   "id": "c7836791f4a887b1",
   "outputs": [
    {
     "data": {
      "text/plain": [
       "Index(['Platform', 'Year_of_Release', 'Genre', 'Publisher', 'NA_Sales',\n",
       "       'EU_Sales', 'JP_Sales', 'Critic_Score', 'Critic_Count', 'User_Score',\n",
       "       'User_Count', 'Rating'],\n",
       "      dtype='object')"
      ]
     },
     "execution_count": 46,
     "metadata": {},
     "output_type": "execute_result"
    }
   ],
   "execution_count": 46
  },
  {
   "metadata": {
    "ExecuteTime": {
     "end_time": "2024-11-04T20:47:25.931032Z",
     "start_time": "2024-11-04T20:47:25.912701Z"
    }
   },
   "cell_type": "code",
   "source": [
    "onehotencoder = ColumnTransformer(transformers=[(\"OneHot\", OneHotEncoder(), [0, 2, 3, 8])], remainder='passthrough')\n",
    "X = onehotencoder.fit_transform(X).toarray()"
   ],
   "id": "4f4a066500be352a",
   "outputs": [],
   "execution_count": 47
  },
  {
   "metadata": {
    "ExecuteTime": {
     "end_time": "2024-11-04T20:47:26.072109Z",
     "start_time": "2024-11-04T20:47:26.067054Z"
    }
   },
   "cell_type": "code",
   "source": "X.shape",
   "id": "28a32dbf112e86f",
   "outputs": [
    {
     "data": {
      "text/plain": [
       "(6825, 303)"
      ]
     },
     "execution_count": 48,
     "metadata": {},
     "output_type": "execute_result"
    }
   ],
   "execution_count": 48
  },
  {
   "metadata": {
    "ExecuteTime": {
     "end_time": "2024-11-04T20:47:26.254366Z",
     "start_time": "2024-11-04T20:47:26.246627Z"
    }
   },
   "cell_type": "code",
   "source": "X[0]",
   "id": "f5236428b79650a6",
   "outputs": [
    {
     "data": {
      "text/plain": [
       "array([0.000e+00, 0.000e+00, 0.000e+00, 0.000e+00, 0.000e+00, 0.000e+00,\n",
       "       0.000e+00, 0.000e+00, 0.000e+00, 0.000e+00, 0.000e+00, 0.000e+00,\n",
       "       1.000e+00, 0.000e+00, 0.000e+00, 0.000e+00, 0.000e+00, 0.000e+00,\n",
       "       0.000e+00, 0.000e+00, 0.000e+00, 0.000e+00, 0.000e+00, 0.000e+00,\n",
       "       0.000e+00, 0.000e+00, 0.000e+00, 1.000e+00, 0.000e+00, 0.000e+00,\n",
       "       0.000e+00, 0.000e+00, 0.000e+00, 0.000e+00, 0.000e+00, 0.000e+00,\n",
       "       0.000e+00, 0.000e+00, 0.000e+00, 0.000e+00, 0.000e+00, 0.000e+00,\n",
       "       0.000e+00, 0.000e+00, 0.000e+00, 0.000e+00, 0.000e+00, 0.000e+00,\n",
       "       0.000e+00, 0.000e+00, 0.000e+00, 0.000e+00, 0.000e+00, 0.000e+00,\n",
       "       0.000e+00, 0.000e+00, 0.000e+00, 0.000e+00, 0.000e+00, 0.000e+00,\n",
       "       0.000e+00, 0.000e+00, 0.000e+00, 0.000e+00, 0.000e+00, 0.000e+00,\n",
       "       0.000e+00, 0.000e+00, 0.000e+00, 0.000e+00, 0.000e+00, 0.000e+00,\n",
       "       0.000e+00, 0.000e+00, 0.000e+00, 0.000e+00, 0.000e+00, 0.000e+00,\n",
       "       0.000e+00, 0.000e+00, 0.000e+00, 0.000e+00, 0.000e+00, 0.000e+00,\n",
       "       0.000e+00, 0.000e+00, 0.000e+00, 0.000e+00, 0.000e+00, 0.000e+00,\n",
       "       0.000e+00, 0.000e+00, 0.000e+00, 0.000e+00, 0.000e+00, 0.000e+00,\n",
       "       0.000e+00, 0.000e+00, 0.000e+00, 0.000e+00, 0.000e+00, 0.000e+00,\n",
       "       0.000e+00, 0.000e+00, 0.000e+00, 0.000e+00, 0.000e+00, 0.000e+00,\n",
       "       0.000e+00, 0.000e+00, 0.000e+00, 0.000e+00, 0.000e+00, 0.000e+00,\n",
       "       0.000e+00, 0.000e+00, 0.000e+00, 0.000e+00, 0.000e+00, 0.000e+00,\n",
       "       0.000e+00, 0.000e+00, 0.000e+00, 0.000e+00, 0.000e+00, 0.000e+00,\n",
       "       0.000e+00, 0.000e+00, 0.000e+00, 0.000e+00, 0.000e+00, 0.000e+00,\n",
       "       0.000e+00, 0.000e+00, 0.000e+00, 0.000e+00, 0.000e+00, 0.000e+00,\n",
       "       0.000e+00, 0.000e+00, 0.000e+00, 0.000e+00, 0.000e+00, 0.000e+00,\n",
       "       0.000e+00, 0.000e+00, 0.000e+00, 0.000e+00, 0.000e+00, 0.000e+00,\n",
       "       0.000e+00, 0.000e+00, 0.000e+00, 0.000e+00, 0.000e+00, 0.000e+00,\n",
       "       0.000e+00, 0.000e+00, 0.000e+00, 0.000e+00, 0.000e+00, 0.000e+00,\n",
       "       0.000e+00, 0.000e+00, 0.000e+00, 0.000e+00, 0.000e+00, 0.000e+00,\n",
       "       0.000e+00, 0.000e+00, 0.000e+00, 0.000e+00, 0.000e+00, 0.000e+00,\n",
       "       0.000e+00, 0.000e+00, 0.000e+00, 0.000e+00, 0.000e+00, 0.000e+00,\n",
       "       0.000e+00, 0.000e+00, 0.000e+00, 0.000e+00, 0.000e+00, 0.000e+00,\n",
       "       0.000e+00, 0.000e+00, 0.000e+00, 1.000e+00, 0.000e+00, 0.000e+00,\n",
       "       0.000e+00, 0.000e+00, 0.000e+00, 0.000e+00, 0.000e+00, 0.000e+00,\n",
       "       0.000e+00, 0.000e+00, 0.000e+00, 0.000e+00, 0.000e+00, 0.000e+00,\n",
       "       0.000e+00, 0.000e+00, 0.000e+00, 0.000e+00, 0.000e+00, 0.000e+00,\n",
       "       0.000e+00, 0.000e+00, 0.000e+00, 0.000e+00, 0.000e+00, 0.000e+00,\n",
       "       0.000e+00, 0.000e+00, 0.000e+00, 0.000e+00, 0.000e+00, 0.000e+00,\n",
       "       0.000e+00, 0.000e+00, 0.000e+00, 0.000e+00, 0.000e+00, 0.000e+00,\n",
       "       0.000e+00, 0.000e+00, 0.000e+00, 0.000e+00, 0.000e+00, 0.000e+00,\n",
       "       0.000e+00, 0.000e+00, 0.000e+00, 0.000e+00, 0.000e+00, 0.000e+00,\n",
       "       0.000e+00, 0.000e+00, 0.000e+00, 0.000e+00, 0.000e+00, 0.000e+00,\n",
       "       0.000e+00, 0.000e+00, 0.000e+00, 0.000e+00, 0.000e+00, 0.000e+00,\n",
       "       0.000e+00, 0.000e+00, 0.000e+00, 0.000e+00, 0.000e+00, 0.000e+00,\n",
       "       0.000e+00, 0.000e+00, 0.000e+00, 0.000e+00, 0.000e+00, 0.000e+00,\n",
       "       0.000e+00, 0.000e+00, 0.000e+00, 0.000e+00, 0.000e+00, 0.000e+00,\n",
       "       0.000e+00, 0.000e+00, 0.000e+00, 0.000e+00, 0.000e+00, 0.000e+00,\n",
       "       0.000e+00, 0.000e+00, 0.000e+00, 0.000e+00, 0.000e+00, 0.000e+00,\n",
       "       0.000e+00, 0.000e+00, 0.000e+00, 0.000e+00, 0.000e+00, 0.000e+00,\n",
       "       0.000e+00, 0.000e+00, 0.000e+00, 0.000e+00, 1.000e+00, 0.000e+00,\n",
       "       0.000e+00, 0.000e+00, 0.000e+00, 0.000e+00, 2.006e+03, 7.600e+01,\n",
       "       5.100e+01, 8.000e+00, 3.220e+02])"
      ]
     },
     "execution_count": 49,
     "metadata": {},
     "output_type": "execute_result"
    }
   ],
   "execution_count": 49
  },
  {
   "metadata": {
    "ExecuteTime": {
     "end_time": "2024-11-04T20:47:27.205355Z",
     "start_time": "2024-11-04T20:47:27.200862Z"
    }
   },
   "cell_type": "code",
   "source": "(303 + 3) / 2",
   "id": "56cb0d5d004dda0f",
   "outputs": [
    {
     "data": {
      "text/plain": [
       "153.0"
      ]
     },
     "execution_count": 50,
     "metadata": {},
     "output_type": "execute_result"
    }
   ],
   "execution_count": 50
  },
  {
   "metadata": {
    "ExecuteTime": {
     "end_time": "2024-11-04T20:47:27.617767Z",
     "start_time": "2024-11-04T20:47:27.503296Z"
    }
   },
   "cell_type": "code",
   "source": [
    "# Define a camada de entrada com um formato de 303 características.\n",
    "camada_entrada = Input(shape=(303,))\n",
    "\n",
    "# Define a primeira camada oculta com 153 unidades e função de ativação ReLU.\n",
    "camada_oculta1 = Dense(units=153, activation='relu')(camada_entrada)\n",
    "\n",
    "# Define a segunda camada oculta, também com 153 unidades e função de ativação ReLU.\n",
    "camada_oculta2 = Dense(units=153, activation='relu')(camada_oculta1)\n",
    "\n",
    "# Define a primeira saída, que tem uma unidade e usa a ativação linear.\n",
    "camada_saida1 = Dense(units=1, activation='linear')(camada_oculta2)\n",
    "\n",
    "# Define a segunda saída, também com uma unidade e ativação linear.\n",
    "camada_saida2 = Dense(units=1, activation='linear')(camada_oculta2)\n",
    "\n",
    "# Define a terceira saída, igualmente com uma unidade e ativação linear.\n",
    "camada_saida3 = Dense(units=1, activation='linear')(camada_oculta2)\n"
   ],
   "id": "39f2dfbbc37f292d",
   "outputs": [],
   "execution_count": 51
  },
  {
   "metadata": {
    "ExecuteTime": {
     "end_time": "2024-11-04T20:47:28.544039Z",
     "start_time": "2024-11-04T20:47:28.538566Z"
    }
   },
   "cell_type": "code",
   "source": [
    "# Cria um modelo com a camada de entrada e as três saídas definidas anteriormente.\n",
    "regressor = Model(inputs=camada_entrada, outputs=[camada_saida1, camada_saida2, camada_saida3])\n"
   ],
   "id": "e24539f3e2df66f1",
   "outputs": [],
   "execution_count": 52
  },
  {
   "metadata": {
    "ExecuteTime": {
     "end_time": "2024-11-04T20:47:45.179464Z",
     "start_time": "2024-11-04T20:47:45.168357Z"
    }
   },
   "cell_type": "code",
   "source": [
    "# Compila o modelo 'regressor' utilizando o otimizador Adam e a função de perda de erro quadrático médio (MSE).\n",
    "regressor.compile(optimizer='adam', loss='mse')\n"
   ],
   "id": "4f9536aac963aec7",
   "outputs": [],
   "execution_count": 53
  },
  {
   "metadata": {
    "ExecuteTime": {
     "end_time": "2024-11-04T20:48:57.342703Z",
     "start_time": "2024-11-04T20:47:52.471477Z"
    }
   },
   "cell_type": "code",
   "source": [
    "# Treina o modelo 'regressor' utilizando os dados de entrada X e as saídas y_na, y_eu e y_jp.\n",
    "regressor.fit(\n",
    "    X,                          # Dados de entrada com 303 características.\n",
    "    [y_na, y_eu, y_jp],       # Lista de saídas correspondentes para cada previsão (vendas na América do Norte, Europa e Japão).\n",
    "    epochs=500,                # Número de épocas para treinamento, indicando quantas vezes o modelo irá passar por todo o conjunto de dados.\n",
    "    batch_size=100             # Tamanho do lote, ou seja, quantas amostras serão processadas antes de atualizar os pesos do modelo.\n",
    ")\n"
   ],
   "id": "a9e1a5fbe79d4cb4",
   "outputs": [
    {
     "name": "stdout",
     "output_type": "stream",
     "text": [
      "Epoch 1/500\n",
      "\u001B[1m69/69\u001B[0m \u001B[32m━━━━━━━━━━━━━━━━━━━━\u001B[0m\u001B[37m\u001B[0m \u001B[1m2s\u001B[0m 2ms/step - dense_2_loss: 3376.7698 - dense_3_loss: 2962.0457 - dense_4_loss: 478.6888 - loss: 6818.1924\n",
      "Epoch 2/500\n",
      "\u001B[1m69/69\u001B[0m \u001B[32m━━━━━━━━━━━━━━━━━━━━\u001B[0m\u001B[37m\u001B[0m \u001B[1m0s\u001B[0m 1ms/step - dense_2_loss: 10.8267 - dense_3_loss: 4.7413 - dense_4_loss: 2.7201 - loss: 18.2908\n",
      "Epoch 3/500\n",
      "\u001B[1m69/69\u001B[0m \u001B[32m━━━━━━━━━━━━━━━━━━━━\u001B[0m\u001B[37m\u001B[0m \u001B[1m0s\u001B[0m 1ms/step - dense_2_loss: 2.8858 - dense_3_loss: 1.8030 - dense_4_loss: 1.1239 - loss: 5.8139\n",
      "Epoch 4/500\n",
      "\u001B[1m69/69\u001B[0m \u001B[32m━━━━━━━━━━━━━━━━━━━━\u001B[0m\u001B[37m\u001B[0m \u001B[1m0s\u001B[0m 2ms/step - dense_2_loss: 2.1035 - dense_3_loss: 2.7349 - dense_4_loss: 0.8870 - loss: 5.7271\n",
      "Epoch 5/500\n",
      "\u001B[1m69/69\u001B[0m \u001B[32m━━━━━━━━━━━━━━━━━━━━\u001B[0m\u001B[37m\u001B[0m \u001B[1m0s\u001B[0m 2ms/step - dense_2_loss: 2.1491 - dense_3_loss: 4.3010 - dense_4_loss: 4.5308 - loss: 10.9646\n",
      "Epoch 6/500\n",
      "\u001B[1m69/69\u001B[0m \u001B[32m━━━━━━━━━━━━━━━━━━━━\u001B[0m\u001B[37m\u001B[0m \u001B[1m0s\u001B[0m 2ms/step - dense_2_loss: 3.7640 - dense_3_loss: 9.0927 - dense_4_loss: 27.5547 - loss: 40.4197\n",
      "Epoch 7/500\n",
      "\u001B[1m69/69\u001B[0m \u001B[32m━━━━━━━━━━━━━━━━━━━━\u001B[0m\u001B[37m\u001B[0m \u001B[1m0s\u001B[0m 2ms/step - dense_2_loss: 9.7512 - dense_3_loss: 18.0377 - dense_4_loss: 42.0683 - loss: 69.8697 \n",
      "Epoch 8/500\n",
      "\u001B[1m69/69\u001B[0m \u001B[32m━━━━━━━━━━━━━━━━━━━━\u001B[0m\u001B[37m\u001B[0m \u001B[1m0s\u001B[0m 2ms/step - dense_2_loss: 2.6399 - dense_3_loss: 2.6871 - dense_4_loss: 1.7624 - loss: 7.0902\n",
      "Epoch 9/500\n",
      "\u001B[1m69/69\u001B[0m \u001B[32m━━━━━━━━━━━━━━━━━━━━\u001B[0m\u001B[37m\u001B[0m \u001B[1m0s\u001B[0m 2ms/step - dense_2_loss: 1.2579 - dense_3_loss: 1.5834 - dense_4_loss: 0.5918 - loss: 3.4337\n",
      "Epoch 10/500\n",
      "\u001B[1m69/69\u001B[0m \u001B[32m━━━━━━━━━━━━━━━━━━━━\u001B[0m\u001B[37m\u001B[0m \u001B[1m0s\u001B[0m 2ms/step - dense_2_loss: 1.7980 - dense_3_loss: 2.7557 - dense_4_loss: 0.4381 - loss: 4.9904\n",
      "Epoch 11/500\n",
      "\u001B[1m69/69\u001B[0m \u001B[32m━━━━━━━━━━━━━━━━━━━━\u001B[0m\u001B[37m\u001B[0m \u001B[1m0s\u001B[0m 1ms/step - dense_2_loss: 7.3360 - dense_3_loss: 11.1620 - dense_4_loss: 0.6330 - loss: 19.1375\n",
      "Epoch 12/500\n",
      "\u001B[1m69/69\u001B[0m \u001B[32m━━━━━━━━━━━━━━━━━━━━\u001B[0m\u001B[37m\u001B[0m \u001B[1m0s\u001B[0m 1ms/step - dense_2_loss: 6.2212 - dense_3_loss: 10.3767 - dense_4_loss: 0.7699 - loss: 17.3710\n",
      "Epoch 13/500\n",
      "\u001B[1m69/69\u001B[0m \u001B[32m━━━━━━━━━━━━━━━━━━━━\u001B[0m\u001B[37m\u001B[0m \u001B[1m0s\u001B[0m 2ms/step - dense_2_loss: 6.4587 - dense_3_loss: 25.3402 - dense_4_loss: 2.5389 - loss: 34.3351\n",
      "Epoch 14/500\n",
      "\u001B[1m69/69\u001B[0m \u001B[32m━━━━━━━━━━━━━━━━━━━━\u001B[0m\u001B[37m\u001B[0m \u001B[1m0s\u001B[0m 1ms/step - dense_2_loss: 13.5748 - dense_3_loss: 94.4129 - dense_4_loss: 3.3281 - loss: 111.3293 \n",
      "Epoch 15/500\n",
      "\u001B[1m69/69\u001B[0m \u001B[32m━━━━━━━━━━━━━━━━━━━━\u001B[0m\u001B[37m\u001B[0m \u001B[1m0s\u001B[0m 2ms/step - dense_2_loss: 0.8723 - dense_3_loss: 0.7171 - dense_4_loss: 0.5096 - loss: 2.0993\n",
      "Epoch 16/500\n",
      "\u001B[1m69/69\u001B[0m \u001B[32m━━━━━━━━━━━━━━━━━━━━\u001B[0m\u001B[37m\u001B[0m \u001B[1m0s\u001B[0m 1ms/step - dense_2_loss: 0.8982 - dense_3_loss: 0.4270 - dense_4_loss: 0.4152 - loss: 1.7408\n",
      "Epoch 17/500\n",
      "\u001B[1m69/69\u001B[0m \u001B[32m━━━━━━━━━━━━━━━━━━━━\u001B[0m\u001B[37m\u001B[0m \u001B[1m0s\u001B[0m 2ms/step - dense_2_loss: 1.3609 - dense_3_loss: 0.6593 - dense_4_loss: 0.2779 - loss: 2.2985\n",
      "Epoch 18/500\n",
      "\u001B[1m69/69\u001B[0m \u001B[32m━━━━━━━━━━━━━━━━━━━━\u001B[0m\u001B[37m\u001B[0m \u001B[1m0s\u001B[0m 1ms/step - dense_2_loss: 0.6902 - dense_3_loss: 0.3947 - dense_4_loss: 0.1668 - loss: 1.2520\n",
      "Epoch 19/500\n",
      "\u001B[1m69/69\u001B[0m \u001B[32m━━━━━━━━━━━━━━━━━━━━\u001B[0m\u001B[37m\u001B[0m \u001B[1m0s\u001B[0m 1ms/step - dense_2_loss: 0.9976 - dense_3_loss: 0.4503 - dense_4_loss: 0.1873 - loss: 1.6354\n",
      "Epoch 20/500\n",
      "\u001B[1m69/69\u001B[0m \u001B[32m━━━━━━━━━━━━━━━━━━━━\u001B[0m\u001B[37m\u001B[0m \u001B[1m0s\u001B[0m 2ms/step - dense_2_loss: 1.2337 - dense_3_loss: 0.6899 - dense_4_loss: 0.5595 - loss: 2.4837\n",
      "Epoch 21/500\n",
      "\u001B[1m69/69\u001B[0m \u001B[32m━━━━━━━━━━━━━━━━━━━━\u001B[0m\u001B[37m\u001B[0m \u001B[1m0s\u001B[0m 2ms/step - dense_2_loss: 0.9512 - dense_3_loss: 2.2630 - dense_4_loss: 4.1314 - loss: 7.3476\n",
      "Epoch 22/500\n",
      "\u001B[1m69/69\u001B[0m \u001B[32m━━━━━━━━━━━━━━━━━━━━\u001B[0m\u001B[37m\u001B[0m \u001B[1m0s\u001B[0m 1ms/step - dense_2_loss: 1.9003 - dense_3_loss: 0.9073 - dense_4_loss: 0.6976 - loss: 3.5062\n",
      "Epoch 23/500\n",
      "\u001B[1m69/69\u001B[0m \u001B[32m━━━━━━━━━━━━━━━━━━━━\u001B[0m\u001B[37m\u001B[0m \u001B[1m0s\u001B[0m 2ms/step - dense_2_loss: 0.8946 - dense_3_loss: 0.4383 - dense_4_loss: 0.2308 - loss: 1.5556\n",
      "Epoch 24/500\n",
      "\u001B[1m69/69\u001B[0m \u001B[32m━━━━━━━━━━━━━━━━━━━━\u001B[0m\u001B[37m\u001B[0m \u001B[1m0s\u001B[0m 2ms/step - dense_2_loss: 1.3069 - dense_3_loss: 0.7466 - dense_4_loss: 2.2772 - loss: 4.3311\n",
      "Epoch 25/500\n",
      "\u001B[1m69/69\u001B[0m \u001B[32m━━━━━━━━━━━━━━━━━━━━\u001B[0m\u001B[37m\u001B[0m \u001B[1m0s\u001B[0m 2ms/step - dense_2_loss: 0.7589 - dense_3_loss: 0.4242 - dense_4_loss: 0.5901 - loss: 1.7736\n",
      "Epoch 26/500\n",
      "\u001B[1m69/69\u001B[0m \u001B[32m━━━━━━━━━━━━━━━━━━━━\u001B[0m\u001B[37m\u001B[0m \u001B[1m0s\u001B[0m 2ms/step - dense_2_loss: 4.0408 - dense_3_loss: 1.1205 - dense_4_loss: 2.3052 - loss: 7.4266\n",
      "Epoch 27/500\n",
      "\u001B[1m69/69\u001B[0m \u001B[32m━━━━━━━━━━━━━━━━━━━━\u001B[0m\u001B[37m\u001B[0m \u001B[1m0s\u001B[0m 2ms/step - dense_2_loss: 9.2082 - dense_3_loss: 0.7006 - dense_4_loss: 17.7605 - loss: 27.6782\n",
      "Epoch 28/500\n",
      "\u001B[1m69/69\u001B[0m \u001B[32m━━━━━━━━━━━━━━━━━━━━\u001B[0m\u001B[37m\u001B[0m \u001B[1m0s\u001B[0m 1ms/step - dense_2_loss: 2.7486 - dense_3_loss: 0.9171 - dense_4_loss: 2.4340 - loss: 6.0990\n",
      "Epoch 29/500\n",
      "\u001B[1m69/69\u001B[0m \u001B[32m━━━━━━━━━━━━━━━━━━━━\u001B[0m\u001B[37m\u001B[0m \u001B[1m0s\u001B[0m 2ms/step - dense_2_loss: 1.7025 - dense_3_loss: 0.4827 - dense_4_loss: 0.5294 - loss: 2.7151\n",
      "Epoch 30/500\n",
      "\u001B[1m69/69\u001B[0m \u001B[32m━━━━━━━━━━━━━━━━━━━━\u001B[0m\u001B[37m\u001B[0m \u001B[1m0s\u001B[0m 2ms/step - dense_2_loss: 1.1970 - dense_3_loss: 0.6693 - dense_4_loss: 0.2184 - loss: 2.0849\n",
      "Epoch 31/500\n",
      "\u001B[1m69/69\u001B[0m \u001B[32m━━━━━━━━━━━━━━━━━━━━\u001B[0m\u001B[37m\u001B[0m \u001B[1m0s\u001B[0m 1ms/step - dense_2_loss: 0.8359 - dense_3_loss: 0.8148 - dense_4_loss: 0.2042 - loss: 1.8554\n",
      "Epoch 32/500\n",
      "\u001B[1m69/69\u001B[0m \u001B[32m━━━━━━━━━━━━━━━━━━━━\u001B[0m\u001B[37m\u001B[0m \u001B[1m0s\u001B[0m 1ms/step - dense_2_loss: 1.0719 - dense_3_loss: 1.0280 - dense_4_loss: 0.4793 - loss: 2.5793\n",
      "Epoch 33/500\n",
      "\u001B[1m69/69\u001B[0m \u001B[32m━━━━━━━━━━━━━━━━━━━━\u001B[0m\u001B[37m\u001B[0m \u001B[1m0s\u001B[0m 1ms/step - dense_2_loss: 1.3580 - dense_3_loss: 1.9941 - dense_4_loss: 0.2671 - loss: 3.6198\n",
      "Epoch 34/500\n",
      "\u001B[1m69/69\u001B[0m \u001B[32m━━━━━━━━━━━━━━━━━━━━\u001B[0m\u001B[37m\u001B[0m \u001B[1m0s\u001B[0m 1ms/step - dense_2_loss: 1.1628 - dense_3_loss: 0.5503 - dense_4_loss: 0.2921 - loss: 2.0054\n",
      "Epoch 35/500\n",
      "\u001B[1m69/69\u001B[0m \u001B[32m━━━━━━━━━━━━━━━━━━━━\u001B[0m\u001B[37m\u001B[0m \u001B[1m0s\u001B[0m 1ms/step - dense_2_loss: 2.0605 - dense_3_loss: 1.2417 - dense_4_loss: 0.3642 - loss: 3.6669\n",
      "Epoch 36/500\n",
      "\u001B[1m69/69\u001B[0m \u001B[32m━━━━━━━━━━━━━━━━━━━━\u001B[0m\u001B[37m\u001B[0m \u001B[1m0s\u001B[0m 1ms/step - dense_2_loss: 0.6253 - dense_3_loss: 0.8304 - dense_4_loss: 0.1727 - loss: 1.6283\n",
      "Epoch 37/500\n",
      "\u001B[1m69/69\u001B[0m \u001B[32m━━━━━━━━━━━━━━━━━━━━\u001B[0m\u001B[37m\u001B[0m \u001B[1m0s\u001B[0m 1ms/step - dense_2_loss: 1.0035 - dense_3_loss: 0.7195 - dense_4_loss: 0.2897 - loss: 2.0110\n",
      "Epoch 38/500\n",
      "\u001B[1m69/69\u001B[0m \u001B[32m━━━━━━━━━━━━━━━━━━━━\u001B[0m\u001B[37m\u001B[0m \u001B[1m0s\u001B[0m 1ms/step - dense_2_loss: 29.4845 - dense_3_loss: 8.9814 - dense_4_loss: 6.2317 - loss: 44.6851\n",
      "Epoch 39/500\n",
      "\u001B[1m69/69\u001B[0m \u001B[32m━━━━━━━━━━━━━━━━━━━━\u001B[0m\u001B[37m\u001B[0m \u001B[1m0s\u001B[0m 1ms/step - dense_2_loss: 11.7831 - dense_3_loss: 11.7815 - dense_4_loss: 5.7805 - loss: 29.3200\n",
      "Epoch 40/500\n",
      "\u001B[1m69/69\u001B[0m \u001B[32m━━━━━━━━━━━━━━━━━━━━\u001B[0m\u001B[37m\u001B[0m \u001B[1m0s\u001B[0m 2ms/step - dense_2_loss: 2.0473 - dense_3_loss: 1.7243 - dense_4_loss: 0.5117 - loss: 4.2836\n",
      "Epoch 41/500\n",
      "\u001B[1m69/69\u001B[0m \u001B[32m━━━━━━━━━━━━━━━━━━━━\u001B[0m\u001B[37m\u001B[0m \u001B[1m0s\u001B[0m 2ms/step - dense_2_loss: 3.1266 - dense_3_loss: 6.6038 - dense_4_loss: 1.4596 - loss: 11.1926\n",
      "Epoch 42/500\n",
      "\u001B[1m69/69\u001B[0m \u001B[32m━━━━━━━━━━━━━━━━━━━━\u001B[0m\u001B[37m\u001B[0m \u001B[1m0s\u001B[0m 2ms/step - dense_2_loss: 1.5417 - dense_3_loss: 3.6231 - dense_4_loss: 4.5918 - loss: 9.7587\n",
      "Epoch 43/500\n",
      "\u001B[1m69/69\u001B[0m \u001B[32m━━━━━━━━━━━━━━━━━━━━\u001B[0m\u001B[37m\u001B[0m \u001B[1m0s\u001B[0m 1ms/step - dense_2_loss: 2.5006 - dense_3_loss: 0.7095 - dense_4_loss: 0.8921 - loss: 4.1027\n",
      "Epoch 44/500\n",
      "\u001B[1m69/69\u001B[0m \u001B[32m━━━━━━━━━━━━━━━━━━━━\u001B[0m\u001B[37m\u001B[0m \u001B[1m0s\u001B[0m 1ms/step - dense_2_loss: 0.8714 - dense_3_loss: 0.4740 - dense_4_loss: 0.1786 - loss: 1.5242\n",
      "Epoch 45/500\n",
      "\u001B[1m69/69\u001B[0m \u001B[32m━━━━━━━━━━━━━━━━━━━━\u001B[0m\u001B[37m\u001B[0m \u001B[1m0s\u001B[0m 1ms/step - dense_2_loss: 0.8618 - dense_3_loss: 0.4920 - dense_4_loss: 0.1273 - loss: 1.4809\n",
      "Epoch 46/500\n",
      "\u001B[1m69/69\u001B[0m \u001B[32m━━━━━━━━━━━━━━━━━━━━\u001B[0m\u001B[37m\u001B[0m \u001B[1m0s\u001B[0m 1ms/step - dense_2_loss: 1.0690 - dense_3_loss: 0.6863 - dense_4_loss: 0.1277 - loss: 1.8835\n",
      "Epoch 47/500\n",
      "\u001B[1m69/69\u001B[0m \u001B[32m━━━━━━━━━━━━━━━━━━━━\u001B[0m\u001B[37m\u001B[0m \u001B[1m0s\u001B[0m 1ms/step - dense_2_loss: 0.8997 - dense_3_loss: 0.5556 - dense_4_loss: 0.1532 - loss: 1.6089\n",
      "Epoch 48/500\n",
      "\u001B[1m69/69\u001B[0m \u001B[32m━━━━━━━━━━━━━━━━━━━━\u001B[0m\u001B[37m\u001B[0m \u001B[1m0s\u001B[0m 2ms/step - dense_2_loss: 0.8882 - dense_3_loss: 0.5089 - dense_4_loss: 0.1741 - loss: 1.5716\n",
      "Epoch 49/500\n",
      "\u001B[1m69/69\u001B[0m \u001B[32m━━━━━━━━━━━━━━━━━━━━\u001B[0m\u001B[37m\u001B[0m \u001B[1m0s\u001B[0m 2ms/step - dense_2_loss: 0.7035 - dense_3_loss: 0.3873 - dense_4_loss: 0.1230 - loss: 1.2119\n",
      "Epoch 50/500\n",
      "\u001B[1m69/69\u001B[0m \u001B[32m━━━━━━━━━━━━━━━━━━━━\u001B[0m\u001B[37m\u001B[0m \u001B[1m0s\u001B[0m 1ms/step - dense_2_loss: 3.6949 - dense_3_loss: 2.9041 - dense_4_loss: 2.3551 - loss: 8.9553\n",
      "Epoch 51/500\n",
      "\u001B[1m69/69\u001B[0m \u001B[32m━━━━━━━━━━━━━━━━━━━━\u001B[0m\u001B[37m\u001B[0m \u001B[1m0s\u001B[0m 1ms/step - dense_2_loss: 4.0260 - dense_3_loss: 14.5908 - dense_4_loss: 16.3761 - loss: 34.9996\n",
      "Epoch 52/500\n",
      "\u001B[1m69/69\u001B[0m \u001B[32m━━━━━━━━━━━━━━━━━━━━\u001B[0m\u001B[37m\u001B[0m \u001B[1m0s\u001B[0m 1ms/step - dense_2_loss: 3.8906 - dense_3_loss: 7.3355 - dense_4_loss: 1.5321 - loss: 12.7575\n",
      "Epoch 53/500\n",
      "\u001B[1m69/69\u001B[0m \u001B[32m━━━━━━━━━━━━━━━━━━━━\u001B[0m\u001B[37m\u001B[0m \u001B[1m0s\u001B[0m 1ms/step - dense_2_loss: 2.7050 - dense_3_loss: 4.2425 - dense_4_loss: 1.1291 - loss: 8.0785\n",
      "Epoch 54/500\n",
      "\u001B[1m69/69\u001B[0m \u001B[32m━━━━━━━━━━━━━━━━━━━━\u001B[0m\u001B[37m\u001B[0m \u001B[1m0s\u001B[0m 1ms/step - dense_2_loss: 1.5827 - dense_3_loss: 0.8886 - dense_4_loss: 0.2451 - loss: 2.7093\n",
      "Epoch 55/500\n",
      "\u001B[1m69/69\u001B[0m \u001B[32m━━━━━━━━━━━━━━━━━━━━\u001B[0m\u001B[37m\u001B[0m \u001B[1m0s\u001B[0m 1ms/step - dense_2_loss: 4.2127 - dense_3_loss: 2.5258 - dense_4_loss: 0.7337 - loss: 7.4728\n",
      "Epoch 56/500\n",
      "\u001B[1m69/69\u001B[0m \u001B[32m━━━━━━━━━━━━━━━━━━━━\u001B[0m\u001B[37m\u001B[0m \u001B[1m0s\u001B[0m 1ms/step - dense_2_loss: 1.2754 - dense_3_loss: 0.9365 - dense_4_loss: 0.2741 - loss: 2.4864\n",
      "Epoch 57/500\n",
      "\u001B[1m69/69\u001B[0m \u001B[32m━━━━━━━━━━━━━━━━━━━━\u001B[0m\u001B[37m\u001B[0m \u001B[1m0s\u001B[0m 1ms/step - dense_2_loss: 0.7026 - dense_3_loss: 0.7811 - dense_4_loss: 0.1810 - loss: 1.6649\n",
      "Epoch 58/500\n",
      "\u001B[1m69/69\u001B[0m \u001B[32m━━━━━━━━━━━━━━━━━━━━\u001B[0m\u001B[37m\u001B[0m \u001B[1m0s\u001B[0m 1ms/step - dense_2_loss: 1.1500 - dense_3_loss: 1.9147 - dense_4_loss: 0.4104 - loss: 3.4753\n",
      "Epoch 59/500\n",
      "\u001B[1m69/69\u001B[0m \u001B[32m━━━━━━━━━━━━━━━━━━━━\u001B[0m\u001B[37m\u001B[0m \u001B[1m0s\u001B[0m 1ms/step - dense_2_loss: 2.2215 - dense_3_loss: 2.4336 - dense_4_loss: 0.5543 - loss: 5.2100\n",
      "Epoch 60/500\n",
      "\u001B[1m69/69\u001B[0m \u001B[32m━━━━━━━━━━━━━━━━━━━━\u001B[0m\u001B[37m\u001B[0m \u001B[1m0s\u001B[0m 1ms/step - dense_2_loss: 2.4009 - dense_3_loss: 3.7413 - dense_4_loss: 0.6353 - loss: 6.7785\n",
      "Epoch 61/500\n",
      "\u001B[1m69/69\u001B[0m \u001B[32m━━━━━━━━━━━━━━━━━━━━\u001B[0m\u001B[37m\u001B[0m \u001B[1m0s\u001B[0m 1ms/step - dense_2_loss: 0.9195 - dense_3_loss: 0.5529 - dense_4_loss: 0.2120 - loss: 1.6847\n",
      "Epoch 62/500\n",
      "\u001B[1m69/69\u001B[0m \u001B[32m━━━━━━━━━━━━━━━━━━━━\u001B[0m\u001B[37m\u001B[0m \u001B[1m0s\u001B[0m 1ms/step - dense_2_loss: 0.6299 - dense_3_loss: 0.3872 - dense_4_loss: 0.1672 - loss: 1.1838\n",
      "Epoch 63/500\n",
      "\u001B[1m69/69\u001B[0m \u001B[32m━━━━━━━━━━━━━━━━━━━━\u001B[0m\u001B[37m\u001B[0m \u001B[1m0s\u001B[0m 1ms/step - dense_2_loss: 1.1896 - dense_3_loss: 0.9055 - dense_4_loss: 0.3765 - loss: 2.4716\n",
      "Epoch 64/500\n",
      "\u001B[1m69/69\u001B[0m \u001B[32m━━━━━━━━━━━━━━━━━━━━\u001B[0m\u001B[37m\u001B[0m \u001B[1m0s\u001B[0m 1ms/step - dense_2_loss: 0.9685 - dense_3_loss: 0.7340 - dense_4_loss: 0.3882 - loss: 2.0913\n",
      "Epoch 65/500\n",
      "\u001B[1m69/69\u001B[0m \u001B[32m━━━━━━━━━━━━━━━━━━━━\u001B[0m\u001B[37m\u001B[0m \u001B[1m0s\u001B[0m 1ms/step - dense_2_loss: 1.4792 - dense_3_loss: 0.7512 - dense_4_loss: 0.7343 - loss: 2.9655\n",
      "Epoch 66/500\n",
      "\u001B[1m69/69\u001B[0m \u001B[32m━━━━━━━━━━━━━━━━━━━━\u001B[0m\u001B[37m\u001B[0m \u001B[1m0s\u001B[0m 1ms/step - dense_2_loss: 0.7065 - dense_3_loss: 0.5956 - dense_4_loss: 0.2290 - loss: 1.5313\n",
      "Epoch 67/500\n",
      "\u001B[1m69/69\u001B[0m \u001B[32m━━━━━━━━━━━━━━━━━━━━\u001B[0m\u001B[37m\u001B[0m \u001B[1m0s\u001B[0m 1ms/step - dense_2_loss: 1.2580 - dense_3_loss: 1.9800 - dense_4_loss: 0.5270 - loss: 3.7640\n",
      "Epoch 68/500\n",
      "\u001B[1m69/69\u001B[0m \u001B[32m━━━━━━━━━━━━━━━━━━━━\u001B[0m\u001B[37m\u001B[0m \u001B[1m0s\u001B[0m 1ms/step - dense_2_loss: 1.2998 - dense_3_loss: 2.3324 - dense_4_loss: 0.6292 - loss: 4.2480\n",
      "Epoch 69/500\n",
      "\u001B[1m69/69\u001B[0m \u001B[32m━━━━━━━━━━━━━━━━━━━━\u001B[0m\u001B[37m\u001B[0m \u001B[1m0s\u001B[0m 1ms/step - dense_2_loss: 10.7287 - dense_3_loss: 15.4428 - dense_4_loss: 5.1469 - loss: 31.3232\n",
      "Epoch 70/500\n",
      "\u001B[1m69/69\u001B[0m \u001B[32m━━━━━━━━━━━━━━━━━━━━\u001B[0m\u001B[37m\u001B[0m \u001B[1m0s\u001B[0m 1ms/step - dense_2_loss: 0.9596 - dense_3_loss: 1.5689 - dense_4_loss: 0.4793 - loss: 3.0084\n",
      "Epoch 71/500\n",
      "\u001B[1m69/69\u001B[0m \u001B[32m━━━━━━━━━━━━━━━━━━━━\u001B[0m\u001B[37m\u001B[0m \u001B[1m0s\u001B[0m 1ms/step - dense_2_loss: 1.2971 - dense_3_loss: 0.8648 - dense_4_loss: 0.2779 - loss: 2.4402\n",
      "Epoch 72/500\n",
      "\u001B[1m69/69\u001B[0m \u001B[32m━━━━━━━━━━━━━━━━━━━━\u001B[0m\u001B[37m\u001B[0m \u001B[1m0s\u001B[0m 1ms/step - dense_2_loss: 1.2630 - dense_3_loss: 0.8424 - dense_4_loss: 0.6260 - loss: 2.7320\n",
      "Epoch 73/500\n",
      "\u001B[1m69/69\u001B[0m \u001B[32m━━━━━━━━━━━━━━━━━━━━\u001B[0m\u001B[37m\u001B[0m \u001B[1m0s\u001B[0m 1ms/step - dense_2_loss: 1.3079 - dense_3_loss: 0.9846 - dense_4_loss: 0.3062 - loss: 2.5988\n",
      "Epoch 74/500\n",
      "\u001B[1m69/69\u001B[0m \u001B[32m━━━━━━━━━━━━━━━━━━━━\u001B[0m\u001B[37m\u001B[0m \u001B[1m0s\u001B[0m 1ms/step - dense_2_loss: 0.8533 - dense_3_loss: 0.6255 - dense_4_loss: 0.3082 - loss: 1.7859\n",
      "Epoch 75/500\n",
      "\u001B[1m69/69\u001B[0m \u001B[32m━━━━━━━━━━━━━━━━━━━━\u001B[0m\u001B[37m\u001B[0m \u001B[1m0s\u001B[0m 1ms/step - dense_2_loss: 0.9148 - dense_3_loss: 0.7661 - dense_4_loss: 0.2410 - loss: 1.9221\n",
      "Epoch 76/500\n",
      "\u001B[1m69/69\u001B[0m \u001B[32m━━━━━━━━━━━━━━━━━━━━\u001B[0m\u001B[37m\u001B[0m \u001B[1m0s\u001B[0m 1ms/step - dense_2_loss: 1.8580 - dense_3_loss: 0.8654 - dense_4_loss: 0.4518 - loss: 3.1756\n",
      "Epoch 77/500\n",
      "\u001B[1m69/69\u001B[0m \u001B[32m━━━━━━━━━━━━━━━━━━━━\u001B[0m\u001B[37m\u001B[0m \u001B[1m0s\u001B[0m 1ms/step - dense_2_loss: 0.9328 - dense_3_loss: 0.8871 - dense_4_loss: 0.4222 - loss: 2.2427\n",
      "Epoch 78/500\n",
      "\u001B[1m69/69\u001B[0m \u001B[32m━━━━━━━━━━━━━━━━━━━━\u001B[0m\u001B[37m\u001B[0m \u001B[1m0s\u001B[0m 2ms/step - dense_2_loss: 1.2027 - dense_3_loss: 2.8127 - dense_4_loss: 0.8446 - loss: 4.8603\n",
      "Epoch 79/500\n",
      "\u001B[1m69/69\u001B[0m \u001B[32m━━━━━━━━━━━━━━━━━━━━\u001B[0m\u001B[37m\u001B[0m \u001B[1m0s\u001B[0m 1ms/step - dense_2_loss: 4.3024 - dense_3_loss: 6.6156 - dense_4_loss: 8.5620 - loss: 19.4874\n",
      "Epoch 80/500\n",
      "\u001B[1m69/69\u001B[0m \u001B[32m━━━━━━━━━━━━━━━━━━━━\u001B[0m\u001B[37m\u001B[0m \u001B[1m0s\u001B[0m 2ms/step - dense_2_loss: 3.7605 - dense_3_loss: 3.7931 - dense_4_loss: 8.8208 - loss: 16.3766\n",
      "Epoch 81/500\n",
      "\u001B[1m69/69\u001B[0m \u001B[32m━━━━━━━━━━━━━━━━━━━━\u001B[0m\u001B[37m\u001B[0m \u001B[1m0s\u001B[0m 2ms/step - dense_2_loss: 1.5597 - dense_3_loss: 1.2999 - dense_4_loss: 0.6142 - loss: 3.4741\n",
      "Epoch 82/500\n",
      "\u001B[1m69/69\u001B[0m \u001B[32m━━━━━━━━━━━━━━━━━━━━\u001B[0m\u001B[37m\u001B[0m \u001B[1m0s\u001B[0m 1ms/step - dense_2_loss: 1.0451 - dense_3_loss: 0.6852 - dense_4_loss: 0.1557 - loss: 1.8863\n",
      "Epoch 83/500\n",
      "\u001B[1m69/69\u001B[0m \u001B[32m━━━━━━━━━━━━━━━━━━━━\u001B[0m\u001B[37m\u001B[0m \u001B[1m0s\u001B[0m 1ms/step - dense_2_loss: 0.9341 - dense_3_loss: 0.3775 - dense_4_loss: 0.1580 - loss: 1.4699\n",
      "Epoch 84/500\n",
      "\u001B[1m69/69\u001B[0m \u001B[32m━━━━━━━━━━━━━━━━━━━━\u001B[0m\u001B[37m\u001B[0m \u001B[1m0s\u001B[0m 1ms/step - dense_2_loss: 1.0283 - dense_3_loss: 0.5447 - dense_4_loss: 0.2022 - loss: 1.7754\n",
      "Epoch 85/500\n",
      "\u001B[1m69/69\u001B[0m \u001B[32m━━━━━━━━━━━━━━━━━━━━\u001B[0m\u001B[37m\u001B[0m \u001B[1m0s\u001B[0m 1ms/step - dense_2_loss: 0.9988 - dense_3_loss: 0.6626 - dense_4_loss: 0.1754 - loss: 1.8372\n",
      "Epoch 86/500\n",
      "\u001B[1m69/69\u001B[0m \u001B[32m━━━━━━━━━━━━━━━━━━━━\u001B[0m\u001B[37m\u001B[0m \u001B[1m0s\u001B[0m 1ms/step - dense_2_loss: 2.0488 - dense_3_loss: 0.9664 - dense_4_loss: 0.2750 - loss: 3.2905\n",
      "Epoch 87/500\n",
      "\u001B[1m69/69\u001B[0m \u001B[32m━━━━━━━━━━━━━━━━━━━━\u001B[0m\u001B[37m\u001B[0m \u001B[1m0s\u001B[0m 1ms/step - dense_2_loss: 1.4781 - dense_3_loss: 0.7048 - dense_4_loss: 0.1250 - loss: 2.3082\n",
      "Epoch 88/500\n",
      "\u001B[1m69/69\u001B[0m \u001B[32m━━━━━━━━━━━━━━━━━━━━\u001B[0m\u001B[37m\u001B[0m \u001B[1m0s\u001B[0m 1ms/step - dense_2_loss: 1.3460 - dense_3_loss: 0.5580 - dense_4_loss: 0.4010 - loss: 2.3050\n",
      "Epoch 89/500\n",
      "\u001B[1m69/69\u001B[0m \u001B[32m━━━━━━━━━━━━━━━━━━━━\u001B[0m\u001B[37m\u001B[0m \u001B[1m0s\u001B[0m 1ms/step - dense_2_loss: 1.2192 - dense_3_loss: 0.7057 - dense_4_loss: 0.1957 - loss: 2.1189\n",
      "Epoch 90/500\n",
      "\u001B[1m69/69\u001B[0m \u001B[32m━━━━━━━━━━━━━━━━━━━━\u001B[0m\u001B[37m\u001B[0m \u001B[1m0s\u001B[0m 1ms/step - dense_2_loss: 1.6052 - dense_3_loss: 0.9920 - dense_4_loss: 0.2704 - loss: 2.8680\n",
      "Epoch 91/500\n",
      "\u001B[1m69/69\u001B[0m \u001B[32m━━━━━━━━━━━━━━━━━━━━\u001B[0m\u001B[37m\u001B[0m \u001B[1m0s\u001B[0m 1ms/step - dense_2_loss: 1.1183 - dense_3_loss: 0.5870 - dense_4_loss: 0.1680 - loss: 1.8736\n",
      "Epoch 92/500\n",
      "\u001B[1m69/69\u001B[0m \u001B[32m━━━━━━━━━━━━━━━━━━━━\u001B[0m\u001B[37m\u001B[0m \u001B[1m0s\u001B[0m 1ms/step - dense_2_loss: 0.7898 - dense_3_loss: 0.4460 - dense_4_loss: 0.1233 - loss: 1.3595\n",
      "Epoch 93/500\n",
      "\u001B[1m69/69\u001B[0m \u001B[32m━━━━━━━━━━━━━━━━━━━━\u001B[0m\u001B[37m\u001B[0m \u001B[1m0s\u001B[0m 1ms/step - dense_2_loss: 1.6222 - dense_3_loss: 0.8010 - dense_4_loss: 0.1858 - loss: 2.6094\n",
      "Epoch 94/500\n",
      "\u001B[1m69/69\u001B[0m \u001B[32m━━━━━━━━━━━━━━━━━━━━\u001B[0m\u001B[37m\u001B[0m \u001B[1m0s\u001B[0m 1ms/step - dense_2_loss: 1.1948 - dense_3_loss: 1.7928 - dense_4_loss: 0.5106 - loss: 3.4993\n",
      "Epoch 95/500\n",
      "\u001B[1m69/69\u001B[0m \u001B[32m━━━━━━━━━━━━━━━━━━━━\u001B[0m\u001B[37m\u001B[0m \u001B[1m0s\u001B[0m 2ms/step - dense_2_loss: 10.2317 - dense_3_loss: 19.5956 - dense_4_loss: 7.7066 - loss: 37.5386\n",
      "Epoch 96/500\n",
      "\u001B[1m69/69\u001B[0m \u001B[32m━━━━━━━━━━━━━━━━━━━━\u001B[0m\u001B[37m\u001B[0m \u001B[1m0s\u001B[0m 2ms/step - dense_2_loss: 0.7974 - dense_3_loss: 0.9222 - dense_4_loss: 0.2467 - loss: 1.9668\n",
      "Epoch 97/500\n",
      "\u001B[1m69/69\u001B[0m \u001B[32m━━━━━━━━━━━━━━━━━━━━\u001B[0m\u001B[37m\u001B[0m \u001B[1m0s\u001B[0m 2ms/step - dense_2_loss: 0.8750 - dense_3_loss: 0.7629 - dense_4_loss: 0.0965 - loss: 1.7346\n",
      "Epoch 98/500\n",
      "\u001B[1m69/69\u001B[0m \u001B[32m━━━━━━━━━━━━━━━━━━━━\u001B[0m\u001B[37m\u001B[0m \u001B[1m0s\u001B[0m 1ms/step - dense_2_loss: 1.1285 - dense_3_loss: 0.5034 - dense_4_loss: 0.1252 - loss: 1.7573\n",
      "Epoch 99/500\n",
      "\u001B[1m69/69\u001B[0m \u001B[32m━━━━━━━━━━━━━━━━━━━━\u001B[0m\u001B[37m\u001B[0m \u001B[1m0s\u001B[0m 1ms/step - dense_2_loss: 0.8154 - dense_3_loss: 0.8499 - dense_4_loss: 0.2173 - loss: 1.8828\n",
      "Epoch 100/500\n",
      "\u001B[1m69/69\u001B[0m \u001B[32m━━━━━━━━━━━━━━━━━━━━\u001B[0m\u001B[37m\u001B[0m \u001B[1m0s\u001B[0m 1ms/step - dense_2_loss: 1.1992 - dense_3_loss: 0.6006 - dense_4_loss: 0.2188 - loss: 2.0191\n",
      "Epoch 101/500\n",
      "\u001B[1m69/69\u001B[0m \u001B[32m━━━━━━━━━━━━━━━━━━━━\u001B[0m\u001B[37m\u001B[0m \u001B[1m0s\u001B[0m 1ms/step - dense_2_loss: 1.1179 - dense_3_loss: 0.5377 - dense_4_loss: 0.1087 - loss: 1.7643\n",
      "Epoch 102/500\n",
      "\u001B[1m69/69\u001B[0m \u001B[32m━━━━━━━━━━━━━━━━━━━━\u001B[0m\u001B[37m\u001B[0m \u001B[1m0s\u001B[0m 1ms/step - dense_2_loss: 1.2052 - dense_3_loss: 0.6766 - dense_4_loss: 0.1828 - loss: 2.0651\n",
      "Epoch 103/500\n",
      "\u001B[1m69/69\u001B[0m \u001B[32m━━━━━━━━━━━━━━━━━━━━\u001B[0m\u001B[37m\u001B[0m \u001B[1m0s\u001B[0m 1ms/step - dense_2_loss: 0.9823 - dense_3_loss: 0.5220 - dense_4_loss: 0.1533 - loss: 1.6572\n",
      "Epoch 104/500\n",
      "\u001B[1m69/69\u001B[0m \u001B[32m━━━━━━━━━━━━━━━━━━━━\u001B[0m\u001B[37m\u001B[0m \u001B[1m0s\u001B[0m 2ms/step - dense_2_loss: 1.1649 - dense_3_loss: 0.7631 - dense_4_loss: 0.1663 - loss: 2.0937\n",
      "Epoch 105/500\n",
      "\u001B[1m69/69\u001B[0m \u001B[32m━━━━━━━━━━━━━━━━━━━━\u001B[0m\u001B[37m\u001B[0m \u001B[1m0s\u001B[0m 1ms/step - dense_2_loss: 1.4037 - dense_3_loss: 0.7936 - dense_4_loss: 0.1678 - loss: 2.3653\n",
      "Epoch 106/500\n",
      "\u001B[1m69/69\u001B[0m \u001B[32m━━━━━━━━━━━━━━━━━━━━\u001B[0m\u001B[37m\u001B[0m \u001B[1m0s\u001B[0m 1ms/step - dense_2_loss: 0.6780 - dense_3_loss: 0.5522 - dense_4_loss: 0.1633 - loss: 1.3938\n",
      "Epoch 107/500\n",
      "\u001B[1m69/69\u001B[0m \u001B[32m━━━━━━━━━━━━━━━━━━━━\u001B[0m\u001B[37m\u001B[0m \u001B[1m0s\u001B[0m 1ms/step - dense_2_loss: 1.1337 - dense_3_loss: 0.4458 - dense_4_loss: 0.1110 - loss: 1.6905\n",
      "Epoch 108/500\n",
      "\u001B[1m69/69\u001B[0m \u001B[32m━━━━━━━━━━━━━━━━━━━━\u001B[0m\u001B[37m\u001B[0m \u001B[1m0s\u001B[0m 1ms/step - dense_2_loss: 0.8560 - dense_3_loss: 0.5452 - dense_4_loss: 0.1644 - loss: 1.5653\n",
      "Epoch 109/500\n",
      "\u001B[1m69/69\u001B[0m \u001B[32m━━━━━━━━━━━━━━━━━━━━\u001B[0m\u001B[37m\u001B[0m \u001B[1m0s\u001B[0m 1ms/step - dense_2_loss: 1.6734 - dense_3_loss: 1.2256 - dense_4_loss: 0.3149 - loss: 3.2146\n",
      "Epoch 110/500\n",
      "\u001B[1m69/69\u001B[0m \u001B[32m━━━━━━━━━━━━━━━━━━━━\u001B[0m\u001B[37m\u001B[0m \u001B[1m0s\u001B[0m 1ms/step - dense_2_loss: 0.7742 - dense_3_loss: 0.5511 - dense_4_loss: 0.2021 - loss: 1.5270\n",
      "Epoch 111/500\n",
      "\u001B[1m69/69\u001B[0m \u001B[32m━━━━━━━━━━━━━━━━━━━━\u001B[0m\u001B[37m\u001B[0m \u001B[1m0s\u001B[0m 1ms/step - dense_2_loss: 1.4796 - dense_3_loss: 1.1050 - dense_4_loss: 0.3288 - loss: 2.9133\n",
      "Epoch 112/500\n",
      "\u001B[1m69/69\u001B[0m \u001B[32m━━━━━━━━━━━━━━━━━━━━\u001B[0m\u001B[37m\u001B[0m \u001B[1m0s\u001B[0m 1ms/step - dense_2_loss: 2.3371 - dense_3_loss: 1.5089 - dense_4_loss: 0.3128 - loss: 4.1593\n",
      "Epoch 113/500\n",
      "\u001B[1m69/69\u001B[0m \u001B[32m━━━━━━━━━━━━━━━━━━━━\u001B[0m\u001B[37m\u001B[0m \u001B[1m0s\u001B[0m 1ms/step - dense_2_loss: 1.4512 - dense_3_loss: 0.7794 - dense_4_loss: 0.2944 - loss: 2.5255\n",
      "Epoch 114/500\n",
      "\u001B[1m69/69\u001B[0m \u001B[32m━━━━━━━━━━━━━━━━━━━━\u001B[0m\u001B[37m\u001B[0m \u001B[1m0s\u001B[0m 1ms/step - dense_2_loss: 0.9274 - dense_3_loss: 0.5678 - dense_4_loss: 0.2586 - loss: 1.7533\n",
      "Epoch 115/500\n",
      "\u001B[1m69/69\u001B[0m \u001B[32m━━━━━━━━━━━━━━━━━━━━\u001B[0m\u001B[37m\u001B[0m \u001B[1m0s\u001B[0m 1ms/step - dense_2_loss: 1.2253 - dense_3_loss: 0.6689 - dense_4_loss: 0.3706 - loss: 2.2652\n",
      "Epoch 116/500\n",
      "\u001B[1m69/69\u001B[0m \u001B[32m━━━━━━━━━━━━━━━━━━━━\u001B[0m\u001B[37m\u001B[0m \u001B[1m0s\u001B[0m 1ms/step - dense_2_loss: 2.3443 - dense_3_loss: 1.0865 - dense_4_loss: 0.6141 - loss: 4.0461\n",
      "Epoch 117/500\n",
      "\u001B[1m69/69\u001B[0m \u001B[32m━━━━━━━━━━━━━━━━━━━━\u001B[0m\u001B[37m\u001B[0m \u001B[1m0s\u001B[0m 1ms/step - dense_2_loss: 1.1599 - dense_3_loss: 0.7888 - dense_4_loss: 0.5120 - loss: 2.4611\n",
      "Epoch 118/500\n",
      "\u001B[1m69/69\u001B[0m \u001B[32m━━━━━━━━━━━━━━━━━━━━\u001B[0m\u001B[37m\u001B[0m \u001B[1m0s\u001B[0m 1ms/step - dense_2_loss: 1.3049 - dense_3_loss: 0.8167 - dense_4_loss: 0.3308 - loss: 2.4510\n",
      "Epoch 119/500\n",
      "\u001B[1m69/69\u001B[0m \u001B[32m━━━━━━━━━━━━━━━━━━━━\u001B[0m\u001B[37m\u001B[0m \u001B[1m0s\u001B[0m 1ms/step - dense_2_loss: 1.6780 - dense_3_loss: 1.2838 - dense_4_loss: 1.7538 - loss: 4.7164\n",
      "Epoch 120/500\n",
      "\u001B[1m69/69\u001B[0m \u001B[32m━━━━━━━━━━━━━━━━━━━━\u001B[0m\u001B[37m\u001B[0m \u001B[1m0s\u001B[0m 1ms/step - dense_2_loss: 1.1901 - dense_3_loss: 1.1148 - dense_4_loss: 0.8218 - loss: 3.1272\n",
      "Epoch 121/500\n",
      "\u001B[1m69/69\u001B[0m \u001B[32m━━━━━━━━━━━━━━━━━━━━\u001B[0m\u001B[37m\u001B[0m \u001B[1m0s\u001B[0m 1ms/step - dense_2_loss: 1.2366 - dense_3_loss: 0.6754 - dense_4_loss: 0.1901 - loss: 2.1025\n",
      "Epoch 122/500\n",
      "\u001B[1m69/69\u001B[0m \u001B[32m━━━━━━━━━━━━━━━━━━━━\u001B[0m\u001B[37m\u001B[0m \u001B[1m0s\u001B[0m 1ms/step - dense_2_loss: 1.0939 - dense_3_loss: 0.9789 - dense_4_loss: 0.2666 - loss: 2.3405\n",
      "Epoch 123/500\n",
      "\u001B[1m69/69\u001B[0m \u001B[32m━━━━━━━━━━━━━━━━━━━━\u001B[0m\u001B[37m\u001B[0m \u001B[1m0s\u001B[0m 1ms/step - dense_2_loss: 2.5752 - dense_3_loss: 2.8779 - dense_4_loss: 0.7477 - loss: 6.2017\n",
      "Epoch 124/500\n",
      "\u001B[1m69/69\u001B[0m \u001B[32m━━━━━━━━━━━━━━━━━━━━\u001B[0m\u001B[37m\u001B[0m \u001B[1m0s\u001B[0m 1ms/step - dense_2_loss: 0.9535 - dense_3_loss: 0.5417 - dense_4_loss: 0.2129 - loss: 1.7085\n",
      "Epoch 125/500\n",
      "\u001B[1m69/69\u001B[0m \u001B[32m━━━━━━━━━━━━━━━━━━━━\u001B[0m\u001B[37m\u001B[0m \u001B[1m0s\u001B[0m 1ms/step - dense_2_loss: 0.9678 - dense_3_loss: 0.6440 - dense_4_loss: 0.2787 - loss: 1.8909\n",
      "Epoch 126/500\n",
      "\u001B[1m69/69\u001B[0m \u001B[32m━━━━━━━━━━━━━━━━━━━━\u001B[0m\u001B[37m\u001B[0m \u001B[1m0s\u001B[0m 1ms/step - dense_2_loss: 1.4607 - dense_3_loss: 0.8039 - dense_4_loss: 0.3867 - loss: 2.6519\n",
      "Epoch 127/500\n",
      "\u001B[1m69/69\u001B[0m \u001B[32m━━━━━━━━━━━━━━━━━━━━\u001B[0m\u001B[37m\u001B[0m \u001B[1m0s\u001B[0m 1ms/step - dense_2_loss: 0.7995 - dense_3_loss: 0.4341 - dense_4_loss: 0.1577 - loss: 1.3916\n",
      "Epoch 128/500\n",
      "\u001B[1m69/69\u001B[0m \u001B[32m━━━━━━━━━━━━━━━━━━━━\u001B[0m\u001B[37m\u001B[0m \u001B[1m0s\u001B[0m 1ms/step - dense_2_loss: 1.7695 - dense_3_loss: 0.9278 - dense_4_loss: 0.4439 - loss: 3.1418\n",
      "Epoch 129/500\n",
      "\u001B[1m69/69\u001B[0m \u001B[32m━━━━━━━━━━━━━━━━━━━━\u001B[0m\u001B[37m\u001B[0m \u001B[1m0s\u001B[0m 1ms/step - dense_2_loss: 0.7237 - dense_3_loss: 0.6200 - dense_4_loss: 0.2064 - loss: 1.5506\n",
      "Epoch 130/500\n",
      "\u001B[1m69/69\u001B[0m \u001B[32m━━━━━━━━━━━━━━━━━━━━\u001B[0m\u001B[37m\u001B[0m \u001B[1m0s\u001B[0m 1ms/step - dense_2_loss: 1.0790 - dense_3_loss: 0.6905 - dense_4_loss: 0.3699 - loss: 2.1398\n",
      "Epoch 131/500\n",
      "\u001B[1m69/69\u001B[0m \u001B[32m━━━━━━━━━━━━━━━━━━━━\u001B[0m\u001B[37m\u001B[0m \u001B[1m0s\u001B[0m 1ms/step - dense_2_loss: 1.1197 - dense_3_loss: 0.9348 - dense_4_loss: 0.4144 - loss: 2.4692\n",
      "Epoch 132/500\n",
      "\u001B[1m69/69\u001B[0m \u001B[32m━━━━━━━━━━━━━━━━━━━━\u001B[0m\u001B[37m\u001B[0m \u001B[1m0s\u001B[0m 1ms/step - dense_2_loss: 0.7403 - dense_3_loss: 0.4745 - dense_4_loss: 0.2556 - loss: 1.4706\n",
      "Epoch 133/500\n",
      "\u001B[1m69/69\u001B[0m \u001B[32m━━━━━━━━━━━━━━━━━━━━\u001B[0m\u001B[37m\u001B[0m \u001B[1m0s\u001B[0m 1ms/step - dense_2_loss: 1.0858 - dense_3_loss: 0.5994 - dense_4_loss: 0.4071 - loss: 2.0927\n",
      "Epoch 134/500\n",
      "\u001B[1m69/69\u001B[0m \u001B[32m━━━━━━━━━━━━━━━━━━━━\u001B[0m\u001B[37m\u001B[0m \u001B[1m0s\u001B[0m 1ms/step - dense_2_loss: 1.2314 - dense_3_loss: 0.8237 - dense_4_loss: 0.3670 - loss: 2.4226\n",
      "Epoch 135/500\n",
      "\u001B[1m69/69\u001B[0m \u001B[32m━━━━━━━━━━━━━━━━━━━━\u001B[0m\u001B[37m\u001B[0m \u001B[1m0s\u001B[0m 1ms/step - dense_2_loss: 0.6507 - dense_3_loss: 0.4649 - dense_4_loss: 0.2568 - loss: 1.3719\n",
      "Epoch 136/500\n",
      "\u001B[1m69/69\u001B[0m \u001B[32m━━━━━━━━━━━━━━━━━━━━\u001B[0m\u001B[37m\u001B[0m \u001B[1m0s\u001B[0m 1ms/step - dense_2_loss: 0.7599 - dense_3_loss: 0.5562 - dense_4_loss: 0.3910 - loss: 1.7073\n",
      "Epoch 137/500\n",
      "\u001B[1m69/69\u001B[0m \u001B[32m━━━━━━━━━━━━━━━━━━━━\u001B[0m\u001B[37m\u001B[0m \u001B[1m0s\u001B[0m 1ms/step - dense_2_loss: 1.5079 - dense_3_loss: 0.9455 - dense_4_loss: 0.2831 - loss: 2.7361\n",
      "Epoch 138/500\n",
      "\u001B[1m69/69\u001B[0m \u001B[32m━━━━━━━━━━━━━━━━━━━━\u001B[0m\u001B[37m\u001B[0m \u001B[1m0s\u001B[0m 1ms/step - dense_2_loss: 0.6640 - dense_3_loss: 0.7652 - dense_4_loss: 0.3026 - loss: 1.7319\n",
      "Epoch 139/500\n",
      "\u001B[1m69/69\u001B[0m \u001B[32m━━━━━━━━━━━━━━━━━━━━\u001B[0m\u001B[37m\u001B[0m \u001B[1m0s\u001B[0m 1ms/step - dense_2_loss: 0.8067 - dense_3_loss: 0.7045 - dense_4_loss: 0.4408 - loss: 1.9516\n",
      "Epoch 140/500\n",
      "\u001B[1m69/69\u001B[0m \u001B[32m━━━━━━━━━━━━━━━━━━━━\u001B[0m\u001B[37m\u001B[0m \u001B[1m0s\u001B[0m 1ms/step - dense_2_loss: 1.4246 - dense_3_loss: 0.8133 - dense_4_loss: 0.5947 - loss: 2.8321\n",
      "Epoch 141/500\n",
      "\u001B[1m69/69\u001B[0m \u001B[32m━━━━━━━━━━━━━━━━━━━━\u001B[0m\u001B[37m\u001B[0m \u001B[1m0s\u001B[0m 2ms/step - dense_2_loss: 1.1935 - dense_3_loss: 0.6328 - dense_4_loss: 0.3235 - loss: 2.1501\n",
      "Epoch 142/500\n",
      "\u001B[1m69/69\u001B[0m \u001B[32m━━━━━━━━━━━━━━━━━━━━\u001B[0m\u001B[37m\u001B[0m \u001B[1m0s\u001B[0m 1ms/step - dense_2_loss: 1.2052 - dense_3_loss: 0.9836 - dense_4_loss: 0.3538 - loss: 2.5428\n",
      "Epoch 143/500\n",
      "\u001B[1m69/69\u001B[0m \u001B[32m━━━━━━━━━━━━━━━━━━━━\u001B[0m\u001B[37m\u001B[0m \u001B[1m0s\u001B[0m 1ms/step - dense_2_loss: 1.1916 - dense_3_loss: 0.7053 - dense_4_loss: 0.1834 - loss: 2.0801\n",
      "Epoch 144/500\n",
      "\u001B[1m69/69\u001B[0m \u001B[32m━━━━━━━━━━━━━━━━━━━━\u001B[0m\u001B[37m\u001B[0m \u001B[1m0s\u001B[0m 1ms/step - dense_2_loss: 1.4183 - dense_3_loss: 1.3096 - dense_4_loss: 0.5981 - loss: 3.3265\n",
      "Epoch 145/500\n",
      "\u001B[1m69/69\u001B[0m \u001B[32m━━━━━━━━━━━━━━━━━━━━\u001B[0m\u001B[37m\u001B[0m \u001B[1m0s\u001B[0m 1ms/step - dense_2_loss: 1.1249 - dense_3_loss: 0.7720 - dense_4_loss: 0.1967 - loss: 2.0932\n",
      "Epoch 146/500\n",
      "\u001B[1m69/69\u001B[0m \u001B[32m━━━━━━━━━━━━━━━━━━━━\u001B[0m\u001B[37m\u001B[0m \u001B[1m0s\u001B[0m 1ms/step - dense_2_loss: 2.4572 - dense_3_loss: 1.8504 - dense_4_loss: 0.7573 - loss: 5.0655\n",
      "Epoch 147/500\n",
      "\u001B[1m69/69\u001B[0m \u001B[32m━━━━━━━━━━━━━━━━━━━━\u001B[0m\u001B[37m\u001B[0m \u001B[1m0s\u001B[0m 2ms/step - dense_2_loss: 0.6297 - dense_3_loss: 0.4240 - dense_4_loss: 0.3769 - loss: 1.4303\n",
      "Epoch 148/500\n",
      "\u001B[1m69/69\u001B[0m \u001B[32m━━━━━━━━━━━━━━━━━━━━\u001B[0m\u001B[37m\u001B[0m \u001B[1m0s\u001B[0m 1ms/step - dense_2_loss: 1.2770 - dense_3_loss: 0.6319 - dense_4_loss: 0.2637 - loss: 2.1729\n",
      "Epoch 149/500\n",
      "\u001B[1m69/69\u001B[0m \u001B[32m━━━━━━━━━━━━━━━━━━━━\u001B[0m\u001B[37m\u001B[0m \u001B[1m0s\u001B[0m 1ms/step - dense_2_loss: 0.6758 - dense_3_loss: 0.3787 - dense_4_loss: 0.2127 - loss: 1.2676\n",
      "Epoch 150/500\n",
      "\u001B[1m69/69\u001B[0m \u001B[32m━━━━━━━━━━━━━━━━━━━━\u001B[0m\u001B[37m\u001B[0m \u001B[1m0s\u001B[0m 1ms/step - dense_2_loss: 0.6659 - dense_3_loss: 0.4086 - dense_4_loss: 0.0935 - loss: 1.1679\n",
      "Epoch 151/500\n",
      "\u001B[1m69/69\u001B[0m \u001B[32m━━━━━━━━━━━━━━━━━━━━\u001B[0m\u001B[37m\u001B[0m \u001B[1m0s\u001B[0m 1ms/step - dense_2_loss: 1.1227 - dense_3_loss: 0.7513 - dense_4_loss: 0.2750 - loss: 2.1495\n",
      "Epoch 152/500\n",
      "\u001B[1m69/69\u001B[0m \u001B[32m━━━━━━━━━━━━━━━━━━━━\u001B[0m\u001B[37m\u001B[0m \u001B[1m0s\u001B[0m 1ms/step - dense_2_loss: 0.8425 - dense_3_loss: 0.5871 - dense_4_loss: 0.2229 - loss: 1.6525\n",
      "Epoch 153/500\n",
      "\u001B[1m69/69\u001B[0m \u001B[32m━━━━━━━━━━━━━━━━━━━━\u001B[0m\u001B[37m\u001B[0m \u001B[1m0s\u001B[0m 1ms/step - dense_2_loss: 0.5003 - dense_3_loss: 0.3421 - dense_4_loss: 0.1526 - loss: 0.9950\n",
      "Epoch 154/500\n",
      "\u001B[1m69/69\u001B[0m \u001B[32m━━━━━━━━━━━━━━━━━━━━\u001B[0m\u001B[37m\u001B[0m \u001B[1m0s\u001B[0m 1ms/step - dense_2_loss: 0.7095 - dense_3_loss: 0.4881 - dense_4_loss: 0.1383 - loss: 1.3362\n",
      "Epoch 155/500\n",
      "\u001B[1m69/69\u001B[0m \u001B[32m━━━━━━━━━━━━━━━━━━━━\u001B[0m\u001B[37m\u001B[0m \u001B[1m0s\u001B[0m 1ms/step - dense_2_loss: 0.8667 - dense_3_loss: 0.5599 - dense_4_loss: 0.4201 - loss: 1.8469\n",
      "Epoch 156/500\n",
      "\u001B[1m69/69\u001B[0m \u001B[32m━━━━━━━━━━━━━━━━━━━━\u001B[0m\u001B[37m\u001B[0m \u001B[1m0s\u001B[0m 1ms/step - dense_2_loss: 0.8878 - dense_3_loss: 0.6744 - dense_4_loss: 0.3788 - loss: 1.9401\n",
      "Epoch 157/500\n",
      "\u001B[1m69/69\u001B[0m \u001B[32m━━━━━━━━━━━━━━━━━━━━\u001B[0m\u001B[37m\u001B[0m \u001B[1m0s\u001B[0m 1ms/step - dense_2_loss: 2.3347 - dense_3_loss: 1.9200 - dense_4_loss: 1.6457 - loss: 5.9014\n",
      "Epoch 158/500\n",
      "\u001B[1m69/69\u001B[0m \u001B[32m━━━━━━━━━━━━━━━━━━━━\u001B[0m\u001B[37m\u001B[0m \u001B[1m0s\u001B[0m 1ms/step - dense_2_loss: 0.5478 - dense_3_loss: 0.3829 - dense_4_loss: 0.1274 - loss: 1.0583\n",
      "Epoch 159/500\n",
      "\u001B[1m69/69\u001B[0m \u001B[32m━━━━━━━━━━━━━━━━━━━━\u001B[0m\u001B[37m\u001B[0m \u001B[1m0s\u001B[0m 1ms/step - dense_2_loss: 0.6681 - dense_3_loss: 0.3952 - dense_4_loss: 0.2173 - loss: 1.2809\n",
      "Epoch 160/500\n",
      "\u001B[1m69/69\u001B[0m \u001B[32m━━━━━━━━━━━━━━━━━━━━\u001B[0m\u001B[37m\u001B[0m \u001B[1m0s\u001B[0m 1ms/step - dense_2_loss: 0.9728 - dense_3_loss: 0.5034 - dense_4_loss: 0.0969 - loss: 1.5734\n",
      "Epoch 161/500\n",
      "\u001B[1m69/69\u001B[0m \u001B[32m━━━━━━━━━━━━━━━━━━━━\u001B[0m\u001B[37m\u001B[0m \u001B[1m0s\u001B[0m 1ms/step - dense_2_loss: 0.6145 - dense_3_loss: 0.4035 - dense_4_loss: 0.0974 - loss: 1.1141\n",
      "Epoch 162/500\n",
      "\u001B[1m69/69\u001B[0m \u001B[32m━━━━━━━━━━━━━━━━━━━━\u001B[0m\u001B[37m\u001B[0m \u001B[1m0s\u001B[0m 1ms/step - dense_2_loss: 0.7424 - dense_3_loss: 0.4026 - dense_4_loss: 0.1847 - loss: 1.3297\n",
      "Epoch 163/500\n",
      "\u001B[1m69/69\u001B[0m \u001B[32m━━━━━━━━━━━━━━━━━━━━\u001B[0m\u001B[37m\u001B[0m \u001B[1m0s\u001B[0m 1ms/step - dense_2_loss: 1.6881 - dense_3_loss: 0.9438 - dense_4_loss: 0.1898 - loss: 2.8221\n",
      "Epoch 164/500\n",
      "\u001B[1m69/69\u001B[0m \u001B[32m━━━━━━━━━━━━━━━━━━━━\u001B[0m\u001B[37m\u001B[0m \u001B[1m0s\u001B[0m 1ms/step - dense_2_loss: 1.1989 - dense_3_loss: 0.6817 - dense_4_loss: 0.1379 - loss: 2.0188\n",
      "Epoch 165/500\n",
      "\u001B[1m69/69\u001B[0m \u001B[32m━━━━━━━━━━━━━━━━━━━━\u001B[0m\u001B[37m\u001B[0m \u001B[1m0s\u001B[0m 2ms/step - dense_2_loss: 0.8152 - dense_3_loss: 0.5484 - dense_4_loss: 0.0857 - loss: 1.4488\n",
      "Epoch 166/500\n",
      "\u001B[1m69/69\u001B[0m \u001B[32m━━━━━━━━━━━━━━━━━━━━\u001B[0m\u001B[37m\u001B[0m \u001B[1m0s\u001B[0m 1ms/step - dense_2_loss: 1.1025 - dense_3_loss: 0.5645 - dense_4_loss: 0.1580 - loss: 1.8252\n",
      "Epoch 167/500\n",
      "\u001B[1m69/69\u001B[0m \u001B[32m━━━━━━━━━━━━━━━━━━━━\u001B[0m\u001B[37m\u001B[0m \u001B[1m0s\u001B[0m 1ms/step - dense_2_loss: 0.6711 - dense_3_loss: 0.4162 - dense_4_loss: 0.1173 - loss: 1.2046\n",
      "Epoch 168/500\n",
      "\u001B[1m69/69\u001B[0m \u001B[32m━━━━━━━━━━━━━━━━━━━━\u001B[0m\u001B[37m\u001B[0m \u001B[1m0s\u001B[0m 1ms/step - dense_2_loss: 0.9258 - dense_3_loss: 0.5446 - dense_4_loss: 0.1673 - loss: 1.6381\n",
      "Epoch 169/500\n",
      "\u001B[1m69/69\u001B[0m \u001B[32m━━━━━━━━━━━━━━━━━━━━\u001B[0m\u001B[37m\u001B[0m \u001B[1m0s\u001B[0m 1ms/step - dense_2_loss: 0.7504 - dense_3_loss: 0.4017 - dense_4_loss: 0.0965 - loss: 1.2463\n",
      "Epoch 170/500\n",
      "\u001B[1m69/69\u001B[0m \u001B[32m━━━━━━━━━━━━━━━━━━━━\u001B[0m\u001B[37m\u001B[0m \u001B[1m0s\u001B[0m 1ms/step - dense_2_loss: 1.2317 - dense_3_loss: 0.7584 - dense_4_loss: 0.1862 - loss: 2.1767\n",
      "Epoch 171/500\n",
      "\u001B[1m69/69\u001B[0m \u001B[32m━━━━━━━━━━━━━━━━━━━━\u001B[0m\u001B[37m\u001B[0m \u001B[1m0s\u001B[0m 2ms/step - dense_2_loss: 1.7288 - dense_3_loss: 1.0843 - dense_4_loss: 0.2303 - loss: 3.0437\n",
      "Epoch 172/500\n",
      "\u001B[1m69/69\u001B[0m \u001B[32m━━━━━━━━━━━━━━━━━━━━\u001B[0m\u001B[37m\u001B[0m \u001B[1m0s\u001B[0m 1ms/step - dense_2_loss: 0.8368 - dense_3_loss: 0.6099 - dense_4_loss: 0.1978 - loss: 1.6449\n",
      "Epoch 173/500\n",
      "\u001B[1m69/69\u001B[0m \u001B[32m━━━━━━━━━━━━━━━━━━━━\u001B[0m\u001B[37m\u001B[0m \u001B[1m0s\u001B[0m 1ms/step - dense_2_loss: 0.7536 - dense_3_loss: 0.4816 - dense_4_loss: 0.1664 - loss: 1.4017\n",
      "Epoch 174/500\n",
      "\u001B[1m69/69\u001B[0m \u001B[32m━━━━━━━━━━━━━━━━━━━━\u001B[0m\u001B[37m\u001B[0m \u001B[1m0s\u001B[0m 1ms/step - dense_2_loss: 0.6596 - dense_3_loss: 0.4833 - dense_4_loss: 0.2002 - loss: 1.3433\n",
      "Epoch 175/500\n",
      "\u001B[1m69/69\u001B[0m \u001B[32m━━━━━━━━━━━━━━━━━━━━\u001B[0m\u001B[37m\u001B[0m \u001B[1m0s\u001B[0m 1ms/step - dense_2_loss: 0.5286 - dense_3_loss: 0.6652 - dense_4_loss: 1.1743 - loss: 2.3686\n",
      "Epoch 176/500\n",
      "\u001B[1m69/69\u001B[0m \u001B[32m━━━━━━━━━━━━━━━━━━━━\u001B[0m\u001B[37m\u001B[0m \u001B[1m0s\u001B[0m 1ms/step - dense_2_loss: 1.1484 - dense_3_loss: 0.6686 - dense_4_loss: 0.2944 - loss: 2.1117\n",
      "Epoch 177/500\n",
      "\u001B[1m69/69\u001B[0m \u001B[32m━━━━━━━━━━━━━━━━━━━━\u001B[0m\u001B[37m\u001B[0m \u001B[1m0s\u001B[0m 1ms/step - dense_2_loss: 1.2590 - dense_3_loss: 0.9498 - dense_4_loss: 0.4203 - loss: 2.6297\n",
      "Epoch 178/500\n",
      "\u001B[1m69/69\u001B[0m \u001B[32m━━━━━━━━━━━━━━━━━━━━\u001B[0m\u001B[37m\u001B[0m \u001B[1m0s\u001B[0m 1ms/step - dense_2_loss: 0.7705 - dense_3_loss: 0.4548 - dense_4_loss: 0.1169 - loss: 1.3425\n",
      "Epoch 179/500\n",
      "\u001B[1m69/69\u001B[0m \u001B[32m━━━━━━━━━━━━━━━━━━━━\u001B[0m\u001B[37m\u001B[0m \u001B[1m0s\u001B[0m 1ms/step - dense_2_loss: 1.3491 - dense_3_loss: 0.7280 - dense_4_loss: 0.1693 - loss: 2.2467\n",
      "Epoch 180/500\n",
      "\u001B[1m69/69\u001B[0m \u001B[32m━━━━━━━━━━━━━━━━━━━━\u001B[0m\u001B[37m\u001B[0m \u001B[1m0s\u001B[0m 1ms/step - dense_2_loss: 0.8147 - dense_3_loss: 0.4970 - dense_4_loss: 0.0847 - loss: 1.3967\n",
      "Epoch 181/500\n",
      "\u001B[1m69/69\u001B[0m \u001B[32m━━━━━━━━━━━━━━━━━━━━\u001B[0m\u001B[37m\u001B[0m \u001B[1m0s\u001B[0m 1ms/step - dense_2_loss: 1.1754 - dense_3_loss: 0.6393 - dense_4_loss: 0.1264 - loss: 1.9414\n",
      "Epoch 182/500\n",
      "\u001B[1m69/69\u001B[0m \u001B[32m━━━━━━━━━━━━━━━━━━━━\u001B[0m\u001B[37m\u001B[0m \u001B[1m0s\u001B[0m 1ms/step - dense_2_loss: 0.7687 - dense_3_loss: 0.3877 - dense_4_loss: 0.1123 - loss: 1.2689\n",
      "Epoch 183/500\n",
      "\u001B[1m69/69\u001B[0m \u001B[32m━━━━━━━━━━━━━━━━━━━━\u001B[0m\u001B[37m\u001B[0m \u001B[1m0s\u001B[0m 1ms/step - dense_2_loss: 0.7084 - dense_3_loss: 0.5813 - dense_4_loss: 0.1584 - loss: 1.4482\n",
      "Epoch 184/500\n",
      "\u001B[1m69/69\u001B[0m \u001B[32m━━━━━━━━━━━━━━━━━━━━\u001B[0m\u001B[37m\u001B[0m \u001B[1m0s\u001B[0m 1ms/step - dense_2_loss: 0.7990 - dense_3_loss: 0.4773 - dense_4_loss: 0.1629 - loss: 1.4394\n",
      "Epoch 185/500\n",
      "\u001B[1m69/69\u001B[0m \u001B[32m━━━━━━━━━━━━━━━━━━━━\u001B[0m\u001B[37m\u001B[0m \u001B[1m0s\u001B[0m 1ms/step - dense_2_loss: 0.8674 - dense_3_loss: 0.5821 - dense_4_loss: 0.1625 - loss: 1.6118\n",
      "Epoch 186/500\n",
      "\u001B[1m69/69\u001B[0m \u001B[32m━━━━━━━━━━━━━━━━━━━━\u001B[0m\u001B[37m\u001B[0m \u001B[1m0s\u001B[0m 1ms/step - dense_2_loss: 0.9054 - dense_3_loss: 0.4814 - dense_4_loss: 0.2356 - loss: 1.6226\n",
      "Epoch 187/500\n",
      "\u001B[1m69/69\u001B[0m \u001B[32m━━━━━━━━━━━━━━━━━━━━\u001B[0m\u001B[37m\u001B[0m \u001B[1m0s\u001B[0m 1ms/step - dense_2_loss: 0.7525 - dense_3_loss: 0.5454 - dense_4_loss: 0.1804 - loss: 1.4787\n",
      "Epoch 188/500\n",
      "\u001B[1m69/69\u001B[0m \u001B[32m━━━━━━━━━━━━━━━━━━━━\u001B[0m\u001B[37m\u001B[0m \u001B[1m0s\u001B[0m 1ms/step - dense_2_loss: 0.6520 - dense_3_loss: 0.3576 - dense_4_loss: 0.0998 - loss: 1.1096\n",
      "Epoch 189/500\n",
      "\u001B[1m69/69\u001B[0m \u001B[32m━━━━━━━━━━━━━━━━━━━━\u001B[0m\u001B[37m\u001B[0m \u001B[1m0s\u001B[0m 1ms/step - dense_2_loss: 1.6430 - dense_3_loss: 0.8508 - dense_4_loss: 0.0975 - loss: 2.5916\n",
      "Epoch 190/500\n",
      "\u001B[1m69/69\u001B[0m \u001B[32m━━━━━━━━━━━━━━━━━━━━\u001B[0m\u001B[37m\u001B[0m \u001B[1m0s\u001B[0m 1ms/step - dense_2_loss: 0.7755 - dense_3_loss: 0.4311 - dense_4_loss: 0.1094 - loss: 1.3163\n",
      "Epoch 191/500\n",
      "\u001B[1m69/69\u001B[0m \u001B[32m━━━━━━━━━━━━━━━━━━━━\u001B[0m\u001B[37m\u001B[0m \u001B[1m0s\u001B[0m 1ms/step - dense_2_loss: 0.7383 - dense_3_loss: 0.3926 - dense_4_loss: 0.2153 - loss: 1.3450\n",
      "Epoch 192/500\n",
      "\u001B[1m69/69\u001B[0m \u001B[32m━━━━━━━━━━━━━━━━━━━━\u001B[0m\u001B[37m\u001B[0m \u001B[1m0s\u001B[0m 1ms/step - dense_2_loss: 0.7072 - dense_3_loss: 0.4379 - dense_4_loss: 0.2025 - loss: 1.3479\n",
      "Epoch 193/500\n",
      "\u001B[1m69/69\u001B[0m \u001B[32m━━━━━━━━━━━━━━━━━━━━\u001B[0m\u001B[37m\u001B[0m \u001B[1m0s\u001B[0m 1ms/step - dense_2_loss: 0.7315 - dense_3_loss: 0.4213 - dense_4_loss: 0.1374 - loss: 1.2903\n",
      "Epoch 194/500\n",
      "\u001B[1m69/69\u001B[0m \u001B[32m━━━━━━━━━━━━━━━━━━━━\u001B[0m\u001B[37m\u001B[0m \u001B[1m0s\u001B[0m 1ms/step - dense_2_loss: 0.9307 - dense_3_loss: 0.5192 - dense_4_loss: 0.1996 - loss: 1.6498\n",
      "Epoch 195/500\n",
      "\u001B[1m69/69\u001B[0m \u001B[32m━━━━━━━━━━━━━━━━━━━━\u001B[0m\u001B[37m\u001B[0m \u001B[1m0s\u001B[0m 1ms/step - dense_2_loss: 1.1260 - dense_3_loss: 0.8000 - dense_4_loss: 0.1976 - loss: 2.1242\n",
      "Epoch 196/500\n",
      "\u001B[1m69/69\u001B[0m \u001B[32m━━━━━━━━━━━━━━━━━━━━\u001B[0m\u001B[37m\u001B[0m \u001B[1m0s\u001B[0m 1ms/step - dense_2_loss: 1.0027 - dense_3_loss: 0.5436 - dense_4_loss: 0.1445 - loss: 1.6908\n",
      "Epoch 197/500\n",
      "\u001B[1m69/69\u001B[0m \u001B[32m━━━━━━━━━━━━━━━━━━━━\u001B[0m\u001B[37m\u001B[0m \u001B[1m0s\u001B[0m 1ms/step - dense_2_loss: 1.0874 - dense_3_loss: 0.8618 - dense_4_loss: 0.3696 - loss: 2.3193\n",
      "Epoch 198/500\n",
      "\u001B[1m69/69\u001B[0m \u001B[32m━━━━━━━━━━━━━━━━━━━━\u001B[0m\u001B[37m\u001B[0m \u001B[1m0s\u001B[0m 1ms/step - dense_2_loss: 0.6605 - dense_3_loss: 0.4506 - dense_4_loss: 0.1207 - loss: 1.2319\n",
      "Epoch 199/500\n",
      "\u001B[1m69/69\u001B[0m \u001B[32m━━━━━━━━━━━━━━━━━━━━\u001B[0m\u001B[37m\u001B[0m \u001B[1m0s\u001B[0m 1ms/step - dense_2_loss: 0.5492 - dense_3_loss: 0.3041 - dense_4_loss: 0.0955 - loss: 0.9490\n",
      "Epoch 200/500\n",
      "\u001B[1m69/69\u001B[0m \u001B[32m━━━━━━━━━━━━━━━━━━━━\u001B[0m\u001B[37m\u001B[0m \u001B[1m0s\u001B[0m 1ms/step - dense_2_loss: 0.7915 - dense_3_loss: 0.4370 - dense_4_loss: 0.1208 - loss: 1.3494\n",
      "Epoch 201/500\n",
      "\u001B[1m69/69\u001B[0m \u001B[32m━━━━━━━━━━━━━━━━━━━━\u001B[0m\u001B[37m\u001B[0m \u001B[1m0s\u001B[0m 1ms/step - dense_2_loss: 0.5227 - dense_3_loss: 0.3280 - dense_4_loss: 0.0978 - loss: 0.9486\n",
      "Epoch 202/500\n",
      "\u001B[1m69/69\u001B[0m \u001B[32m━━━━━━━━━━━━━━━━━━━━\u001B[0m\u001B[37m\u001B[0m \u001B[1m0s\u001B[0m 1ms/step - dense_2_loss: 1.7108 - dense_3_loss: 1.1339 - dense_4_loss: 0.2880 - loss: 3.1331\n",
      "Epoch 203/500\n",
      "\u001B[1m69/69\u001B[0m \u001B[32m━━━━━━━━━━━━━━━━━━━━\u001B[0m\u001B[37m\u001B[0m \u001B[1m0s\u001B[0m 1ms/step - dense_2_loss: 0.6305 - dense_3_loss: 0.4013 - dense_4_loss: 0.1196 - loss: 1.1515\n",
      "Epoch 204/500\n",
      "\u001B[1m69/69\u001B[0m \u001B[32m━━━━━━━━━━━━━━━━━━━━\u001B[0m\u001B[37m\u001B[0m \u001B[1m0s\u001B[0m 1ms/step - dense_2_loss: 0.7410 - dense_3_loss: 0.4520 - dense_4_loss: 0.1721 - loss: 1.3655\n",
      "Epoch 205/500\n",
      "\u001B[1m69/69\u001B[0m \u001B[32m━━━━━━━━━━━━━━━━━━━━\u001B[0m\u001B[37m\u001B[0m \u001B[1m0s\u001B[0m 1ms/step - dense_2_loss: 0.9395 - dense_3_loss: 0.5972 - dense_4_loss: 0.1636 - loss: 1.7005\n",
      "Epoch 206/500\n",
      "\u001B[1m69/69\u001B[0m \u001B[32m━━━━━━━━━━━━━━━━━━━━\u001B[0m\u001B[37m\u001B[0m \u001B[1m0s\u001B[0m 1ms/step - dense_2_loss: 0.7577 - dense_3_loss: 0.3969 - dense_4_loss: 0.0897 - loss: 1.2443\n",
      "Epoch 207/500\n",
      "\u001B[1m69/69\u001B[0m \u001B[32m━━━━━━━━━━━━━━━━━━━━\u001B[0m\u001B[37m\u001B[0m \u001B[1m0s\u001B[0m 1ms/step - dense_2_loss: 1.2195 - dense_3_loss: 0.8459 - dense_4_loss: 0.4809 - loss: 2.5466\n",
      "Epoch 208/500\n",
      "\u001B[1m69/69\u001B[0m \u001B[32m━━━━━━━━━━━━━━━━━━━━\u001B[0m\u001B[37m\u001B[0m \u001B[1m0s\u001B[0m 1ms/step - dense_2_loss: 0.7326 - dense_3_loss: 0.3579 - dense_4_loss: 0.1615 - loss: 1.2521\n",
      "Epoch 209/500\n",
      "\u001B[1m69/69\u001B[0m \u001B[32m━━━━━━━━━━━━━━━━━━━━\u001B[0m\u001B[37m\u001B[0m \u001B[1m0s\u001B[0m 1ms/step - dense_2_loss: 0.5991 - dense_3_loss: 0.4920 - dense_4_loss: 0.2197 - loss: 1.3110\n",
      "Epoch 210/500\n",
      "\u001B[1m69/69\u001B[0m \u001B[32m━━━━━━━━━━━━━━━━━━━━\u001B[0m\u001B[37m\u001B[0m \u001B[1m0s\u001B[0m 1ms/step - dense_2_loss: 0.8113 - dense_3_loss: 0.4981 - dense_4_loss: 0.0788 - loss: 1.3886\n",
      "Epoch 211/500\n",
      "\u001B[1m69/69\u001B[0m \u001B[32m━━━━━━━━━━━━━━━━━━━━\u001B[0m\u001B[37m\u001B[0m \u001B[1m0s\u001B[0m 1ms/step - dense_2_loss: 0.9273 - dense_3_loss: 0.5717 - dense_4_loss: 0.1438 - loss: 1.6433\n",
      "Epoch 212/500\n",
      "\u001B[1m69/69\u001B[0m \u001B[32m━━━━━━━━━━━━━━━━━━━━\u001B[0m\u001B[37m\u001B[0m \u001B[1m0s\u001B[0m 1ms/step - dense_2_loss: 0.9106 - dense_3_loss: 0.4615 - dense_4_loss: 0.1288 - loss: 1.5013\n",
      "Epoch 213/500\n",
      "\u001B[1m69/69\u001B[0m \u001B[32m━━━━━━━━━━━━━━━━━━━━\u001B[0m\u001B[37m\u001B[0m \u001B[1m0s\u001B[0m 1ms/step - dense_2_loss: 0.7055 - dense_3_loss: 0.3432 - dense_4_loss: 0.0966 - loss: 1.1457\n",
      "Epoch 214/500\n",
      "\u001B[1m69/69\u001B[0m \u001B[32m━━━━━━━━━━━━━━━━━━━━\u001B[0m\u001B[37m\u001B[0m \u001B[1m0s\u001B[0m 1ms/step - dense_2_loss: 0.7217 - dense_3_loss: 0.3557 - dense_4_loss: 0.1003 - loss: 1.1780\n",
      "Epoch 215/500\n",
      "\u001B[1m69/69\u001B[0m \u001B[32m━━━━━━━━━━━━━━━━━━━━\u001B[0m\u001B[37m\u001B[0m \u001B[1m0s\u001B[0m 1ms/step - dense_2_loss: 0.5926 - dense_3_loss: 0.3170 - dense_4_loss: 0.1057 - loss: 1.0154\n",
      "Epoch 216/500\n",
      "\u001B[1m69/69\u001B[0m \u001B[32m━━━━━━━━━━━━━━━━━━━━\u001B[0m\u001B[37m\u001B[0m \u001B[1m0s\u001B[0m 1ms/step - dense_2_loss: 0.6716 - dense_3_loss: 0.4709 - dense_4_loss: 0.0967 - loss: 1.2395\n",
      "Epoch 217/500\n",
      "\u001B[1m69/69\u001B[0m \u001B[32m━━━━━━━━━━━━━━━━━━━━\u001B[0m\u001B[37m\u001B[0m \u001B[1m0s\u001B[0m 1ms/step - dense_2_loss: 0.6460 - dense_3_loss: 0.4325 - dense_4_loss: 0.0933 - loss: 1.1722\n",
      "Epoch 218/500\n",
      "\u001B[1m69/69\u001B[0m \u001B[32m━━━━━━━━━━━━━━━━━━━━\u001B[0m\u001B[37m\u001B[0m \u001B[1m0s\u001B[0m 1ms/step - dense_2_loss: 0.8705 - dense_3_loss: 0.4422 - dense_4_loss: 0.0820 - loss: 1.3950\n",
      "Epoch 219/500\n",
      "\u001B[1m69/69\u001B[0m \u001B[32m━━━━━━━━━━━━━━━━━━━━\u001B[0m\u001B[37m\u001B[0m \u001B[1m0s\u001B[0m 1ms/step - dense_2_loss: 0.6454 - dense_3_loss: 0.2978 - dense_4_loss: 0.0971 - loss: 1.0400\n",
      "Epoch 220/500\n",
      "\u001B[1m69/69\u001B[0m \u001B[32m━━━━━━━━━━━━━━━━━━━━\u001B[0m\u001B[37m\u001B[0m \u001B[1m0s\u001B[0m 1ms/step - dense_2_loss: 0.5269 - dense_3_loss: 0.2897 - dense_4_loss: 0.0792 - loss: 0.8959\n",
      "Epoch 221/500\n",
      "\u001B[1m69/69\u001B[0m \u001B[32m━━━━━━━━━━━━━━━━━━━━\u001B[0m\u001B[37m\u001B[0m \u001B[1m0s\u001B[0m 1ms/step - dense_2_loss: 0.8820 - dense_3_loss: 0.4688 - dense_4_loss: 0.1079 - loss: 1.4589\n",
      "Epoch 222/500\n",
      "\u001B[1m69/69\u001B[0m \u001B[32m━━━━━━━━━━━━━━━━━━━━\u001B[0m\u001B[37m\u001B[0m \u001B[1m0s\u001B[0m 1ms/step - dense_2_loss: 1.5583 - dense_3_loss: 0.9323 - dense_4_loss: 0.1137 - loss: 2.6043\n",
      "Epoch 223/500\n",
      "\u001B[1m69/69\u001B[0m \u001B[32m━━━━━━━━━━━━━━━━━━━━\u001B[0m\u001B[37m\u001B[0m \u001B[1m0s\u001B[0m 1ms/step - dense_2_loss: 0.7951 - dense_3_loss: 0.3900 - dense_4_loss: 0.0917 - loss: 1.2768\n",
      "Epoch 224/500\n",
      "\u001B[1m69/69\u001B[0m \u001B[32m━━━━━━━━━━━━━━━━━━━━\u001B[0m\u001B[37m\u001B[0m \u001B[1m0s\u001B[0m 1ms/step - dense_2_loss: 0.7017 - dense_3_loss: 0.4968 - dense_4_loss: 0.1099 - loss: 1.3085\n",
      "Epoch 225/500\n",
      "\u001B[1m69/69\u001B[0m \u001B[32m━━━━━━━━━━━━━━━━━━━━\u001B[0m\u001B[37m\u001B[0m \u001B[1m0s\u001B[0m 1ms/step - dense_2_loss: 0.7954 - dense_3_loss: 0.4717 - dense_4_loss: 0.1136 - loss: 1.3811\n",
      "Epoch 226/500\n",
      "\u001B[1m69/69\u001B[0m \u001B[32m━━━━━━━━━━━━━━━━━━━━\u001B[0m\u001B[37m\u001B[0m \u001B[1m0s\u001B[0m 1ms/step - dense_2_loss: 0.9924 - dense_3_loss: 0.5477 - dense_4_loss: 0.1106 - loss: 1.6510\n",
      "Epoch 227/500\n",
      "\u001B[1m69/69\u001B[0m \u001B[32m━━━━━━━━━━━━━━━━━━━━\u001B[0m\u001B[37m\u001B[0m \u001B[1m0s\u001B[0m 2ms/step - dense_2_loss: 0.5358 - dense_3_loss: 0.3057 - dense_4_loss: 0.0932 - loss: 0.9348\n",
      "Epoch 228/500\n",
      "\u001B[1m69/69\u001B[0m \u001B[32m━━━━━━━━━━━━━━━━━━━━\u001B[0m\u001B[37m\u001B[0m \u001B[1m0s\u001B[0m 1ms/step - dense_2_loss: 0.8732 - dense_3_loss: 0.4999 - dense_4_loss: 0.1185 - loss: 1.4920\n",
      "Epoch 229/500\n",
      "\u001B[1m69/69\u001B[0m \u001B[32m━━━━━━━━━━━━━━━━━━━━\u001B[0m\u001B[37m\u001B[0m \u001B[1m0s\u001B[0m 1ms/step - dense_2_loss: 0.4482 - dense_3_loss: 0.2370 - dense_4_loss: 0.0773 - loss: 0.7623\n",
      "Epoch 230/500\n",
      "\u001B[1m69/69\u001B[0m \u001B[32m━━━━━━━━━━━━━━━━━━━━\u001B[0m\u001B[37m\u001B[0m \u001B[1m0s\u001B[0m 1ms/step - dense_2_loss: 0.9270 - dense_3_loss: 0.4997 - dense_4_loss: 0.1060 - loss: 1.5330\n",
      "Epoch 231/500\n",
      "\u001B[1m69/69\u001B[0m \u001B[32m━━━━━━━━━━━━━━━━━━━━\u001B[0m\u001B[37m\u001B[0m \u001B[1m0s\u001B[0m 1ms/step - dense_2_loss: 1.1363 - dense_3_loss: 0.5464 - dense_4_loss: 0.1296 - loss: 1.8126\n",
      "Epoch 232/500\n",
      "\u001B[1m69/69\u001B[0m \u001B[32m━━━━━━━━━━━━━━━━━━━━\u001B[0m\u001B[37m\u001B[0m \u001B[1m0s\u001B[0m 1ms/step - dense_2_loss: 0.5165 - dense_3_loss: 0.3673 - dense_4_loss: 0.1105 - loss: 0.9942\n",
      "Epoch 233/500\n",
      "\u001B[1m69/69\u001B[0m \u001B[32m━━━━━━━━━━━━━━━━━━━━\u001B[0m\u001B[37m\u001B[0m \u001B[1m0s\u001B[0m 1ms/step - dense_2_loss: 0.6383 - dense_3_loss: 0.3250 - dense_4_loss: 0.1823 - loss: 1.1460\n",
      "Epoch 234/500\n",
      "\u001B[1m69/69\u001B[0m \u001B[32m━━━━━━━━━━━━━━━━━━━━\u001B[0m\u001B[37m\u001B[0m \u001B[1m0s\u001B[0m 1ms/step - dense_2_loss: 0.5057 - dense_3_loss: 0.2895 - dense_4_loss: 0.0877 - loss: 0.8832\n",
      "Epoch 235/500\n",
      "\u001B[1m69/69\u001B[0m \u001B[32m━━━━━━━━━━━━━━━━━━━━\u001B[0m\u001B[37m\u001B[0m \u001B[1m0s\u001B[0m 1ms/step - dense_2_loss: 0.5638 - dense_3_loss: 0.3564 - dense_4_loss: 0.1106 - loss: 1.0309\n",
      "Epoch 236/500\n",
      "\u001B[1m69/69\u001B[0m \u001B[32m━━━━━━━━━━━━━━━━━━━━\u001B[0m\u001B[37m\u001B[0m \u001B[1m0s\u001B[0m 1ms/step - dense_2_loss: 0.5758 - dense_3_loss: 0.3514 - dense_4_loss: 0.1537 - loss: 1.0812\n",
      "Epoch 237/500\n",
      "\u001B[1m69/69\u001B[0m \u001B[32m━━━━━━━━━━━━━━━━━━━━\u001B[0m\u001B[37m\u001B[0m \u001B[1m0s\u001B[0m 1ms/step - dense_2_loss: 0.6471 - dense_3_loss: 0.3881 - dense_4_loss: 0.0778 - loss: 1.1131\n",
      "Epoch 238/500\n",
      "\u001B[1m69/69\u001B[0m \u001B[32m━━━━━━━━━━━━━━━━━━━━\u001B[0m\u001B[37m\u001B[0m \u001B[1m0s\u001B[0m 1ms/step - dense_2_loss: 0.6761 - dense_3_loss: 0.3375 - dense_4_loss: 0.1207 - loss: 1.1342\n",
      "Epoch 239/500\n",
      "\u001B[1m69/69\u001B[0m \u001B[32m━━━━━━━━━━━━━━━━━━━━\u001B[0m\u001B[37m\u001B[0m \u001B[1m0s\u001B[0m 1ms/step - dense_2_loss: 0.5548 - dense_3_loss: 0.2882 - dense_4_loss: 0.0917 - loss: 0.9343\n",
      "Epoch 240/500\n",
      "\u001B[1m69/69\u001B[0m \u001B[32m━━━━━━━━━━━━━━━━━━━━\u001B[0m\u001B[37m\u001B[0m \u001B[1m0s\u001B[0m 1ms/step - dense_2_loss: 0.6495 - dense_3_loss: 0.4437 - dense_4_loss: 0.1097 - loss: 1.2032\n",
      "Epoch 241/500\n",
      "\u001B[1m69/69\u001B[0m \u001B[32m━━━━━━━━━━━━━━━━━━━━\u001B[0m\u001B[37m\u001B[0m \u001B[1m0s\u001B[0m 1ms/step - dense_2_loss: 0.6673 - dense_3_loss: 0.3700 - dense_4_loss: 0.0856 - loss: 1.1232\n",
      "Epoch 242/500\n",
      "\u001B[1m69/69\u001B[0m \u001B[32m━━━━━━━━━━━━━━━━━━━━\u001B[0m\u001B[37m\u001B[0m \u001B[1m0s\u001B[0m 1ms/step - dense_2_loss: 0.5441 - dense_3_loss: 0.3303 - dense_4_loss: 0.1067 - loss: 0.9815\n",
      "Epoch 243/500\n",
      "\u001B[1m69/69\u001B[0m \u001B[32m━━━━━━━━━━━━━━━━━━━━\u001B[0m\u001B[37m\u001B[0m \u001B[1m0s\u001B[0m 1ms/step - dense_2_loss: 0.6650 - dense_3_loss: 0.3658 - dense_4_loss: 0.1144 - loss: 1.1436\n",
      "Epoch 244/500\n",
      "\u001B[1m69/69\u001B[0m \u001B[32m━━━━━━━━━━━━━━━━━━━━\u001B[0m\u001B[37m\u001B[0m \u001B[1m0s\u001B[0m 1ms/step - dense_2_loss: 0.6214 - dense_3_loss: 0.5081 - dense_4_loss: 0.1020 - loss: 1.2318\n",
      "Epoch 245/500\n",
      "\u001B[1m69/69\u001B[0m \u001B[32m━━━━━━━━━━━━━━━━━━━━\u001B[0m\u001B[37m\u001B[0m \u001B[1m0s\u001B[0m 1ms/step - dense_2_loss: 0.7745 - dense_3_loss: 0.4212 - dense_4_loss: 0.0784 - loss: 1.2744\n",
      "Epoch 246/500\n",
      "\u001B[1m69/69\u001B[0m \u001B[32m━━━━━━━━━━━━━━━━━━━━\u001B[0m\u001B[37m\u001B[0m \u001B[1m0s\u001B[0m 1ms/step - dense_2_loss: 0.5496 - dense_3_loss: 0.2930 - dense_4_loss: 0.0718 - loss: 0.9147\n",
      "Epoch 247/500\n",
      "\u001B[1m69/69\u001B[0m \u001B[32m━━━━━━━━━━━━━━━━━━━━\u001B[0m\u001B[37m\u001B[0m \u001B[1m0s\u001B[0m 1ms/step - dense_2_loss: 0.6782 - dense_3_loss: 0.3602 - dense_4_loss: 0.0837 - loss: 1.1223\n",
      "Epoch 248/500\n",
      "\u001B[1m69/69\u001B[0m \u001B[32m━━━━━━━━━━━━━━━━━━━━\u001B[0m\u001B[37m\u001B[0m \u001B[1m0s\u001B[0m 1ms/step - dense_2_loss: 0.3743 - dense_3_loss: 0.2319 - dense_4_loss: 0.0673 - loss: 0.6737\n",
      "Epoch 249/500\n",
      "\u001B[1m69/69\u001B[0m \u001B[32m━━━━━━━━━━━━━━━━━━━━\u001B[0m\u001B[37m\u001B[0m \u001B[1m0s\u001B[0m 1ms/step - dense_2_loss: 0.8390 - dense_3_loss: 0.3609 - dense_4_loss: 0.1264 - loss: 1.3266\n",
      "Epoch 250/500\n",
      "\u001B[1m69/69\u001B[0m \u001B[32m━━━━━━━━━━━━━━━━━━━━\u001B[0m\u001B[37m\u001B[0m \u001B[1m0s\u001B[0m 1ms/step - dense_2_loss: 0.5484 - dense_3_loss: 0.3160 - dense_4_loss: 0.1138 - loss: 0.9782\n",
      "Epoch 251/500\n",
      "\u001B[1m69/69\u001B[0m \u001B[32m━━━━━━━━━━━━━━━━━━━━\u001B[0m\u001B[37m\u001B[0m \u001B[1m0s\u001B[0m 1ms/step - dense_2_loss: 1.1785 - dense_3_loss: 0.6028 - dense_4_loss: 0.0810 - loss: 1.8625\n",
      "Epoch 252/500\n",
      "\u001B[1m69/69\u001B[0m \u001B[32m━━━━━━━━━━━━━━━━━━━━\u001B[0m\u001B[37m\u001B[0m \u001B[1m0s\u001B[0m 1ms/step - dense_2_loss: 1.0609 - dense_3_loss: 0.6007 - dense_4_loss: 0.0922 - loss: 1.7541\n",
      "Epoch 253/500\n",
      "\u001B[1m69/69\u001B[0m \u001B[32m━━━━━━━━━━━━━━━━━━━━\u001B[0m\u001B[37m\u001B[0m \u001B[1m0s\u001B[0m 1ms/step - dense_2_loss: 1.1262 - dense_3_loss: 0.5932 - dense_4_loss: 0.0910 - loss: 1.8079\n",
      "Epoch 254/500\n",
      "\u001B[1m69/69\u001B[0m \u001B[32m━━━━━━━━━━━━━━━━━━━━\u001B[0m\u001B[37m\u001B[0m \u001B[1m0s\u001B[0m 1ms/step - dense_2_loss: 0.5288 - dense_3_loss: 0.3782 - dense_4_loss: 0.1176 - loss: 1.0250\n",
      "Epoch 255/500\n",
      "\u001B[1m69/69\u001B[0m \u001B[32m━━━━━━━━━━━━━━━━━━━━\u001B[0m\u001B[37m\u001B[0m \u001B[1m0s\u001B[0m 1ms/step - dense_2_loss: 0.4986 - dense_3_loss: 0.2979 - dense_4_loss: 0.0730 - loss: 0.8699\n",
      "Epoch 256/500\n",
      "\u001B[1m69/69\u001B[0m \u001B[32m━━━━━━━━━━━━━━━━━━━━\u001B[0m\u001B[37m\u001B[0m \u001B[1m0s\u001B[0m 1ms/step - dense_2_loss: 0.5299 - dense_3_loss: 0.2877 - dense_4_loss: 0.0791 - loss: 0.8970\n",
      "Epoch 257/500\n",
      "\u001B[1m69/69\u001B[0m \u001B[32m━━━━━━━━━━━━━━━━━━━━\u001B[0m\u001B[37m\u001B[0m \u001B[1m0s\u001B[0m 1ms/step - dense_2_loss: 1.0109 - dense_3_loss: 0.5708 - dense_4_loss: 0.1790 - loss: 1.7607\n",
      "Epoch 258/500\n",
      "\u001B[1m69/69\u001B[0m \u001B[32m━━━━━━━━━━━━━━━━━━━━\u001B[0m\u001B[37m\u001B[0m \u001B[1m0s\u001B[0m 1ms/step - dense_2_loss: 0.5725 - dense_3_loss: 0.3438 - dense_4_loss: 0.0757 - loss: 0.9923\n",
      "Epoch 259/500\n",
      "\u001B[1m69/69\u001B[0m \u001B[32m━━━━━━━━━━━━━━━━━━━━\u001B[0m\u001B[37m\u001B[0m \u001B[1m0s\u001B[0m 1ms/step - dense_2_loss: 0.6862 - dense_3_loss: 0.3849 - dense_4_loss: 0.0841 - loss: 1.1554\n",
      "Epoch 260/500\n",
      "\u001B[1m69/69\u001B[0m \u001B[32m━━━━━━━━━━━━━━━━━━━━\u001B[0m\u001B[37m\u001B[0m \u001B[1m0s\u001B[0m 2ms/step - dense_2_loss: 1.1647 - dense_3_loss: 0.6391 - dense_4_loss: 0.0769 - loss: 1.8810\n",
      "Epoch 261/500\n",
      "\u001B[1m69/69\u001B[0m \u001B[32m━━━━━━━━━━━━━━━━━━━━\u001B[0m\u001B[37m\u001B[0m \u001B[1m0s\u001B[0m 1ms/step - dense_2_loss: 0.9645 - dense_3_loss: 0.4934 - dense_4_loss: 0.1122 - loss: 1.5704\n",
      "Epoch 262/500\n",
      "\u001B[1m69/69\u001B[0m \u001B[32m━━━━━━━━━━━━━━━━━━━━\u001B[0m\u001B[37m\u001B[0m \u001B[1m0s\u001B[0m 2ms/step - dense_2_loss: 0.5783 - dense_3_loss: 0.3264 - dense_4_loss: 0.0604 - loss: 0.9648\n",
      "Epoch 263/500\n",
      "\u001B[1m69/69\u001B[0m \u001B[32m━━━━━━━━━━━━━━━━━━━━\u001B[0m\u001B[37m\u001B[0m \u001B[1m0s\u001B[0m 1ms/step - dense_2_loss: 0.3862 - dense_3_loss: 0.2828 - dense_4_loss: 0.0822 - loss: 0.7235\n",
      "Epoch 264/500\n",
      "\u001B[1m69/69\u001B[0m \u001B[32m━━━━━━━━━━━━━━━━━━━━\u001B[0m\u001B[37m\u001B[0m \u001B[1m0s\u001B[0m 1ms/step - dense_2_loss: 1.1075 - dense_3_loss: 0.7662 - dense_4_loss: 0.2221 - loss: 2.0963\n",
      "Epoch 265/500\n",
      "\u001B[1m69/69\u001B[0m \u001B[32m━━━━━━━━━━━━━━━━━━━━\u001B[0m\u001B[37m\u001B[0m \u001B[1m0s\u001B[0m 1ms/step - dense_2_loss: 0.7236 - dense_3_loss: 0.4143 - dense_4_loss: 0.0649 - loss: 1.2029\n",
      "Epoch 266/500\n",
      "\u001B[1m69/69\u001B[0m \u001B[32m━━━━━━━━━━━━━━━━━━━━\u001B[0m\u001B[37m\u001B[0m \u001B[1m0s\u001B[0m 1ms/step - dense_2_loss: 0.5498 - dense_3_loss: 0.3503 - dense_4_loss: 0.0849 - loss: 0.9852\n",
      "Epoch 267/500\n",
      "\u001B[1m69/69\u001B[0m \u001B[32m━━━━━━━━━━━━━━━━━━━━\u001B[0m\u001B[37m\u001B[0m \u001B[1m0s\u001B[0m 1ms/step - dense_2_loss: 0.8857 - dense_3_loss: 0.4580 - dense_4_loss: 0.0873 - loss: 1.4314\n",
      "Epoch 268/500\n",
      "\u001B[1m69/69\u001B[0m \u001B[32m━━━━━━━━━━━━━━━━━━━━\u001B[0m\u001B[37m\u001B[0m \u001B[1m0s\u001B[0m 1ms/step - dense_2_loss: 0.9174 - dense_3_loss: 0.5407 - dense_4_loss: 0.0889 - loss: 1.5473\n",
      "Epoch 269/500\n",
      "\u001B[1m69/69\u001B[0m \u001B[32m━━━━━━━━━━━━━━━━━━━━\u001B[0m\u001B[37m\u001B[0m \u001B[1m0s\u001B[0m 1ms/step - dense_2_loss: 0.4794 - dense_3_loss: 0.2739 - dense_4_loss: 0.0744 - loss: 0.8277\n",
      "Epoch 270/500\n",
      "\u001B[1m69/69\u001B[0m \u001B[32m━━━━━━━━━━━━━━━━━━━━\u001B[0m\u001B[37m\u001B[0m \u001B[1m0s\u001B[0m 1ms/step - dense_2_loss: 0.6824 - dense_3_loss: 0.4147 - dense_4_loss: 0.0752 - loss: 1.1721\n",
      "Epoch 271/500\n",
      "\u001B[1m69/69\u001B[0m \u001B[32m━━━━━━━━━━━━━━━━━━━━\u001B[0m\u001B[37m\u001B[0m \u001B[1m0s\u001B[0m 1ms/step - dense_2_loss: 0.5531 - dense_3_loss: 0.3140 - dense_4_loss: 0.0809 - loss: 0.9482\n",
      "Epoch 272/500\n",
      "\u001B[1m69/69\u001B[0m \u001B[32m━━━━━━━━━━━━━━━━━━━━\u001B[0m\u001B[37m\u001B[0m \u001B[1m0s\u001B[0m 1ms/step - dense_2_loss: 0.5025 - dense_3_loss: 0.2522 - dense_4_loss: 0.0712 - loss: 0.8261\n",
      "Epoch 273/500\n",
      "\u001B[1m69/69\u001B[0m \u001B[32m━━━━━━━━━━━━━━━━━━━━\u001B[0m\u001B[37m\u001B[0m \u001B[1m0s\u001B[0m 2ms/step - dense_2_loss: 1.0448 - dense_3_loss: 0.5428 - dense_4_loss: 0.1088 - loss: 1.6965\n",
      "Epoch 274/500\n",
      "\u001B[1m69/69\u001B[0m \u001B[32m━━━━━━━━━━━━━━━━━━━━\u001B[0m\u001B[37m\u001B[0m \u001B[1m0s\u001B[0m 1ms/step - dense_2_loss: 0.6001 - dense_3_loss: 0.3093 - dense_4_loss: 0.0688 - loss: 0.9785\n",
      "Epoch 275/500\n",
      "\u001B[1m69/69\u001B[0m \u001B[32m━━━━━━━━━━━━━━━━━━━━\u001B[0m\u001B[37m\u001B[0m \u001B[1m0s\u001B[0m 1ms/step - dense_2_loss: 0.5241 - dense_3_loss: 0.3412 - dense_4_loss: 0.0758 - loss: 0.9413\n",
      "Epoch 276/500\n",
      "\u001B[1m69/69\u001B[0m \u001B[32m━━━━━━━━━━━━━━━━━━━━\u001B[0m\u001B[37m\u001B[0m \u001B[1m0s\u001B[0m 1ms/step - dense_2_loss: 0.6608 - dense_3_loss: 0.4044 - dense_4_loss: 0.1028 - loss: 1.1683\n",
      "Epoch 277/500\n",
      "\u001B[1m69/69\u001B[0m \u001B[32m━━━━━━━━━━━━━━━━━━━━\u001B[0m\u001B[37m\u001B[0m \u001B[1m0s\u001B[0m 1ms/step - dense_2_loss: 0.7847 - dense_3_loss: 0.3884 - dense_4_loss: 0.0818 - loss: 1.2552\n",
      "Epoch 278/500\n",
      "\u001B[1m69/69\u001B[0m \u001B[32m━━━━━━━━━━━━━━━━━━━━\u001B[0m\u001B[37m\u001B[0m \u001B[1m0s\u001B[0m 1ms/step - dense_2_loss: 0.5354 - dense_3_loss: 0.3100 - dense_4_loss: 0.0700 - loss: 0.9155\n",
      "Epoch 279/500\n",
      "\u001B[1m69/69\u001B[0m \u001B[32m━━━━━━━━━━━━━━━━━━━━\u001B[0m\u001B[37m\u001B[0m \u001B[1m0s\u001B[0m 1ms/step - dense_2_loss: 0.9058 - dense_3_loss: 0.4726 - dense_4_loss: 0.0596 - loss: 1.4382\n",
      "Epoch 280/500\n",
      "\u001B[1m69/69\u001B[0m \u001B[32m━━━━━━━━━━━━━━━━━━━━\u001B[0m\u001B[37m\u001B[0m \u001B[1m0s\u001B[0m 1ms/step - dense_2_loss: 0.6244 - dense_3_loss: 0.3316 - dense_4_loss: 0.0797 - loss: 1.0360\n",
      "Epoch 281/500\n",
      "\u001B[1m69/69\u001B[0m \u001B[32m━━━━━━━━━━━━━━━━━━━━\u001B[0m\u001B[37m\u001B[0m \u001B[1m0s\u001B[0m 1ms/step - dense_2_loss: 0.5642 - dense_3_loss: 0.2874 - dense_4_loss: 0.0839 - loss: 0.9358\n",
      "Epoch 282/500\n",
      "\u001B[1m69/69\u001B[0m \u001B[32m━━━━━━━━━━━━━━━━━━━━\u001B[0m\u001B[37m\u001B[0m \u001B[1m0s\u001B[0m 1ms/step - dense_2_loss: 0.4750 - dense_3_loss: 0.2329 - dense_4_loss: 0.0547 - loss: 0.7626\n",
      "Epoch 283/500\n",
      "\u001B[1m69/69\u001B[0m \u001B[32m━━━━━━━━━━━━━━━━━━━━\u001B[0m\u001B[37m\u001B[0m \u001B[1m0s\u001B[0m 1ms/step - dense_2_loss: 0.9576 - dense_3_loss: 0.4898 - dense_4_loss: 0.1028 - loss: 1.5505\n",
      "Epoch 284/500\n",
      "\u001B[1m69/69\u001B[0m \u001B[32m━━━━━━━━━━━━━━━━━━━━\u001B[0m\u001B[37m\u001B[0m \u001B[1m0s\u001B[0m 1ms/step - dense_2_loss: 0.5903 - dense_3_loss: 0.3341 - dense_4_loss: 0.0677 - loss: 0.9923\n",
      "Epoch 285/500\n",
      "\u001B[1m69/69\u001B[0m \u001B[32m━━━━━━━━━━━━━━━━━━━━\u001B[0m\u001B[37m\u001B[0m \u001B[1m0s\u001B[0m 1ms/step - dense_2_loss: 0.4408 - dense_3_loss: 0.2687 - dense_4_loss: 0.0901 - loss: 0.7998\n",
      "Epoch 286/500\n",
      "\u001B[1m69/69\u001B[0m \u001B[32m━━━━━━━━━━━━━━━━━━━━\u001B[0m\u001B[37m\u001B[0m \u001B[1m0s\u001B[0m 1ms/step - dense_2_loss: 0.5098 - dense_3_loss: 0.3158 - dense_4_loss: 0.0859 - loss: 0.9118\n",
      "Epoch 287/500\n",
      "\u001B[1m69/69\u001B[0m \u001B[32m━━━━━━━━━━━━━━━━━━━━\u001B[0m\u001B[37m\u001B[0m \u001B[1m0s\u001B[0m 1ms/step - dense_2_loss: 0.4859 - dense_3_loss: 0.2896 - dense_4_loss: 0.0620 - loss: 0.8377\n",
      "Epoch 288/500\n",
      "\u001B[1m69/69\u001B[0m \u001B[32m━━━━━━━━━━━━━━━━━━━━\u001B[0m\u001B[37m\u001B[0m \u001B[1m0s\u001B[0m 1ms/step - dense_2_loss: 0.4329 - dense_3_loss: 0.2429 - dense_4_loss: 0.0795 - loss: 0.7543\n",
      "Epoch 289/500\n",
      "\u001B[1m69/69\u001B[0m \u001B[32m━━━━━━━━━━━━━━━━━━━━\u001B[0m\u001B[37m\u001B[0m \u001B[1m0s\u001B[0m 1ms/step - dense_2_loss: 0.5829 - dense_3_loss: 0.3431 - dense_4_loss: 0.0763 - loss: 1.0025\n",
      "Epoch 290/500\n",
      "\u001B[1m69/69\u001B[0m \u001B[32m━━━━━━━━━━━━━━━━━━━━\u001B[0m\u001B[37m\u001B[0m \u001B[1m0s\u001B[0m 1ms/step - dense_2_loss: 0.3983 - dense_3_loss: 0.2332 - dense_4_loss: 0.0585 - loss: 0.6901\n",
      "Epoch 291/500\n",
      "\u001B[1m69/69\u001B[0m \u001B[32m━━━━━━━━━━━━━━━━━━━━\u001B[0m\u001B[37m\u001B[0m \u001B[1m0s\u001B[0m 1ms/step - dense_2_loss: 0.4503 - dense_3_loss: 0.2551 - dense_4_loss: 0.0670 - loss: 0.7727\n",
      "Epoch 292/500\n",
      "\u001B[1m69/69\u001B[0m \u001B[32m━━━━━━━━━━━━━━━━━━━━\u001B[0m\u001B[37m\u001B[0m \u001B[1m0s\u001B[0m 1ms/step - dense_2_loss: 0.3980 - dense_3_loss: 0.2214 - dense_4_loss: 0.0581 - loss: 0.6776\n",
      "Epoch 293/500\n",
      "\u001B[1m69/69\u001B[0m \u001B[32m━━━━━━━━━━━━━━━━━━━━\u001B[0m\u001B[37m\u001B[0m \u001B[1m0s\u001B[0m 1ms/step - dense_2_loss: 0.7913 - dense_3_loss: 0.5041 - dense_4_loss: 0.0807 - loss: 1.3764\n",
      "Epoch 294/500\n",
      "\u001B[1m69/69\u001B[0m \u001B[32m━━━━━━━━━━━━━━━━━━━━\u001B[0m\u001B[37m\u001B[0m \u001B[1m0s\u001B[0m 1ms/step - dense_2_loss: 0.9710 - dense_3_loss: 0.5615 - dense_4_loss: 0.1010 - loss: 1.6338\n",
      "Epoch 295/500\n",
      "\u001B[1m69/69\u001B[0m \u001B[32m━━━━━━━━━━━━━━━━━━━━\u001B[0m\u001B[37m\u001B[0m \u001B[1m0s\u001B[0m 1ms/step - dense_2_loss: 0.6116 - dense_3_loss: 0.3471 - dense_4_loss: 0.0766 - loss: 1.0356\n",
      "Epoch 296/500\n",
      "\u001B[1m69/69\u001B[0m \u001B[32m━━━━━━━━━━━━━━━━━━━━\u001B[0m\u001B[37m\u001B[0m \u001B[1m0s\u001B[0m 1ms/step - dense_2_loss: 0.5760 - dense_3_loss: 0.3093 - dense_4_loss: 0.0847 - loss: 0.9702\n",
      "Epoch 297/500\n",
      "\u001B[1m69/69\u001B[0m \u001B[32m━━━━━━━━━━━━━━━━━━━━\u001B[0m\u001B[37m\u001B[0m \u001B[1m0s\u001B[0m 1ms/step - dense_2_loss: 0.4328 - dense_3_loss: 0.2584 - dense_4_loss: 0.0686 - loss: 0.7599\n",
      "Epoch 298/500\n",
      "\u001B[1m69/69\u001B[0m \u001B[32m━━━━━━━━━━━━━━━━━━━━\u001B[0m\u001B[37m\u001B[0m \u001B[1m0s\u001B[0m 1ms/step - dense_2_loss: 1.0255 - dense_3_loss: 0.5518 - dense_4_loss: 0.0616 - loss: 1.6392\n",
      "Epoch 299/500\n",
      "\u001B[1m69/69\u001B[0m \u001B[32m━━━━━━━━━━━━━━━━━━━━\u001B[0m\u001B[37m\u001B[0m \u001B[1m0s\u001B[0m 1ms/step - dense_2_loss: 0.6447 - dense_3_loss: 0.3204 - dense_4_loss: 0.0723 - loss: 1.0349\n",
      "Epoch 300/500\n",
      "\u001B[1m69/69\u001B[0m \u001B[32m━━━━━━━━━━━━━━━━━━━━\u001B[0m\u001B[37m\u001B[0m \u001B[1m0s\u001B[0m 1ms/step - dense_2_loss: 0.6909 - dense_3_loss: 0.3374 - dense_4_loss: 0.0820 - loss: 1.1074\n",
      "Epoch 301/500\n",
      "\u001B[1m69/69\u001B[0m \u001B[32m━━━━━━━━━━━━━━━━━━━━\u001B[0m\u001B[37m\u001B[0m \u001B[1m0s\u001B[0m 1ms/step - dense_2_loss: 0.6361 - dense_3_loss: 0.3527 - dense_4_loss: 0.0683 - loss: 1.0573\n",
      "Epoch 302/500\n",
      "\u001B[1m69/69\u001B[0m \u001B[32m━━━━━━━━━━━━━━━━━━━━\u001B[0m\u001B[37m\u001B[0m \u001B[1m0s\u001B[0m 1ms/step - dense_2_loss: 0.7247 - dense_3_loss: 0.4182 - dense_4_loss: 0.0791 - loss: 1.2222\n",
      "Epoch 303/500\n",
      "\u001B[1m69/69\u001B[0m \u001B[32m━━━━━━━━━━━━━━━━━━━━\u001B[0m\u001B[37m\u001B[0m \u001B[1m0s\u001B[0m 1ms/step - dense_2_loss: 0.7282 - dense_3_loss: 0.4199 - dense_4_loss: 0.0946 - loss: 1.2429\n",
      "Epoch 304/500\n",
      "\u001B[1m69/69\u001B[0m \u001B[32m━━━━━━━━━━━━━━━━━━━━\u001B[0m\u001B[37m\u001B[0m \u001B[1m0s\u001B[0m 1ms/step - dense_2_loss: 0.8001 - dense_3_loss: 0.4412 - dense_4_loss: 0.0767 - loss: 1.3179\n",
      "Epoch 305/500\n",
      "\u001B[1m69/69\u001B[0m \u001B[32m━━━━━━━━━━━━━━━━━━━━\u001B[0m\u001B[37m\u001B[0m \u001B[1m0s\u001B[0m 1ms/step - dense_2_loss: 0.7325 - dense_3_loss: 0.3934 - dense_4_loss: 0.0632 - loss: 1.1894\n",
      "Epoch 306/500\n",
      "\u001B[1m69/69\u001B[0m \u001B[32m━━━━━━━━━━━━━━━━━━━━\u001B[0m\u001B[37m\u001B[0m \u001B[1m0s\u001B[0m 1ms/step - dense_2_loss: 0.5257 - dense_3_loss: 0.2945 - dense_4_loss: 0.0823 - loss: 0.9028\n",
      "Epoch 307/500\n",
      "\u001B[1m69/69\u001B[0m \u001B[32m━━━━━━━━━━━━━━━━━━━━\u001B[0m\u001B[37m\u001B[0m \u001B[1m0s\u001B[0m 1ms/step - dense_2_loss: 0.6897 - dense_3_loss: 0.3658 - dense_4_loss: 0.0781 - loss: 1.1338\n",
      "Epoch 308/500\n",
      "\u001B[1m69/69\u001B[0m \u001B[32m━━━━━━━━━━━━━━━━━━━━\u001B[0m\u001B[37m\u001B[0m \u001B[1m0s\u001B[0m 1ms/step - dense_2_loss: 0.4520 - dense_3_loss: 0.2963 - dense_4_loss: 0.0631 - loss: 0.8117\n",
      "Epoch 309/500\n",
      "\u001B[1m69/69\u001B[0m \u001B[32m━━━━━━━━━━━━━━━━━━━━\u001B[0m\u001B[37m\u001B[0m \u001B[1m0s\u001B[0m 1ms/step - dense_2_loss: 0.5799 - dense_3_loss: 0.3819 - dense_4_loss: 0.0736 - loss: 1.0357\n",
      "Epoch 310/500\n",
      "\u001B[1m69/69\u001B[0m \u001B[32m━━━━━━━━━━━━━━━━━━━━\u001B[0m\u001B[37m\u001B[0m \u001B[1m0s\u001B[0m 1ms/step - dense_2_loss: 0.7458 - dense_3_loss: 0.3939 - dense_4_loss: 0.0677 - loss: 1.2074\n",
      "Epoch 311/500\n",
      "\u001B[1m69/69\u001B[0m \u001B[32m━━━━━━━━━━━━━━━━━━━━\u001B[0m\u001B[37m\u001B[0m \u001B[1m0s\u001B[0m 1ms/step - dense_2_loss: 0.7117 - dense_3_loss: 0.4188 - dense_4_loss: 0.0673 - loss: 1.1981\n",
      "Epoch 312/500\n",
      "\u001B[1m69/69\u001B[0m \u001B[32m━━━━━━━━━━━━━━━━━━━━\u001B[0m\u001B[37m\u001B[0m \u001B[1m0s\u001B[0m 1ms/step - dense_2_loss: 0.5952 - dense_3_loss: 0.3559 - dense_4_loss: 0.0625 - loss: 1.0139\n",
      "Epoch 313/500\n",
      "\u001B[1m69/69\u001B[0m \u001B[32m━━━━━━━━━━━━━━━━━━━━\u001B[0m\u001B[37m\u001B[0m \u001B[1m0s\u001B[0m 1ms/step - dense_2_loss: 0.5634 - dense_3_loss: 0.3034 - dense_4_loss: 0.0532 - loss: 0.9201\n",
      "Epoch 314/500\n",
      "\u001B[1m69/69\u001B[0m \u001B[32m━━━━━━━━━━━━━━━━━━━━\u001B[0m\u001B[37m\u001B[0m \u001B[1m0s\u001B[0m 1ms/step - dense_2_loss: 0.5052 - dense_3_loss: 0.2821 - dense_4_loss: 0.0486 - loss: 0.8362\n",
      "Epoch 315/500\n",
      "\u001B[1m69/69\u001B[0m \u001B[32m━━━━━━━━━━━━━━━━━━━━\u001B[0m\u001B[37m\u001B[0m \u001B[1m0s\u001B[0m 1ms/step - dense_2_loss: 0.4280 - dense_3_loss: 0.2310 - dense_4_loss: 0.0487 - loss: 0.7080\n",
      "Epoch 316/500\n",
      "\u001B[1m69/69\u001B[0m \u001B[32m━━━━━━━━━━━━━━━━━━━━\u001B[0m\u001B[37m\u001B[0m \u001B[1m0s\u001B[0m 1ms/step - dense_2_loss: 0.9759 - dense_3_loss: 0.5313 - dense_4_loss: 0.0739 - loss: 1.5813\n",
      "Epoch 317/500\n",
      "\u001B[1m69/69\u001B[0m \u001B[32m━━━━━━━━━━━━━━━━━━━━\u001B[0m\u001B[37m\u001B[0m \u001B[1m0s\u001B[0m 1ms/step - dense_2_loss: 0.4345 - dense_3_loss: 0.2445 - dense_4_loss: 0.0718 - loss: 0.7512\n",
      "Epoch 318/500\n",
      "\u001B[1m69/69\u001B[0m \u001B[32m━━━━━━━━━━━━━━━━━━━━\u001B[0m\u001B[37m\u001B[0m \u001B[1m0s\u001B[0m 1ms/step - dense_2_loss: 0.3187 - dense_3_loss: 0.1980 - dense_4_loss: 0.0566 - loss: 0.5735\n",
      "Epoch 319/500\n",
      "\u001B[1m69/69\u001B[0m \u001B[32m━━━━━━━━━━━━━━━━━━━━\u001B[0m\u001B[37m\u001B[0m \u001B[1m0s\u001B[0m 1ms/step - dense_2_loss: 0.4647 - dense_3_loss: 0.2730 - dense_4_loss: 0.0752 - loss: 0.8132\n",
      "Epoch 320/500\n",
      "\u001B[1m69/69\u001B[0m \u001B[32m━━━━━━━━━━━━━━━━━━━━\u001B[0m\u001B[37m\u001B[0m \u001B[1m0s\u001B[0m 1ms/step - dense_2_loss: 0.6354 - dense_3_loss: 0.3420 - dense_4_loss: 0.0680 - loss: 1.0456\n",
      "Epoch 321/500\n",
      "\u001B[1m69/69\u001B[0m \u001B[32m━━━━━━━━━━━━━━━━━━━━\u001B[0m\u001B[37m\u001B[0m \u001B[1m0s\u001B[0m 1ms/step - dense_2_loss: 0.8424 - dense_3_loss: 0.4606 - dense_4_loss: 0.0853 - loss: 1.3885\n",
      "Epoch 322/500\n",
      "\u001B[1m69/69\u001B[0m \u001B[32m━━━━━━━━━━━━━━━━━━━━\u001B[0m\u001B[37m\u001B[0m \u001B[1m0s\u001B[0m 1ms/step - dense_2_loss: 0.5662 - dense_3_loss: 0.3540 - dense_4_loss: 0.0647 - loss: 0.9852\n",
      "Epoch 323/500\n",
      "\u001B[1m69/69\u001B[0m \u001B[32m━━━━━━━━━━━━━━━━━━━━\u001B[0m\u001B[37m\u001B[0m \u001B[1m0s\u001B[0m 1ms/step - dense_2_loss: 1.0731 - dense_3_loss: 0.5647 - dense_4_loss: 0.0522 - loss: 1.6902\n",
      "Epoch 324/500\n",
      "\u001B[1m69/69\u001B[0m \u001B[32m━━━━━━━━━━━━━━━━━━━━\u001B[0m\u001B[37m\u001B[0m \u001B[1m0s\u001B[0m 1ms/step - dense_2_loss: 0.7361 - dense_3_loss: 0.3422 - dense_4_loss: 0.0640 - loss: 1.1425\n",
      "Epoch 325/500\n",
      "\u001B[1m69/69\u001B[0m \u001B[32m━━━━━━━━━━━━━━━━━━━━\u001B[0m\u001B[37m\u001B[0m \u001B[1m0s\u001B[0m 1ms/step - dense_2_loss: 0.7707 - dense_3_loss: 0.4391 - dense_4_loss: 0.0756 - loss: 1.2855\n",
      "Epoch 326/500\n",
      "\u001B[1m69/69\u001B[0m \u001B[32m━━━━━━━━━━━━━━━━━━━━\u001B[0m\u001B[37m\u001B[0m \u001B[1m0s\u001B[0m 1ms/step - dense_2_loss: 0.5343 - dense_3_loss: 0.3005 - dense_4_loss: 0.0557 - loss: 0.8907\n",
      "Epoch 327/500\n",
      "\u001B[1m69/69\u001B[0m \u001B[32m━━━━━━━━━━━━━━━━━━━━\u001B[0m\u001B[37m\u001B[0m \u001B[1m0s\u001B[0m 1ms/step - dense_2_loss: 0.5707 - dense_3_loss: 0.2676 - dense_4_loss: 0.0611 - loss: 0.8994\n",
      "Epoch 328/500\n",
      "\u001B[1m69/69\u001B[0m \u001B[32m━━━━━━━━━━━━━━━━━━━━\u001B[0m\u001B[37m\u001B[0m \u001B[1m0s\u001B[0m 2ms/step - dense_2_loss: 0.7983 - dense_3_loss: 0.4131 - dense_4_loss: 0.0818 - loss: 1.2934\n",
      "Epoch 329/500\n",
      "\u001B[1m69/69\u001B[0m \u001B[32m━━━━━━━━━━━━━━━━━━━━\u001B[0m\u001B[37m\u001B[0m \u001B[1m0s\u001B[0m 1ms/step - dense_2_loss: 0.6872 - dense_3_loss: 0.3456 - dense_4_loss: 0.0745 - loss: 1.1075\n",
      "Epoch 330/500\n",
      "\u001B[1m69/69\u001B[0m \u001B[32m━━━━━━━━━━━━━━━━━━━━\u001B[0m\u001B[37m\u001B[0m \u001B[1m0s\u001B[0m 1ms/step - dense_2_loss: 1.1989 - dense_3_loss: 0.5720 - dense_4_loss: 0.0851 - loss: 1.8560\n",
      "Epoch 331/500\n",
      "\u001B[1m69/69\u001B[0m \u001B[32m━━━━━━━━━━━━━━━━━━━━\u001B[0m\u001B[37m\u001B[0m \u001B[1m0s\u001B[0m 1ms/step - dense_2_loss: 0.6028 - dense_3_loss: 0.3239 - dense_4_loss: 0.0503 - loss: 0.9772\n",
      "Epoch 332/500\n",
      "\u001B[1m69/69\u001B[0m \u001B[32m━━━━━━━━━━━━━━━━━━━━\u001B[0m\u001B[37m\u001B[0m \u001B[1m0s\u001B[0m 1ms/step - dense_2_loss: 0.5021 - dense_3_loss: 0.2997 - dense_4_loss: 0.0876 - loss: 0.8896\n",
      "Epoch 333/500\n",
      "\u001B[1m69/69\u001B[0m \u001B[32m━━━━━━━━━━━━━━━━━━━━\u001B[0m\u001B[37m\u001B[0m \u001B[1m0s\u001B[0m 1ms/step - dense_2_loss: 0.8915 - dense_3_loss: 0.4619 - dense_4_loss: 0.0763 - loss: 1.4296\n",
      "Epoch 334/500\n",
      "\u001B[1m69/69\u001B[0m \u001B[32m━━━━━━━━━━━━━━━━━━━━\u001B[0m\u001B[37m\u001B[0m \u001B[1m0s\u001B[0m 1ms/step - dense_2_loss: 1.0621 - dense_3_loss: 0.5240 - dense_4_loss: 0.0652 - loss: 1.6515\n",
      "Epoch 335/500\n",
      "\u001B[1m69/69\u001B[0m \u001B[32m━━━━━━━━━━━━━━━━━━━━\u001B[0m\u001B[37m\u001B[0m \u001B[1m0s\u001B[0m 1ms/step - dense_2_loss: 0.3965 - dense_3_loss: 0.2285 - dense_4_loss: 0.0730 - loss: 0.6982\n",
      "Epoch 336/500\n",
      "\u001B[1m69/69\u001B[0m \u001B[32m━━━━━━━━━━━━━━━━━━━━\u001B[0m\u001B[37m\u001B[0m \u001B[1m0s\u001B[0m 1ms/step - dense_2_loss: 0.9563 - dense_3_loss: 0.5055 - dense_4_loss: 0.0768 - loss: 1.5388\n",
      "Epoch 337/500\n",
      "\u001B[1m69/69\u001B[0m \u001B[32m━━━━━━━━━━━━━━━━━━━━\u001B[0m\u001B[37m\u001B[0m \u001B[1m0s\u001B[0m 1ms/step - dense_2_loss: 0.5225 - dense_3_loss: 0.2804 - dense_4_loss: 0.0651 - loss: 0.8677\n",
      "Epoch 338/500\n",
      "\u001B[1m69/69\u001B[0m \u001B[32m━━━━━━━━━━━━━━━━━━━━\u001B[0m\u001B[37m\u001B[0m \u001B[1m0s\u001B[0m 1ms/step - dense_2_loss: 0.7978 - dense_3_loss: 0.4516 - dense_4_loss: 0.0797 - loss: 1.3291\n",
      "Epoch 339/500\n",
      "\u001B[1m69/69\u001B[0m \u001B[32m━━━━━━━━━━━━━━━━━━━━\u001B[0m\u001B[37m\u001B[0m \u001B[1m0s\u001B[0m 1ms/step - dense_2_loss: 0.5265 - dense_3_loss: 0.3192 - dense_4_loss: 0.0627 - loss: 0.9086\n",
      "Epoch 340/500\n",
      "\u001B[1m69/69\u001B[0m \u001B[32m━━━━━━━━━━━━━━━━━━━━\u001B[0m\u001B[37m\u001B[0m \u001B[1m0s\u001B[0m 1ms/step - dense_2_loss: 0.5650 - dense_3_loss: 0.3037 - dense_4_loss: 0.0592 - loss: 0.9282\n",
      "Epoch 341/500\n",
      "\u001B[1m69/69\u001B[0m \u001B[32m━━━━━━━━━━━━━━━━━━━━\u001B[0m\u001B[37m\u001B[0m \u001B[1m0s\u001B[0m 1ms/step - dense_2_loss: 0.4015 - dense_3_loss: 0.2640 - dense_4_loss: 0.0757 - loss: 0.7415\n",
      "Epoch 342/500\n",
      "\u001B[1m69/69\u001B[0m \u001B[32m━━━━━━━━━━━━━━━━━━━━\u001B[0m\u001B[37m\u001B[0m \u001B[1m0s\u001B[0m 1ms/step - dense_2_loss: 0.6218 - dense_3_loss: 0.3452 - dense_4_loss: 0.0689 - loss: 1.0360\n",
      "Epoch 343/500\n",
      "\u001B[1m69/69\u001B[0m \u001B[32m━━━━━━━━━━━━━━━━━━━━\u001B[0m\u001B[37m\u001B[0m \u001B[1m0s\u001B[0m 1ms/step - dense_2_loss: 0.7441 - dense_3_loss: 0.4052 - dense_4_loss: 0.0820 - loss: 1.2316\n",
      "Epoch 344/500\n",
      "\u001B[1m69/69\u001B[0m \u001B[32m━━━━━━━━━━━━━━━━━━━━\u001B[0m\u001B[37m\u001B[0m \u001B[1m0s\u001B[0m 1ms/step - dense_2_loss: 0.5301 - dense_3_loss: 0.3534 - dense_4_loss: 0.0649 - loss: 0.9486\n",
      "Epoch 345/500\n",
      "\u001B[1m69/69\u001B[0m \u001B[32m━━━━━━━━━━━━━━━━━━━━\u001B[0m\u001B[37m\u001B[0m \u001B[1m0s\u001B[0m 1ms/step - dense_2_loss: 0.8402 - dense_3_loss: 0.4521 - dense_4_loss: 0.0813 - loss: 1.3739\n",
      "Epoch 346/500\n",
      "\u001B[1m69/69\u001B[0m \u001B[32m━━━━━━━━━━━━━━━━━━━━\u001B[0m\u001B[37m\u001B[0m \u001B[1m0s\u001B[0m 1ms/step - dense_2_loss: 0.8446 - dense_3_loss: 0.4465 - dense_4_loss: 0.0790 - loss: 1.3704\n",
      "Epoch 347/500\n",
      "\u001B[1m69/69\u001B[0m \u001B[32m━━━━━━━━━━━━━━━━━━━━\u001B[0m\u001B[37m\u001B[0m \u001B[1m0s\u001B[0m 1ms/step - dense_2_loss: 0.4310 - dense_3_loss: 0.2104 - dense_4_loss: 0.0787 - loss: 0.7203\n",
      "Epoch 348/500\n",
      "\u001B[1m69/69\u001B[0m \u001B[32m━━━━━━━━━━━━━━━━━━━━\u001B[0m\u001B[37m\u001B[0m \u001B[1m0s\u001B[0m 1ms/step - dense_2_loss: 0.5792 - dense_3_loss: 0.3561 - dense_4_loss: 0.0648 - loss: 1.0004\n",
      "Epoch 349/500\n",
      "\u001B[1m69/69\u001B[0m \u001B[32m━━━━━━━━━━━━━━━━━━━━\u001B[0m\u001B[37m\u001B[0m \u001B[1m0s\u001B[0m 1ms/step - dense_2_loss: 0.6395 - dense_3_loss: 0.3452 - dense_4_loss: 0.0758 - loss: 1.0604\n",
      "Epoch 350/500\n",
      "\u001B[1m69/69\u001B[0m \u001B[32m━━━━━━━━━━━━━━━━━━━━\u001B[0m\u001B[37m\u001B[0m \u001B[1m0s\u001B[0m 1ms/step - dense_2_loss: 0.4744 - dense_3_loss: 0.2914 - dense_4_loss: 0.0725 - loss: 0.8385\n",
      "Epoch 351/500\n",
      "\u001B[1m69/69\u001B[0m \u001B[32m━━━━━━━━━━━━━━━━━━━━\u001B[0m\u001B[37m\u001B[0m \u001B[1m0s\u001B[0m 1ms/step - dense_2_loss: 0.9254 - dense_3_loss: 0.5200 - dense_4_loss: 0.0908 - loss: 1.5366\n",
      "Epoch 352/500\n",
      "\u001B[1m69/69\u001B[0m \u001B[32m━━━━━━━━━━━━━━━━━━━━\u001B[0m\u001B[37m\u001B[0m \u001B[1m0s\u001B[0m 1ms/step - dense_2_loss: 0.6435 - dense_3_loss: 0.3427 - dense_4_loss: 0.0745 - loss: 1.0609\n",
      "Epoch 353/500\n",
      "\u001B[1m69/69\u001B[0m \u001B[32m━━━━━━━━━━━━━━━━━━━━\u001B[0m\u001B[37m\u001B[0m \u001B[1m0s\u001B[0m 1ms/step - dense_2_loss: 0.8879 - dense_3_loss: 0.5135 - dense_4_loss: 0.0917 - loss: 1.4932\n",
      "Epoch 354/500\n",
      "\u001B[1m69/69\u001B[0m \u001B[32m━━━━━━━━━━━━━━━━━━━━\u001B[0m\u001B[37m\u001B[0m \u001B[1m0s\u001B[0m 1ms/step - dense_2_loss: 1.0768 - dense_3_loss: 0.5237 - dense_4_loss: 0.0570 - loss: 1.6577\n",
      "Epoch 355/500\n",
      "\u001B[1m69/69\u001B[0m \u001B[32m━━━━━━━━━━━━━━━━━━━━\u001B[0m\u001B[37m\u001B[0m \u001B[1m0s\u001B[0m 1ms/step - dense_2_loss: 0.6763 - dense_3_loss: 0.3735 - dense_4_loss: 0.0893 - loss: 1.1394\n",
      "Epoch 356/500\n",
      "\u001B[1m69/69\u001B[0m \u001B[32m━━━━━━━━━━━━━━━━━━━━\u001B[0m\u001B[37m\u001B[0m \u001B[1m0s\u001B[0m 1ms/step - dense_2_loss: 0.4853 - dense_3_loss: 0.2246 - dense_4_loss: 0.0548 - loss: 0.7646\n",
      "Epoch 357/500\n",
      "\u001B[1m69/69\u001B[0m \u001B[32m━━━━━━━━━━━━━━━━━━━━\u001B[0m\u001B[37m\u001B[0m \u001B[1m0s\u001B[0m 1ms/step - dense_2_loss: 0.4683 - dense_3_loss: 0.2505 - dense_4_loss: 0.0721 - loss: 0.7910\n",
      "Epoch 358/500\n",
      "\u001B[1m69/69\u001B[0m \u001B[32m━━━━━━━━━━━━━━━━━━━━\u001B[0m\u001B[37m\u001B[0m \u001B[1m0s\u001B[0m 1ms/step - dense_2_loss: 0.5011 - dense_3_loss: 0.2735 - dense_4_loss: 0.0930 - loss: 0.8676\n",
      "Epoch 359/500\n",
      "\u001B[1m69/69\u001B[0m \u001B[32m━━━━━━━━━━━━━━━━━━━━\u001B[0m\u001B[37m\u001B[0m \u001B[1m0s\u001B[0m 1ms/step - dense_2_loss: 0.5983 - dense_3_loss: 0.3232 - dense_4_loss: 0.0695 - loss: 0.9910\n",
      "Epoch 360/500\n",
      "\u001B[1m69/69\u001B[0m \u001B[32m━━━━━━━━━━━━━━━━━━━━\u001B[0m\u001B[37m\u001B[0m \u001B[1m0s\u001B[0m 1ms/step - dense_2_loss: 0.4349 - dense_3_loss: 0.2434 - dense_4_loss: 0.0770 - loss: 0.7553\n",
      "Epoch 361/500\n",
      "\u001B[1m69/69\u001B[0m \u001B[32m━━━━━━━━━━━━━━━━━━━━\u001B[0m\u001B[37m\u001B[0m \u001B[1m0s\u001B[0m 1ms/step - dense_2_loss: 0.7062 - dense_3_loss: 0.3907 - dense_4_loss: 0.0794 - loss: 1.1763\n",
      "Epoch 362/500\n",
      "\u001B[1m69/69\u001B[0m \u001B[32m━━━━━━━━━━━━━━━━━━━━\u001B[0m\u001B[37m\u001B[0m \u001B[1m0s\u001B[0m 1ms/step - dense_2_loss: 0.4194 - dense_3_loss: 0.2716 - dense_4_loss: 0.0725 - loss: 0.7637\n",
      "Epoch 363/500\n",
      "\u001B[1m69/69\u001B[0m \u001B[32m━━━━━━━━━━━━━━━━━━━━\u001B[0m\u001B[37m\u001B[0m \u001B[1m0s\u001B[0m 1ms/step - dense_2_loss: 0.6683 - dense_3_loss: 0.3775 - dense_4_loss: 0.0781 - loss: 1.1240\n",
      "Epoch 364/500\n",
      "\u001B[1m69/69\u001B[0m \u001B[32m━━━━━━━━━━━━━━━━━━━━\u001B[0m\u001B[37m\u001B[0m \u001B[1m0s\u001B[0m 1ms/step - dense_2_loss: 0.6174 - dense_3_loss: 0.3181 - dense_4_loss: 0.0837 - loss: 1.0195\n",
      "Epoch 365/500\n",
      "\u001B[1m69/69\u001B[0m \u001B[32m━━━━━━━━━━━━━━━━━━━━\u001B[0m\u001B[37m\u001B[0m \u001B[1m0s\u001B[0m 1ms/step - dense_2_loss: 1.0349 - dense_3_loss: 0.5188 - dense_4_loss: 0.0790 - loss: 1.6326\n",
      "Epoch 366/500\n",
      "\u001B[1m69/69\u001B[0m \u001B[32m━━━━━━━━━━━━━━━━━━━━\u001B[0m\u001B[37m\u001B[0m \u001B[1m0s\u001B[0m 1ms/step - dense_2_loss: 0.5477 - dense_3_loss: 0.2632 - dense_4_loss: 0.0637 - loss: 0.8744\n",
      "Epoch 367/500\n",
      "\u001B[1m69/69\u001B[0m \u001B[32m━━━━━━━━━━━━━━━━━━━━\u001B[0m\u001B[37m\u001B[0m \u001B[1m0s\u001B[0m 1ms/step - dense_2_loss: 0.5745 - dense_3_loss: 0.3362 - dense_4_loss: 0.0856 - loss: 0.9963\n",
      "Epoch 368/500\n",
      "\u001B[1m69/69\u001B[0m \u001B[32m━━━━━━━━━━━━━━━━━━━━\u001B[0m\u001B[37m\u001B[0m \u001B[1m0s\u001B[0m 1ms/step - dense_2_loss: 0.3770 - dense_3_loss: 0.2317 - dense_4_loss: 0.0700 - loss: 0.6789\n",
      "Epoch 369/500\n",
      "\u001B[1m69/69\u001B[0m \u001B[32m━━━━━━━━━━━━━━━━━━━━\u001B[0m\u001B[37m\u001B[0m \u001B[1m0s\u001B[0m 1ms/step - dense_2_loss: 0.4729 - dense_3_loss: 0.2802 - dense_4_loss: 0.0707 - loss: 0.8230\n",
      "Epoch 370/500\n",
      "\u001B[1m69/69\u001B[0m \u001B[32m━━━━━━━━━━━━━━━━━━━━\u001B[0m\u001B[37m\u001B[0m \u001B[1m0s\u001B[0m 1ms/step - dense_2_loss: 0.8764 - dense_3_loss: 0.4712 - dense_4_loss: 0.0865 - loss: 1.4344\n",
      "Epoch 371/500\n",
      "\u001B[1m69/69\u001B[0m \u001B[32m━━━━━━━━━━━━━━━━━━━━\u001B[0m\u001B[37m\u001B[0m \u001B[1m0s\u001B[0m 1ms/step - dense_2_loss: 0.4306 - dense_3_loss: 0.2300 - dense_4_loss: 0.0589 - loss: 0.7198\n",
      "Epoch 372/500\n",
      "\u001B[1m69/69\u001B[0m \u001B[32m━━━━━━━━━━━━━━━━━━━━\u001B[0m\u001B[37m\u001B[0m \u001B[1m0s\u001B[0m 1ms/step - dense_2_loss: 0.7025 - dense_3_loss: 0.3944 - dense_4_loss: 0.0713 - loss: 1.1684\n",
      "Epoch 373/500\n",
      "\u001B[1m69/69\u001B[0m \u001B[32m━━━━━━━━━━━━━━━━━━━━\u001B[0m\u001B[37m\u001B[0m \u001B[1m0s\u001B[0m 1ms/step - dense_2_loss: 0.5924 - dense_3_loss: 0.2996 - dense_4_loss: 0.0734 - loss: 0.9656\n",
      "Epoch 374/500\n",
      "\u001B[1m69/69\u001B[0m \u001B[32m━━━━━━━━━━━━━━━━━━━━\u001B[0m\u001B[37m\u001B[0m \u001B[1m0s\u001B[0m 2ms/step - dense_2_loss: 0.8349 - dense_3_loss: 0.4625 - dense_4_loss: 0.0921 - loss: 1.3895\n",
      "Epoch 375/500\n",
      "\u001B[1m69/69\u001B[0m \u001B[32m━━━━━━━━━━━━━━━━━━━━\u001B[0m\u001B[37m\u001B[0m \u001B[1m0s\u001B[0m 1ms/step - dense_2_loss: 0.8330 - dense_3_loss: 0.4452 - dense_4_loss: 0.0730 - loss: 1.3514\n",
      "Epoch 376/500\n",
      "\u001B[1m69/69\u001B[0m \u001B[32m━━━━━━━━━━━━━━━━━━━━\u001B[0m\u001B[37m\u001B[0m \u001B[1m0s\u001B[0m 1ms/step - dense_2_loss: 0.5745 - dense_3_loss: 0.3117 - dense_4_loss: 0.0685 - loss: 0.9549\n",
      "Epoch 377/500\n",
      "\u001B[1m69/69\u001B[0m \u001B[32m━━━━━━━━━━━━━━━━━━━━\u001B[0m\u001B[37m\u001B[0m \u001B[1m0s\u001B[0m 1ms/step - dense_2_loss: 0.4742 - dense_3_loss: 0.3064 - dense_4_loss: 0.0795 - loss: 0.8603\n",
      "Epoch 378/500\n",
      "\u001B[1m69/69\u001B[0m \u001B[32m━━━━━━━━━━━━━━━━━━━━\u001B[0m\u001B[37m\u001B[0m \u001B[1m0s\u001B[0m 1ms/step - dense_2_loss: 0.6429 - dense_3_loss: 0.3569 - dense_4_loss: 0.0772 - loss: 1.0764\n",
      "Epoch 379/500\n",
      "\u001B[1m69/69\u001B[0m \u001B[32m━━━━━━━━━━━━━━━━━━━━\u001B[0m\u001B[37m\u001B[0m \u001B[1m0s\u001B[0m 1ms/step - dense_2_loss: 0.5200 - dense_3_loss: 0.2823 - dense_4_loss: 0.0679 - loss: 0.8704\n",
      "Epoch 380/500\n",
      "\u001B[1m69/69\u001B[0m \u001B[32m━━━━━━━━━━━━━━━━━━━━\u001B[0m\u001B[37m\u001B[0m \u001B[1m0s\u001B[0m 1ms/step - dense_2_loss: 0.8339 - dense_3_loss: 0.4518 - dense_4_loss: 0.0985 - loss: 1.3844\n",
      "Epoch 381/500\n",
      "\u001B[1m69/69\u001B[0m \u001B[32m━━━━━━━━━━━━━━━━━━━━\u001B[0m\u001B[37m\u001B[0m \u001B[1m0s\u001B[0m 1ms/step - dense_2_loss: 0.5831 - dense_3_loss: 0.2910 - dense_4_loss: 0.0720 - loss: 0.9463\n",
      "Epoch 382/500\n",
      "\u001B[1m69/69\u001B[0m \u001B[32m━━━━━━━━━━━━━━━━━━━━\u001B[0m\u001B[37m\u001B[0m \u001B[1m0s\u001B[0m 1ms/step - dense_2_loss: 0.4123 - dense_3_loss: 0.1996 - dense_4_loss: 0.0635 - loss: 0.6752\n",
      "Epoch 383/500\n",
      "\u001B[1m69/69\u001B[0m \u001B[32m━━━━━━━━━━━━━━━━━━━━\u001B[0m\u001B[37m\u001B[0m \u001B[1m0s\u001B[0m 1ms/step - dense_2_loss: 0.4564 - dense_3_loss: 0.2563 - dense_4_loss: 0.0722 - loss: 0.7851\n",
      "Epoch 384/500\n",
      "\u001B[1m69/69\u001B[0m \u001B[32m━━━━━━━━━━━━━━━━━━━━\u001B[0m\u001B[37m\u001B[0m \u001B[1m0s\u001B[0m 1ms/step - dense_2_loss: 0.5297 - dense_3_loss: 0.2913 - dense_4_loss: 0.0895 - loss: 0.9107\n",
      "Epoch 385/500\n",
      "\u001B[1m69/69\u001B[0m \u001B[32m━━━━━━━━━━━━━━━━━━━━\u001B[0m\u001B[37m\u001B[0m \u001B[1m0s\u001B[0m 1ms/step - dense_2_loss: 0.4693 - dense_3_loss: 0.2699 - dense_4_loss: 0.0689 - loss: 0.8084\n",
      "Epoch 386/500\n",
      "\u001B[1m69/69\u001B[0m \u001B[32m━━━━━━━━━━━━━━━━━━━━\u001B[0m\u001B[37m\u001B[0m \u001B[1m0s\u001B[0m 1ms/step - dense_2_loss: 0.3719 - dense_3_loss: 0.2048 - dense_4_loss: 0.0864 - loss: 0.6633\n",
      "Epoch 387/500\n",
      "\u001B[1m69/69\u001B[0m \u001B[32m━━━━━━━━━━━━━━━━━━━━\u001B[0m\u001B[37m\u001B[0m \u001B[1m0s\u001B[0m 1ms/step - dense_2_loss: 0.5168 - dense_3_loss: 0.2274 - dense_4_loss: 0.0756 - loss: 0.8201\n",
      "Epoch 388/500\n",
      "\u001B[1m69/69\u001B[0m \u001B[32m━━━━━━━━━━━━━━━━━━━━\u001B[0m\u001B[37m\u001B[0m \u001B[1m0s\u001B[0m 1ms/step - dense_2_loss: 0.4966 - dense_3_loss: 0.2173 - dense_4_loss: 0.0691 - loss: 0.7832\n",
      "Epoch 389/500\n",
      "\u001B[1m69/69\u001B[0m \u001B[32m━━━━━━━━━━━━━━━━━━━━\u001B[0m\u001B[37m\u001B[0m \u001B[1m0s\u001B[0m 1ms/step - dense_2_loss: 0.4647 - dense_3_loss: 0.2730 - dense_4_loss: 0.0544 - loss: 0.7917\n",
      "Epoch 390/500\n",
      "\u001B[1m69/69\u001B[0m \u001B[32m━━━━━━━━━━━━━━━━━━━━\u001B[0m\u001B[37m\u001B[0m \u001B[1m0s\u001B[0m 1ms/step - dense_2_loss: 1.1501 - dense_3_loss: 0.5800 - dense_4_loss: 0.0717 - loss: 1.8020\n",
      "Epoch 391/500\n",
      "\u001B[1m69/69\u001B[0m \u001B[32m━━━━━━━━━━━━━━━━━━━━\u001B[0m\u001B[37m\u001B[0m \u001B[1m0s\u001B[0m 1ms/step - dense_2_loss: 1.1933 - dense_3_loss: 0.6302 - dense_4_loss: 0.0740 - loss: 1.8971\n",
      "Epoch 392/500\n",
      "\u001B[1m69/69\u001B[0m \u001B[32m━━━━━━━━━━━━━━━━━━━━\u001B[0m\u001B[37m\u001B[0m \u001B[1m0s\u001B[0m 1ms/step - dense_2_loss: 0.7033 - dense_3_loss: 0.3859 - dense_4_loss: 0.0744 - loss: 1.1638\n",
      "Epoch 393/500\n",
      "\u001B[1m69/69\u001B[0m \u001B[32m━━━━━━━━━━━━━━━━━━━━\u001B[0m\u001B[37m\u001B[0m \u001B[1m0s\u001B[0m 1ms/step - dense_2_loss: 0.4464 - dense_3_loss: 0.2322 - dense_4_loss: 0.0548 - loss: 0.7337\n",
      "Epoch 394/500\n",
      "\u001B[1m69/69\u001B[0m \u001B[32m━━━━━━━━━━━━━━━━━━━━\u001B[0m\u001B[37m\u001B[0m \u001B[1m0s\u001B[0m 1ms/step - dense_2_loss: 0.5713 - dense_3_loss: 0.3135 - dense_4_loss: 0.0678 - loss: 0.9530\n",
      "Epoch 395/500\n",
      "\u001B[1m69/69\u001B[0m \u001B[32m━━━━━━━━━━━━━━━━━━━━\u001B[0m\u001B[37m\u001B[0m \u001B[1m0s\u001B[0m 1ms/step - dense_2_loss: 0.7299 - dense_3_loss: 0.3437 - dense_4_loss: 0.0599 - loss: 1.1338\n",
      "Epoch 396/500\n",
      "\u001B[1m69/69\u001B[0m \u001B[32m━━━━━━━━━━━━━━━━━━━━\u001B[0m\u001B[37m\u001B[0m \u001B[1m0s\u001B[0m 1ms/step - dense_2_loss: 0.4890 - dense_3_loss: 0.2691 - dense_4_loss: 0.0605 - loss: 0.8187\n",
      "Epoch 397/500\n",
      "\u001B[1m69/69\u001B[0m \u001B[32m━━━━━━━━━━━━━━━━━━━━\u001B[0m\u001B[37m\u001B[0m \u001B[1m0s\u001B[0m 1ms/step - dense_2_loss: 0.4303 - dense_3_loss: 0.2918 - dense_4_loss: 0.0637 - loss: 0.7859\n",
      "Epoch 398/500\n",
      "\u001B[1m69/69\u001B[0m \u001B[32m━━━━━━━━━━━━━━━━━━━━\u001B[0m\u001B[37m\u001B[0m \u001B[1m0s\u001B[0m 1ms/step - dense_2_loss: 0.8689 - dense_3_loss: 0.4420 - dense_4_loss: 0.0643 - loss: 1.3753\n",
      "Epoch 399/500\n",
      "\u001B[1m69/69\u001B[0m \u001B[32m━━━━━━━━━━━━━━━━━━━━\u001B[0m\u001B[37m\u001B[0m \u001B[1m0s\u001B[0m 1ms/step - dense_2_loss: 0.4182 - dense_3_loss: 0.2296 - dense_4_loss: 0.0655 - loss: 0.7132\n",
      "Epoch 400/500\n",
      "\u001B[1m69/69\u001B[0m \u001B[32m━━━━━━━━━━━━━━━━━━━━\u001B[0m\u001B[37m\u001B[0m \u001B[1m0s\u001B[0m 1ms/step - dense_2_loss: 0.8824 - dense_3_loss: 0.4701 - dense_4_loss: 0.0584 - loss: 1.4112\n",
      "Epoch 401/500\n",
      "\u001B[1m69/69\u001B[0m \u001B[32m━━━━━━━━━━━━━━━━━━━━\u001B[0m\u001B[37m\u001B[0m \u001B[1m0s\u001B[0m 1ms/step - dense_2_loss: 0.3948 - dense_3_loss: 0.2100 - dense_4_loss: 0.0619 - loss: 0.6667\n",
      "Epoch 402/500\n",
      "\u001B[1m69/69\u001B[0m \u001B[32m━━━━━━━━━━━━━━━━━━━━\u001B[0m\u001B[37m\u001B[0m \u001B[1m0s\u001B[0m 1ms/step - dense_2_loss: 0.7726 - dense_3_loss: 0.3885 - dense_4_loss: 0.0949 - loss: 1.2563\n",
      "Epoch 403/500\n",
      "\u001B[1m69/69\u001B[0m \u001B[32m━━━━━━━━━━━━━━━━━━━━\u001B[0m\u001B[37m\u001B[0m \u001B[1m0s\u001B[0m 1ms/step - dense_2_loss: 0.5128 - dense_3_loss: 0.3058 - dense_4_loss: 0.0681 - loss: 0.8871\n",
      "Epoch 404/500\n",
      "\u001B[1m69/69\u001B[0m \u001B[32m━━━━━━━━━━━━━━━━━━━━\u001B[0m\u001B[37m\u001B[0m \u001B[1m0s\u001B[0m 1ms/step - dense_2_loss: 1.0789 - dense_3_loss: 0.5559 - dense_4_loss: 0.0870 - loss: 1.7221\n",
      "Epoch 405/500\n",
      "\u001B[1m69/69\u001B[0m \u001B[32m━━━━━━━━━━━━━━━━━━━━\u001B[0m\u001B[37m\u001B[0m \u001B[1m0s\u001B[0m 1ms/step - dense_2_loss: 0.3371 - dense_3_loss: 0.1894 - dense_4_loss: 0.0541 - loss: 0.5808\n",
      "Epoch 406/500\n",
      "\u001B[1m69/69\u001B[0m \u001B[32m━━━━━━━━━━━━━━━━━━━━\u001B[0m\u001B[37m\u001B[0m \u001B[1m0s\u001B[0m 1ms/step - dense_2_loss: 0.9658 - dense_3_loss: 0.4741 - dense_4_loss: 0.0655 - loss: 1.5043\n",
      "Epoch 407/500\n",
      "\u001B[1m69/69\u001B[0m \u001B[32m━━━━━━━━━━━━━━━━━━━━\u001B[0m\u001B[37m\u001B[0m \u001B[1m0s\u001B[0m 1ms/step - dense_2_loss: 0.5414 - dense_3_loss: 0.2684 - dense_4_loss: 0.0732 - loss: 0.8832\n",
      "Epoch 408/500\n",
      "\u001B[1m69/69\u001B[0m \u001B[32m━━━━━━━━━━━━━━━━━━━━\u001B[0m\u001B[37m\u001B[0m \u001B[1m0s\u001B[0m 1ms/step - dense_2_loss: 0.5481 - dense_3_loss: 0.2869 - dense_4_loss: 0.0682 - loss: 0.9033\n",
      "Epoch 409/500\n",
      "\u001B[1m69/69\u001B[0m \u001B[32m━━━━━━━━━━━━━━━━━━━━\u001B[0m\u001B[37m\u001B[0m \u001B[1m0s\u001B[0m 1ms/step - dense_2_loss: 0.5113 - dense_3_loss: 0.2932 - dense_4_loss: 0.0565 - loss: 0.8594\n",
      "Epoch 410/500\n",
      "\u001B[1m69/69\u001B[0m \u001B[32m━━━━━━━━━━━━━━━━━━━━\u001B[0m\u001B[37m\u001B[0m \u001B[1m0s\u001B[0m 1ms/step - dense_2_loss: 0.7514 - dense_3_loss: 0.3980 - dense_4_loss: 0.0871 - loss: 1.2367\n",
      "Epoch 411/500\n",
      "\u001B[1m69/69\u001B[0m \u001B[32m━━━━━━━━━━━━━━━━━━━━\u001B[0m\u001B[37m\u001B[0m \u001B[1m0s\u001B[0m 1ms/step - dense_2_loss: 0.9625 - dense_3_loss: 0.5104 - dense_4_loss: 0.0717 - loss: 1.5448\n",
      "Epoch 412/500\n",
      "\u001B[1m69/69\u001B[0m \u001B[32m━━━━━━━━━━━━━━━━━━━━\u001B[0m\u001B[37m\u001B[0m \u001B[1m0s\u001B[0m 1ms/step - dense_2_loss: 0.7927 - dense_3_loss: 0.4000 - dense_4_loss: 0.0672 - loss: 1.2589\n",
      "Epoch 413/500\n",
      "\u001B[1m69/69\u001B[0m \u001B[32m━━━━━━━━━━━━━━━━━━━━\u001B[0m\u001B[37m\u001B[0m \u001B[1m0s\u001B[0m 1ms/step - dense_2_loss: 0.4444 - dense_3_loss: 0.2566 - dense_4_loss: 0.0696 - loss: 0.7708\n",
      "Epoch 414/500\n",
      "\u001B[1m69/69\u001B[0m \u001B[32m━━━━━━━━━━━━━━━━━━━━\u001B[0m\u001B[37m\u001B[0m \u001B[1m0s\u001B[0m 1ms/step - dense_2_loss: 0.6590 - dense_3_loss: 0.3056 - dense_4_loss: 0.0837 - loss: 1.0483\n",
      "Epoch 415/500\n",
      "\u001B[1m69/69\u001B[0m \u001B[32m━━━━━━━━━━━━━━━━━━━━\u001B[0m\u001B[37m\u001B[0m \u001B[1m0s\u001B[0m 1ms/step - dense_2_loss: 0.5073 - dense_3_loss: 0.2683 - dense_4_loss: 0.0641 - loss: 0.8399\n",
      "Epoch 416/500\n",
      "\u001B[1m69/69\u001B[0m \u001B[32m━━━━━━━━━━━━━━━━━━━━\u001B[0m\u001B[37m\u001B[0m \u001B[1m0s\u001B[0m 1ms/step - dense_2_loss: 0.4694 - dense_3_loss: 0.2967 - dense_4_loss: 0.0560 - loss: 0.8223\n",
      "Epoch 417/500\n",
      "\u001B[1m69/69\u001B[0m \u001B[32m━━━━━━━━━━━━━━━━━━━━\u001B[0m\u001B[37m\u001B[0m \u001B[1m0s\u001B[0m 1ms/step - dense_2_loss: 0.3387 - dense_3_loss: 0.2062 - dense_4_loss: 0.0594 - loss: 0.6045\n",
      "Epoch 418/500\n",
      "\u001B[1m69/69\u001B[0m \u001B[32m━━━━━━━━━━━━━━━━━━━━\u001B[0m\u001B[37m\u001B[0m \u001B[1m0s\u001B[0m 1ms/step - dense_2_loss: 0.6406 - dense_3_loss: 0.3831 - dense_4_loss: 0.0759 - loss: 1.0999\n",
      "Epoch 419/500\n",
      "\u001B[1m69/69\u001B[0m \u001B[32m━━━━━━━━━━━━━━━━━━━━\u001B[0m\u001B[37m\u001B[0m \u001B[1m0s\u001B[0m 1ms/step - dense_2_loss: 0.5094 - dense_3_loss: 0.3002 - dense_4_loss: 0.0725 - loss: 0.8824\n",
      "Epoch 420/500\n",
      "\u001B[1m69/69\u001B[0m \u001B[32m━━━━━━━━━━━━━━━━━━━━\u001B[0m\u001B[37m\u001B[0m \u001B[1m0s\u001B[0m 1ms/step - dense_2_loss: 0.6097 - dense_3_loss: 0.3024 - dense_4_loss: 0.0675 - loss: 0.9798\n",
      "Epoch 421/500\n",
      "\u001B[1m69/69\u001B[0m \u001B[32m━━━━━━━━━━━━━━━━━━━━\u001B[0m\u001B[37m\u001B[0m \u001B[1m0s\u001B[0m 1ms/step - dense_2_loss: 0.3869 - dense_3_loss: 0.2478 - dense_4_loss: 0.0778 - loss: 0.6918\n",
      "Epoch 422/500\n",
      "\u001B[1m69/69\u001B[0m \u001B[32m━━━━━━━━━━━━━━━━━━━━\u001B[0m\u001B[37m\u001B[0m \u001B[1m0s\u001B[0m 1ms/step - dense_2_loss: 1.5328 - dense_3_loss: 0.7189 - dense_4_loss: 0.1237 - loss: 2.3759\n",
      "Epoch 423/500\n",
      "\u001B[1m69/69\u001B[0m \u001B[32m━━━━━━━━━━━━━━━━━━━━\u001B[0m\u001B[37m\u001B[0m \u001B[1m0s\u001B[0m 1ms/step - dense_2_loss: 0.9105 - dense_3_loss: 0.4824 - dense_4_loss: 0.1231 - loss: 1.5161\n",
      "Epoch 424/500\n",
      "\u001B[1m69/69\u001B[0m \u001B[32m━━━━━━━━━━━━━━━━━━━━\u001B[0m\u001B[37m\u001B[0m \u001B[1m0s\u001B[0m 1ms/step - dense_2_loss: 1.2334 - dense_3_loss: 0.6231 - dense_4_loss: 0.1045 - loss: 1.9615\n",
      "Epoch 425/500\n",
      "\u001B[1m69/69\u001B[0m \u001B[32m━━━━━━━━━━━━━━━━━━━━\u001B[0m\u001B[37m\u001B[0m \u001B[1m0s\u001B[0m 1ms/step - dense_2_loss: 0.9930 - dense_3_loss: 0.5173 - dense_4_loss: 0.0841 - loss: 1.5876\n",
      "Epoch 426/500\n",
      "\u001B[1m69/69\u001B[0m \u001B[32m━━━━━━━━━━━━━━━━━━━━\u001B[0m\u001B[37m\u001B[0m \u001B[1m0s\u001B[0m 1ms/step - dense_2_loss: 1.0284 - dense_3_loss: 0.5442 - dense_4_loss: 0.0990 - loss: 1.6718\n",
      "Epoch 427/500\n",
      "\u001B[1m69/69\u001B[0m \u001B[32m━━━━━━━━━━━━━━━━━━━━\u001B[0m\u001B[37m\u001B[0m \u001B[1m0s\u001B[0m 1ms/step - dense_2_loss: 0.9244 - dense_3_loss: 0.4186 - dense_4_loss: 0.0557 - loss: 1.3990\n",
      "Epoch 428/500\n",
      "\u001B[1m69/69\u001B[0m \u001B[32m━━━━━━━━━━━━━━━━━━━━\u001B[0m\u001B[37m\u001B[0m \u001B[1m0s\u001B[0m 1ms/step - dense_2_loss: 0.9143 - dense_3_loss: 0.4938 - dense_4_loss: 0.0815 - loss: 1.4899\n",
      "Epoch 429/500\n",
      "\u001B[1m69/69\u001B[0m \u001B[32m━━━━━━━━━━━━━━━━━━━━\u001B[0m\u001B[37m\u001B[0m \u001B[1m0s\u001B[0m 1ms/step - dense_2_loss: 0.6658 - dense_3_loss: 0.3444 - dense_4_loss: 0.0712 - loss: 1.0814\n",
      "Epoch 430/500\n",
      "\u001B[1m69/69\u001B[0m \u001B[32m━━━━━━━━━━━━━━━━━━━━\u001B[0m\u001B[37m\u001B[0m \u001B[1m0s\u001B[0m 1ms/step - dense_2_loss: 0.7335 - dense_3_loss: 0.3466 - dense_4_loss: 0.0680 - loss: 1.1484\n",
      "Epoch 431/500\n",
      "\u001B[1m69/69\u001B[0m \u001B[32m━━━━━━━━━━━━━━━━━━━━\u001B[0m\u001B[37m\u001B[0m \u001B[1m0s\u001B[0m 1ms/step - dense_2_loss: 0.5126 - dense_3_loss: 0.2002 - dense_4_loss: 0.0496 - loss: 0.7624\n",
      "Epoch 432/500\n",
      "\u001B[1m69/69\u001B[0m \u001B[32m━━━━━━━━━━━━━━━━━━━━\u001B[0m\u001B[37m\u001B[0m \u001B[1m0s\u001B[0m 1ms/step - dense_2_loss: 0.8127 - dense_3_loss: 0.3895 - dense_4_loss: 0.0861 - loss: 1.2885\n",
      "Epoch 433/500\n",
      "\u001B[1m69/69\u001B[0m \u001B[32m━━━━━━━━━━━━━━━━━━━━\u001B[0m\u001B[37m\u001B[0m \u001B[1m0s\u001B[0m 1ms/step - dense_2_loss: 0.4960 - dense_3_loss: 0.2862 - dense_4_loss: 0.0569 - loss: 0.8393\n",
      "Epoch 434/500\n",
      "\u001B[1m69/69\u001B[0m \u001B[32m━━━━━━━━━━━━━━━━━━━━\u001B[0m\u001B[37m\u001B[0m \u001B[1m0s\u001B[0m 1ms/step - dense_2_loss: 0.7572 - dense_3_loss: 0.3716 - dense_4_loss: 0.0652 - loss: 1.1941\n",
      "Epoch 435/500\n",
      "\u001B[1m69/69\u001B[0m \u001B[32m━━━━━━━━━━━━━━━━━━━━\u001B[0m\u001B[37m\u001B[0m \u001B[1m0s\u001B[0m 1ms/step - dense_2_loss: 0.8372 - dense_3_loss: 0.4179 - dense_4_loss: 0.0609 - loss: 1.3162\n",
      "Epoch 436/500\n",
      "\u001B[1m69/69\u001B[0m \u001B[32m━━━━━━━━━━━━━━━━━━━━\u001B[0m\u001B[37m\u001B[0m \u001B[1m0s\u001B[0m 1ms/step - dense_2_loss: 0.6161 - dense_3_loss: 0.3204 - dense_4_loss: 0.0556 - loss: 0.9923\n",
      "Epoch 437/500\n",
      "\u001B[1m69/69\u001B[0m \u001B[32m━━━━━━━━━━━━━━━━━━━━\u001B[0m\u001B[37m\u001B[0m \u001B[1m0s\u001B[0m 1ms/step - dense_2_loss: 0.5291 - dense_3_loss: 0.2544 - dense_4_loss: 0.0508 - loss: 0.8340\n",
      "Epoch 438/500\n",
      "\u001B[1m69/69\u001B[0m \u001B[32m━━━━━━━━━━━━━━━━━━━━\u001B[0m\u001B[37m\u001B[0m \u001B[1m0s\u001B[0m 1ms/step - dense_2_loss: 0.7439 - dense_3_loss: 0.4071 - dense_4_loss: 0.0738 - loss: 1.2250\n",
      "Epoch 439/500\n",
      "\u001B[1m69/69\u001B[0m \u001B[32m━━━━━━━━━━━━━━━━━━━━\u001B[0m\u001B[37m\u001B[0m \u001B[1m0s\u001B[0m 1ms/step - dense_2_loss: 0.6690 - dense_3_loss: 0.3451 - dense_4_loss: 0.0646 - loss: 1.0790\n",
      "Epoch 440/500\n",
      "\u001B[1m69/69\u001B[0m \u001B[32m━━━━━━━━━━━━━━━━━━━━\u001B[0m\u001B[37m\u001B[0m \u001B[1m0s\u001B[0m 1ms/step - dense_2_loss: 1.1456 - dense_3_loss: 0.5686 - dense_4_loss: 0.0717 - loss: 1.7861\n",
      "Epoch 441/500\n",
      "\u001B[1m69/69\u001B[0m \u001B[32m━━━━━━━━━━━━━━━━━━━━\u001B[0m\u001B[37m\u001B[0m \u001B[1m0s\u001B[0m 1ms/step - dense_2_loss: 0.4532 - dense_3_loss: 0.2305 - dense_4_loss: 0.0762 - loss: 0.7585\n",
      "Epoch 442/500\n",
      "\u001B[1m69/69\u001B[0m \u001B[32m━━━━━━━━━━━━━━━━━━━━\u001B[0m\u001B[37m\u001B[0m \u001B[1m0s\u001B[0m 1ms/step - dense_2_loss: 0.5175 - dense_3_loss: 0.2389 - dense_4_loss: 0.0776 - loss: 0.8341\n",
      "Epoch 443/500\n",
      "\u001B[1m69/69\u001B[0m \u001B[32m━━━━━━━━━━━━━━━━━━━━\u001B[0m\u001B[37m\u001B[0m \u001B[1m0s\u001B[0m 1ms/step - dense_2_loss: 0.5613 - dense_3_loss: 0.2750 - dense_4_loss: 0.0583 - loss: 0.8947\n",
      "Epoch 444/500\n",
      "\u001B[1m69/69\u001B[0m \u001B[32m━━━━━━━━━━━━━━━━━━━━\u001B[0m\u001B[37m\u001B[0m \u001B[1m0s\u001B[0m 1ms/step - dense_2_loss: 0.5000 - dense_3_loss: 0.2523 - dense_4_loss: 0.0754 - loss: 0.8277\n",
      "Epoch 445/500\n",
      "\u001B[1m69/69\u001B[0m \u001B[32m━━━━━━━━━━━━━━━━━━━━\u001B[0m\u001B[37m\u001B[0m \u001B[1m0s\u001B[0m 1ms/step - dense_2_loss: 0.9130 - dense_3_loss: 0.4806 - dense_4_loss: 0.0620 - loss: 1.4556\n",
      "Epoch 446/500\n",
      "\u001B[1m69/69\u001B[0m \u001B[32m━━━━━━━━━━━━━━━━━━━━\u001B[0m\u001B[37m\u001B[0m \u001B[1m0s\u001B[0m 1ms/step - dense_2_loss: 1.0902 - dense_3_loss: 0.5372 - dense_4_loss: 0.0748 - loss: 1.7025\n",
      "Epoch 447/500\n",
      "\u001B[1m69/69\u001B[0m \u001B[32m━━━━━━━━━━━━━━━━━━━━\u001B[0m\u001B[37m\u001B[0m \u001B[1m0s\u001B[0m 1ms/step - dense_2_loss: 0.9042 - dense_3_loss: 0.4160 - dense_4_loss: 0.0811 - loss: 1.4016\n",
      "Epoch 448/500\n",
      "\u001B[1m69/69\u001B[0m \u001B[32m━━━━━━━━━━━━━━━━━━━━\u001B[0m\u001B[37m\u001B[0m \u001B[1m0s\u001B[0m 1ms/step - dense_2_loss: 0.9943 - dense_3_loss: 0.4893 - dense_4_loss: 0.0963 - loss: 1.5802\n",
      "Epoch 449/500\n",
      "\u001B[1m69/69\u001B[0m \u001B[32m━━━━━━━━━━━━━━━━━━━━\u001B[0m\u001B[37m\u001B[0m \u001B[1m0s\u001B[0m 1ms/step - dense_2_loss: 0.8682 - dense_3_loss: 0.4422 - dense_4_loss: 0.0745 - loss: 1.3849\n",
      "Epoch 450/500\n",
      "\u001B[1m69/69\u001B[0m \u001B[32m━━━━━━━━━━━━━━━━━━━━\u001B[0m\u001B[37m\u001B[0m \u001B[1m0s\u001B[0m 1ms/step - dense_2_loss: 0.8031 - dense_3_loss: 0.4049 - dense_4_loss: 0.0668 - loss: 1.2731\n",
      "Epoch 451/500\n",
      "\u001B[1m69/69\u001B[0m \u001B[32m━━━━━━━━━━━━━━━━━━━━\u001B[0m\u001B[37m\u001B[0m \u001B[1m0s\u001B[0m 1ms/step - dense_2_loss: 0.5379 - dense_3_loss: 0.2901 - dense_4_loss: 0.0556 - loss: 0.8836\n",
      "Epoch 452/500\n",
      "\u001B[1m69/69\u001B[0m \u001B[32m━━━━━━━━━━━━━━━━━━━━\u001B[0m\u001B[37m\u001B[0m \u001B[1m0s\u001B[0m 1ms/step - dense_2_loss: 0.6052 - dense_3_loss: 0.3483 - dense_4_loss: 0.0685 - loss: 1.0222\n",
      "Epoch 453/500\n",
      "\u001B[1m69/69\u001B[0m \u001B[32m━━━━━━━━━━━━━━━━━━━━\u001B[0m\u001B[37m\u001B[0m \u001B[1m0s\u001B[0m 1ms/step - dense_2_loss: 0.6973 - dense_3_loss: 0.3330 - dense_4_loss: 0.0702 - loss: 1.1005\n",
      "Epoch 454/500\n",
      "\u001B[1m69/69\u001B[0m \u001B[32m━━━━━━━━━━━━━━━━━━━━\u001B[0m\u001B[37m\u001B[0m \u001B[1m0s\u001B[0m 1ms/step - dense_2_loss: 0.5617 - dense_3_loss: 0.2914 - dense_4_loss: 0.0705 - loss: 0.9239\n",
      "Epoch 455/500\n",
      "\u001B[1m69/69\u001B[0m \u001B[32m━━━━━━━━━━━━━━━━━━━━\u001B[0m\u001B[37m\u001B[0m \u001B[1m0s\u001B[0m 1ms/step - dense_2_loss: 0.6217 - dense_3_loss: 0.3184 - dense_4_loss: 0.0849 - loss: 1.0253\n",
      "Epoch 456/500\n",
      "\u001B[1m69/69\u001B[0m \u001B[32m━━━━━━━━━━━━━━━━━━━━\u001B[0m\u001B[37m\u001B[0m \u001B[1m0s\u001B[0m 1ms/step - dense_2_loss: 0.8902 - dense_3_loss: 0.4235 - dense_4_loss: 0.0705 - loss: 1.3845\n",
      "Epoch 457/500\n",
      "\u001B[1m69/69\u001B[0m \u001B[32m━━━━━━━━━━━━━━━━━━━━\u001B[0m\u001B[37m\u001B[0m \u001B[1m0s\u001B[0m 1ms/step - dense_2_loss: 1.2771 - dense_3_loss: 0.6323 - dense_4_loss: 0.0738 - loss: 1.9834\n",
      "Epoch 458/500\n",
      "\u001B[1m69/69\u001B[0m \u001B[32m━━━━━━━━━━━━━━━━━━━━\u001B[0m\u001B[37m\u001B[0m \u001B[1m0s\u001B[0m 1ms/step - dense_2_loss: 0.5095 - dense_3_loss: 0.2585 - dense_4_loss: 0.0556 - loss: 0.8236\n",
      "Epoch 459/500\n",
      "\u001B[1m69/69\u001B[0m \u001B[32m━━━━━━━━━━━━━━━━━━━━\u001B[0m\u001B[37m\u001B[0m \u001B[1m0s\u001B[0m 1ms/step - dense_2_loss: 0.6129 - dense_3_loss: 0.2995 - dense_4_loss: 0.0934 - loss: 1.0058\n",
      "Epoch 460/500\n",
      "\u001B[1m69/69\u001B[0m \u001B[32m━━━━━━━━━━━━━━━━━━━━\u001B[0m\u001B[37m\u001B[0m \u001B[1m0s\u001B[0m 1ms/step - dense_2_loss: 0.6048 - dense_3_loss: 0.2970 - dense_4_loss: 0.0751 - loss: 0.9770\n",
      "Epoch 461/500\n",
      "\u001B[1m69/69\u001B[0m \u001B[32m━━━━━━━━━━━━━━━━━━━━\u001B[0m\u001B[37m\u001B[0m \u001B[1m0s\u001B[0m 1ms/step - dense_2_loss: 0.6986 - dense_3_loss: 0.3890 - dense_4_loss: 0.0660 - loss: 1.1538\n",
      "Epoch 462/500\n",
      "\u001B[1m69/69\u001B[0m \u001B[32m━━━━━━━━━━━━━━━━━━━━\u001B[0m\u001B[37m\u001B[0m \u001B[1m0s\u001B[0m 1ms/step - dense_2_loss: 0.5457 - dense_3_loss: 0.2864 - dense_4_loss: 0.0590 - loss: 0.8913\n",
      "Epoch 463/500\n",
      "\u001B[1m69/69\u001B[0m \u001B[32m━━━━━━━━━━━━━━━━━━━━\u001B[0m\u001B[37m\u001B[0m \u001B[1m0s\u001B[0m 1ms/step - dense_2_loss: 0.7351 - dense_3_loss: 0.4282 - dense_4_loss: 0.0704 - loss: 1.2340\n",
      "Epoch 464/500\n",
      "\u001B[1m69/69\u001B[0m \u001B[32m━━━━━━━━━━━━━━━━━━━━\u001B[0m\u001B[37m\u001B[0m \u001B[1m0s\u001B[0m 1ms/step - dense_2_loss: 0.6253 - dense_3_loss: 0.3142 - dense_4_loss: 0.0682 - loss: 1.0077\n",
      "Epoch 465/500\n",
      "\u001B[1m69/69\u001B[0m \u001B[32m━━━━━━━━━━━━━━━━━━━━\u001B[0m\u001B[37m\u001B[0m \u001B[1m0s\u001B[0m 1ms/step - dense_2_loss: 0.5195 - dense_3_loss: 0.2796 - dense_4_loss: 0.0810 - loss: 0.8803\n",
      "Epoch 466/500\n",
      "\u001B[1m69/69\u001B[0m \u001B[32m━━━━━━━━━━━━━━━━━━━━\u001B[0m\u001B[37m\u001B[0m \u001B[1m0s\u001B[0m 1ms/step - dense_2_loss: 0.6754 - dense_3_loss: 0.3496 - dense_4_loss: 0.0559 - loss: 1.0812\n",
      "Epoch 467/500\n",
      "\u001B[1m69/69\u001B[0m \u001B[32m━━━━━━━━━━━━━━━━━━━━\u001B[0m\u001B[37m\u001B[0m \u001B[1m0s\u001B[0m 1ms/step - dense_2_loss: 0.6599 - dense_3_loss: 0.3311 - dense_4_loss: 0.0661 - loss: 1.0573\n",
      "Epoch 468/500\n",
      "\u001B[1m69/69\u001B[0m \u001B[32m━━━━━━━━━━━━━━━━━━━━\u001B[0m\u001B[37m\u001B[0m \u001B[1m0s\u001B[0m 1ms/step - dense_2_loss: 0.4309 - dense_3_loss: 0.2317 - dense_4_loss: 0.0659 - loss: 0.7287\n",
      "Epoch 469/500\n",
      "\u001B[1m69/69\u001B[0m \u001B[32m━━━━━━━━━━━━━━━━━━━━\u001B[0m\u001B[37m\u001B[0m \u001B[1m0s\u001B[0m 1ms/step - dense_2_loss: 0.3877 - dense_3_loss: 0.2102 - dense_4_loss: 0.0528 - loss: 0.6503\n",
      "Epoch 470/500\n",
      "\u001B[1m69/69\u001B[0m \u001B[32m━━━━━━━━━━━━━━━━━━━━\u001B[0m\u001B[37m\u001B[0m \u001B[1m0s\u001B[0m 1ms/step - dense_2_loss: 0.8094 - dense_3_loss: 0.3632 - dense_4_loss: 0.0730 - loss: 1.2453\n",
      "Epoch 471/500\n",
      "\u001B[1m69/69\u001B[0m \u001B[32m━━━━━━━━━━━━━━━━━━━━\u001B[0m\u001B[37m\u001B[0m \u001B[1m0s\u001B[0m 1ms/step - dense_2_loss: 0.6040 - dense_3_loss: 0.2448 - dense_4_loss: 0.0708 - loss: 0.9200\n",
      "Epoch 472/500\n",
      "\u001B[1m69/69\u001B[0m \u001B[32m━━━━━━━━━━━━━━━━━━━━\u001B[0m\u001B[37m\u001B[0m \u001B[1m0s\u001B[0m 1ms/step - dense_2_loss: 0.9938 - dense_3_loss: 0.4746 - dense_4_loss: 0.0662 - loss: 1.5348\n",
      "Epoch 473/500\n",
      "\u001B[1m69/69\u001B[0m \u001B[32m━━━━━━━━━━━━━━━━━━━━\u001B[0m\u001B[37m\u001B[0m \u001B[1m0s\u001B[0m 1ms/step - dense_2_loss: 0.6000 - dense_3_loss: 0.3377 - dense_4_loss: 0.0947 - loss: 1.0328\n",
      "Epoch 474/500\n",
      "\u001B[1m69/69\u001B[0m \u001B[32m━━━━━━━━━━━━━━━━━━━━\u001B[0m\u001B[37m\u001B[0m \u001B[1m0s\u001B[0m 1ms/step - dense_2_loss: 0.7625 - dense_3_loss: 0.4261 - dense_4_loss: 0.1144 - loss: 1.3033\n",
      "Epoch 475/500\n",
      "\u001B[1m69/69\u001B[0m \u001B[32m━━━━━━━━━━━━━━━━━━━━\u001B[0m\u001B[37m\u001B[0m \u001B[1m0s\u001B[0m 1ms/step - dense_2_loss: 0.6861 - dense_3_loss: 0.3152 - dense_4_loss: 0.0747 - loss: 1.0762\n",
      "Epoch 476/500\n",
      "\u001B[1m69/69\u001B[0m \u001B[32m━━━━━━━━━━━━━━━━━━━━\u001B[0m\u001B[37m\u001B[0m \u001B[1m0s\u001B[0m 1ms/step - dense_2_loss: 0.7132 - dense_3_loss: 0.3571 - dense_4_loss: 0.0517 - loss: 1.1220\n",
      "Epoch 477/500\n",
      "\u001B[1m69/69\u001B[0m \u001B[32m━━━━━━━━━━━━━━━━━━━━\u001B[0m\u001B[37m\u001B[0m \u001B[1m0s\u001B[0m 1ms/step - dense_2_loss: 0.6720 - dense_3_loss: 0.3316 - dense_4_loss: 0.0616 - loss: 1.0654\n",
      "Epoch 478/500\n",
      "\u001B[1m69/69\u001B[0m \u001B[32m━━━━━━━━━━━━━━━━━━━━\u001B[0m\u001B[37m\u001B[0m \u001B[1m0s\u001B[0m 1ms/step - dense_2_loss: 0.6383 - dense_3_loss: 0.3151 - dense_4_loss: 0.0688 - loss: 1.0223\n",
      "Epoch 479/500\n",
      "\u001B[1m69/69\u001B[0m \u001B[32m━━━━━━━━━━━━━━━━━━━━\u001B[0m\u001B[37m\u001B[0m \u001B[1m0s\u001B[0m 1ms/step - dense_2_loss: 0.5253 - dense_3_loss: 0.2873 - dense_4_loss: 0.0661 - loss: 0.8786\n",
      "Epoch 480/500\n",
      "\u001B[1m69/69\u001B[0m \u001B[32m━━━━━━━━━━━━━━━━━━━━\u001B[0m\u001B[37m\u001B[0m \u001B[1m0s\u001B[0m 1ms/step - dense_2_loss: 0.5010 - dense_3_loss: 0.2620 - dense_4_loss: 0.0711 - loss: 0.8344\n",
      "Epoch 481/500\n",
      "\u001B[1m69/69\u001B[0m \u001B[32m━━━━━━━━━━━━━━━━━━━━\u001B[0m\u001B[37m\u001B[0m \u001B[1m0s\u001B[0m 1ms/step - dense_2_loss: 0.4049 - dense_3_loss: 0.2415 - dense_4_loss: 0.0706 - loss: 0.7172\n",
      "Epoch 482/500\n",
      "\u001B[1m69/69\u001B[0m \u001B[32m━━━━━━━━━━━━━━━━━━━━\u001B[0m\u001B[37m\u001B[0m \u001B[1m0s\u001B[0m 1ms/step - dense_2_loss: 0.5541 - dense_3_loss: 0.3042 - dense_4_loss: 0.0768 - loss: 0.9351\n",
      "Epoch 483/500\n",
      "\u001B[1m69/69\u001B[0m \u001B[32m━━━━━━━━━━━━━━━━━━━━\u001B[0m\u001B[37m\u001B[0m \u001B[1m0s\u001B[0m 1ms/step - dense_2_loss: 0.6079 - dense_3_loss: 0.3286 - dense_4_loss: 0.0674 - loss: 1.0042\n",
      "Epoch 484/500\n",
      "\u001B[1m69/69\u001B[0m \u001B[32m━━━━━━━━━━━━━━━━━━━━\u001B[0m\u001B[37m\u001B[0m \u001B[1m0s\u001B[0m 1ms/step - dense_2_loss: 0.7227 - dense_3_loss: 0.3560 - dense_4_loss: 0.0621 - loss: 1.1410\n",
      "Epoch 485/500\n",
      "\u001B[1m69/69\u001B[0m \u001B[32m━━━━━━━━━━━━━━━━━━━━\u001B[0m\u001B[37m\u001B[0m \u001B[1m0s\u001B[0m 1ms/step - dense_2_loss: 0.4930 - dense_3_loss: 0.2467 - dense_4_loss: 0.0736 - loss: 0.8136\n",
      "Epoch 486/500\n",
      "\u001B[1m69/69\u001B[0m \u001B[32m━━━━━━━━━━━━━━━━━━━━\u001B[0m\u001B[37m\u001B[0m \u001B[1m0s\u001B[0m 1ms/step - dense_2_loss: 0.4503 - dense_3_loss: 0.2407 - dense_4_loss: 0.0853 - loss: 0.7766\n",
      "Epoch 487/500\n",
      "\u001B[1m69/69\u001B[0m \u001B[32m━━━━━━━━━━━━━━━━━━━━\u001B[0m\u001B[37m\u001B[0m \u001B[1m0s\u001B[0m 1ms/step - dense_2_loss: 0.6240 - dense_3_loss: 0.2959 - dense_4_loss: 0.0823 - loss: 1.0019\n",
      "Epoch 488/500\n",
      "\u001B[1m69/69\u001B[0m \u001B[32m━━━━━━━━━━━━━━━━━━━━\u001B[0m\u001B[37m\u001B[0m \u001B[1m0s\u001B[0m 1ms/step - dense_2_loss: 1.2473 - dense_3_loss: 0.6327 - dense_4_loss: 0.1142 - loss: 1.9944\n",
      "Epoch 489/500\n",
      "\u001B[1m69/69\u001B[0m \u001B[32m━━━━━━━━━━━━━━━━━━━━\u001B[0m\u001B[37m\u001B[0m \u001B[1m0s\u001B[0m 1ms/step - dense_2_loss: 0.5722 - dense_3_loss: 0.2961 - dense_4_loss: 0.0683 - loss: 0.9369\n",
      "Epoch 490/500\n",
      "\u001B[1m69/69\u001B[0m \u001B[32m━━━━━━━━━━━━━━━━━━━━\u001B[0m\u001B[37m\u001B[0m \u001B[1m0s\u001B[0m 1ms/step - dense_2_loss: 1.0784 - dense_3_loss: 0.5033 - dense_4_loss: 0.0681 - loss: 1.6498\n",
      "Epoch 491/500\n",
      "\u001B[1m69/69\u001B[0m \u001B[32m━━━━━━━━━━━━━━━━━━━━\u001B[0m\u001B[37m\u001B[0m \u001B[1m0s\u001B[0m 1ms/step - dense_2_loss: 0.7886 - dense_3_loss: 0.4108 - dense_4_loss: 0.0995 - loss: 1.2990\n",
      "Epoch 492/500\n",
      "\u001B[1m69/69\u001B[0m \u001B[32m━━━━━━━━━━━━━━━━━━━━\u001B[0m\u001B[37m\u001B[0m \u001B[1m0s\u001B[0m 1ms/step - dense_2_loss: 0.7684 - dense_3_loss: 0.3883 - dense_4_loss: 0.0671 - loss: 1.2240\n",
      "Epoch 493/500\n",
      "\u001B[1m69/69\u001B[0m \u001B[32m━━━━━━━━━━━━━━━━━━━━\u001B[0m\u001B[37m\u001B[0m \u001B[1m0s\u001B[0m 1ms/step - dense_2_loss: 0.4581 - dense_3_loss: 0.2649 - dense_4_loss: 0.0874 - loss: 0.8107\n",
      "Epoch 494/500\n",
      "\u001B[1m69/69\u001B[0m \u001B[32m━━━━━━━━━━━━━━━━━━━━\u001B[0m\u001B[37m\u001B[0m \u001B[1m0s\u001B[0m 1ms/step - dense_2_loss: 0.7628 - dense_3_loss: 0.4003 - dense_4_loss: 0.0698 - loss: 1.2331\n",
      "Epoch 495/500\n",
      "\u001B[1m69/69\u001B[0m \u001B[32m━━━━━━━━━━━━━━━━━━━━\u001B[0m\u001B[37m\u001B[0m \u001B[1m0s\u001B[0m 1ms/step - dense_2_loss: 0.4852 - dense_3_loss: 0.2498 - dense_4_loss: 0.0640 - loss: 0.7993\n",
      "Epoch 496/500\n",
      "\u001B[1m69/69\u001B[0m \u001B[32m━━━━━━━━━━━━━━━━━━━━\u001B[0m\u001B[37m\u001B[0m \u001B[1m0s\u001B[0m 1ms/step - dense_2_loss: 0.4888 - dense_3_loss: 0.2231 - dense_4_loss: 0.0545 - loss: 0.7667\n",
      "Epoch 497/500\n",
      "\u001B[1m69/69\u001B[0m \u001B[32m━━━━━━━━━━━━━━━━━━━━\u001B[0m\u001B[37m\u001B[0m \u001B[1m0s\u001B[0m 1ms/step - dense_2_loss: 0.5674 - dense_3_loss: 0.3664 - dense_4_loss: 0.0772 - loss: 1.0113\n",
      "Epoch 498/500\n",
      "\u001B[1m69/69\u001B[0m \u001B[32m━━━━━━━━━━━━━━━━━━━━\u001B[0m\u001B[37m\u001B[0m \u001B[1m0s\u001B[0m 1ms/step - dense_2_loss: 0.5654 - dense_3_loss: 0.3137 - dense_4_loss: 0.0838 - loss: 0.9633\n",
      "Epoch 499/500\n",
      "\u001B[1m69/69\u001B[0m \u001B[32m━━━━━━━━━━━━━━━━━━━━\u001B[0m\u001B[37m\u001B[0m \u001B[1m0s\u001B[0m 1ms/step - dense_2_loss: 0.5718 - dense_3_loss: 0.2686 - dense_4_loss: 0.0643 - loss: 0.9050\n",
      "Epoch 500/500\n",
      "\u001B[1m69/69\u001B[0m \u001B[32m━━━━━━━━━━━━━━━━━━━━\u001B[0m\u001B[37m\u001B[0m \u001B[1m0s\u001B[0m 1ms/step - dense_2_loss: 1.2920 - dense_3_loss: 0.6562 - dense_4_loss: 0.0651 - loss: 2.0135\n"
     ]
    },
    {
     "data": {
      "text/plain": [
       "<keras.src.callbacks.history.History at 0x1b1498220c0>"
      ]
     },
     "execution_count": 54,
     "metadata": {},
     "output_type": "execute_result"
    }
   ],
   "execution_count": 54
  },
  {
   "metadata": {
    "ExecuteTime": {
     "end_time": "2024-11-04T20:49:17.485149Z",
     "start_time": "2024-11-04T20:49:16.999724Z"
    }
   },
   "cell_type": "code",
   "source": "previsao_na, previsao_eu, previsao_jp = regressor.predict(X)",
   "id": "efe540b1e08cdbb3",
   "outputs": [
    {
     "name": "stdout",
     "output_type": "stream",
     "text": [
      "\u001B[1m214/214\u001B[0m \u001B[32m━━━━━━━━━━━━━━━━━━━━\u001B[0m\u001B[37m\u001B[0m \u001B[1m0s\u001B[0m 883us/step\n"
     ]
    }
   ],
   "execution_count": 55
  },
  {
   "metadata": {
    "ExecuteTime": {
     "end_time": "2024-11-04T20:49:22.089446Z",
     "start_time": "2024-11-04T20:49:22.085169Z"
    }
   },
   "cell_type": "code",
   "source": "previsao_na, previsao_na.mean()",
   "id": "205ef86d872017",
   "outputs": [
    {
     "data": {
      "text/plain": [
       "(array([[ 5.2841196 ],\n",
       "        [ 3.1556387 ],\n",
       "        [ 5.795487  ],\n",
       "        ...,\n",
       "        [ 0.12970215],\n",
       "        [-0.18780264],\n",
       "        [-0.3072293 ]], dtype=float32),\n",
       " 0.26723275)"
      ]
     },
     "execution_count": 56,
     "metadata": {},
     "output_type": "execute_result"
    }
   ],
   "execution_count": 56
  },
  {
   "metadata": {
    "ExecuteTime": {
     "end_time": "2024-11-04T20:49:25.437218Z",
     "start_time": "2024-11-04T20:49:25.432330Z"
    }
   },
   "cell_type": "code",
   "source": "y_na, y_na.mean()",
   "id": "1abed5ebb94c122d",
   "outputs": [
    {
     "data": {
      "text/plain": [
       "(array([4.136e+01, 1.568e+01, 1.561e+01, ..., 0.000e+00, 1.000e-02,\n",
       "        0.000e+00]),\n",
       " 0.3944835164835165)"
      ]
     },
     "execution_count": 57,
     "metadata": {},
     "output_type": "execute_result"
    }
   ],
   "execution_count": 57
  },
  {
   "metadata": {
    "ExecuteTime": {
     "end_time": "2024-11-04T20:49:28.966365Z",
     "start_time": "2024-11-04T20:49:28.909559Z"
    }
   },
   "cell_type": "code",
   "source": "from sklearn.metrics import mean_absolute_error",
   "id": "83731e8f8ad8f043",
   "outputs": [],
   "execution_count": 58
  },
  {
   "metadata": {
    "ExecuteTime": {
     "end_time": "2024-11-04T20:49:33.390377Z",
     "start_time": "2024-11-04T20:49:33.385483Z"
    }
   },
   "cell_type": "code",
   "source": "mean_absolute_error(y_na, previsao_na)",
   "id": "7d86d57be4a14a91",
   "outputs": [
    {
     "data": {
      "text/plain": [
       "0.27365705962329556"
      ]
     },
     "execution_count": 59,
     "metadata": {},
     "output_type": "execute_result"
    }
   ],
   "execution_count": 59
  },
  {
   "metadata": {
    "ExecuteTime": {
     "end_time": "2024-11-04T20:49:37.180781Z",
     "start_time": "2024-11-04T20:49:37.176098Z"
    }
   },
   "cell_type": "code",
   "source": "previsao_eu, previsao_eu.mean()",
   "id": "1e329f52523a699e",
   "outputs": [
    {
     "data": {
      "text/plain": [
       "(array([[ 3.6501012 ],\n",
       "        [ 2.0271475 ],\n",
       "        [ 4.06038   ],\n",
       "        ...,\n",
       "        [ 0.1512219 ],\n",
       "        [-0.08327144],\n",
       "        [-0.15896392]], dtype=float32),\n",
       " 0.16042905)"
      ]
     },
     "execution_count": 60,
     "metadata": {},
     "output_type": "execute_result"
    }
   ],
   "execution_count": 60
  },
  {
   "metadata": {
    "ExecuteTime": {
     "end_time": "2024-11-04T20:49:42.991187Z",
     "start_time": "2024-11-04T20:49:42.985095Z"
    }
   },
   "cell_type": "code",
   "source": "y_eu, y_eu.mean()",
   "id": "964cc24c5452bc08",
   "outputs": [
    {
     "data": {
      "text/plain": [
       "(array([2.896e+01, 1.276e+01, 1.093e+01, ..., 1.000e-02, 0.000e+00,\n",
       "        1.000e-02]),\n",
       " 0.23608937728937732)"
      ]
     },
     "execution_count": 61,
     "metadata": {},
     "output_type": "execute_result"
    }
   ],
   "execution_count": 61
  },
  {
   "metadata": {
    "ExecuteTime": {
     "end_time": "2024-11-04T20:49:47.387681Z",
     "start_time": "2024-11-04T20:49:47.382573Z"
    }
   },
   "cell_type": "code",
   "source": "mean_absolute_error(y_eu, previsao_eu)",
   "id": "5f1d755a66bbd80",
   "outputs": [
    {
     "data": {
      "text/plain": [
       "0.18438145178517143"
      ]
     },
     "execution_count": 62,
     "metadata": {},
     "output_type": "execute_result"
    }
   ],
   "execution_count": 62
  },
  {
   "metadata": {
    "ExecuteTime": {
     "end_time": "2024-11-04T20:49:50.788641Z",
     "start_time": "2024-11-04T20:49:50.783818Z"
    }
   },
   "cell_type": "code",
   "source": "y_jp, y_jp.mean()",
   "id": "a08078179d839ddd",
   "outputs": [
    {
     "data": {
      "text/plain": [
       "(array([3.77, 3.79, 3.28, ..., 0.  , 0.  , 0.  ]), 0.06415824175824175)"
      ]
     },
     "execution_count": 63,
     "metadata": {},
     "output_type": "execute_result"
    }
   ],
   "execution_count": 63
  },
  {
   "metadata": {
    "ExecuteTime": {
     "end_time": "2024-11-04T20:49:54.172907Z",
     "start_time": "2024-11-04T20:49:54.167733Z"
    }
   },
   "cell_type": "code",
   "source": "mean_absolute_error(y_jp, previsao_jp)",
   "id": "a251153f70e45f31",
   "outputs": [
    {
     "data": {
      "text/plain": [
       "0.0794067589135397"
      ]
     },
     "execution_count": 64,
     "metadata": {},
     "output_type": "execute_result"
    }
   ],
   "execution_count": 64
  },
  {
   "metadata": {},
   "cell_type": "code",
   "outputs": [],
   "execution_count": null,
   "source": "",
   "id": "7f1129c2aef55f35"
  }
 ],
 "metadata": {
  "kernelspec": {
   "display_name": "Python 3",
   "language": "python",
   "name": "python3"
  },
  "language_info": {
   "codemirror_mode": {
    "name": "ipython",
    "version": 2
   },
   "file_extension": ".py",
   "mimetype": "text/x-python",
   "name": "python",
   "nbconvert_exporter": "python",
   "pygments_lexer": "ipython2",
   "version": "2.7.6"
  }
 },
 "nbformat": 4,
 "nbformat_minor": 5
}
