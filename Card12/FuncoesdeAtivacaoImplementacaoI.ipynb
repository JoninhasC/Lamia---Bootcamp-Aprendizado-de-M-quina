{
 "cells": [
  {
   "cell_type": "code",
   "id": "initial_id",
   "metadata": {
    "collapsed": true,
    "ExecuteTime": {
     "end_time": "2024-10-24T01:24:23.524048Z",
     "start_time": "2024-10-24T01:24:22.732825Z"
    }
   },
   "source": [
    "import numpy as np\n",
    "import matplotlib.pyplot as plt"
   ],
   "outputs": [],
   "execution_count": 2
  },
  {
   "metadata": {
    "ExecuteTime": {
     "end_time": "2024-10-24T01:24:48.567767Z",
     "start_time": "2024-10-24T01:24:48.564988Z"
    }
   },
   "cell_type": "code",
   "source": [
    "# Define uma função de passo que retorna 1 se x for maior ou igual a 1 e 0 caso contrário.\n",
    "def step_function(x):\n",
    "    if x >= 1:                 # Verifica se x é maior ou igual a 1.\n",
    "        return 1              # Retorna 1 se a condição for verdadeira.\n",
    "    return 0                  # Retorna 0 se a condição for falsa.\n"
   ],
   "id": "24c24cfef79d8666",
   "outputs": [],
   "execution_count": 3
  },
  {
   "metadata": {
    "ExecuteTime": {
     "end_time": "2024-10-24T01:24:52.512767Z",
     "start_time": "2024-10-24T01:24:52.502974Z"
    }
   },
   "cell_type": "code",
   "source": "step_function(10)",
   "id": "392dc77e8ccc67df",
   "outputs": [
    {
     "data": {
      "text/plain": [
       "1"
      ]
     },
     "execution_count": 4,
     "metadata": {},
     "output_type": "execute_result"
    }
   ],
   "execution_count": 4
  },
  {
   "metadata": {
    "ExecuteTime": {
     "end_time": "2024-10-24T01:26:06.206641Z",
     "start_time": "2024-10-24T01:26:06.203140Z"
    }
   },
   "cell_type": "code",
   "source": [
    "# Define a função sigmoide, que é uma função de ativação com saída entre 0 e 1.\n",
    "def sigmoid_function(x):\n",
    "    return 1 / (1 + np.exp(-x))  # Calcula e retorna o valor da função sigmoide usando a fórmula 1 / (1 + e^(-x)).\n"
   ],
   "id": "be43323c7b4ad519",
   "outputs": [],
   "execution_count": 5
  },
  {
   "metadata": {
    "ExecuteTime": {
     "end_time": "2024-10-24T01:26:24.300484Z",
     "start_time": "2024-10-24T01:26:24.295046Z"
    }
   },
   "cell_type": "code",
   "source": "sigmoid_function(-10)",
   "id": "3cb451364a8a9b1b",
   "outputs": [
    {
     "data": {
      "text/plain": [
       "4.5397868702434395e-05"
      ]
     },
     "execution_count": 7,
     "metadata": {},
     "output_type": "execute_result"
    }
   ],
   "execution_count": 7
  },
  {
   "metadata": {
    "ExecuteTime": {
     "end_time": "2024-10-24T01:26:46.134511Z",
     "start_time": "2024-10-24T01:26:46.130220Z"
    }
   },
   "cell_type": "code",
   "source": "sigmoid_function(10)",
   "id": "7553a39cf40651b3",
   "outputs": [
    {
     "data": {
      "text/plain": [
       "0.9999546021312976"
      ]
     },
     "execution_count": 10,
     "metadata": {},
     "output_type": "execute_result"
    }
   ],
   "execution_count": 10
  },
  {
   "metadata": {
    "ExecuteTime": {
     "end_time": "2024-10-24T01:27:53.308917Z",
     "start_time": "2024-10-24T01:27:53.305745Z"
    }
   },
   "cell_type": "code",
   "source": [
    "# Define a função tangente hiperbólica (tanh), que é uma função de ativação com saída entre -1 e 1.\n",
    "def tanh_function(x):\n",
    "    # Calcula e retorna o valor da função tanh usando a fórmula (e^x - e^(-x)) / (e^x + e^(-x)).\n",
    "    return (np.exp(x) - np.exp(-x)) / (np.exp(x) + np.exp(-x))\n"
   ],
   "id": "14f9227831697d80",
   "outputs": [],
   "execution_count": 13
  },
  {
   "metadata": {
    "ExecuteTime": {
     "end_time": "2024-10-24T01:28:04.635362Z",
     "start_time": "2024-10-24T01:28:04.631078Z"
    }
   },
   "cell_type": "code",
   "source": "tanh_function(10)",
   "id": "57b904370461befd",
   "outputs": [
    {
     "data": {
      "text/plain": [
       "0.9999999958776926"
      ]
     },
     "execution_count": 14,
     "metadata": {},
     "output_type": "execute_result"
    }
   ],
   "execution_count": 14
  },
  {
   "metadata": {
    "ExecuteTime": {
     "end_time": "2024-10-24T01:28:15.637324Z",
     "start_time": "2024-10-24T01:28:15.631200Z"
    }
   },
   "cell_type": "code",
   "source": "tanh_function(-10)",
   "id": "c31868e0071b5f21",
   "outputs": [
    {
     "data": {
      "text/plain": [
       "-0.9999999958776926"
      ]
     },
     "execution_count": 16,
     "metadata": {},
     "output_type": "execute_result"
    }
   ],
   "execution_count": 16
  },
  {
   "metadata": {
    "ExecuteTime": {
     "end_time": "2024-10-24T01:29:51.395459Z",
     "start_time": "2024-10-24T01:29:51.391671Z"
    }
   },
   "cell_type": "code",
   "source": [
    "# Define a função de ativação ReLU (Rectified Linear Unit), que retorna x se x for positivo e 0 caso contrário.\n",
    "def relu_function(x):\n",
    "    if x > 0:                 # Verifica se x é maior que 0.\n",
    "        return x             # Retorna x se a condição for verdadeira.\n",
    "    return 0                 # Retorna 0 se a condição for falsa.\n"
   ],
   "id": "9d034076bc2d3578",
   "outputs": [],
   "execution_count": 18
  },
  {
   "metadata": {
    "ExecuteTime": {
     "end_time": "2024-10-24T01:29:56.347427Z",
     "start_time": "2024-10-24T01:29:56.342861Z"
    }
   },
   "cell_type": "code",
   "source": "relu_function(-10)",
   "id": "80eb82cec750a196",
   "outputs": [
    {
     "data": {
      "text/plain": [
       "0"
      ]
     },
     "execution_count": 19,
     "metadata": {},
     "output_type": "execute_result"
    }
   ],
   "execution_count": 19
  },
  {
   "metadata": {
    "ExecuteTime": {
     "end_time": "2024-10-24T01:30:00.053685Z",
     "start_time": "2024-10-24T01:30:00.048427Z"
    }
   },
   "cell_type": "code",
   "source": "relu_function(10)",
   "id": "874b54932ed5bb01",
   "outputs": [
    {
     "data": {
      "text/plain": [
       "10"
      ]
     },
     "execution_count": 20,
     "metadata": {},
     "output_type": "execute_result"
    }
   ],
   "execution_count": 20
  },
  {
   "metadata": {
    "ExecuteTime": {
     "end_time": "2024-10-24T01:30:27.343802Z",
     "start_time": "2024-10-24T01:30:27.339963Z"
    }
   },
   "cell_type": "code",
   "source": [
    "# Define a função softmax, que é usada para converter um vetor de valores em uma distribuição de probabilidade.\n",
    "def softmax_function(x):\n",
    "    # Calcula e retorna o valor da função softmax usando a fórmula e^x / soma(e^x) para cada elemento em x.\n",
    "    return np.exp(x) / np.sum(np.exp(x))  # Aplica a exponencial e normaliza pela soma das exponenciais.\n"
   ],
   "id": "214cf937c547c41",
   "outputs": [],
   "execution_count": 21
  },
  {
   "metadata": {
    "ExecuteTime": {
     "end_time": "2024-10-24T01:32:26.408258Z",
     "start_time": "2024-10-24T01:32:26.402790Z"
    }
   },
   "cell_type": "code",
   "source": "softmax_function([7.0,2.0, 1.3])",
   "id": "ac7a50a1826c545b",
   "outputs": [
    {
     "data": {
      "text/plain": [
       "array([0.99001676, 0.00667068, 0.00331256])"
      ]
     },
     "execution_count": 25,
     "metadata": {},
     "output_type": "execute_result"
    }
   ],
   "execution_count": 25
  },
  {
   "metadata": {
    "ExecuteTime": {
     "end_time": "2024-10-24T01:32:03.614809Z",
     "start_time": "2024-10-24T01:32:03.608923Z"
    }
   },
   "cell_type": "code",
   "source": "softmax_function([10.5, 2.5, 3.0])",
   "id": "9b7a9cfc979fb919",
   "outputs": [
    {
     "data": {
      "text/plain": [
       "array([9.99112242e-01, 3.35164818e-04, 5.52593365e-04])"
      ]
     },
     "execution_count": 24,
     "metadata": {},
     "output_type": "execute_result"
    }
   ],
   "execution_count": 24
  },
  {
   "metadata": {
    "ExecuteTime": {
     "end_time": "2024-10-24T01:33:10.013018Z",
     "start_time": "2024-10-24T01:33:10.009309Z"
    }
   },
   "cell_type": "code",
   "source": [
    "# Define a função linear, que retorna o valor de x sem alteração.\n",
    "def liner_function(x):\n",
    "    return x  # Retorna x como está, sem aplicar qualquer transformação.\n"
   ],
   "id": "6907842358d3fbd1",
   "outputs": [],
   "execution_count": 26
  },
  {
   "metadata": {
    "ExecuteTime": {
     "end_time": "2024-10-24T01:33:16.335528Z",
     "start_time": "2024-10-24T01:33:16.331678Z"
    }
   },
   "cell_type": "code",
   "source": "liner_function(10)",
   "id": "23a709a66c7ba4cc",
   "outputs": [
    {
     "data": {
      "text/plain": [
       "10"
      ]
     },
     "execution_count": 27,
     "metadata": {},
     "output_type": "execute_result"
    }
   ],
   "execution_count": 27
  },
  {
   "metadata": {},
   "cell_type": "code",
   "outputs": [],
   "execution_count": null,
   "source": "s",
   "id": "4ea5b3a3e691d442"
  }
 ],
 "metadata": {
  "kernelspec": {
   "display_name": "Python 3",
   "language": "python",
   "name": "python3"
  },
  "language_info": {
   "codemirror_mode": {
    "name": "ipython",
    "version": 2
   },
   "file_extension": ".py",
   "mimetype": "text/x-python",
   "name": "python",
   "nbconvert_exporter": "python",
   "pygments_lexer": "ipython2",
   "version": "2.7.6"
  }
 },
 "nbformat": 4,
 "nbformat_minor": 5
}
