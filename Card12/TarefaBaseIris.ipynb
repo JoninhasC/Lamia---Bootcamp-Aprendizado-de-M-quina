{
 "cells": [
  {
   "metadata": {},
   "cell_type": "markdown",
   "source": [
    "# Base de dados Iris\n",
    "# Informações do conjunto de dados\n",
    "## O que as instâncias neste conjunto de dados representam?\n",
    "\n",
    "Cada instância é uma planta\n",
    "\n",
    "## Informações adicionais\n",
    "\n",
    "Este é um dos primeiros conjuntos de dados usados ​​na literatura sobre métodos de classificação e amplamente utilizado em estatística e aprendizado de máquina. O conjunto de dados contém 3 classes de 50 instâncias cada, onde cada classe se refere a um tipo de planta de íris. Uma classe é linearmente separável das outras 2; os últimos não são linearmente separáveis ​​​​entre si.\n",
    "\n",
    "Atributo previsto: classe de planta de íris.\n",
    "\n",
    "Este é um domínio extremamente simples.\n",
    "\n",
    "Esses dados diferem dos dados apresentados no artigo de Fisher (identificado por Steve Chadwick, spchadwick@espeedaz.net). A 35ª amostra deve ser: 4.9,3.1,1.5,0.2,\"Iris-setosa\" onde o erro está na quarta característica. A 38ª amostra: 4.9,3.6,1.4,0.1,\"Iris-setosa\" onde os erros estão no segundo e terceiro recursos. \n",
    "\n",
    "\n",
    "\n",
    "## Tem valores ausentes?\n",
    "Não\n"
   ],
   "id": "faa463692f3aaae1"
  },
  {
   "metadata": {
    "ExecuteTime": {
     "end_time": "2024-10-31T17:19:09.288601Z",
     "start_time": "2024-10-31T17:19:09.278434Z"
    }
   },
   "cell_type": "code",
   "source": "",
   "id": "7c58eedc2c0dab62",
   "outputs": [
    {
     "ename": "SyntaxError",
     "evalue": "invalid non-printable character U+200B (2969007787.py, line 9)",
     "output_type": "error",
     "traceback": [
      "\u001B[1;36m  Cell \u001B[1;32mIn[1], line 9\u001B[1;36m\u001B[0m\n\u001B[1;33m    Este é um dos primeiros conjuntos de dados usados ​​na literatura sobre métodos de classificação e amplamente utilizado em estatística e aprendizado de máquina. O conjunto de dados contém 3 classes de 50 instâncias cada, onde cada classe se refere a um tipo de planta de íris. Uma classe é linearmente separável das outras 2; os últimos não são linearmente separáveis ​​​​entre si.\u001B[0m\n\u001B[1;37m                                                      ^\u001B[0m\n\u001B[1;31mSyntaxError\u001B[0m\u001B[1;31m:\u001B[0m invalid non-printable character U+200B\n"
     ]
    }
   ],
   "execution_count": 1
  },
  {
   "cell_type": "code",
   "execution_count": null,
   "id": "initial_id",
   "metadata": {
    "collapsed": true
   },
   "outputs": [],
   "source": [
    ""
   ]
  }
 ],
 "metadata": {
  "kernelspec": {
   "display_name": "Python 3",
   "language": "python",
   "name": "python3"
  },
  "language_info": {
   "codemirror_mode": {
    "name": "ipython",
    "version": 2
   },
   "file_extension": ".py",
   "mimetype": "text/x-python",
   "name": "python",
   "nbconvert_exporter": "python",
   "pygments_lexer": "ipython2",
   "version": "2.7.6"
  }
 },
 "nbformat": 4,
 "nbformat_minor": 5
}
