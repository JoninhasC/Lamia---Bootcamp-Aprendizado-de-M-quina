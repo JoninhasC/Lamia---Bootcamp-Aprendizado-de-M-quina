{
 "cells": [
  {
   "cell_type": "code",
   "id": "initial_id",
   "metadata": {
    "collapsed": true,
    "ExecuteTime": {
     "end_time": "2024-09-02T04:03:54.382613Z",
     "start_time": "2024-09-02T04:03:54.374468Z"
    }
   },
   "source": [
    "\n",
    "from bs4 import BeautifulSoup\n",
    "import requests\n",
    "\n",
    "with open('home.html', 'r') as html_file:\n",
    "    content = html_file.read()\n",
    "    print(content)\n"
   ],
   "outputs": [
    {
     "name": "stdout",
     "output_type": "stream",
     "text": [
      "<!doctype html>\n",
      "<html lang=\"en\">\n",
      "   <head>\n",
      "      <meta charset=\"utf-8\">\n",
      "      <meta name=\"viewport\" content=\"width=device-width, initial-scale=1, shrink-to-fit=no\">\n",
      "      <link rel=\"stylesheet\" href=\"https://stackpath.bootstrapcdn.com/bootstrap/4.5.2/css/bootstrap.min.css\" integrity=\"sha384-JcKb8q3iqJ61gNV9KGb8thSsNjpSL0n8PARn9HuZOnIxN0hoP+VmmDGMN5t9UJ0Z\" crossorigin=\"anonymous\">\n",
      "      <title>My Courses</title>\n",
      "   </head>\n",
      "   <body>\n",
      "      <h1>Hello, Start Learning!</h1>\n",
      "      <div class=\"card\" id=\"card-python-for-beginners\">\n",
      "         <div class=\"card-header\">\n",
      "            Python\n",
      "         </div>\n",
      "         <div class=\"card-body\">\n",
      "            <h5 class=\"card-title\">Python for beginners</h5>\n",
      "            <p class=\"card-text\">If you are new to Python, this is the course that you should buy!</p>\n",
      "            <a href=\"#\" class=\"btn btn-primary\">Start for 20$</a>\n",
      "         </div>\n",
      "      </div>\n",
      "      <div class=\"card\" id=\"card-python-web-development\">\n",
      "         <div class=\"card-header\">\n",
      "            Python\n",
      "         </div>\n",
      "         <div class=\"card-body\">\n",
      "            <h5 class=\"card-title\">Python Web Development</h5>\n",
      "            <p class=\"card-text\">If you feel enough confident with python, you are ready to learn how to create your own website!</p>\n",
      "            <a href=\"#\" class=\"btn btn-primary\">Start for 50$</a>\n",
      "         </div>\n",
      "      </div>\n",
      "      <div class=\"card\" id=\"card-python-machine-learning\">\n",
      "         <div class=\"card-header\">\n",
      "            Python\n",
      "         </div>\n",
      "         <div class=\"card-body\">\n",
      "            <h5 class=\"card-title\">Python Machine Learning</h5>\n",
      "            <p class=\"card-text\">Become a Python Machine Learning master!</p>\n",
      "            <a href=\"#\" class=\"btn btn-primary\">Start for 100$</a>\n",
      "         </div>\n",
      "      </div>\n",
      "   </body>\n",
      "</html>\n"
     ]
    }
   ],
   "execution_count": 2
  },
  {
   "metadata": {
    "ExecuteTime": {
     "end_time": "2024-09-02T04:03:54.401646Z",
     "start_time": "2024-09-02T04:03:54.395131Z"
    }
   },
   "cell_type": "code",
   "source": [
    "\n",
    "with open('home.html', 'r') as html_file:\n",
    "    content = html_file.read()\n",
    "    soup = BeautifulSoup(content, 'lxml')\n",
    "    print(soup)"
   ],
   "id": "af281d9dbd4b48d6",
   "outputs": [
    {
     "name": "stdout",
     "output_type": "stream",
     "text": [
      "<!DOCTYPE html>\n",
      "<html lang=\"en\">\n",
      "<head>\n",
      "<meta charset=\"utf-8\"/>\n",
      "<meta content=\"width=device-width, initial-scale=1, shrink-to-fit=no\" name=\"viewport\"/>\n",
      "<link crossorigin=\"anonymous\" href=\"https://stackpath.bootstrapcdn.com/bootstrap/4.5.2/css/bootstrap.min.css\" integrity=\"sha384-JcKb8q3iqJ61gNV9KGb8thSsNjpSL0n8PARn9HuZOnIxN0hoP+VmmDGMN5t9UJ0Z\" rel=\"stylesheet\"/>\n",
      "<title>My Courses</title>\n",
      "</head>\n",
      "<body>\n",
      "<h1>Hello, Start Learning!</h1>\n",
      "<div class=\"card\" id=\"card-python-for-beginners\">\n",
      "<div class=\"card-header\">\n",
      "            Python\n",
      "         </div>\n",
      "<div class=\"card-body\">\n",
      "<h5 class=\"card-title\">Python for beginners</h5>\n",
      "<p class=\"card-text\">If you are new to Python, this is the course that you should buy!</p>\n",
      "<a class=\"btn btn-primary\" href=\"#\">Start for 20$</a>\n",
      "</div>\n",
      "</div>\n",
      "<div class=\"card\" id=\"card-python-web-development\">\n",
      "<div class=\"card-header\">\n",
      "            Python\n",
      "         </div>\n",
      "<div class=\"card-body\">\n",
      "<h5 class=\"card-title\">Python Web Development</h5>\n",
      "<p class=\"card-text\">If you feel enough confident with python, you are ready to learn how to create your own website!</p>\n",
      "<a class=\"btn btn-primary\" href=\"#\">Start for 50$</a>\n",
      "</div>\n",
      "</div>\n",
      "<div class=\"card\" id=\"card-python-machine-learning\">\n",
      "<div class=\"card-header\">\n",
      "            Python\n",
      "         </div>\n",
      "<div class=\"card-body\">\n",
      "<h5 class=\"card-title\">Python Machine Learning</h5>\n",
      "<p class=\"card-text\">Become a Python Machine Learning master!</p>\n",
      "<a class=\"btn btn-primary\" href=\"#\">Start for 100$</a>\n",
      "</div>\n",
      "</div>\n",
      "</body>\n",
      "</html>\n"
     ]
    }
   ],
   "execution_count": 3
  },
  {
   "metadata": {
    "ExecuteTime": {
     "end_time": "2024-09-02T04:03:54.413359Z",
     "start_time": "2024-09-02T04:03:54.408663Z"
    }
   },
   "cell_type": "code",
   "source": [
    "\n",
    "with open('home.html', 'r') as html_file:\n",
    "    content = html_file.read()\n",
    "    soup = BeautifulSoup(content, 'lxml')\n",
    "    tags = soup.find('h5')\n",
    "    print(tags)"
   ],
   "id": "3b06f60af3a38924",
   "outputs": [
    {
     "name": "stdout",
     "output_type": "stream",
     "text": [
      "<h5 class=\"card-title\">Python for beginners</h5>\n"
     ]
    }
   ],
   "execution_count": 4
  },
  {
   "metadata": {
    "ExecuteTime": {
     "end_time": "2024-09-02T04:03:54.438839Z",
     "start_time": "2024-09-02T04:03:54.432429Z"
    }
   },
   "cell_type": "code",
   "source": [
    "with open('home.html', 'r') as html_file:\n",
    "    content = html_file.read()\n",
    "    soup = BeautifulSoup(content, 'lxml')\n",
    "    tags = soup.find_all('h5')\n",
    "    print(tags)"
   ],
   "id": "8b7a4b0abe970c9b",
   "outputs": [
    {
     "name": "stdout",
     "output_type": "stream",
     "text": [
      "[<h5 class=\"card-title\">Python for beginners</h5>, <h5 class=\"card-title\">Python Web Development</h5>, <h5 class=\"card-title\">Python Machine Learning</h5>]\n"
     ]
    }
   ],
   "execution_count": 5
  },
  {
   "metadata": {
    "ExecuteTime": {
     "end_time": "2024-09-02T04:03:54.462073Z",
     "start_time": "2024-09-02T04:03:54.455400Z"
    }
   },
   "cell_type": "code",
   "source": [
    "with open('home.html', 'r') as html_file:\n",
    "    content = html_file.read()\n",
    "    soup = BeautifulSoup(content, 'lxml')\n",
    "    corses_html_tags = soup.find_all('h5')\n",
    "    for course in corses_html_tags:\n",
    "       print(course.text)"
   ],
   "id": "5e89f2f232b45445",
   "outputs": [
    {
     "name": "stdout",
     "output_type": "stream",
     "text": [
      "Python for beginners\n",
      "Python Web Development\n",
      "Python Machine Learning\n"
     ]
    }
   ],
   "execution_count": 6
  },
  {
   "metadata": {
    "ExecuteTime": {
     "end_time": "2024-09-02T04:03:54.471600Z",
     "start_time": "2024-09-02T04:03:54.463083Z"
    }
   },
   "cell_type": "code",
   "source": [
    "with open('home.html', 'r') as html_file:\n",
    "    content = html_file.read()\n",
    "    soup = BeautifulSoup(content, 'lxml')\n",
    "    course_card = soup.find_all('div', class_='card')\n",
    "    print(course_card)"
   ],
   "id": "cfd3c28567ec72d9",
   "outputs": [
    {
     "name": "stdout",
     "output_type": "stream",
     "text": [
      "[<div class=\"card\" id=\"card-python-for-beginners\">\n",
      "<div class=\"card-header\">\n",
      "            Python\n",
      "         </div>\n",
      "<div class=\"card-body\">\n",
      "<h5 class=\"card-title\">Python for beginners</h5>\n",
      "<p class=\"card-text\">If you are new to Python, this is the course that you should buy!</p>\n",
      "<a class=\"btn btn-primary\" href=\"#\">Start for 20$</a>\n",
      "</div>\n",
      "</div>, <div class=\"card\" id=\"card-python-web-development\">\n",
      "<div class=\"card-header\">\n",
      "            Python\n",
      "         </div>\n",
      "<div class=\"card-body\">\n",
      "<h5 class=\"card-title\">Python Web Development</h5>\n",
      "<p class=\"card-text\">If you feel enough confident with python, you are ready to learn how to create your own website!</p>\n",
      "<a class=\"btn btn-primary\" href=\"#\">Start for 50$</a>\n",
      "</div>\n",
      "</div>, <div class=\"card\" id=\"card-python-machine-learning\">\n",
      "<div class=\"card-header\">\n",
      "            Python\n",
      "         </div>\n",
      "<div class=\"card-body\">\n",
      "<h5 class=\"card-title\">Python Machine Learning</h5>\n",
      "<p class=\"card-text\">Become a Python Machine Learning master!</p>\n",
      "<a class=\"btn btn-primary\" href=\"#\">Start for 100$</a>\n",
      "</div>\n",
      "</div>]\n"
     ]
    }
   ],
   "execution_count": 7
  },
  {
   "metadata": {
    "ExecuteTime": {
     "end_time": "2024-09-02T04:03:54.479957Z",
     "start_time": "2024-09-02T04:03:54.472613Z"
    }
   },
   "cell_type": "code",
   "source": [
    "with open('home.html', 'r') as html_file:\n",
    "    content = html_file.read()\n",
    "    soup = BeautifulSoup(content, 'lxml')\n",
    "    course_card = soup.find_all('div', class_='card')\n",
    "    for course in course_card:\n",
    "        print(course_card)"
   ],
   "id": "ec878297e8e47ba2",
   "outputs": [
    {
     "name": "stdout",
     "output_type": "stream",
     "text": [
      "[<div class=\"card\" id=\"card-python-for-beginners\">\n",
      "<div class=\"card-header\">\n",
      "            Python\n",
      "         </div>\n",
      "<div class=\"card-body\">\n",
      "<h5 class=\"card-title\">Python for beginners</h5>\n",
      "<p class=\"card-text\">If you are new to Python, this is the course that you should buy!</p>\n",
      "<a class=\"btn btn-primary\" href=\"#\">Start for 20$</a>\n",
      "</div>\n",
      "</div>, <div class=\"card\" id=\"card-python-web-development\">\n",
      "<div class=\"card-header\">\n",
      "            Python\n",
      "         </div>\n",
      "<div class=\"card-body\">\n",
      "<h5 class=\"card-title\">Python Web Development</h5>\n",
      "<p class=\"card-text\">If you feel enough confident with python, you are ready to learn how to create your own website!</p>\n",
      "<a class=\"btn btn-primary\" href=\"#\">Start for 50$</a>\n",
      "</div>\n",
      "</div>, <div class=\"card\" id=\"card-python-machine-learning\">\n",
      "<div class=\"card-header\">\n",
      "            Python\n",
      "         </div>\n",
      "<div class=\"card-body\">\n",
      "<h5 class=\"card-title\">Python Machine Learning</h5>\n",
      "<p class=\"card-text\">Become a Python Machine Learning master!</p>\n",
      "<a class=\"btn btn-primary\" href=\"#\">Start for 100$</a>\n",
      "</div>\n",
      "</div>]\n",
      "[<div class=\"card\" id=\"card-python-for-beginners\">\n",
      "<div class=\"card-header\">\n",
      "            Python\n",
      "         </div>\n",
      "<div class=\"card-body\">\n",
      "<h5 class=\"card-title\">Python for beginners</h5>\n",
      "<p class=\"card-text\">If you are new to Python, this is the course that you should buy!</p>\n",
      "<a class=\"btn btn-primary\" href=\"#\">Start for 20$</a>\n",
      "</div>\n",
      "</div>, <div class=\"card\" id=\"card-python-web-development\">\n",
      "<div class=\"card-header\">\n",
      "            Python\n",
      "         </div>\n",
      "<div class=\"card-body\">\n",
      "<h5 class=\"card-title\">Python Web Development</h5>\n",
      "<p class=\"card-text\">If you feel enough confident with python, you are ready to learn how to create your own website!</p>\n",
      "<a class=\"btn btn-primary\" href=\"#\">Start for 50$</a>\n",
      "</div>\n",
      "</div>, <div class=\"card\" id=\"card-python-machine-learning\">\n",
      "<div class=\"card-header\">\n",
      "            Python\n",
      "         </div>\n",
      "<div class=\"card-body\">\n",
      "<h5 class=\"card-title\">Python Machine Learning</h5>\n",
      "<p class=\"card-text\">Become a Python Machine Learning master!</p>\n",
      "<a class=\"btn btn-primary\" href=\"#\">Start for 100$</a>\n",
      "</div>\n",
      "</div>]\n",
      "[<div class=\"card\" id=\"card-python-for-beginners\">\n",
      "<div class=\"card-header\">\n",
      "            Python\n",
      "         </div>\n",
      "<div class=\"card-body\">\n",
      "<h5 class=\"card-title\">Python for beginners</h5>\n",
      "<p class=\"card-text\">If you are new to Python, this is the course that you should buy!</p>\n",
      "<a class=\"btn btn-primary\" href=\"#\">Start for 20$</a>\n",
      "</div>\n",
      "</div>, <div class=\"card\" id=\"card-python-web-development\">\n",
      "<div class=\"card-header\">\n",
      "            Python\n",
      "         </div>\n",
      "<div class=\"card-body\">\n",
      "<h5 class=\"card-title\">Python Web Development</h5>\n",
      "<p class=\"card-text\">If you feel enough confident with python, you are ready to learn how to create your own website!</p>\n",
      "<a class=\"btn btn-primary\" href=\"#\">Start for 50$</a>\n",
      "</div>\n",
      "</div>, <div class=\"card\" id=\"card-python-machine-learning\">\n",
      "<div class=\"card-header\">\n",
      "            Python\n",
      "         </div>\n",
      "<div class=\"card-body\">\n",
      "<h5 class=\"card-title\">Python Machine Learning</h5>\n",
      "<p class=\"card-text\">Become a Python Machine Learning master!</p>\n",
      "<a class=\"btn btn-primary\" href=\"#\">Start for 100$</a>\n",
      "</div>\n",
      "</div>]\n"
     ]
    }
   ],
   "execution_count": 8
  },
  {
   "metadata": {
    "ExecuteTime": {
     "end_time": "2024-09-02T04:03:54.529591Z",
     "start_time": "2024-09-02T04:03:54.522612Z"
    }
   },
   "cell_type": "code",
   "source": [
    "with open('home.html', 'r') as html_file:\n",
    "    content = html_file.read()\n",
    "    soup = BeautifulSoup(content, 'lxml')\n",
    "    course_card = soup.find_all('div', class_='card')\n",
    "    for course in course_card:\n",
    "       course_name = course.h5.text\n",
    "       course_price = course.a\n",
    "       print(course_name)\n",
    "       print(course_price)"
   ],
   "id": "2a8940fecfb4a3d4",
   "outputs": [
    {
     "name": "stdout",
     "output_type": "stream",
     "text": [
      "Python for beginners\n",
      "<a class=\"btn btn-primary\" href=\"#\">Start for 20$</a>\n",
      "Python Web Development\n",
      "<a class=\"btn btn-primary\" href=\"#\">Start for 50$</a>\n",
      "Python Machine Learning\n",
      "<a class=\"btn btn-primary\" href=\"#\">Start for 100$</a>\n"
     ]
    }
   ],
   "execution_count": 9
  },
  {
   "metadata": {
    "ExecuteTime": {
     "end_time": "2024-09-02T04:03:54.554140Z",
     "start_time": "2024-09-02T04:03:54.548428Z"
    }
   },
   "cell_type": "code",
   "source": [
    "with open('home.html', 'r') as html_file:\n",
    "    content = html_file.read()\n",
    "    soup = BeautifulSoup(content, 'lxml')\n",
    "    course_card = soup.find_all('div', class_='card')\n",
    "    for course in course_card:\n",
    "       course_name = course.h5.text\n",
    "       course_price = course.a\n",
    "       print(course_name)\n",
    "       print(course_price.text)"
   ],
   "id": "d29a003886dc4990",
   "outputs": [
    {
     "name": "stdout",
     "output_type": "stream",
     "text": [
      "Python for beginners\n",
      "Start for 20$\n",
      "Python Web Development\n",
      "Start for 50$\n",
      "Python Machine Learning\n",
      "Start for 100$\n"
     ]
    }
   ],
   "execution_count": 10
  },
  {
   "metadata": {
    "ExecuteTime": {
     "end_time": "2024-09-02T04:03:54.660948Z",
     "start_time": "2024-09-02T04:03:54.655433Z"
    }
   },
   "cell_type": "code",
   "source": [
    "with open('home.html', 'r') as html_file:\n",
    "    content = html_file.read()\n",
    "    soup = BeautifulSoup(content, 'lxml')\n",
    "    course_card = soup.find_all('div', class_='card')\n",
    "    for course in course_card:\n",
    "       course_name = course.h5.text\n",
    "       course_price = course.a.text.split()[-1]\n",
    "       print(f'{course_name} cost: {course_price}')\n",
    "      "
   ],
   "id": "e53c6d26ec24908a",
   "outputs": [
    {
     "name": "stdout",
     "output_type": "stream",
     "text": [
      "Python for beginners cost: 20$\n",
      "Python Web Development cost: 50$\n",
      "Python Machine Learning cost: 100$\n"
     ]
    }
   ],
   "execution_count": 11
  },
  {
   "metadata": {
    "ExecuteTime": {
     "end_time": "2024-09-02T04:03:58.089349Z",
     "start_time": "2024-09-02T04:03:54.695106Z"
    }
   },
   "cell_type": "code",
   "source": [
    "\n",
    "\n",
    "\n",
    "html_text = requests.get('https://www.timesjobs.com/candidate/job-search.html?searchType=personalizedSearch&from=submit&searchTextSrc=&searchTextText=&txtKeywords=python&txtLocation=').text\n",
    "soup = BeautifulSoup(html_text, 'lxml')\n",
    "jobs = soup.find('li', class_='clearfix job-bx wht-shd-bx')\n",
    "print(jobs)\n",
    "\n"
   ],
   "id": "be7e29bd860f624e",
   "outputs": [
    {
     "name": "stdout",
     "output_type": "stream",
     "text": [
      "<li class=\"clearfix job-bx wht-shd-bx\">\n",
      "<header class=\"clearfix\">\n",
      "<!--\n",
      "-->\n",
      "<!-- -->\n",
      "<h2>\n",
      "<a href=\"https://www.timesjobs.com/job-detail/python-virtusa-consulting-services-pvt-ltd-4-to-5-yrs-jobid-XguO8H2brt5zpSvf__PLUS__uAgZw==&amp;source=srp\" onclick=\"logViewUSBT('view','70592644','**  python development   ,   java   ,   debugging   ,   problem solving   ,   communication skills **  ,  css','','4 - 5','IT Software : Software Products &amp; Services','1','' )\" target=\"_blank\">\n",
      "<strong class=\"blkclor\">Python</strong></a> </h2>\n",
      "<h3 class=\"joblist-comp-name\">\n",
      "    virtusa consulting services pvt. ltd.\n",
      "    \n",
      "    </h3>\n",
      "</header>\n",
      "<ul class=\"top-jd-dtl clearfix\">\n",
      "<li><i class=\"material-icons\">card_travel</i>4 - 5 yrs</li>\n",
      "<li>\n",
      "<i class=\"material-icons\">location_on</i>\n",
      "<span title=\"\"></span>\n",
      "</li>\n",
      "</ul>\n",
      "<ul class=\"list-job-dtl clearfix\">\n",
      "<li>\n",
      "<label>Job Description:</label>\n",
      "###  Python - CREQ197883- **Description**  - Minimum 4  years of experience in software development with proficiency in Python  - Good to have Java  - Excellent debugging and ... <a href=\"https://www.timesjobs.com/job-detail/python-virtusa-consulting-services-pvt-ltd-4-to-5-yrs-jobid-XguO8H2brt5zpSvf__PLUS__uAgZw==&amp;source=srp\" target=\"_blank\">More Details</a>\n",
      "</li>\n",
      "<li>\n",
      "<label>KeySkills:</label>\n",
      "<span class=\"srp-skills\">\n",
      "      \n",
      "          **  <strong class=\"blkclor\">python</strong> development   ,   java   ,   debugging   ,   problem solving   ,   communication skills **  ,  css\n",
      "        \n",
      "      </span> </li>\n",
      "<!--\n",
      "            <li>\n",
      "              <i class=\"material-icons\">location_on</i>\n",
      "              \n",
      "              </li>\n",
      "-->\n",
      "</ul>\n",
      "<div class=\"list-job-bt clearfix\">\n",
      "<div class=\"list-action\">\n",
      "<div class=\"applied-dtl clearfix\" id=\"showPostApplyData_70592644\">\n",
      "<a class=\"waves-effect waves-light btn\" href=\"javascript:callExtJobApply('70592644','adId=XguO8H2brt5zpSvf__PLUS__uAgZw==&amp;compName=Career Progress Consultants','TJPFSRP');\" onclick=\"trackClickEvent('View_AND_Apply_SRP','from_srp_externalJobs');logViewUSBT('apply','70592644','**  python development   ,   java   ,   debugging   ,   problem solving   ,   communication skills **  ,  css','','4 - 5','IT Software : Software Products &amp; Services','1','')\">Apply</a>\n",
      "<span class=\"jobs-status clearfix\">\n",
      "<!--\n",
      "-->\n",
      "</span>\n",
      "<span class=\"sim-posted\">\n",
      "<span>Posted 2 days ago</span>\n",
      "</span>\n",
      "</div>\n",
      "</div>\n",
      "</div>\n",
      "</li>\n"
     ]
    }
   ],
   "execution_count": 12
  },
  {
   "metadata": {
    "ExecuteTime": {
     "end_time": "2024-09-02T04:04:00.177216Z",
     "start_time": "2024-09-02T04:03:58.091354Z"
    }
   },
   "cell_type": "code",
   "source": [
    "\n",
    "html_text = requests.get('https://www.timesjobs.com/candidate/job-search.html?searchType=personalizedSearch&from=submit&searchTextSrc=&searchTextText=&txtKeywords=python&txtLocation=').text\n",
    "soup = BeautifulSoup(html_text, 'lxml')\n",
    "job = soup.find('li', class_='clearfix job-bx wht-shd-bx')\n",
    "company_name = job.find('h3', class_='joblist-comp-name').text.replace('\\n', '')\n",
    "print(company_name)"
   ],
   "id": "f9d9068659ccd2b2",
   "outputs": [
    {
     "name": "stdout",
     "output_type": "stream",
     "text": [
      "    virtusa consulting services pvt. ltd.        \n"
     ]
    }
   ],
   "execution_count": 13
  },
  {
   "metadata": {
    "ExecuteTime": {
     "end_time": "2024-09-02T04:04:01.507066Z",
     "start_time": "2024-09-02T04:04:00.178221Z"
    }
   },
   "cell_type": "code",
   "source": [
    "html_text = requests.get('https://www.timesjobs.com/candidate/job-search.html?searchType=personalizedSearch&from=submit&searchTextSrc=&searchTextText=&txtKeywords=python&txtLocation=').text\n",
    "soup = BeautifulSoup(html_text, 'lxml')\n",
    "job = soup.find('li', class_='clearfix job-bx wht-shd-bx')\n",
    "company_name = job.find('h3', class_='joblist-comp-name').text.replace(' ', '')\n",
    "skills = job.find('span', class_='srp-skills').text.replace(' ', '')\n",
    "print(f'company_name: {company_name}  \\n skills: {skills}')\n"
   ],
   "id": "cc094db902cc17ba",
   "outputs": [
    {
     "name": "stdout",
     "output_type": "stream",
     "text": [
      "company_name: \n",
      "virtusaconsultingservicespvt.ltd.\n",
      "\n",
      "  \n",
      " skills: \n",
      "\n",
      "**pythondevelopment,java,debugging,problemsolving,communicationskills**,css\n",
      "\n",
      "\n"
     ]
    }
   ],
   "execution_count": 14
  },
  {
   "metadata": {
    "ExecuteTime": {
     "end_time": "2024-09-02T04:04:03.122186Z",
     "start_time": "2024-09-02T04:04:01.509072Z"
    }
   },
   "cell_type": "code",
   "source": [
    "html_text = requests.get('https://www.timesjobs.com/candidate/job-search.html?searchType=personalizedSearch&from=submit&searchTextSrc=&searchTextText=&txtKeywords=python&txtLocation=').text\n",
    "soup = BeautifulSoup(html_text, 'lxml')\n",
    "job = soup.find('li', class_='clearfix job-bx wht-shd-bx')\n",
    "company_name = job.find('h3', class_='joblist-comp-name').text.replace(' ', '')\n",
    "skills = job.find('span', class_='srp-skills').text.replace(' ', '')\n",
    "print(f'''\n",
    "company_name: {company_name}  \n",
    "Requist Skill: {skills}''''')"
   ],
   "id": "aa81b144de54c582",
   "outputs": [
    {
     "name": "stdout",
     "output_type": "stream",
     "text": [
      "\n",
      "company_name: \n",
      "virtusaconsultingservicespvt.ltd.\n",
      "\n",
      "  \n",
      "Requist Skill: \n",
      "\n",
      "**pythondevelopment,java,debugging,problemsolving,communicationskills**,css\n",
      "\n",
      "\n"
     ]
    }
   ],
   "execution_count": 15
  },
  {
   "metadata": {
    "ExecuteTime": {
     "end_time": "2024-09-02T04:04:05.146116Z",
     "start_time": "2024-09-02T04:04:03.124195Z"
    }
   },
   "cell_type": "code",
   "source": [
    "html_text = requests.get('https://www.timesjobs.com/candidate/job-search.html?searchType=personalizedSearch&from=submit&searchTextSrc=&searchTextText=&txtKeywords=python&txtLocation=').text\n",
    "soup = BeautifulSoup(html_text, 'lxml')\n",
    "job = soup.find('li', class_='clearfix job-bx wht-shd-bx')\n",
    "company_name = job.find('h3', class_='joblist-comp-name').text.replace('\\n','')\n",
    "skills = job.find('span', class_='srp-skills').text.replace('\\n','')\n",
    "published_date = job.find('span', class_='sim-posted').span.text\n",
    "print(f'''\n",
    "company_name: {company_name}  \n",
    "Requist Skill: {skills}\n",
    "Published Date: {published_date}\n",
    "''''')"
   ],
   "id": "e0281e86d3ce61ff",
   "outputs": [
    {
     "name": "stdout",
     "output_type": "stream",
     "text": [
      "\n",
      "company_name:     virtusa consulting services pvt. ltd.          \n",
      "Requist Skill:                 **  python development   ,   java   ,   debugging   ,   problem solving   ,   communication skills **  ,  css              \n",
      "Published Date: Posted 2 days ago\n",
      "\n"
     ]
    }
   ],
   "execution_count": 16
  },
  {
   "metadata": {
    "ExecuteTime": {
     "end_time": "2024-09-02T04:04:06.501918Z",
     "start_time": "2024-09-02T04:04:05.147056Z"
    }
   },
   "cell_type": "code",
   "source": [
    "html_text = requests.get('https://www.timesjobs.com/candidate/job-search.html?searchType=personalizedSearch&from=submit&searchTextSrc=&searchTextText=&txtKeywords=python&txtLocation=').text\n",
    "soup = BeautifulSoup(html_text, 'lxml')\n",
    "jobs = soup.find_all('li', class_='clearfix job-bx wht-shd-bx')\n",
    "for job in jobs:\n",
    "    \n",
    "    company_name = job.find('h3', class_='joblist-comp-name').text.replace('\\n','')\n",
    "    skills = job.find('span', class_='srp-skills').text.replace('\\n','')\n",
    "    published_date = job.find('span', class_='sim-posted').span.text\n",
    "    print(f'''\n",
    "    company_name: {company_name}  \n",
    "    Requist Skill: {skills}\n",
    "    Published Date: {published_date}\n",
    "    ''''')"
   ],
   "id": "b9569c69a272420e",
   "outputs": [
    {
     "name": "stdout",
     "output_type": "stream",
     "text": [
      "\n",
      "    company_name:     virtusa consulting services pvt. ltd.          \n",
      "    Requist Skill:                 **  python development   ,   java   ,   debugging   ,   problem solving   ,   communication skills **  ,  css              \n",
      "    Published Date: Posted 2 days ago\n",
      "    \n",
      "\n",
      "    company_name:     virtusa consulting services pvt. ltd.          \n",
      "    Requist Skill:                 **  python development   ,   software development   ,   debugging skills   ,   problem solving   ,   communication skills **  ,  css  ,  software engineer              \n",
      "    Published Date: Posted 2 days ago\n",
      "    \n",
      "\n",
      "    company_name:     virtusa consulting services pvt. ltd.          \n",
      "    Requist Skill: python development   ,   object oriented programming   ,   test driven development   ,   database connectors   ,   linux environment   ,  git  ,  api              \n",
      "    Published Date: Posted few days ago\n",
      "    \n",
      "\n",
      "    company_name:     virtusa consulting services pvt. ltd.          \n",
      "    Requist Skill:                 data analysis  ,   communication  ,   problem solving  ,   microsoft office  ,   visualization tools    ,  data analytics  ,  data analyst  ,  sql  ,  tableau  ,  written communication              \n",
      "    Published Date: Posted a month ago\n",
      "    \n",
      "\n",
      "    company_name:     SEVEN CONSULTANCY          \n",
      "    Requist Skill: python  ,  mvc  ,  sql              \n",
      "    Published Date: Posted 3 days ago\n",
      "    \n",
      "\n",
      "    company_name:     art technology and software india pvt ltd          \n",
      "    Requist Skill:                 rest  ,  python  ,  database  ,  django  ,  api              \n",
      "    Published Date: Posted 5 days ago\n",
      "    \n",
      "\n",
      "    company_name:     CONNECTING 2 WORK          \n",
      "    Requist Skill:                 rest  ,  python  ,  django  ,  mongodb              \n",
      "    Published Date: Posted few days ago\n",
      "    \n",
      "\n",
      "    company_name:     east india securities ltd.          \n",
      "    Requist Skill: python  ,  hadoop  ,  machine learning              \n",
      "    Published Date: Posted few days ago\n",
      "    \n",
      "\n",
      "    company_name:     LAKSH HUMAN RESOURCE          \n",
      "    Requist Skill:                 rest  ,  python  ,  django  ,  git              \n",
      "    Published Date: Posted few days ago\n",
      "    \n",
      "\n",
      "    company_name:     xonier technologies pvt ltd          \n",
      "    Requist Skill: python  ,  django  ,  testing tools  ,  debugging  ,  storage              \n",
      "    Published Date: Posted 5 days ago\n",
      "    \n",
      "\n",
      "    company_name:     day1 technologies          \n",
      "    Requist Skill:                 rest  ,  python  ,  django  ,  git  ,  postgresql  ,  sql  ,  docker              \n",
      "    Published Date: Posted 5 days ago\n",
      "    \n",
      "\n",
      "    company_name:     virtusa consulting services pvt. ltd.          \n",
      "    Requist Skill: python  ,   java  ,   debugging  ,   communication  ,   problem solving   ,  job posting              \n",
      "    Published Date: Posted 1 day ago\n",
      "    \n",
      "\n",
      "    company_name:     zenga tv          \n",
      "    Requist Skill: python  ,  django  ,  html5  ,  javascript              \n",
      "    Published Date: Posted few days ago\n",
      "    \n",
      "\n",
      "    company_name:     DREAMAJAX TECHNOLOGIES          \n",
      "    Requist Skill: python  ,  django  ,  api  ,  sql  ,  nosql              \n",
      "    Published Date: Posted few days ago\n",
      "    \n",
      "\n",
      "    company_name:     Datagrid Solutions          \n",
      "    Requist Skill: python  ,  database  ,  django  ,  mysql  ,  api              \n",
      "    Published Date: Posted few days ago\n",
      "    \n",
      "\n",
      "    company_name:     INFINITY GROUP          \n",
      "    Requist Skill: python  ,  css  ,  django  ,  html  ,  bootstrap              \n",
      "    Published Date: Posted few days ago\n",
      "    \n",
      "\n",
      "    company_name:     virtusa consulting services pvt. ltd.          \n",
      "    Requist Skill:                 ai  ,   ml  ,   python  ,   machine learning  ,   data science   ,  .net              \n",
      "    Published Date: Posted 5 days ago\n",
      "    \n",
      "\n",
      "    company_name:     TekPillar          \n",
      "    Requist Skill: python development  ,   backend development  ,   frontend technologies  ,   database management  ,   problem solving   ,  security  ,  django  ,  postgresql  ,  debugging  ,  html  ,  javascript              \n",
      "    Published Date: Posted 1 day ago\n",
      "    \n",
      "\n",
      "    company_name:     virtusa consulting services pvt. ltd.          \n",
      "    Requist Skill: python development   ,   java   (  good to have  )     ,   debugging   ,   problem solving   ,   communication skills   ,  css              \n",
      "    Published Date: Posted 1 day ago\n",
      "    \n",
      "\n",
      "    company_name:     virtusa consulting services pvt. ltd.          \n",
      "    Requist Skill:                 bdd frameworks   ,   qa testing   ,   scripting languages   ,   distributed computing   ,   api testing   ,  python  ,  maven  ,  database  ,  git  ,  java  ,  shell scripting              \n",
      "    Published Date: Posted 6 days ago\n",
      "    \n",
      "\n",
      "    company_name:     CONNECTING 2 WORK          \n",
      "    Requist Skill: python  ,  storage  ,  django  ,  testing tools  ,  debugging              \n",
      "    Published Date: Posted few days ago\n",
      "    \n",
      "\n",
      "    company_name:     CONNECTING 2 WORK          \n",
      "    Requist Skill:                 database  ,  python  ,  css  ,  rest api  ,  html  ,  javascript              \n",
      "    Published Date: Posted few days ago\n",
      "    \n",
      "\n",
      "    company_name:     virtusa consulting services pvt. ltd.          \n",
      "    Requist Skill: python development   ,   java development   ,   debugging skills   ,   problem solving   ,   communication skills   ,  job posting              \n",
      "    Published Date: Posted 2 days ago\n",
      "    \n",
      "\n",
      "    company_name:     virtusa consulting services pvt. ltd.          \n",
      "    Requist Skill: python backend  ,   microservices architecture  ,   version control  ,   aws integration  ,   frontend development    ,  application development  ,  coding              \n",
      "    Published Date: Posted 2 days ago\n",
      "    \n",
      "\n",
      "    company_name:     SEVEN CONSULTANCY          \n",
      "    Requist Skill: Python programming  ,  programming language  ,  front-end developer              \n",
      "    Published Date: Posted few days ago\n",
      "    \n"
     ]
    }
   ],
   "execution_count": 17
  },
  {
   "metadata": {
    "ExecuteTime": {
     "end_time": "2024-09-02T04:04:07.891008Z",
     "start_time": "2024-09-02T04:04:06.503926Z"
    }
   },
   "cell_type": "code",
   "source": [
    "html_text = requests.get('https://www.timesjobs.com/candidate/job-search.html?searchType=personalizedSearch&from=submit&searchTextSrc=&searchTextText=&txtKeywords=python&txtLocation=').text\n",
    "soup = BeautifulSoup(html_text, 'lxml')\n",
    "jobs = soup.find_all('li', class_='clearfix job-bx wht-shd-bx')\n",
    "\n",
    "for job in jobs:\n",
    "   published_date = job.find('span', class_='sim-posted').span.text\n",
    "   if '1 day' in published_date or 'few' in published_date:\n",
    "        company_name = job.find('h3', class_='joblist-comp-name').text.replace('\\n','')\n",
    "        skills = job.find('span', class_='srp-skills').text.replace('\\n','')\n",
    "       \n",
    "        print(f'''\n",
    "        company_name: {company_name}  \n",
    "        Requist Skill: {skills}\n",
    "        ''')"
   ],
   "id": "acd5d5a421fedc0d",
   "outputs": [
    {
     "name": "stdout",
     "output_type": "stream",
     "text": [
      "\n",
      "        company_name:     virtusa consulting services pvt. ltd.          \n",
      "        Requist Skill: python development   ,   object oriented programming   ,   test driven development   ,   database connectors   ,   linux environment   ,  git  ,  api              \n",
      "        \n",
      "\n",
      "        company_name:     CONNECTING 2 WORK          \n",
      "        Requist Skill:                 rest  ,  python  ,  django  ,  mongodb              \n",
      "        \n",
      "\n",
      "        company_name:     east india securities ltd.          \n",
      "        Requist Skill: python  ,  hadoop  ,  machine learning              \n",
      "        \n",
      "\n",
      "        company_name:     LAKSH HUMAN RESOURCE          \n",
      "        Requist Skill:                 rest  ,  python  ,  django  ,  git              \n",
      "        \n",
      "\n",
      "        company_name:     virtusa consulting services pvt. ltd.          \n",
      "        Requist Skill: python  ,   java  ,   debugging  ,   communication  ,   problem solving   ,  job posting              \n",
      "        \n",
      "\n",
      "        company_name:     zenga tv          \n",
      "        Requist Skill: python  ,  django  ,  html5  ,  javascript              \n",
      "        \n",
      "\n",
      "        company_name:     DREAMAJAX TECHNOLOGIES          \n",
      "        Requist Skill: python  ,  django  ,  api  ,  sql  ,  nosql              \n",
      "        \n",
      "\n",
      "        company_name:     Datagrid Solutions          \n",
      "        Requist Skill: python  ,  database  ,  django  ,  mysql  ,  api              \n",
      "        \n",
      "\n",
      "        company_name:     INFINITY GROUP          \n",
      "        Requist Skill: python  ,  css  ,  django  ,  html  ,  bootstrap              \n",
      "        \n",
      "\n",
      "        company_name:     TekPillar          \n",
      "        Requist Skill: python development  ,   backend development  ,   frontend technologies  ,   database management  ,   problem solving   ,  security  ,  django  ,  postgresql  ,  debugging  ,  html  ,  javascript              \n",
      "        \n",
      "\n",
      "        company_name:     virtusa consulting services pvt. ltd.          \n",
      "        Requist Skill: python development   ,   java   (  good to have  )     ,   debugging   ,   problem solving   ,   communication skills   ,  css              \n",
      "        \n",
      "\n",
      "        company_name:     CONNECTING 2 WORK          \n",
      "        Requist Skill: python  ,  storage  ,  django  ,  testing tools  ,  debugging              \n",
      "        \n",
      "\n",
      "        company_name:     CONNECTING 2 WORK          \n",
      "        Requist Skill:                 database  ,  python  ,  css  ,  rest api  ,  html  ,  javascript              \n",
      "        \n",
      "\n",
      "        company_name:     SEVEN CONSULTANCY          \n",
      "        Requist Skill: Python programming  ,  programming language  ,  front-end developer              \n",
      "        \n"
     ]
    }
   ],
   "execution_count": 18
  },
  {
   "metadata": {
    "ExecuteTime": {
     "end_time": "2024-09-02T04:04:09.259540Z",
     "start_time": "2024-09-02T04:04:07.892527Z"
    }
   },
   "cell_type": "code",
   "source": [
    "html_text = requests.get('https://www.timesjobs.com/candidate/job-search.html?searchType=personalizedSearch&from=submit&searchTextSrc=&searchTextText=&txtKeywords=python&txtLocation=').text\n",
    "soup = BeautifulSoup(html_text, 'lxml')\n",
    "jobs = soup.find_all('li', class_='clearfix job-bx wht-shd-bx')\n",
    "\n",
    "for job in jobs:\n",
    "   published_date = job.find('span', class_='sim-posted').span.text\n",
    "   if '1 day' in published_date or 'few' in published_date:\n",
    "        company_name = job.find('h3', class_='joblist-comp-name').text.replace('\\n','')\n",
    "        skills = job.find('span', class_='srp-skills').text.replace('\\n','')\n",
    "        print(f\"Company Name: {company_name.strip()}\")\n",
    "        print(f\"Requist Skill: {skills.strip()}\")\n",
    "        "
   ],
   "id": "c37ddcd0057bc2d9",
   "outputs": [
    {
     "name": "stdout",
     "output_type": "stream",
     "text": [
      "Company Name: virtusa consulting services pvt. ltd.\n",
      "Requist Skill: python development   ,   object oriented programming   ,   test driven development   ,   database connectors   ,   linux environment   ,  git  ,  api\n",
      "Company Name: CONNECTING 2 WORK\n",
      "Requist Skill: rest  ,  python  ,  django  ,  mongodb\n",
      "Company Name: east india securities ltd.\n",
      "Requist Skill: python  ,  hadoop  ,  machine learning\n",
      "Company Name: LAKSH HUMAN RESOURCE\n",
      "Requist Skill: rest  ,  python  ,  django  ,  git\n",
      "Company Name: virtusa consulting services pvt. ltd.\n",
      "Requist Skill: python  ,   java  ,   debugging  ,   communication  ,   problem solving   ,  job posting\n",
      "Company Name: zenga tv\n",
      "Requist Skill: python  ,  django  ,  html5  ,  javascript\n",
      "Company Name: DREAMAJAX TECHNOLOGIES\n",
      "Requist Skill: python  ,  django  ,  api  ,  sql  ,  nosql\n",
      "Company Name: Datagrid Solutions\n",
      "Requist Skill: python  ,  database  ,  django  ,  mysql  ,  api\n",
      "Company Name: INFINITY GROUP\n",
      "Requist Skill: python  ,  css  ,  django  ,  html  ,  bootstrap\n",
      "Company Name: TekPillar\n",
      "Requist Skill: python development  ,   backend development  ,   frontend technologies  ,   database management  ,   problem solving   ,  security  ,  django  ,  postgresql  ,  debugging  ,  html  ,  javascript\n",
      "Company Name: virtusa consulting services pvt. ltd.\n",
      "Requist Skill: python development   ,   java   (  good to have  )     ,   debugging   ,   problem solving   ,   communication skills   ,  css\n",
      "Company Name: CONNECTING 2 WORK\n",
      "Requist Skill: python  ,  storage  ,  django  ,  testing tools  ,  debugging\n",
      "Company Name: CONNECTING 2 WORK\n",
      "Requist Skill: database  ,  python  ,  css  ,  rest api  ,  html  ,  javascript\n",
      "Company Name: SEVEN CONSULTANCY\n",
      "Requist Skill: Python programming  ,  programming language  ,  front-end developer\n"
     ]
    }
   ],
   "execution_count": 19
  },
  {
   "metadata": {
    "ExecuteTime": {
     "end_time": "2024-09-02T04:04:11.035238Z",
     "start_time": "2024-09-02T04:04:09.260558Z"
    }
   },
   "cell_type": "code",
   "source": [
    "html_text = requests.get('https://www.timesjobs.com/candidate/job-search.html?searchType=personalizedSearch&from=submit&searchTextSrc=&searchTextText=&txtKeywords=python&txtLocation=').text\n",
    "soup = BeautifulSoup(html_text, 'lxml')\n",
    "jobs = soup.find_all('li', class_='clearfix job-bx wht-shd-bx')\n",
    "\n",
    "for job in jobs:\n",
    "   published_date = job.find('span', class_='sim-posted').span.text\n",
    "   if '1 day' in published_date or 'few' in published_date:\n",
    "        company_name = job.find('h3', class_='joblist-comp-name').text.replace('\\n','')\n",
    "        skills = job.find('span', class_='srp-skills').text.replace('\\n','')\n",
    "        more_info =job.header.h2.a['href']\n",
    "        print(f\"Company Name: {company_name.strip()}\")\n",
    "        print(f\"Requist Skill: {skills.strip()}\")\n",
    "        print(f\"More Info: {more_info}\")"
   ],
   "id": "e3d23c7f76171886",
   "outputs": [
    {
     "name": "stdout",
     "output_type": "stream",
     "text": [
      "Company Name: virtusa consulting services pvt. ltd.\n",
      "Requist Skill: python development   ,   object oriented programming   ,   test driven development   ,   database connectors   ,   linux environment   ,  git  ,  api\n",
      "More Info: https://www.timesjobs.com/job-detail/python-virtusa-consulting-services-pvt-ltd-pune-8-to-11-yrs-jobid-PRoGGHjEoVVzpSvf__PLUS__uAgZw==&source=srp\n",
      "Company Name: CONNECTING 2 WORK\n",
      "Requist Skill: rest  ,  python  ,  django  ,  mongodb\n",
      "More Info: https://www.timesjobs.com/job-detail/python-trainer-connecting-2-work-calicut-kozhikode-0-to-3-yrs-jobid-MFJXBwZBWVhzpSvf__PLUS__uAgZw==&source=srp\n",
      "Company Name: east india securities ltd.\n",
      "Requist Skill: python  ,  hadoop  ,  machine learning\n",
      "More Info: https://www.timesjobs.com/job-detail/python-engineer-east-india-securities-ltd-kolkata-2-to-5-yrs-jobid-O9JSjUglX3hzpSvf__PLUS__uAgZw==&source=srp\n",
      "Company Name: LAKSH HUMAN RESOURCE\n",
      "Requist Skill: rest  ,  python  ,  django  ,  git\n",
      "More Info: https://www.timesjobs.com/job-detail/python-developer-laksh-human-resource-mumbai-1-to-3-yrs-jobid-uUEqcx71MRdzpSvf__PLUS__uAgZw==&source=srp\n",
      "Company Name: virtusa consulting services pvt. ltd.\n",
      "Requist Skill: python  ,   java  ,   debugging  ,   communication  ,   problem solving   ,  job posting\n",
      "More Info: https://www.timesjobs.com/job-detail/python-developer-virtusa-consulting-services-pvt-ltd-4-to-7-yrs-jobid-2QMqhkfPCbhzpSvf__PLUS__uAgZw==&source=srp\n",
      "Company Name: zenga tv\n",
      "Requist Skill: python  ,  django  ,  html5  ,  javascript\n",
      "More Info: https://www.timesjobs.com/job-detail/python-developer-zenga-tv-gurgaon-2-to-5-yrs-jobid-cQGeFhRqgNdzpSvf__PLUS__uAgZw==&source=srp\n",
      "Company Name: DREAMAJAX TECHNOLOGIES\n",
      "Requist Skill: python  ,  django  ,  api  ,  sql  ,  nosql\n",
      "More Info: https://www.timesjobs.com/job-detail/python-developer-dreamajax-technologies-bengaluru-bangalore-4-to-7-yrs-jobid-55iKtddZNCdzpSvf__PLUS__uAgZw==&source=srp\n",
      "Company Name: Datagrid Solutions\n",
      "Requist Skill: python  ,  database  ,  django  ,  mysql  ,  api\n",
      "More Info: https://www.timesjobs.com/job-detail/python-developer-datagrid-solutions-mumbai-2-to-3-yrs-jobid-hdLfInxHIFxzpSvf__PLUS__uAgZw==&source=srp\n",
      "Company Name: INFINITY GROUP\n",
      "Requist Skill: python  ,  css  ,  django  ,  html  ,  bootstrap\n",
      "More Info: https://www.timesjobs.com/job-detail/python-developer-infinity-group-noida-greater-noida-2-to-5-yrs-jobid-WKzksjq__PLUS__GXxzpSvf__PLUS__uAgZw==&source=srp\n",
      "Company Name: TekPillar\n",
      "Requist Skill: python development  ,   backend development  ,   frontend technologies  ,   database management  ,   problem solving   ,  security  ,  django  ,  postgresql  ,  debugging  ,  html  ,  javascript\n",
      "More Info: https://www.timesjobs.com/job-detail/python-developer-tekpillar-gandhinagar-4-to-7-yrs-jobid-Z8orRfVZjxZzpSvf__PLUS__uAgZw==&source=srp\n",
      "Company Name: virtusa consulting services pvt. ltd.\n",
      "Requist Skill: python development   ,   java   (  good to have  )     ,   debugging   ,   problem solving   ,   communication skills   ,  css\n",
      "More Info: https://www.timesjobs.com/job-detail/python-developer-virtusa-consulting-services-pvt-ltd-4-to-7-yrs-jobid-JrCWLUTjxmJzpSvf__PLUS__uAgZw==&source=srp\n",
      "Company Name: CONNECTING 2 WORK\n",
      "Requist Skill: python  ,  storage  ,  django  ,  testing tools  ,  debugging\n",
      "More Info: https://www.timesjobs.com/job-detail/python-developer-connecting-2-work-thiruvananthapuram-5-to-10-yrs-jobid-15ymTnn475xzpSvf__PLUS__uAgZw==&source=srp\n",
      "Company Name: CONNECTING 2 WORK\n",
      "Requist Skill: database  ,  python  ,  css  ,  rest api  ,  html  ,  javascript\n",
      "More Info: https://www.timesjobs.com/job-detail/python-developer-connecting-2-work-cochin-kochi-ernakulam-2-to-3-yrs-jobid-CZYubAVhafJzpSvf__PLUS__uAgZw==&source=srp\n",
      "Company Name: SEVEN CONSULTANCY\n",
      "Requist Skill: Python programming  ,  programming language  ,  front-end developer\n",
      "More Info: https://www.timesjobs.com/job-detail/python-developer-seven-consultancy-surat-9-to-12-yrs-jobid-Oi3jhp3isY5zpSvf__PLUS__uAgZw==&source=srp\n"
     ]
    }
   ],
   "execution_count": 20
  },
  {
   "metadata": {
    "ExecuteTime": {
     "end_time": "2024-09-02T04:04:15.220579Z",
     "start_time": "2024-09-02T04:04:11.036245Z"
    }
   },
   "cell_type": "code",
   "source": [
    "print('Put some skill that you are not familair with')\n",
    "unfamiliar_skill = input('>')\n",
    "print(f'Filtering out {unfamiliar_skill}')\n",
    "html_text = requests.get('https://www.timesjobs.com/candidate/job-search.html?searchType=personalizedSearch&from=submit&searchTextSrc=&searchTextText=&txtKeywords=python&txtLocation=').text\n",
    "soup = BeautifulSoup(html_text, 'lxml')\n",
    "jobs = soup.find_all('li', class_='clearfix job-bx wht-shd-bx')\n",
    "\n",
    "for job in jobs:\n",
    "   published_date = job.find('span', class_='sim-posted').span.text\n",
    "   if '1 day' in published_date or 'few' in published_date:\n",
    "        company_name = job.find('h3', class_='joblist-comp-name').text.replace('\\n','')\n",
    "        skills = job.find('span', class_='srp-skills').text.replace('\\n','')\n",
    "        more_info =job.header.h2.a['href']\n",
    "        if unfamiliar_skill not  in skills:\n",
    "            print(f\"Company Name: {company_name.strip()}\")\n",
    "            print(f\"Requist Skill: {skills.strip()}\")\n",
    "            print(f\"More Info: {more_info}\")"
   ],
   "id": "cd7765b78ec86440",
   "outputs": [
    {
     "name": "stdout",
     "output_type": "stream",
     "text": [
      "Put some skill that you are not familair with\n",
      "Filtering out \n"
     ]
    }
   ],
   "execution_count": 21
  }
 ],
 "metadata": {
  "kernelspec": {
   "display_name": "Python 3",
   "language": "python",
   "name": "python3"
  },
  "language_info": {
   "codemirror_mode": {
    "name": "ipython",
    "version": 2
   },
   "file_extension": ".py",
   "mimetype": "text/x-python",
   "name": "python",
   "nbconvert_exporter": "python",
   "pygments_lexer": "ipython2",
   "version": "2.7.6"
  }
 },
 "nbformat": 4,
 "nbformat_minor": 5
}
